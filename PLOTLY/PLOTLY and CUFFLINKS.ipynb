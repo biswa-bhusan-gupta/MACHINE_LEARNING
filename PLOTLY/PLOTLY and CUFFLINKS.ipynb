{
 "cells": [
  {
   "cell_type": "code",
   "execution_count": 1,
   "metadata": {},
   "outputs": [],
   "source": [
    "import pandas as pd\n",
    "import numpy as np\n",
    "%matplotlib inline"
   ]
  },
  {
   "cell_type": "code",
   "execution_count": 2,
   "metadata": {},
   "outputs": [
    {
     "data": {
      "text/html": [
       "        <script type=\"text/javascript\">\n",
       "        window.PlotlyConfig = {MathJaxConfig: 'local'};\n",
       "        if (window.MathJax) {MathJax.Hub.Config({SVG: {font: \"STIX-Web\"}});}\n",
       "        if (typeof require !== 'undefined') {\n",
       "        require.undef(\"plotly\");\n",
       "        requirejs.config({\n",
       "            paths: {\n",
       "                'plotly': ['https://cdn.plot.ly/plotly-latest.min']\n",
       "            }\n",
       "        });\n",
       "        require(['plotly'], function(Plotly) {\n",
       "            window._Plotly = Plotly;\n",
       "        });\n",
       "        }\n",
       "        </script>\n",
       "        "
      ]
     },
     "metadata": {},
     "output_type": "display_data"
    }
   ],
   "source": [
    "from plotly.offline import download_plotlyjs,plot,iplot,init_notebook_mode\n",
    "init_notebook_mode(connected=True)"
   ]
  },
  {
   "cell_type": "code",
   "execution_count": 3,
   "metadata": {},
   "outputs": [
    {
     "data": {
      "text/html": [
       "        <script type=\"text/javascript\">\n",
       "        window.PlotlyConfig = {MathJaxConfig: 'local'};\n",
       "        if (window.MathJax) {MathJax.Hub.Config({SVG: {font: \"STIX-Web\"}});}\n",
       "        if (typeof require !== 'undefined') {\n",
       "        require.undef(\"plotly\");\n",
       "        requirejs.config({\n",
       "            paths: {\n",
       "                'plotly': ['https://cdn.plot.ly/plotly-latest.min']\n",
       "            }\n",
       "        });\n",
       "        require(['plotly'], function(Plotly) {\n",
       "            window._Plotly = Plotly;\n",
       "        });\n",
       "        }\n",
       "        </script>\n",
       "        "
      ]
     },
     "metadata": {},
     "output_type": "display_data"
    }
   ],
   "source": [
    "import cufflinks as cf\n",
    "cf.go_offline()"
   ]
  },
  {
   "cell_type": "code",
   "execution_count": 4,
   "metadata": {},
   "outputs": [
    {
     "data": {
      "text/html": [
       "<div>\n",
       "<style scoped>\n",
       "    .dataframe tbody tr th:only-of-type {\n",
       "        vertical-align: middle;\n",
       "    }\n",
       "\n",
       "    .dataframe tbody tr th {\n",
       "        vertical-align: top;\n",
       "    }\n",
       "\n",
       "    .dataframe thead th {\n",
       "        text-align: right;\n",
       "    }\n",
       "</style>\n",
       "<table border=\"1\" class=\"dataframe\">\n",
       "  <thead>\n",
       "    <tr style=\"text-align: right;\">\n",
       "      <th></th>\n",
       "      <th>A</th>\n",
       "      <th>B</th>\n",
       "      <th>C</th>\n",
       "      <th>D</th>\n",
       "    </tr>\n",
       "  </thead>\n",
       "  <tbody>\n",
       "    <tr>\n",
       "      <th>0</th>\n",
       "      <td>-0.846024</td>\n",
       "      <td>-1.669067</td>\n",
       "      <td>1.249702</td>\n",
       "      <td>-0.320419</td>\n",
       "    </tr>\n",
       "    <tr>\n",
       "      <th>1</th>\n",
       "      <td>0.685044</td>\n",
       "      <td>-0.948459</td>\n",
       "      <td>-0.931600</td>\n",
       "      <td>-2.535782</td>\n",
       "    </tr>\n",
       "    <tr>\n",
       "      <th>2</th>\n",
       "      <td>0.013609</td>\n",
       "      <td>-0.816138</td>\n",
       "      <td>-0.007557</td>\n",
       "      <td>-0.044085</td>\n",
       "    </tr>\n",
       "    <tr>\n",
       "      <th>3</th>\n",
       "      <td>-0.498813</td>\n",
       "      <td>0.684079</td>\n",
       "      <td>0.459437</td>\n",
       "      <td>-2.340584</td>\n",
       "    </tr>\n",
       "    <tr>\n",
       "      <th>4</th>\n",
       "      <td>-0.502680</td>\n",
       "      <td>-2.201832</td>\n",
       "      <td>-0.671499</td>\n",
       "      <td>0.927991</td>\n",
       "    </tr>\n",
       "    <tr>\n",
       "      <th>...</th>\n",
       "      <td>...</td>\n",
       "      <td>...</td>\n",
       "      <td>...</td>\n",
       "      <td>...</td>\n",
       "    </tr>\n",
       "    <tr>\n",
       "      <th>95</th>\n",
       "      <td>1.352127</td>\n",
       "      <td>-1.194105</td>\n",
       "      <td>-1.552757</td>\n",
       "      <td>1.334852</td>\n",
       "    </tr>\n",
       "    <tr>\n",
       "      <th>96</th>\n",
       "      <td>-0.184814</td>\n",
       "      <td>-1.214498</td>\n",
       "      <td>0.851357</td>\n",
       "      <td>-0.519554</td>\n",
       "    </tr>\n",
       "    <tr>\n",
       "      <th>97</th>\n",
       "      <td>-0.894444</td>\n",
       "      <td>1.809087</td>\n",
       "      <td>0.912265</td>\n",
       "      <td>-0.800341</td>\n",
       "    </tr>\n",
       "    <tr>\n",
       "      <th>98</th>\n",
       "      <td>0.302561</td>\n",
       "      <td>-0.324371</td>\n",
       "      <td>0.521850</td>\n",
       "      <td>1.595451</td>\n",
       "    </tr>\n",
       "    <tr>\n",
       "      <th>99</th>\n",
       "      <td>-1.774058</td>\n",
       "      <td>-1.041009</td>\n",
       "      <td>-0.791445</td>\n",
       "      <td>-0.200801</td>\n",
       "    </tr>\n",
       "  </tbody>\n",
       "</table>\n",
       "<p>100 rows × 4 columns</p>\n",
       "</div>"
      ],
      "text/plain": [
       "           A         B         C         D\n",
       "0  -0.846024 -1.669067  1.249702 -0.320419\n",
       "1   0.685044 -0.948459 -0.931600 -2.535782\n",
       "2   0.013609 -0.816138 -0.007557 -0.044085\n",
       "3  -0.498813  0.684079  0.459437 -2.340584\n",
       "4  -0.502680 -2.201832 -0.671499  0.927991\n",
       "..       ...       ...       ...       ...\n",
       "95  1.352127 -1.194105 -1.552757  1.334852\n",
       "96 -0.184814 -1.214498  0.851357 -0.519554\n",
       "97 -0.894444  1.809087  0.912265 -0.800341\n",
       "98  0.302561 -0.324371  0.521850  1.595451\n",
       "99 -1.774058 -1.041009 -0.791445 -0.200801\n",
       "\n",
       "[100 rows x 4 columns]"
      ]
     },
     "execution_count": 4,
     "metadata": {},
     "output_type": "execute_result"
    }
   ],
   "source": [
    "df1=pd.DataFrame(np.random.randn(100,4),columns='A B C D'.split())\n",
    "df1"
   ]
  },
  {
   "cell_type": "code",
   "execution_count": 5,
   "metadata": {},
   "outputs": [
    {
     "data": {
      "text/html": [
       "<div>\n",
       "<style scoped>\n",
       "    .dataframe tbody tr th:only-of-type {\n",
       "        vertical-align: middle;\n",
       "    }\n",
       "\n",
       "    .dataframe tbody tr th {\n",
       "        vertical-align: top;\n",
       "    }\n",
       "\n",
       "    .dataframe thead th {\n",
       "        text-align: right;\n",
       "    }\n",
       "</style>\n",
       "<table border=\"1\" class=\"dataframe\">\n",
       "  <thead>\n",
       "    <tr style=\"text-align: right;\">\n",
       "      <th></th>\n",
       "      <th>A</th>\n",
       "      <th>B</th>\n",
       "      <th>C</th>\n",
       "      <th>D</th>\n",
       "    </tr>\n",
       "  </thead>\n",
       "  <tbody>\n",
       "    <tr>\n",
       "      <th>0</th>\n",
       "      <td>-0.846024</td>\n",
       "      <td>-1.669067</td>\n",
       "      <td>1.249702</td>\n",
       "      <td>-0.320419</td>\n",
       "    </tr>\n",
       "    <tr>\n",
       "      <th>1</th>\n",
       "      <td>0.685044</td>\n",
       "      <td>-0.948459</td>\n",
       "      <td>-0.931600</td>\n",
       "      <td>-2.535782</td>\n",
       "    </tr>\n",
       "    <tr>\n",
       "      <th>2</th>\n",
       "      <td>0.013609</td>\n",
       "      <td>-0.816138</td>\n",
       "      <td>-0.007557</td>\n",
       "      <td>-0.044085</td>\n",
       "    </tr>\n",
       "    <tr>\n",
       "      <th>3</th>\n",
       "      <td>-0.498813</td>\n",
       "      <td>0.684079</td>\n",
       "      <td>0.459437</td>\n",
       "      <td>-2.340584</td>\n",
       "    </tr>\n",
       "    <tr>\n",
       "      <th>4</th>\n",
       "      <td>-0.502680</td>\n",
       "      <td>-2.201832</td>\n",
       "      <td>-0.671499</td>\n",
       "      <td>0.927991</td>\n",
       "    </tr>\n",
       "  </tbody>\n",
       "</table>\n",
       "</div>"
      ],
      "text/plain": [
       "          A         B         C         D\n",
       "0 -0.846024 -1.669067  1.249702 -0.320419\n",
       "1  0.685044 -0.948459 -0.931600 -2.535782\n",
       "2  0.013609 -0.816138 -0.007557 -0.044085\n",
       "3 -0.498813  0.684079  0.459437 -2.340584\n",
       "4 -0.502680 -2.201832 -0.671499  0.927991"
      ]
     },
     "execution_count": 5,
     "metadata": {},
     "output_type": "execute_result"
    }
   ],
   "source": [
    "df1.head()"
   ]
  },
  {
   "cell_type": "code",
   "execution_count": 6,
   "metadata": {},
   "outputs": [
    {
     "data": {
      "text/html": [
       "<div>\n",
       "<style scoped>\n",
       "    .dataframe tbody tr th:only-of-type {\n",
       "        vertical-align: middle;\n",
       "    }\n",
       "\n",
       "    .dataframe tbody tr th {\n",
       "        vertical-align: top;\n",
       "    }\n",
       "\n",
       "    .dataframe thead th {\n",
       "        text-align: right;\n",
       "    }\n",
       "</style>\n",
       "<table border=\"1\" class=\"dataframe\">\n",
       "  <thead>\n",
       "    <tr style=\"text-align: right;\">\n",
       "      <th></th>\n",
       "      <th>category</th>\n",
       "      <th>values</th>\n",
       "    </tr>\n",
       "  </thead>\n",
       "  <tbody>\n",
       "    <tr>\n",
       "      <th>0</th>\n",
       "      <td>A</td>\n",
       "      <td>22</td>\n",
       "    </tr>\n",
       "    <tr>\n",
       "      <th>1</th>\n",
       "      <td>B</td>\n",
       "      <td>3</td>\n",
       "    </tr>\n",
       "    <tr>\n",
       "      <th>2</th>\n",
       "      <td>C</td>\n",
       "      <td>4</td>\n",
       "    </tr>\n",
       "  </tbody>\n",
       "</table>\n",
       "</div>"
      ],
      "text/plain": [
       "  category  values\n",
       "0        A      22\n",
       "1        B       3\n",
       "2        C       4"
      ]
     },
     "execution_count": 6,
     "metadata": {},
     "output_type": "execute_result"
    }
   ],
   "source": [
    "df2=pd.DataFrame({'category':['A','B','C'],'values':[22,3,4]})\n",
    "df2"
   ]
  },
  {
   "cell_type": "code",
   "execution_count": 7,
   "metadata": {},
   "outputs": [
    {
     "data": {
      "application/vnd.plotly.v1+json": {
       "config": {
        "linkText": "Export to plot.ly",
        "plotlyServerURL": "https://plot.ly",
        "showLink": true
       },
       "data": [
        {
         "line": {
          "color": "rgba(255, 153, 51, 1.0)",
          "dash": "solid",
          "shape": "linear",
          "width": 1.3
         },
         "marker": {
          "size": 12,
          "symbol": "circle"
         },
         "mode": "markers",
         "name": "B",
         "text": "",
         "type": "scatter",
         "x": [
          -0.8460237271253019,
          0.6850443896998784,
          0.013609065845515527,
          -0.4988132770316513,
          -0.5026795682975888,
          -2.1648319958850464,
          -1.154552707782905,
          0.4645360254620899,
          1.3740964676790737,
          -2.242787929269608,
          0.912469992443577,
          0.9719058990913453,
          -1.4485752232730136,
          -1.4856817403879254,
          -1.7707609389688101,
          -1.544708909569676,
          -0.845047053954906,
          1.5718728962014008,
          1.7407180132610471,
          2.146932204884541,
          1.185958873022132,
          0.2630462182169065,
          -0.751468859481539,
          0.12184899133054408,
          0.21414513681628883,
          0.9417985234694084,
          1.2425311236379861,
          -0.7377121463314611,
          -2.1358685937035027,
          -0.01613866776884078,
          -1.224414063134968,
          -0.43117966330931345,
          0.4474472858747312,
          0.36962982018769797,
          0.847196324617692,
          1.880012748500143,
          1.1045060967752076,
          0.4633019355132985,
          -1.464979842190436,
          1.4075418941380369,
          -0.015380220180128674,
          1.5729576249594048,
          0.035613201302045094,
          -2.1191326657010925,
          0.4674612766990198,
          1.5672725306048771,
          0.32374701394053695,
          -0.07586660607563349,
          -0.28766130688384633,
          0.8484426019712326,
          0.12285878967475791,
          0.10747331366298463,
          -0.014364068259369946,
          0.04745854722618259,
          0.08562776472368197,
          -1.2389066249610874,
          -0.6995068508645815,
          -0.7972095540515397,
          1.2007857778924123,
          -0.09290640667433647,
          -0.2934859290199042,
          -0.07763488078361577,
          0.6157033452195625,
          0.10784793323471127,
          -0.5688943346294603,
          0.3980559147795507,
          0.5661577662311075,
          -2.195580683945319,
          0.8997439452375172,
          0.6116820569345487,
          0.898185107218264,
          -3.16636935240398,
          0.5157190077667173,
          1.7027542662620736,
          -1.8334998040533916,
          1.5191373232065937,
          -0.17460849019525584,
          1.131963144127607,
          0.3568780584530282,
          0.9102545259831278,
          0.13445560873806117,
          0.40655314317655816,
          1.0152337299856296,
          1.4398556923049288,
          -0.18648795002338767,
          0.4306655374413637,
          0.09626036855680789,
          1.5076321511661732,
          -0.8426903877075556,
          -0.4677942497505051,
          1.2558162159647377,
          -0.3149934105775024,
          0.3672194688408298,
          -2.3065307475577677,
          -0.6732954546156035,
          1.3521271382546514,
          -0.18481351745424293,
          -0.8944438856872224,
          0.30256144019502035,
          -1.774058004598215
         ],
         "y": [
          -1.6690665071741209,
          -0.9484589845302493,
          -0.8161375694116357,
          0.6840786863502893,
          -2.2018317733312114,
          0.017536684463240967,
          1.2891016612183293,
          -1.804728629786003,
          0.3259795023528879,
          0.049809753323116025,
          -0.5586374064724668,
          0.29429666978152597,
          0.39061076983085435,
          0.8943681379041947,
          -0.552752183630096,
          -3.254423561116218,
          0.6019509133633993,
          -0.8259461083978703,
          1.710869136590222,
          -0.6615216430491391,
          -1.1578938475951246,
          -1.053495434073233,
          0.050146122300815554,
          0.5165620720663516,
          -0.48796706452958144,
          -0.4419290713862438,
          -0.7685738951120951,
          0.006761444700873407,
          -1.3503432760800622,
          0.86268829936173,
          -0.3601098281120075,
          1.5471265668795813,
          -0.7877036076046857,
          -0.11570378586982293,
          -0.38626518512976876,
          -1.6261076438084243,
          0.1552139671521332,
          -0.5535272578079041,
          -0.4630992019337326,
          -0.6139324026188785,
          1.39842534595313,
          0.025329165810796576,
          -1.80275260504035,
          0.2897836172364911,
          0.10549183348243746,
          -1.154884935652627,
          0.0900151454704177,
          -1.9925874148798286,
          0.1854025982354397,
          -1.6396389383040153,
          1.1334741520064942,
          -2.0443178533842548,
          -0.6515321439298384,
          0.21430215795085017,
          -2.2171803435270627,
          -0.10679315372693604,
          1.3358567958691514,
          -1.1979954208547445,
          0.748006345653784,
          -1.2771340270653806,
          0.24106633940119884,
          -0.17317250017492125,
          1.4708772807273518,
          -0.2382694937834363,
          -0.7276772174913667,
          0.3308764931989634,
          -1.0020418664013873,
          1.8115458705425924,
          0.524693389700117,
          1.0641059387955556,
          -0.5677562318557139,
          3.684053699497508,
          0.07477586077751451,
          1.16602333777211,
          -0.3644225537743912,
          -0.2561592131802757,
          0.8456431281725347,
          -0.41187096117433014,
          -0.8736896574049339,
          0.6679638026301171,
          1.1001823918068032,
          1.0535495494708962,
          -2.104565944240315,
          0.3720753582969174,
          -0.5010108088639956,
          -0.5245036613989332,
          -0.24392870922439877,
          -0.19658226865093806,
          0.6584933540744552,
          0.2871266386215244,
          1.0654171438176951,
          1.7258373286970015,
          2.107649563188196,
          1.6470948082198242,
          0.02453824662895236,
          -1.194105419184158,
          -1.214498105522763,
          1.8090870987912386,
          -0.3243706643776886,
          -1.0410093775593163
         ]
        }
       ],
       "layout": {
        "legend": {
         "bgcolor": "#F5F6F9",
         "font": {
          "color": "#4D5663"
         }
        },
        "paper_bgcolor": "#F5F6F9",
        "plot_bgcolor": "#F5F6F9",
        "template": {
         "data": {
          "bar": [
           {
            "error_x": {
             "color": "#2a3f5f"
            },
            "error_y": {
             "color": "#2a3f5f"
            },
            "marker": {
             "line": {
              "color": "#E5ECF6",
              "width": 0.5
             }
            },
            "type": "bar"
           }
          ],
          "barpolar": [
           {
            "marker": {
             "line": {
              "color": "#E5ECF6",
              "width": 0.5
             }
            },
            "type": "barpolar"
           }
          ],
          "carpet": [
           {
            "aaxis": {
             "endlinecolor": "#2a3f5f",
             "gridcolor": "white",
             "linecolor": "white",
             "minorgridcolor": "white",
             "startlinecolor": "#2a3f5f"
            },
            "baxis": {
             "endlinecolor": "#2a3f5f",
             "gridcolor": "white",
             "linecolor": "white",
             "minorgridcolor": "white",
             "startlinecolor": "#2a3f5f"
            },
            "type": "carpet"
           }
          ],
          "choropleth": [
           {
            "colorbar": {
             "outlinewidth": 0,
             "ticks": ""
            },
            "type": "choropleth"
           }
          ],
          "contour": [
           {
            "colorbar": {
             "outlinewidth": 0,
             "ticks": ""
            },
            "colorscale": [
             [
              0,
              "#0d0887"
             ],
             [
              0.1111111111111111,
              "#46039f"
             ],
             [
              0.2222222222222222,
              "#7201a8"
             ],
             [
              0.3333333333333333,
              "#9c179e"
             ],
             [
              0.4444444444444444,
              "#bd3786"
             ],
             [
              0.5555555555555556,
              "#d8576b"
             ],
             [
              0.6666666666666666,
              "#ed7953"
             ],
             [
              0.7777777777777778,
              "#fb9f3a"
             ],
             [
              0.8888888888888888,
              "#fdca26"
             ],
             [
              1,
              "#f0f921"
             ]
            ],
            "type": "contour"
           }
          ],
          "contourcarpet": [
           {
            "colorbar": {
             "outlinewidth": 0,
             "ticks": ""
            },
            "type": "contourcarpet"
           }
          ],
          "heatmap": [
           {
            "colorbar": {
             "outlinewidth": 0,
             "ticks": ""
            },
            "colorscale": [
             [
              0,
              "#0d0887"
             ],
             [
              0.1111111111111111,
              "#46039f"
             ],
             [
              0.2222222222222222,
              "#7201a8"
             ],
             [
              0.3333333333333333,
              "#9c179e"
             ],
             [
              0.4444444444444444,
              "#bd3786"
             ],
             [
              0.5555555555555556,
              "#d8576b"
             ],
             [
              0.6666666666666666,
              "#ed7953"
             ],
             [
              0.7777777777777778,
              "#fb9f3a"
             ],
             [
              0.8888888888888888,
              "#fdca26"
             ],
             [
              1,
              "#f0f921"
             ]
            ],
            "type": "heatmap"
           }
          ],
          "heatmapgl": [
           {
            "colorbar": {
             "outlinewidth": 0,
             "ticks": ""
            },
            "colorscale": [
             [
              0,
              "#0d0887"
             ],
             [
              0.1111111111111111,
              "#46039f"
             ],
             [
              0.2222222222222222,
              "#7201a8"
             ],
             [
              0.3333333333333333,
              "#9c179e"
             ],
             [
              0.4444444444444444,
              "#bd3786"
             ],
             [
              0.5555555555555556,
              "#d8576b"
             ],
             [
              0.6666666666666666,
              "#ed7953"
             ],
             [
              0.7777777777777778,
              "#fb9f3a"
             ],
             [
              0.8888888888888888,
              "#fdca26"
             ],
             [
              1,
              "#f0f921"
             ]
            ],
            "type": "heatmapgl"
           }
          ],
          "histogram": [
           {
            "marker": {
             "colorbar": {
              "outlinewidth": 0,
              "ticks": ""
             }
            },
            "type": "histogram"
           }
          ],
          "histogram2d": [
           {
            "colorbar": {
             "outlinewidth": 0,
             "ticks": ""
            },
            "colorscale": [
             [
              0,
              "#0d0887"
             ],
             [
              0.1111111111111111,
              "#46039f"
             ],
             [
              0.2222222222222222,
              "#7201a8"
             ],
             [
              0.3333333333333333,
              "#9c179e"
             ],
             [
              0.4444444444444444,
              "#bd3786"
             ],
             [
              0.5555555555555556,
              "#d8576b"
             ],
             [
              0.6666666666666666,
              "#ed7953"
             ],
             [
              0.7777777777777778,
              "#fb9f3a"
             ],
             [
              0.8888888888888888,
              "#fdca26"
             ],
             [
              1,
              "#f0f921"
             ]
            ],
            "type": "histogram2d"
           }
          ],
          "histogram2dcontour": [
           {
            "colorbar": {
             "outlinewidth": 0,
             "ticks": ""
            },
            "colorscale": [
             [
              0,
              "#0d0887"
             ],
             [
              0.1111111111111111,
              "#46039f"
             ],
             [
              0.2222222222222222,
              "#7201a8"
             ],
             [
              0.3333333333333333,
              "#9c179e"
             ],
             [
              0.4444444444444444,
              "#bd3786"
             ],
             [
              0.5555555555555556,
              "#d8576b"
             ],
             [
              0.6666666666666666,
              "#ed7953"
             ],
             [
              0.7777777777777778,
              "#fb9f3a"
             ],
             [
              0.8888888888888888,
              "#fdca26"
             ],
             [
              1,
              "#f0f921"
             ]
            ],
            "type": "histogram2dcontour"
           }
          ],
          "mesh3d": [
           {
            "colorbar": {
             "outlinewidth": 0,
             "ticks": ""
            },
            "type": "mesh3d"
           }
          ],
          "parcoords": [
           {
            "line": {
             "colorbar": {
              "outlinewidth": 0,
              "ticks": ""
             }
            },
            "type": "parcoords"
           }
          ],
          "pie": [
           {
            "automargin": true,
            "type": "pie"
           }
          ],
          "scatter": [
           {
            "marker": {
             "colorbar": {
              "outlinewidth": 0,
              "ticks": ""
             }
            },
            "type": "scatter"
           }
          ],
          "scatter3d": [
           {
            "line": {
             "colorbar": {
              "outlinewidth": 0,
              "ticks": ""
             }
            },
            "marker": {
             "colorbar": {
              "outlinewidth": 0,
              "ticks": ""
             }
            },
            "type": "scatter3d"
           }
          ],
          "scattercarpet": [
           {
            "marker": {
             "colorbar": {
              "outlinewidth": 0,
              "ticks": ""
             }
            },
            "type": "scattercarpet"
           }
          ],
          "scattergeo": [
           {
            "marker": {
             "colorbar": {
              "outlinewidth": 0,
              "ticks": ""
             }
            },
            "type": "scattergeo"
           }
          ],
          "scattergl": [
           {
            "marker": {
             "colorbar": {
              "outlinewidth": 0,
              "ticks": ""
             }
            },
            "type": "scattergl"
           }
          ],
          "scattermapbox": [
           {
            "marker": {
             "colorbar": {
              "outlinewidth": 0,
              "ticks": ""
             }
            },
            "type": "scattermapbox"
           }
          ],
          "scatterpolar": [
           {
            "marker": {
             "colorbar": {
              "outlinewidth": 0,
              "ticks": ""
             }
            },
            "type": "scatterpolar"
           }
          ],
          "scatterpolargl": [
           {
            "marker": {
             "colorbar": {
              "outlinewidth": 0,
              "ticks": ""
             }
            },
            "type": "scatterpolargl"
           }
          ],
          "scatterternary": [
           {
            "marker": {
             "colorbar": {
              "outlinewidth": 0,
              "ticks": ""
             }
            },
            "type": "scatterternary"
           }
          ],
          "surface": [
           {
            "colorbar": {
             "outlinewidth": 0,
             "ticks": ""
            },
            "colorscale": [
             [
              0,
              "#0d0887"
             ],
             [
              0.1111111111111111,
              "#46039f"
             ],
             [
              0.2222222222222222,
              "#7201a8"
             ],
             [
              0.3333333333333333,
              "#9c179e"
             ],
             [
              0.4444444444444444,
              "#bd3786"
             ],
             [
              0.5555555555555556,
              "#d8576b"
             ],
             [
              0.6666666666666666,
              "#ed7953"
             ],
             [
              0.7777777777777778,
              "#fb9f3a"
             ],
             [
              0.8888888888888888,
              "#fdca26"
             ],
             [
              1,
              "#f0f921"
             ]
            ],
            "type": "surface"
           }
          ],
          "table": [
           {
            "cells": {
             "fill": {
              "color": "#EBF0F8"
             },
             "line": {
              "color": "white"
             }
            },
            "header": {
             "fill": {
              "color": "#C8D4E3"
             },
             "line": {
              "color": "white"
             }
            },
            "type": "table"
           }
          ]
         },
         "layout": {
          "annotationdefaults": {
           "arrowcolor": "#2a3f5f",
           "arrowhead": 0,
           "arrowwidth": 1
          },
          "coloraxis": {
           "colorbar": {
            "outlinewidth": 0,
            "ticks": ""
           }
          },
          "colorscale": {
           "diverging": [
            [
             0,
             "#8e0152"
            ],
            [
             0.1,
             "#c51b7d"
            ],
            [
             0.2,
             "#de77ae"
            ],
            [
             0.3,
             "#f1b6da"
            ],
            [
             0.4,
             "#fde0ef"
            ],
            [
             0.5,
             "#f7f7f7"
            ],
            [
             0.6,
             "#e6f5d0"
            ],
            [
             0.7,
             "#b8e186"
            ],
            [
             0.8,
             "#7fbc41"
            ],
            [
             0.9,
             "#4d9221"
            ],
            [
             1,
             "#276419"
            ]
           ],
           "sequential": [
            [
             0,
             "#0d0887"
            ],
            [
             0.1111111111111111,
             "#46039f"
            ],
            [
             0.2222222222222222,
             "#7201a8"
            ],
            [
             0.3333333333333333,
             "#9c179e"
            ],
            [
             0.4444444444444444,
             "#bd3786"
            ],
            [
             0.5555555555555556,
             "#d8576b"
            ],
            [
             0.6666666666666666,
             "#ed7953"
            ],
            [
             0.7777777777777778,
             "#fb9f3a"
            ],
            [
             0.8888888888888888,
             "#fdca26"
            ],
            [
             1,
             "#f0f921"
            ]
           ],
           "sequentialminus": [
            [
             0,
             "#0d0887"
            ],
            [
             0.1111111111111111,
             "#46039f"
            ],
            [
             0.2222222222222222,
             "#7201a8"
            ],
            [
             0.3333333333333333,
             "#9c179e"
            ],
            [
             0.4444444444444444,
             "#bd3786"
            ],
            [
             0.5555555555555556,
             "#d8576b"
            ],
            [
             0.6666666666666666,
             "#ed7953"
            ],
            [
             0.7777777777777778,
             "#fb9f3a"
            ],
            [
             0.8888888888888888,
             "#fdca26"
            ],
            [
             1,
             "#f0f921"
            ]
           ]
          },
          "colorway": [
           "#636efa",
           "#EF553B",
           "#00cc96",
           "#ab63fa",
           "#FFA15A",
           "#19d3f3",
           "#FF6692",
           "#B6E880",
           "#FF97FF",
           "#FECB52"
          ],
          "font": {
           "color": "#2a3f5f"
          },
          "geo": {
           "bgcolor": "white",
           "lakecolor": "white",
           "landcolor": "#E5ECF6",
           "showlakes": true,
           "showland": true,
           "subunitcolor": "white"
          },
          "hoverlabel": {
           "align": "left"
          },
          "hovermode": "closest",
          "mapbox": {
           "style": "light"
          },
          "paper_bgcolor": "white",
          "plot_bgcolor": "#E5ECF6",
          "polar": {
           "angularaxis": {
            "gridcolor": "white",
            "linecolor": "white",
            "ticks": ""
           },
           "bgcolor": "#E5ECF6",
           "radialaxis": {
            "gridcolor": "white",
            "linecolor": "white",
            "ticks": ""
           }
          },
          "scene": {
           "xaxis": {
            "backgroundcolor": "#E5ECF6",
            "gridcolor": "white",
            "gridwidth": 2,
            "linecolor": "white",
            "showbackground": true,
            "ticks": "",
            "zerolinecolor": "white"
           },
           "yaxis": {
            "backgroundcolor": "#E5ECF6",
            "gridcolor": "white",
            "gridwidth": 2,
            "linecolor": "white",
            "showbackground": true,
            "ticks": "",
            "zerolinecolor": "white"
           },
           "zaxis": {
            "backgroundcolor": "#E5ECF6",
            "gridcolor": "white",
            "gridwidth": 2,
            "linecolor": "white",
            "showbackground": true,
            "ticks": "",
            "zerolinecolor": "white"
           }
          },
          "shapedefaults": {
           "line": {
            "color": "#2a3f5f"
           }
          },
          "ternary": {
           "aaxis": {
            "gridcolor": "white",
            "linecolor": "white",
            "ticks": ""
           },
           "baxis": {
            "gridcolor": "white",
            "linecolor": "white",
            "ticks": ""
           },
           "bgcolor": "#E5ECF6",
           "caxis": {
            "gridcolor": "white",
            "linecolor": "white",
            "ticks": ""
           }
          },
          "title": {
           "x": 0.05
          },
          "xaxis": {
           "automargin": true,
           "gridcolor": "white",
           "linecolor": "white",
           "ticks": "",
           "title": {
            "standoff": 15
           },
           "zerolinecolor": "white",
           "zerolinewidth": 2
          },
          "yaxis": {
           "automargin": true,
           "gridcolor": "white",
           "linecolor": "white",
           "ticks": "",
           "title": {
            "standoff": 15
           },
           "zerolinecolor": "white",
           "zerolinewidth": 2
          }
         }
        },
        "title": {
         "font": {
          "color": "#4D5663"
         }
        },
        "xaxis": {
         "gridcolor": "#E1E5ED",
         "showgrid": true,
         "tickfont": {
          "color": "#4D5663"
         },
         "title": {
          "font": {
           "color": "#4D5663"
          },
          "text": ""
         },
         "zerolinecolor": "#E1E5ED"
        },
        "yaxis": {
         "gridcolor": "#E1E5ED",
         "showgrid": true,
         "tickfont": {
          "color": "#4D5663"
         },
         "title": {
          "font": {
           "color": "#4D5663"
          },
          "text": ""
         },
         "zerolinecolor": "#E1E5ED"
        }
       }
      },
      "text/html": [
       "<div>\n",
       "        \n",
       "        \n",
       "            <div id=\"99c2bde4-e135-49ca-99f5-fd42d4932c61\" class=\"plotly-graph-div\" style=\"height:525px; width:100%;\"></div>\n",
       "            <script type=\"text/javascript\">\n",
       "                require([\"plotly\"], function(Plotly) {\n",
       "                    window.PLOTLYENV=window.PLOTLYENV || {};\n",
       "                    window.PLOTLYENV.BASE_URL='https://plot.ly';\n",
       "                    \n",
       "                if (document.getElementById(\"99c2bde4-e135-49ca-99f5-fd42d4932c61\")) {\n",
       "                    Plotly.newPlot(\n",
       "                        '99c2bde4-e135-49ca-99f5-fd42d4932c61',\n",
       "                        [{\"line\": {\"color\": \"rgba(255, 153, 51, 1.0)\", \"dash\": \"solid\", \"shape\": \"linear\", \"width\": 1.3}, \"marker\": {\"size\": 12, \"symbol\": \"circle\"}, \"mode\": \"markers\", \"name\": \"B\", \"text\": \"\", \"type\": \"scatter\", \"x\": [-0.8460237271253019, 0.6850443896998784, 0.013609065845515527, -0.4988132770316513, -0.5026795682975888, -2.1648319958850464, -1.154552707782905, 0.4645360254620899, 1.3740964676790737, -2.242787929269608, 0.912469992443577, 0.9719058990913453, -1.4485752232730136, -1.4856817403879254, -1.7707609389688101, -1.544708909569676, -0.845047053954906, 1.5718728962014008, 1.7407180132610471, 2.146932204884541, 1.185958873022132, 0.2630462182169065, -0.751468859481539, 0.12184899133054408, 0.21414513681628883, 0.9417985234694084, 1.2425311236379861, -0.7377121463314611, -2.1358685937035027, -0.01613866776884078, -1.224414063134968, -0.43117966330931345, 0.4474472858747312, 0.36962982018769797, 0.847196324617692, 1.880012748500143, 1.1045060967752076, 0.4633019355132985, -1.464979842190436, 1.4075418941380369, -0.015380220180128674, 1.5729576249594048, 0.035613201302045094, -2.1191326657010925, 0.4674612766990198, 1.5672725306048771, 0.32374701394053695, -0.07586660607563349, -0.28766130688384633, 0.8484426019712326, 0.12285878967475791, 0.10747331366298463, -0.014364068259369946, 0.04745854722618259, 0.08562776472368197, -1.2389066249610874, -0.6995068508645815, -0.7972095540515397, 1.2007857778924123, -0.09290640667433647, -0.2934859290199042, -0.07763488078361577, 0.6157033452195625, 0.10784793323471127, -0.5688943346294603, 0.3980559147795507, 0.5661577662311075, -2.195580683945319, 0.8997439452375172, 0.6116820569345487, 0.898185107218264, -3.16636935240398, 0.5157190077667173, 1.7027542662620736, -1.8334998040533916, 1.5191373232065937, -0.17460849019525584, 1.131963144127607, 0.3568780584530282, 0.9102545259831278, 0.13445560873806117, 0.40655314317655816, 1.0152337299856296, 1.4398556923049288, -0.18648795002338767, 0.4306655374413637, 0.09626036855680789, 1.5076321511661732, -0.8426903877075556, -0.4677942497505051, 1.2558162159647377, -0.3149934105775024, 0.3672194688408298, -2.3065307475577677, -0.6732954546156035, 1.3521271382546514, -0.18481351745424293, -0.8944438856872224, 0.30256144019502035, -1.774058004598215], \"y\": [-1.6690665071741209, -0.9484589845302493, -0.8161375694116357, 0.6840786863502893, -2.2018317733312114, 0.017536684463240967, 1.2891016612183293, -1.804728629786003, 0.3259795023528879, 0.049809753323116025, -0.5586374064724668, 0.29429666978152597, 0.39061076983085435, 0.8943681379041947, -0.552752183630096, -3.254423561116218, 0.6019509133633993, -0.8259461083978703, 1.710869136590222, -0.6615216430491391, -1.1578938475951246, -1.053495434073233, 0.050146122300815554, 0.5165620720663516, -0.48796706452958144, -0.4419290713862438, -0.7685738951120951, 0.006761444700873407, -1.3503432760800622, 0.86268829936173, -0.3601098281120075, 1.5471265668795813, -0.7877036076046857, -0.11570378586982293, -0.38626518512976876, -1.6261076438084243, 0.1552139671521332, -0.5535272578079041, -0.4630992019337326, -0.6139324026188785, 1.39842534595313, 0.025329165810796576, -1.80275260504035, 0.2897836172364911, 0.10549183348243746, -1.154884935652627, 0.0900151454704177, -1.9925874148798286, 0.1854025982354397, -1.6396389383040153, 1.1334741520064942, -2.0443178533842548, -0.6515321439298384, 0.21430215795085017, -2.2171803435270627, -0.10679315372693604, 1.3358567958691514, -1.1979954208547445, 0.748006345653784, -1.2771340270653806, 0.24106633940119884, -0.17317250017492125, 1.4708772807273518, -0.2382694937834363, -0.7276772174913667, 0.3308764931989634, -1.0020418664013873, 1.8115458705425924, 0.524693389700117, 1.0641059387955556, -0.5677562318557139, 3.684053699497508, 0.07477586077751451, 1.16602333777211, -0.3644225537743912, -0.2561592131802757, 0.8456431281725347, -0.41187096117433014, -0.8736896574049339, 0.6679638026301171, 1.1001823918068032, 1.0535495494708962, -2.104565944240315, 0.3720753582969174, -0.5010108088639956, -0.5245036613989332, -0.24392870922439877, -0.19658226865093806, 0.6584933540744552, 0.2871266386215244, 1.0654171438176951, 1.7258373286970015, 2.107649563188196, 1.6470948082198242, 0.02453824662895236, -1.194105419184158, -1.214498105522763, 1.8090870987912386, -0.3243706643776886, -1.0410093775593163]}],\n",
       "                        {\"legend\": {\"bgcolor\": \"#F5F6F9\", \"font\": {\"color\": \"#4D5663\"}}, \"paper_bgcolor\": \"#F5F6F9\", \"plot_bgcolor\": \"#F5F6F9\", \"template\": {\"data\": {\"bar\": [{\"error_x\": {\"color\": \"#2a3f5f\"}, \"error_y\": {\"color\": \"#2a3f5f\"}, \"marker\": {\"line\": {\"color\": \"#E5ECF6\", \"width\": 0.5}}, \"type\": \"bar\"}], \"barpolar\": [{\"marker\": {\"line\": {\"color\": \"#E5ECF6\", \"width\": 0.5}}, \"type\": \"barpolar\"}], \"carpet\": [{\"aaxis\": {\"endlinecolor\": \"#2a3f5f\", \"gridcolor\": \"white\", \"linecolor\": \"white\", \"minorgridcolor\": \"white\", \"startlinecolor\": \"#2a3f5f\"}, \"baxis\": {\"endlinecolor\": \"#2a3f5f\", \"gridcolor\": \"white\", \"linecolor\": \"white\", \"minorgridcolor\": \"white\", \"startlinecolor\": \"#2a3f5f\"}, \"type\": \"carpet\"}], \"choropleth\": [{\"colorbar\": {\"outlinewidth\": 0, \"ticks\": \"\"}, \"type\": \"choropleth\"}], \"contour\": [{\"colorbar\": {\"outlinewidth\": 0, \"ticks\": \"\"}, \"colorscale\": [[0.0, \"#0d0887\"], [0.1111111111111111, \"#46039f\"], [0.2222222222222222, \"#7201a8\"], [0.3333333333333333, \"#9c179e\"], [0.4444444444444444, \"#bd3786\"], [0.5555555555555556, \"#d8576b\"], [0.6666666666666666, \"#ed7953\"], [0.7777777777777778, \"#fb9f3a\"], [0.8888888888888888, \"#fdca26\"], [1.0, \"#f0f921\"]], \"type\": \"contour\"}], \"contourcarpet\": [{\"colorbar\": {\"outlinewidth\": 0, \"ticks\": \"\"}, \"type\": \"contourcarpet\"}], \"heatmap\": [{\"colorbar\": {\"outlinewidth\": 0, \"ticks\": \"\"}, \"colorscale\": [[0.0, \"#0d0887\"], [0.1111111111111111, \"#46039f\"], [0.2222222222222222, \"#7201a8\"], [0.3333333333333333, \"#9c179e\"], [0.4444444444444444, \"#bd3786\"], [0.5555555555555556, \"#d8576b\"], [0.6666666666666666, \"#ed7953\"], [0.7777777777777778, \"#fb9f3a\"], [0.8888888888888888, \"#fdca26\"], [1.0, \"#f0f921\"]], \"type\": \"heatmap\"}], \"heatmapgl\": [{\"colorbar\": {\"outlinewidth\": 0, \"ticks\": \"\"}, \"colorscale\": [[0.0, \"#0d0887\"], [0.1111111111111111, \"#46039f\"], [0.2222222222222222, \"#7201a8\"], [0.3333333333333333, \"#9c179e\"], [0.4444444444444444, \"#bd3786\"], [0.5555555555555556, \"#d8576b\"], [0.6666666666666666, \"#ed7953\"], [0.7777777777777778, \"#fb9f3a\"], [0.8888888888888888, \"#fdca26\"], [1.0, \"#f0f921\"]], \"type\": \"heatmapgl\"}], \"histogram\": [{\"marker\": {\"colorbar\": {\"outlinewidth\": 0, \"ticks\": \"\"}}, \"type\": \"histogram\"}], \"histogram2d\": [{\"colorbar\": {\"outlinewidth\": 0, \"ticks\": \"\"}, \"colorscale\": [[0.0, \"#0d0887\"], [0.1111111111111111, \"#46039f\"], [0.2222222222222222, \"#7201a8\"], [0.3333333333333333, \"#9c179e\"], [0.4444444444444444, \"#bd3786\"], [0.5555555555555556, \"#d8576b\"], [0.6666666666666666, \"#ed7953\"], [0.7777777777777778, \"#fb9f3a\"], [0.8888888888888888, \"#fdca26\"], [1.0, \"#f0f921\"]], \"type\": \"histogram2d\"}], \"histogram2dcontour\": [{\"colorbar\": {\"outlinewidth\": 0, \"ticks\": \"\"}, \"colorscale\": [[0.0, \"#0d0887\"], [0.1111111111111111, \"#46039f\"], [0.2222222222222222, \"#7201a8\"], [0.3333333333333333, \"#9c179e\"], [0.4444444444444444, \"#bd3786\"], [0.5555555555555556, \"#d8576b\"], [0.6666666666666666, \"#ed7953\"], [0.7777777777777778, \"#fb9f3a\"], [0.8888888888888888, \"#fdca26\"], [1.0, \"#f0f921\"]], \"type\": \"histogram2dcontour\"}], \"mesh3d\": [{\"colorbar\": {\"outlinewidth\": 0, \"ticks\": \"\"}, \"type\": \"mesh3d\"}], \"parcoords\": [{\"line\": {\"colorbar\": {\"outlinewidth\": 0, \"ticks\": \"\"}}, \"type\": \"parcoords\"}], \"pie\": [{\"automargin\": true, \"type\": \"pie\"}], \"scatter\": [{\"marker\": {\"colorbar\": {\"outlinewidth\": 0, \"ticks\": \"\"}}, \"type\": \"scatter\"}], \"scatter3d\": [{\"line\": {\"colorbar\": {\"outlinewidth\": 0, \"ticks\": \"\"}}, \"marker\": {\"colorbar\": {\"outlinewidth\": 0, \"ticks\": \"\"}}, \"type\": \"scatter3d\"}], \"scattercarpet\": [{\"marker\": {\"colorbar\": {\"outlinewidth\": 0, \"ticks\": \"\"}}, \"type\": \"scattercarpet\"}], \"scattergeo\": [{\"marker\": {\"colorbar\": {\"outlinewidth\": 0, \"ticks\": \"\"}}, \"type\": \"scattergeo\"}], \"scattergl\": [{\"marker\": {\"colorbar\": {\"outlinewidth\": 0, \"ticks\": \"\"}}, \"type\": \"scattergl\"}], \"scattermapbox\": [{\"marker\": {\"colorbar\": {\"outlinewidth\": 0, \"ticks\": \"\"}}, \"type\": \"scattermapbox\"}], \"scatterpolar\": [{\"marker\": {\"colorbar\": {\"outlinewidth\": 0, \"ticks\": \"\"}}, \"type\": \"scatterpolar\"}], \"scatterpolargl\": [{\"marker\": {\"colorbar\": {\"outlinewidth\": 0, \"ticks\": \"\"}}, \"type\": \"scatterpolargl\"}], \"scatterternary\": [{\"marker\": {\"colorbar\": {\"outlinewidth\": 0, \"ticks\": \"\"}}, \"type\": \"scatterternary\"}], \"surface\": [{\"colorbar\": {\"outlinewidth\": 0, \"ticks\": \"\"}, \"colorscale\": [[0.0, \"#0d0887\"], [0.1111111111111111, \"#46039f\"], [0.2222222222222222, \"#7201a8\"], [0.3333333333333333, \"#9c179e\"], [0.4444444444444444, \"#bd3786\"], [0.5555555555555556, \"#d8576b\"], [0.6666666666666666, \"#ed7953\"], [0.7777777777777778, \"#fb9f3a\"], [0.8888888888888888, \"#fdca26\"], [1.0, \"#f0f921\"]], \"type\": \"surface\"}], \"table\": [{\"cells\": {\"fill\": {\"color\": \"#EBF0F8\"}, \"line\": {\"color\": \"white\"}}, \"header\": {\"fill\": {\"color\": \"#C8D4E3\"}, \"line\": {\"color\": \"white\"}}, \"type\": \"table\"}]}, \"layout\": {\"annotationdefaults\": {\"arrowcolor\": \"#2a3f5f\", \"arrowhead\": 0, \"arrowwidth\": 1}, \"coloraxis\": {\"colorbar\": {\"outlinewidth\": 0, \"ticks\": \"\"}}, \"colorscale\": {\"diverging\": [[0, \"#8e0152\"], [0.1, \"#c51b7d\"], [0.2, \"#de77ae\"], [0.3, \"#f1b6da\"], [0.4, \"#fde0ef\"], [0.5, \"#f7f7f7\"], [0.6, \"#e6f5d0\"], [0.7, \"#b8e186\"], [0.8, \"#7fbc41\"], [0.9, \"#4d9221\"], [1, \"#276419\"]], \"sequential\": [[0.0, \"#0d0887\"], [0.1111111111111111, \"#46039f\"], [0.2222222222222222, \"#7201a8\"], [0.3333333333333333, \"#9c179e\"], [0.4444444444444444, \"#bd3786\"], [0.5555555555555556, \"#d8576b\"], [0.6666666666666666, \"#ed7953\"], [0.7777777777777778, \"#fb9f3a\"], [0.8888888888888888, \"#fdca26\"], [1.0, \"#f0f921\"]], \"sequentialminus\": [[0.0, \"#0d0887\"], [0.1111111111111111, \"#46039f\"], [0.2222222222222222, \"#7201a8\"], [0.3333333333333333, \"#9c179e\"], [0.4444444444444444, \"#bd3786\"], [0.5555555555555556, \"#d8576b\"], [0.6666666666666666, \"#ed7953\"], [0.7777777777777778, \"#fb9f3a\"], [0.8888888888888888, \"#fdca26\"], [1.0, \"#f0f921\"]]}, \"colorway\": [\"#636efa\", \"#EF553B\", \"#00cc96\", \"#ab63fa\", \"#FFA15A\", \"#19d3f3\", \"#FF6692\", \"#B6E880\", \"#FF97FF\", \"#FECB52\"], \"font\": {\"color\": \"#2a3f5f\"}, \"geo\": {\"bgcolor\": \"white\", \"lakecolor\": \"white\", \"landcolor\": \"#E5ECF6\", \"showlakes\": true, \"showland\": true, \"subunitcolor\": \"white\"}, \"hoverlabel\": {\"align\": \"left\"}, \"hovermode\": \"closest\", \"mapbox\": {\"style\": \"light\"}, \"paper_bgcolor\": \"white\", \"plot_bgcolor\": \"#E5ECF6\", \"polar\": {\"angularaxis\": {\"gridcolor\": \"white\", \"linecolor\": \"white\", \"ticks\": \"\"}, \"bgcolor\": \"#E5ECF6\", \"radialaxis\": {\"gridcolor\": \"white\", \"linecolor\": \"white\", \"ticks\": \"\"}}, \"scene\": {\"xaxis\": {\"backgroundcolor\": \"#E5ECF6\", \"gridcolor\": \"white\", \"gridwidth\": 2, \"linecolor\": \"white\", \"showbackground\": true, \"ticks\": \"\", \"zerolinecolor\": \"white\"}, \"yaxis\": {\"backgroundcolor\": \"#E5ECF6\", \"gridcolor\": \"white\", \"gridwidth\": 2, \"linecolor\": \"white\", \"showbackground\": true, \"ticks\": \"\", \"zerolinecolor\": \"white\"}, \"zaxis\": {\"backgroundcolor\": \"#E5ECF6\", \"gridcolor\": \"white\", \"gridwidth\": 2, \"linecolor\": \"white\", \"showbackground\": true, \"ticks\": \"\", \"zerolinecolor\": \"white\"}}, \"shapedefaults\": {\"line\": {\"color\": \"#2a3f5f\"}}, \"ternary\": {\"aaxis\": {\"gridcolor\": \"white\", \"linecolor\": \"white\", \"ticks\": \"\"}, \"baxis\": {\"gridcolor\": \"white\", \"linecolor\": \"white\", \"ticks\": \"\"}, \"bgcolor\": \"#E5ECF6\", \"caxis\": {\"gridcolor\": \"white\", \"linecolor\": \"white\", \"ticks\": \"\"}}, \"title\": {\"x\": 0.05}, \"xaxis\": {\"automargin\": true, \"gridcolor\": \"white\", \"linecolor\": \"white\", \"ticks\": \"\", \"title\": {\"standoff\": 15}, \"zerolinecolor\": \"white\", \"zerolinewidth\": 2}, \"yaxis\": {\"automargin\": true, \"gridcolor\": \"white\", \"linecolor\": \"white\", \"ticks\": \"\", \"title\": {\"standoff\": 15}, \"zerolinecolor\": \"white\", \"zerolinewidth\": 2}}}, \"title\": {\"font\": {\"color\": \"#4D5663\"}}, \"xaxis\": {\"gridcolor\": \"#E1E5ED\", \"showgrid\": true, \"tickfont\": {\"color\": \"#4D5663\"}, \"title\": {\"font\": {\"color\": \"#4D5663\"}, \"text\": \"\"}, \"zerolinecolor\": \"#E1E5ED\"}, \"yaxis\": {\"gridcolor\": \"#E1E5ED\", \"showgrid\": true, \"tickfont\": {\"color\": \"#4D5663\"}, \"title\": {\"font\": {\"color\": \"#4D5663\"}, \"text\": \"\"}, \"zerolinecolor\": \"#E1E5ED\"}},\n",
       "                        {\"showLink\": true, \"linkText\": \"Export to plot.ly\", \"plotlyServerURL\": \"https://plot.ly\", \"responsive\": true}\n",
       "                    ).then(function(){\n",
       "                            \n",
       "var gd = document.getElementById('99c2bde4-e135-49ca-99f5-fd42d4932c61');\n",
       "var x = new MutationObserver(function (mutations, observer) {{\n",
       "        var display = window.getComputedStyle(gd).display;\n",
       "        if (!display || display === 'none') {{\n",
       "            console.log([gd, 'removed!']);\n",
       "            Plotly.purge(gd);\n",
       "            observer.disconnect();\n",
       "        }}\n",
       "}});\n",
       "\n",
       "// Listen for the removal of the full notebook cells\n",
       "var notebookContainer = gd.closest('#notebook-container');\n",
       "if (notebookContainer) {{\n",
       "    x.observe(notebookContainer, {childList: true});\n",
       "}}\n",
       "\n",
       "// Listen for the clearing of the current output cell\n",
       "var outputEl = gd.closest('.output');\n",
       "if (outputEl) {{\n",
       "    x.observe(outputEl, {childList: true});\n",
       "}}\n",
       "\n",
       "                        })\n",
       "                };\n",
       "                });\n",
       "            </script>\n",
       "        </div>"
      ]
     },
     "metadata": {},
     "output_type": "display_data"
    }
   ],
   "source": [
    "df1.iplot(kind='scatter',x='A',y='B',mode='markers')"
   ]
  },
  {
   "cell_type": "code",
   "execution_count": 8,
   "metadata": {},
   "outputs": [
    {
     "data": {
      "application/vnd.plotly.v1+json": {
       "config": {
        "linkText": "Export to plot.ly",
        "plotlyServerURL": "https://plot.ly",
        "showLink": true
       },
       "data": [
        {
         "marker": {
          "color": "rgba(255, 153, 51, 0.6)",
          "line": {
           "color": "rgba(255, 153, 51, 1.0)",
           "width": 1
          }
         },
         "name": "values",
         "orientation": "v",
         "text": "",
         "type": "bar",
         "x": [
          "A",
          "B",
          "C"
         ],
         "y": [
          22,
          3,
          4
         ]
        }
       ],
       "layout": {
        "legend": {
         "bgcolor": "#F5F6F9",
         "font": {
          "color": "#4D5663"
         }
        },
        "paper_bgcolor": "#F5F6F9",
        "plot_bgcolor": "#F5F6F9",
        "template": {
         "data": {
          "bar": [
           {
            "error_x": {
             "color": "#2a3f5f"
            },
            "error_y": {
             "color": "#2a3f5f"
            },
            "marker": {
             "line": {
              "color": "#E5ECF6",
              "width": 0.5
             }
            },
            "type": "bar"
           }
          ],
          "barpolar": [
           {
            "marker": {
             "line": {
              "color": "#E5ECF6",
              "width": 0.5
             }
            },
            "type": "barpolar"
           }
          ],
          "carpet": [
           {
            "aaxis": {
             "endlinecolor": "#2a3f5f",
             "gridcolor": "white",
             "linecolor": "white",
             "minorgridcolor": "white",
             "startlinecolor": "#2a3f5f"
            },
            "baxis": {
             "endlinecolor": "#2a3f5f",
             "gridcolor": "white",
             "linecolor": "white",
             "minorgridcolor": "white",
             "startlinecolor": "#2a3f5f"
            },
            "type": "carpet"
           }
          ],
          "choropleth": [
           {
            "colorbar": {
             "outlinewidth": 0,
             "ticks": ""
            },
            "type": "choropleth"
           }
          ],
          "contour": [
           {
            "colorbar": {
             "outlinewidth": 0,
             "ticks": ""
            },
            "colorscale": [
             [
              0,
              "#0d0887"
             ],
             [
              0.1111111111111111,
              "#46039f"
             ],
             [
              0.2222222222222222,
              "#7201a8"
             ],
             [
              0.3333333333333333,
              "#9c179e"
             ],
             [
              0.4444444444444444,
              "#bd3786"
             ],
             [
              0.5555555555555556,
              "#d8576b"
             ],
             [
              0.6666666666666666,
              "#ed7953"
             ],
             [
              0.7777777777777778,
              "#fb9f3a"
             ],
             [
              0.8888888888888888,
              "#fdca26"
             ],
             [
              1,
              "#f0f921"
             ]
            ],
            "type": "contour"
           }
          ],
          "contourcarpet": [
           {
            "colorbar": {
             "outlinewidth": 0,
             "ticks": ""
            },
            "type": "contourcarpet"
           }
          ],
          "heatmap": [
           {
            "colorbar": {
             "outlinewidth": 0,
             "ticks": ""
            },
            "colorscale": [
             [
              0,
              "#0d0887"
             ],
             [
              0.1111111111111111,
              "#46039f"
             ],
             [
              0.2222222222222222,
              "#7201a8"
             ],
             [
              0.3333333333333333,
              "#9c179e"
             ],
             [
              0.4444444444444444,
              "#bd3786"
             ],
             [
              0.5555555555555556,
              "#d8576b"
             ],
             [
              0.6666666666666666,
              "#ed7953"
             ],
             [
              0.7777777777777778,
              "#fb9f3a"
             ],
             [
              0.8888888888888888,
              "#fdca26"
             ],
             [
              1,
              "#f0f921"
             ]
            ],
            "type": "heatmap"
           }
          ],
          "heatmapgl": [
           {
            "colorbar": {
             "outlinewidth": 0,
             "ticks": ""
            },
            "colorscale": [
             [
              0,
              "#0d0887"
             ],
             [
              0.1111111111111111,
              "#46039f"
             ],
             [
              0.2222222222222222,
              "#7201a8"
             ],
             [
              0.3333333333333333,
              "#9c179e"
             ],
             [
              0.4444444444444444,
              "#bd3786"
             ],
             [
              0.5555555555555556,
              "#d8576b"
             ],
             [
              0.6666666666666666,
              "#ed7953"
             ],
             [
              0.7777777777777778,
              "#fb9f3a"
             ],
             [
              0.8888888888888888,
              "#fdca26"
             ],
             [
              1,
              "#f0f921"
             ]
            ],
            "type": "heatmapgl"
           }
          ],
          "histogram": [
           {
            "marker": {
             "colorbar": {
              "outlinewidth": 0,
              "ticks": ""
             }
            },
            "type": "histogram"
           }
          ],
          "histogram2d": [
           {
            "colorbar": {
             "outlinewidth": 0,
             "ticks": ""
            },
            "colorscale": [
             [
              0,
              "#0d0887"
             ],
             [
              0.1111111111111111,
              "#46039f"
             ],
             [
              0.2222222222222222,
              "#7201a8"
             ],
             [
              0.3333333333333333,
              "#9c179e"
             ],
             [
              0.4444444444444444,
              "#bd3786"
             ],
             [
              0.5555555555555556,
              "#d8576b"
             ],
             [
              0.6666666666666666,
              "#ed7953"
             ],
             [
              0.7777777777777778,
              "#fb9f3a"
             ],
             [
              0.8888888888888888,
              "#fdca26"
             ],
             [
              1,
              "#f0f921"
             ]
            ],
            "type": "histogram2d"
           }
          ],
          "histogram2dcontour": [
           {
            "colorbar": {
             "outlinewidth": 0,
             "ticks": ""
            },
            "colorscale": [
             [
              0,
              "#0d0887"
             ],
             [
              0.1111111111111111,
              "#46039f"
             ],
             [
              0.2222222222222222,
              "#7201a8"
             ],
             [
              0.3333333333333333,
              "#9c179e"
             ],
             [
              0.4444444444444444,
              "#bd3786"
             ],
             [
              0.5555555555555556,
              "#d8576b"
             ],
             [
              0.6666666666666666,
              "#ed7953"
             ],
             [
              0.7777777777777778,
              "#fb9f3a"
             ],
             [
              0.8888888888888888,
              "#fdca26"
             ],
             [
              1,
              "#f0f921"
             ]
            ],
            "type": "histogram2dcontour"
           }
          ],
          "mesh3d": [
           {
            "colorbar": {
             "outlinewidth": 0,
             "ticks": ""
            },
            "type": "mesh3d"
           }
          ],
          "parcoords": [
           {
            "line": {
             "colorbar": {
              "outlinewidth": 0,
              "ticks": ""
             }
            },
            "type": "parcoords"
           }
          ],
          "pie": [
           {
            "automargin": true,
            "type": "pie"
           }
          ],
          "scatter": [
           {
            "marker": {
             "colorbar": {
              "outlinewidth": 0,
              "ticks": ""
             }
            },
            "type": "scatter"
           }
          ],
          "scatter3d": [
           {
            "line": {
             "colorbar": {
              "outlinewidth": 0,
              "ticks": ""
             }
            },
            "marker": {
             "colorbar": {
              "outlinewidth": 0,
              "ticks": ""
             }
            },
            "type": "scatter3d"
           }
          ],
          "scattercarpet": [
           {
            "marker": {
             "colorbar": {
              "outlinewidth": 0,
              "ticks": ""
             }
            },
            "type": "scattercarpet"
           }
          ],
          "scattergeo": [
           {
            "marker": {
             "colorbar": {
              "outlinewidth": 0,
              "ticks": ""
             }
            },
            "type": "scattergeo"
           }
          ],
          "scattergl": [
           {
            "marker": {
             "colorbar": {
              "outlinewidth": 0,
              "ticks": ""
             }
            },
            "type": "scattergl"
           }
          ],
          "scattermapbox": [
           {
            "marker": {
             "colorbar": {
              "outlinewidth": 0,
              "ticks": ""
             }
            },
            "type": "scattermapbox"
           }
          ],
          "scatterpolar": [
           {
            "marker": {
             "colorbar": {
              "outlinewidth": 0,
              "ticks": ""
             }
            },
            "type": "scatterpolar"
           }
          ],
          "scatterpolargl": [
           {
            "marker": {
             "colorbar": {
              "outlinewidth": 0,
              "ticks": ""
             }
            },
            "type": "scatterpolargl"
           }
          ],
          "scatterternary": [
           {
            "marker": {
             "colorbar": {
              "outlinewidth": 0,
              "ticks": ""
             }
            },
            "type": "scatterternary"
           }
          ],
          "surface": [
           {
            "colorbar": {
             "outlinewidth": 0,
             "ticks": ""
            },
            "colorscale": [
             [
              0,
              "#0d0887"
             ],
             [
              0.1111111111111111,
              "#46039f"
             ],
             [
              0.2222222222222222,
              "#7201a8"
             ],
             [
              0.3333333333333333,
              "#9c179e"
             ],
             [
              0.4444444444444444,
              "#bd3786"
             ],
             [
              0.5555555555555556,
              "#d8576b"
             ],
             [
              0.6666666666666666,
              "#ed7953"
             ],
             [
              0.7777777777777778,
              "#fb9f3a"
             ],
             [
              0.8888888888888888,
              "#fdca26"
             ],
             [
              1,
              "#f0f921"
             ]
            ],
            "type": "surface"
           }
          ],
          "table": [
           {
            "cells": {
             "fill": {
              "color": "#EBF0F8"
             },
             "line": {
              "color": "white"
             }
            },
            "header": {
             "fill": {
              "color": "#C8D4E3"
             },
             "line": {
              "color": "white"
             }
            },
            "type": "table"
           }
          ]
         },
         "layout": {
          "annotationdefaults": {
           "arrowcolor": "#2a3f5f",
           "arrowhead": 0,
           "arrowwidth": 1
          },
          "coloraxis": {
           "colorbar": {
            "outlinewidth": 0,
            "ticks": ""
           }
          },
          "colorscale": {
           "diverging": [
            [
             0,
             "#8e0152"
            ],
            [
             0.1,
             "#c51b7d"
            ],
            [
             0.2,
             "#de77ae"
            ],
            [
             0.3,
             "#f1b6da"
            ],
            [
             0.4,
             "#fde0ef"
            ],
            [
             0.5,
             "#f7f7f7"
            ],
            [
             0.6,
             "#e6f5d0"
            ],
            [
             0.7,
             "#b8e186"
            ],
            [
             0.8,
             "#7fbc41"
            ],
            [
             0.9,
             "#4d9221"
            ],
            [
             1,
             "#276419"
            ]
           ],
           "sequential": [
            [
             0,
             "#0d0887"
            ],
            [
             0.1111111111111111,
             "#46039f"
            ],
            [
             0.2222222222222222,
             "#7201a8"
            ],
            [
             0.3333333333333333,
             "#9c179e"
            ],
            [
             0.4444444444444444,
             "#bd3786"
            ],
            [
             0.5555555555555556,
             "#d8576b"
            ],
            [
             0.6666666666666666,
             "#ed7953"
            ],
            [
             0.7777777777777778,
             "#fb9f3a"
            ],
            [
             0.8888888888888888,
             "#fdca26"
            ],
            [
             1,
             "#f0f921"
            ]
           ],
           "sequentialminus": [
            [
             0,
             "#0d0887"
            ],
            [
             0.1111111111111111,
             "#46039f"
            ],
            [
             0.2222222222222222,
             "#7201a8"
            ],
            [
             0.3333333333333333,
             "#9c179e"
            ],
            [
             0.4444444444444444,
             "#bd3786"
            ],
            [
             0.5555555555555556,
             "#d8576b"
            ],
            [
             0.6666666666666666,
             "#ed7953"
            ],
            [
             0.7777777777777778,
             "#fb9f3a"
            ],
            [
             0.8888888888888888,
             "#fdca26"
            ],
            [
             1,
             "#f0f921"
            ]
           ]
          },
          "colorway": [
           "#636efa",
           "#EF553B",
           "#00cc96",
           "#ab63fa",
           "#FFA15A",
           "#19d3f3",
           "#FF6692",
           "#B6E880",
           "#FF97FF",
           "#FECB52"
          ],
          "font": {
           "color": "#2a3f5f"
          },
          "geo": {
           "bgcolor": "white",
           "lakecolor": "white",
           "landcolor": "#E5ECF6",
           "showlakes": true,
           "showland": true,
           "subunitcolor": "white"
          },
          "hoverlabel": {
           "align": "left"
          },
          "hovermode": "closest",
          "mapbox": {
           "style": "light"
          },
          "paper_bgcolor": "white",
          "plot_bgcolor": "#E5ECF6",
          "polar": {
           "angularaxis": {
            "gridcolor": "white",
            "linecolor": "white",
            "ticks": ""
           },
           "bgcolor": "#E5ECF6",
           "radialaxis": {
            "gridcolor": "white",
            "linecolor": "white",
            "ticks": ""
           }
          },
          "scene": {
           "xaxis": {
            "backgroundcolor": "#E5ECF6",
            "gridcolor": "white",
            "gridwidth": 2,
            "linecolor": "white",
            "showbackground": true,
            "ticks": "",
            "zerolinecolor": "white"
           },
           "yaxis": {
            "backgroundcolor": "#E5ECF6",
            "gridcolor": "white",
            "gridwidth": 2,
            "linecolor": "white",
            "showbackground": true,
            "ticks": "",
            "zerolinecolor": "white"
           },
           "zaxis": {
            "backgroundcolor": "#E5ECF6",
            "gridcolor": "white",
            "gridwidth": 2,
            "linecolor": "white",
            "showbackground": true,
            "ticks": "",
            "zerolinecolor": "white"
           }
          },
          "shapedefaults": {
           "line": {
            "color": "#2a3f5f"
           }
          },
          "ternary": {
           "aaxis": {
            "gridcolor": "white",
            "linecolor": "white",
            "ticks": ""
           },
           "baxis": {
            "gridcolor": "white",
            "linecolor": "white",
            "ticks": ""
           },
           "bgcolor": "#E5ECF6",
           "caxis": {
            "gridcolor": "white",
            "linecolor": "white",
            "ticks": ""
           }
          },
          "title": {
           "x": 0.05
          },
          "xaxis": {
           "automargin": true,
           "gridcolor": "white",
           "linecolor": "white",
           "ticks": "",
           "title": {
            "standoff": 15
           },
           "zerolinecolor": "white",
           "zerolinewidth": 2
          },
          "yaxis": {
           "automargin": true,
           "gridcolor": "white",
           "linecolor": "white",
           "ticks": "",
           "title": {
            "standoff": 15
           },
           "zerolinecolor": "white",
           "zerolinewidth": 2
          }
         }
        },
        "title": {
         "font": {
          "color": "#4D5663"
         }
        },
        "xaxis": {
         "gridcolor": "#E1E5ED",
         "showgrid": true,
         "tickfont": {
          "color": "#4D5663"
         },
         "title": {
          "font": {
           "color": "#4D5663"
          },
          "text": ""
         },
         "zerolinecolor": "#E1E5ED"
        },
        "yaxis": {
         "gridcolor": "#E1E5ED",
         "showgrid": true,
         "tickfont": {
          "color": "#4D5663"
         },
         "title": {
          "font": {
           "color": "#4D5663"
          },
          "text": ""
         },
         "zerolinecolor": "#E1E5ED"
        }
       }
      },
      "text/html": [
       "<div>\n",
       "        \n",
       "        \n",
       "            <div id=\"b7778b1f-40bb-4d07-ae28-d14ec737bd8a\" class=\"plotly-graph-div\" style=\"height:525px; width:100%;\"></div>\n",
       "            <script type=\"text/javascript\">\n",
       "                require([\"plotly\"], function(Plotly) {\n",
       "                    window.PLOTLYENV=window.PLOTLYENV || {};\n",
       "                    window.PLOTLYENV.BASE_URL='https://plot.ly';\n",
       "                    \n",
       "                if (document.getElementById(\"b7778b1f-40bb-4d07-ae28-d14ec737bd8a\")) {\n",
       "                    Plotly.newPlot(\n",
       "                        'b7778b1f-40bb-4d07-ae28-d14ec737bd8a',\n",
       "                        [{\"marker\": {\"color\": \"rgba(255, 153, 51, 0.6)\", \"line\": {\"color\": \"rgba(255, 153, 51, 1.0)\", \"width\": 1}}, \"name\": \"values\", \"orientation\": \"v\", \"text\": \"\", \"type\": \"bar\", \"x\": [\"A\", \"B\", \"C\"], \"y\": [22, 3, 4]}],\n",
       "                        {\"legend\": {\"bgcolor\": \"#F5F6F9\", \"font\": {\"color\": \"#4D5663\"}}, \"paper_bgcolor\": \"#F5F6F9\", \"plot_bgcolor\": \"#F5F6F9\", \"template\": {\"data\": {\"bar\": [{\"error_x\": {\"color\": \"#2a3f5f\"}, \"error_y\": {\"color\": \"#2a3f5f\"}, \"marker\": {\"line\": {\"color\": \"#E5ECF6\", \"width\": 0.5}}, \"type\": \"bar\"}], \"barpolar\": [{\"marker\": {\"line\": {\"color\": \"#E5ECF6\", \"width\": 0.5}}, \"type\": \"barpolar\"}], \"carpet\": [{\"aaxis\": {\"endlinecolor\": \"#2a3f5f\", \"gridcolor\": \"white\", \"linecolor\": \"white\", \"minorgridcolor\": \"white\", \"startlinecolor\": \"#2a3f5f\"}, \"baxis\": {\"endlinecolor\": \"#2a3f5f\", \"gridcolor\": \"white\", \"linecolor\": \"white\", \"minorgridcolor\": \"white\", \"startlinecolor\": \"#2a3f5f\"}, \"type\": \"carpet\"}], \"choropleth\": [{\"colorbar\": {\"outlinewidth\": 0, \"ticks\": \"\"}, \"type\": \"choropleth\"}], \"contour\": [{\"colorbar\": {\"outlinewidth\": 0, \"ticks\": \"\"}, \"colorscale\": [[0.0, \"#0d0887\"], [0.1111111111111111, \"#46039f\"], [0.2222222222222222, \"#7201a8\"], [0.3333333333333333, \"#9c179e\"], [0.4444444444444444, \"#bd3786\"], [0.5555555555555556, \"#d8576b\"], [0.6666666666666666, \"#ed7953\"], [0.7777777777777778, \"#fb9f3a\"], [0.8888888888888888, \"#fdca26\"], [1.0, \"#f0f921\"]], \"type\": \"contour\"}], \"contourcarpet\": [{\"colorbar\": {\"outlinewidth\": 0, \"ticks\": \"\"}, \"type\": \"contourcarpet\"}], \"heatmap\": [{\"colorbar\": {\"outlinewidth\": 0, \"ticks\": \"\"}, \"colorscale\": [[0.0, \"#0d0887\"], [0.1111111111111111, \"#46039f\"], [0.2222222222222222, \"#7201a8\"], [0.3333333333333333, \"#9c179e\"], [0.4444444444444444, \"#bd3786\"], [0.5555555555555556, \"#d8576b\"], [0.6666666666666666, \"#ed7953\"], [0.7777777777777778, \"#fb9f3a\"], [0.8888888888888888, \"#fdca26\"], [1.0, \"#f0f921\"]], \"type\": \"heatmap\"}], \"heatmapgl\": [{\"colorbar\": {\"outlinewidth\": 0, \"ticks\": \"\"}, \"colorscale\": [[0.0, \"#0d0887\"], [0.1111111111111111, \"#46039f\"], [0.2222222222222222, \"#7201a8\"], [0.3333333333333333, \"#9c179e\"], [0.4444444444444444, \"#bd3786\"], [0.5555555555555556, \"#d8576b\"], [0.6666666666666666, \"#ed7953\"], [0.7777777777777778, \"#fb9f3a\"], [0.8888888888888888, \"#fdca26\"], [1.0, \"#f0f921\"]], \"type\": \"heatmapgl\"}], \"histogram\": [{\"marker\": {\"colorbar\": {\"outlinewidth\": 0, \"ticks\": \"\"}}, \"type\": \"histogram\"}], \"histogram2d\": [{\"colorbar\": {\"outlinewidth\": 0, \"ticks\": \"\"}, \"colorscale\": [[0.0, \"#0d0887\"], [0.1111111111111111, \"#46039f\"], [0.2222222222222222, \"#7201a8\"], [0.3333333333333333, \"#9c179e\"], [0.4444444444444444, \"#bd3786\"], [0.5555555555555556, \"#d8576b\"], [0.6666666666666666, \"#ed7953\"], [0.7777777777777778, \"#fb9f3a\"], [0.8888888888888888, \"#fdca26\"], [1.0, \"#f0f921\"]], \"type\": \"histogram2d\"}], \"histogram2dcontour\": [{\"colorbar\": {\"outlinewidth\": 0, \"ticks\": \"\"}, \"colorscale\": [[0.0, \"#0d0887\"], [0.1111111111111111, \"#46039f\"], [0.2222222222222222, \"#7201a8\"], [0.3333333333333333, \"#9c179e\"], [0.4444444444444444, \"#bd3786\"], [0.5555555555555556, \"#d8576b\"], [0.6666666666666666, \"#ed7953\"], [0.7777777777777778, \"#fb9f3a\"], [0.8888888888888888, \"#fdca26\"], [1.0, \"#f0f921\"]], \"type\": \"histogram2dcontour\"}], \"mesh3d\": [{\"colorbar\": {\"outlinewidth\": 0, \"ticks\": \"\"}, \"type\": \"mesh3d\"}], \"parcoords\": [{\"line\": {\"colorbar\": {\"outlinewidth\": 0, \"ticks\": \"\"}}, \"type\": \"parcoords\"}], \"pie\": [{\"automargin\": true, \"type\": \"pie\"}], \"scatter\": [{\"marker\": {\"colorbar\": {\"outlinewidth\": 0, \"ticks\": \"\"}}, \"type\": \"scatter\"}], \"scatter3d\": [{\"line\": {\"colorbar\": {\"outlinewidth\": 0, \"ticks\": \"\"}}, \"marker\": {\"colorbar\": {\"outlinewidth\": 0, \"ticks\": \"\"}}, \"type\": \"scatter3d\"}], \"scattercarpet\": [{\"marker\": {\"colorbar\": {\"outlinewidth\": 0, \"ticks\": \"\"}}, \"type\": \"scattercarpet\"}], \"scattergeo\": [{\"marker\": {\"colorbar\": {\"outlinewidth\": 0, \"ticks\": \"\"}}, \"type\": \"scattergeo\"}], \"scattergl\": [{\"marker\": {\"colorbar\": {\"outlinewidth\": 0, \"ticks\": \"\"}}, \"type\": \"scattergl\"}], \"scattermapbox\": [{\"marker\": {\"colorbar\": {\"outlinewidth\": 0, \"ticks\": \"\"}}, \"type\": \"scattermapbox\"}], \"scatterpolar\": [{\"marker\": {\"colorbar\": {\"outlinewidth\": 0, \"ticks\": \"\"}}, \"type\": \"scatterpolar\"}], \"scatterpolargl\": [{\"marker\": {\"colorbar\": {\"outlinewidth\": 0, \"ticks\": \"\"}}, \"type\": \"scatterpolargl\"}], \"scatterternary\": [{\"marker\": {\"colorbar\": {\"outlinewidth\": 0, \"ticks\": \"\"}}, \"type\": \"scatterternary\"}], \"surface\": [{\"colorbar\": {\"outlinewidth\": 0, \"ticks\": \"\"}, \"colorscale\": [[0.0, \"#0d0887\"], [0.1111111111111111, \"#46039f\"], [0.2222222222222222, \"#7201a8\"], [0.3333333333333333, \"#9c179e\"], [0.4444444444444444, \"#bd3786\"], [0.5555555555555556, \"#d8576b\"], [0.6666666666666666, \"#ed7953\"], [0.7777777777777778, \"#fb9f3a\"], [0.8888888888888888, \"#fdca26\"], [1.0, \"#f0f921\"]], \"type\": \"surface\"}], \"table\": [{\"cells\": {\"fill\": {\"color\": \"#EBF0F8\"}, \"line\": {\"color\": \"white\"}}, \"header\": {\"fill\": {\"color\": \"#C8D4E3\"}, \"line\": {\"color\": \"white\"}}, \"type\": \"table\"}]}, \"layout\": {\"annotationdefaults\": {\"arrowcolor\": \"#2a3f5f\", \"arrowhead\": 0, \"arrowwidth\": 1}, \"coloraxis\": {\"colorbar\": {\"outlinewidth\": 0, \"ticks\": \"\"}}, \"colorscale\": {\"diverging\": [[0, \"#8e0152\"], [0.1, \"#c51b7d\"], [0.2, \"#de77ae\"], [0.3, \"#f1b6da\"], [0.4, \"#fde0ef\"], [0.5, \"#f7f7f7\"], [0.6, \"#e6f5d0\"], [0.7, \"#b8e186\"], [0.8, \"#7fbc41\"], [0.9, \"#4d9221\"], [1, \"#276419\"]], \"sequential\": [[0.0, \"#0d0887\"], [0.1111111111111111, \"#46039f\"], [0.2222222222222222, \"#7201a8\"], [0.3333333333333333, \"#9c179e\"], [0.4444444444444444, \"#bd3786\"], [0.5555555555555556, \"#d8576b\"], [0.6666666666666666, \"#ed7953\"], [0.7777777777777778, \"#fb9f3a\"], [0.8888888888888888, \"#fdca26\"], [1.0, \"#f0f921\"]], \"sequentialminus\": [[0.0, \"#0d0887\"], [0.1111111111111111, \"#46039f\"], [0.2222222222222222, \"#7201a8\"], [0.3333333333333333, \"#9c179e\"], [0.4444444444444444, \"#bd3786\"], [0.5555555555555556, \"#d8576b\"], [0.6666666666666666, \"#ed7953\"], [0.7777777777777778, \"#fb9f3a\"], [0.8888888888888888, \"#fdca26\"], [1.0, \"#f0f921\"]]}, \"colorway\": [\"#636efa\", \"#EF553B\", \"#00cc96\", \"#ab63fa\", \"#FFA15A\", \"#19d3f3\", \"#FF6692\", \"#B6E880\", \"#FF97FF\", \"#FECB52\"], \"font\": {\"color\": \"#2a3f5f\"}, \"geo\": {\"bgcolor\": \"white\", \"lakecolor\": \"white\", \"landcolor\": \"#E5ECF6\", \"showlakes\": true, \"showland\": true, \"subunitcolor\": \"white\"}, \"hoverlabel\": {\"align\": \"left\"}, \"hovermode\": \"closest\", \"mapbox\": {\"style\": \"light\"}, \"paper_bgcolor\": \"white\", \"plot_bgcolor\": \"#E5ECF6\", \"polar\": {\"angularaxis\": {\"gridcolor\": \"white\", \"linecolor\": \"white\", \"ticks\": \"\"}, \"bgcolor\": \"#E5ECF6\", \"radialaxis\": {\"gridcolor\": \"white\", \"linecolor\": \"white\", \"ticks\": \"\"}}, \"scene\": {\"xaxis\": {\"backgroundcolor\": \"#E5ECF6\", \"gridcolor\": \"white\", \"gridwidth\": 2, \"linecolor\": \"white\", \"showbackground\": true, \"ticks\": \"\", \"zerolinecolor\": \"white\"}, \"yaxis\": {\"backgroundcolor\": \"#E5ECF6\", \"gridcolor\": \"white\", \"gridwidth\": 2, \"linecolor\": \"white\", \"showbackground\": true, \"ticks\": \"\", \"zerolinecolor\": \"white\"}, \"zaxis\": {\"backgroundcolor\": \"#E5ECF6\", \"gridcolor\": \"white\", \"gridwidth\": 2, \"linecolor\": \"white\", \"showbackground\": true, \"ticks\": \"\", \"zerolinecolor\": \"white\"}}, \"shapedefaults\": {\"line\": {\"color\": \"#2a3f5f\"}}, \"ternary\": {\"aaxis\": {\"gridcolor\": \"white\", \"linecolor\": \"white\", \"ticks\": \"\"}, \"baxis\": {\"gridcolor\": \"white\", \"linecolor\": \"white\", \"ticks\": \"\"}, \"bgcolor\": \"#E5ECF6\", \"caxis\": {\"gridcolor\": \"white\", \"linecolor\": \"white\", \"ticks\": \"\"}}, \"title\": {\"x\": 0.05}, \"xaxis\": {\"automargin\": true, \"gridcolor\": \"white\", \"linecolor\": \"white\", \"ticks\": \"\", \"title\": {\"standoff\": 15}, \"zerolinecolor\": \"white\", \"zerolinewidth\": 2}, \"yaxis\": {\"automargin\": true, \"gridcolor\": \"white\", \"linecolor\": \"white\", \"ticks\": \"\", \"title\": {\"standoff\": 15}, \"zerolinecolor\": \"white\", \"zerolinewidth\": 2}}}, \"title\": {\"font\": {\"color\": \"#4D5663\"}}, \"xaxis\": {\"gridcolor\": \"#E1E5ED\", \"showgrid\": true, \"tickfont\": {\"color\": \"#4D5663\"}, \"title\": {\"font\": {\"color\": \"#4D5663\"}, \"text\": \"\"}, \"zerolinecolor\": \"#E1E5ED\"}, \"yaxis\": {\"gridcolor\": \"#E1E5ED\", \"showgrid\": true, \"tickfont\": {\"color\": \"#4D5663\"}, \"title\": {\"font\": {\"color\": \"#4D5663\"}, \"text\": \"\"}, \"zerolinecolor\": \"#E1E5ED\"}},\n",
       "                        {\"showLink\": true, \"linkText\": \"Export to plot.ly\", \"plotlyServerURL\": \"https://plot.ly\", \"responsive\": true}\n",
       "                    ).then(function(){\n",
       "                            \n",
       "var gd = document.getElementById('b7778b1f-40bb-4d07-ae28-d14ec737bd8a');\n",
       "var x = new MutationObserver(function (mutations, observer) {{\n",
       "        var display = window.getComputedStyle(gd).display;\n",
       "        if (!display || display === 'none') {{\n",
       "            console.log([gd, 'removed!']);\n",
       "            Plotly.purge(gd);\n",
       "            observer.disconnect();\n",
       "        }}\n",
       "}});\n",
       "\n",
       "// Listen for the removal of the full notebook cells\n",
       "var notebookContainer = gd.closest('#notebook-container');\n",
       "if (notebookContainer) {{\n",
       "    x.observe(notebookContainer, {childList: true});\n",
       "}}\n",
       "\n",
       "// Listen for the clearing of the current output cell\n",
       "var outputEl = gd.closest('.output');\n",
       "if (outputEl) {{\n",
       "    x.observe(outputEl, {childList: true});\n",
       "}}\n",
       "\n",
       "                        })\n",
       "                };\n",
       "                });\n",
       "            </script>\n",
       "        </div>"
      ]
     },
     "metadata": {},
     "output_type": "display_data"
    }
   ],
   "source": [
    "df2.iplot(x='category',y='values',kind='bar')"
   ]
  },
  {
   "cell_type": "code",
   "execution_count": 9,
   "metadata": {},
   "outputs": [
    {
     "data": {
      "application/vnd.plotly.v1+json": {
       "config": {
        "linkText": "Export to plot.ly",
        "plotlyServerURL": "https://plot.ly",
        "showLink": true
       },
       "data": [
        {
         "marker": {
          "color": "rgba(255, 153, 51, 0.6)",
          "line": {
           "color": "rgba(255, 153, 51, 1.0)",
           "width": 1
          }
         },
         "name": "values",
         "orientation": "v",
         "text": "",
         "type": "bar",
         "x": [
          "A",
          "B",
          "C"
         ],
         "y": [
          22,
          3,
          4
         ]
        }
       ],
       "layout": {
        "legend": {
         "bgcolor": "#F5F6F9",
         "font": {
          "color": "#4D5663"
         }
        },
        "paper_bgcolor": "#F5F6F9",
        "plot_bgcolor": "#F5F6F9",
        "template": {
         "data": {
          "bar": [
           {
            "error_x": {
             "color": "#2a3f5f"
            },
            "error_y": {
             "color": "#2a3f5f"
            },
            "marker": {
             "line": {
              "color": "#E5ECF6",
              "width": 0.5
             }
            },
            "type": "bar"
           }
          ],
          "barpolar": [
           {
            "marker": {
             "line": {
              "color": "#E5ECF6",
              "width": 0.5
             }
            },
            "type": "barpolar"
           }
          ],
          "carpet": [
           {
            "aaxis": {
             "endlinecolor": "#2a3f5f",
             "gridcolor": "white",
             "linecolor": "white",
             "minorgridcolor": "white",
             "startlinecolor": "#2a3f5f"
            },
            "baxis": {
             "endlinecolor": "#2a3f5f",
             "gridcolor": "white",
             "linecolor": "white",
             "minorgridcolor": "white",
             "startlinecolor": "#2a3f5f"
            },
            "type": "carpet"
           }
          ],
          "choropleth": [
           {
            "colorbar": {
             "outlinewidth": 0,
             "ticks": ""
            },
            "type": "choropleth"
           }
          ],
          "contour": [
           {
            "colorbar": {
             "outlinewidth": 0,
             "ticks": ""
            },
            "colorscale": [
             [
              0,
              "#0d0887"
             ],
             [
              0.1111111111111111,
              "#46039f"
             ],
             [
              0.2222222222222222,
              "#7201a8"
             ],
             [
              0.3333333333333333,
              "#9c179e"
             ],
             [
              0.4444444444444444,
              "#bd3786"
             ],
             [
              0.5555555555555556,
              "#d8576b"
             ],
             [
              0.6666666666666666,
              "#ed7953"
             ],
             [
              0.7777777777777778,
              "#fb9f3a"
             ],
             [
              0.8888888888888888,
              "#fdca26"
             ],
             [
              1,
              "#f0f921"
             ]
            ],
            "type": "contour"
           }
          ],
          "contourcarpet": [
           {
            "colorbar": {
             "outlinewidth": 0,
             "ticks": ""
            },
            "type": "contourcarpet"
           }
          ],
          "heatmap": [
           {
            "colorbar": {
             "outlinewidth": 0,
             "ticks": ""
            },
            "colorscale": [
             [
              0,
              "#0d0887"
             ],
             [
              0.1111111111111111,
              "#46039f"
             ],
             [
              0.2222222222222222,
              "#7201a8"
             ],
             [
              0.3333333333333333,
              "#9c179e"
             ],
             [
              0.4444444444444444,
              "#bd3786"
             ],
             [
              0.5555555555555556,
              "#d8576b"
             ],
             [
              0.6666666666666666,
              "#ed7953"
             ],
             [
              0.7777777777777778,
              "#fb9f3a"
             ],
             [
              0.8888888888888888,
              "#fdca26"
             ],
             [
              1,
              "#f0f921"
             ]
            ],
            "type": "heatmap"
           }
          ],
          "heatmapgl": [
           {
            "colorbar": {
             "outlinewidth": 0,
             "ticks": ""
            },
            "colorscale": [
             [
              0,
              "#0d0887"
             ],
             [
              0.1111111111111111,
              "#46039f"
             ],
             [
              0.2222222222222222,
              "#7201a8"
             ],
             [
              0.3333333333333333,
              "#9c179e"
             ],
             [
              0.4444444444444444,
              "#bd3786"
             ],
             [
              0.5555555555555556,
              "#d8576b"
             ],
             [
              0.6666666666666666,
              "#ed7953"
             ],
             [
              0.7777777777777778,
              "#fb9f3a"
             ],
             [
              0.8888888888888888,
              "#fdca26"
             ],
             [
              1,
              "#f0f921"
             ]
            ],
            "type": "heatmapgl"
           }
          ],
          "histogram": [
           {
            "marker": {
             "colorbar": {
              "outlinewidth": 0,
              "ticks": ""
             }
            },
            "type": "histogram"
           }
          ],
          "histogram2d": [
           {
            "colorbar": {
             "outlinewidth": 0,
             "ticks": ""
            },
            "colorscale": [
             [
              0,
              "#0d0887"
             ],
             [
              0.1111111111111111,
              "#46039f"
             ],
             [
              0.2222222222222222,
              "#7201a8"
             ],
             [
              0.3333333333333333,
              "#9c179e"
             ],
             [
              0.4444444444444444,
              "#bd3786"
             ],
             [
              0.5555555555555556,
              "#d8576b"
             ],
             [
              0.6666666666666666,
              "#ed7953"
             ],
             [
              0.7777777777777778,
              "#fb9f3a"
             ],
             [
              0.8888888888888888,
              "#fdca26"
             ],
             [
              1,
              "#f0f921"
             ]
            ],
            "type": "histogram2d"
           }
          ],
          "histogram2dcontour": [
           {
            "colorbar": {
             "outlinewidth": 0,
             "ticks": ""
            },
            "colorscale": [
             [
              0,
              "#0d0887"
             ],
             [
              0.1111111111111111,
              "#46039f"
             ],
             [
              0.2222222222222222,
              "#7201a8"
             ],
             [
              0.3333333333333333,
              "#9c179e"
             ],
             [
              0.4444444444444444,
              "#bd3786"
             ],
             [
              0.5555555555555556,
              "#d8576b"
             ],
             [
              0.6666666666666666,
              "#ed7953"
             ],
             [
              0.7777777777777778,
              "#fb9f3a"
             ],
             [
              0.8888888888888888,
              "#fdca26"
             ],
             [
              1,
              "#f0f921"
             ]
            ],
            "type": "histogram2dcontour"
           }
          ],
          "mesh3d": [
           {
            "colorbar": {
             "outlinewidth": 0,
             "ticks": ""
            },
            "type": "mesh3d"
           }
          ],
          "parcoords": [
           {
            "line": {
             "colorbar": {
              "outlinewidth": 0,
              "ticks": ""
             }
            },
            "type": "parcoords"
           }
          ],
          "pie": [
           {
            "automargin": true,
            "type": "pie"
           }
          ],
          "scatter": [
           {
            "marker": {
             "colorbar": {
              "outlinewidth": 0,
              "ticks": ""
             }
            },
            "type": "scatter"
           }
          ],
          "scatter3d": [
           {
            "line": {
             "colorbar": {
              "outlinewidth": 0,
              "ticks": ""
             }
            },
            "marker": {
             "colorbar": {
              "outlinewidth": 0,
              "ticks": ""
             }
            },
            "type": "scatter3d"
           }
          ],
          "scattercarpet": [
           {
            "marker": {
             "colorbar": {
              "outlinewidth": 0,
              "ticks": ""
             }
            },
            "type": "scattercarpet"
           }
          ],
          "scattergeo": [
           {
            "marker": {
             "colorbar": {
              "outlinewidth": 0,
              "ticks": ""
             }
            },
            "type": "scattergeo"
           }
          ],
          "scattergl": [
           {
            "marker": {
             "colorbar": {
              "outlinewidth": 0,
              "ticks": ""
             }
            },
            "type": "scattergl"
           }
          ],
          "scattermapbox": [
           {
            "marker": {
             "colorbar": {
              "outlinewidth": 0,
              "ticks": ""
             }
            },
            "type": "scattermapbox"
           }
          ],
          "scatterpolar": [
           {
            "marker": {
             "colorbar": {
              "outlinewidth": 0,
              "ticks": ""
             }
            },
            "type": "scatterpolar"
           }
          ],
          "scatterpolargl": [
           {
            "marker": {
             "colorbar": {
              "outlinewidth": 0,
              "ticks": ""
             }
            },
            "type": "scatterpolargl"
           }
          ],
          "scatterternary": [
           {
            "marker": {
             "colorbar": {
              "outlinewidth": 0,
              "ticks": ""
             }
            },
            "type": "scatterternary"
           }
          ],
          "surface": [
           {
            "colorbar": {
             "outlinewidth": 0,
             "ticks": ""
            },
            "colorscale": [
             [
              0,
              "#0d0887"
             ],
             [
              0.1111111111111111,
              "#46039f"
             ],
             [
              0.2222222222222222,
              "#7201a8"
             ],
             [
              0.3333333333333333,
              "#9c179e"
             ],
             [
              0.4444444444444444,
              "#bd3786"
             ],
             [
              0.5555555555555556,
              "#d8576b"
             ],
             [
              0.6666666666666666,
              "#ed7953"
             ],
             [
              0.7777777777777778,
              "#fb9f3a"
             ],
             [
              0.8888888888888888,
              "#fdca26"
             ],
             [
              1,
              "#f0f921"
             ]
            ],
            "type": "surface"
           }
          ],
          "table": [
           {
            "cells": {
             "fill": {
              "color": "#EBF0F8"
             },
             "line": {
              "color": "white"
             }
            },
            "header": {
             "fill": {
              "color": "#C8D4E3"
             },
             "line": {
              "color": "white"
             }
            },
            "type": "table"
           }
          ]
         },
         "layout": {
          "annotationdefaults": {
           "arrowcolor": "#2a3f5f",
           "arrowhead": 0,
           "arrowwidth": 1
          },
          "coloraxis": {
           "colorbar": {
            "outlinewidth": 0,
            "ticks": ""
           }
          },
          "colorscale": {
           "diverging": [
            [
             0,
             "#8e0152"
            ],
            [
             0.1,
             "#c51b7d"
            ],
            [
             0.2,
             "#de77ae"
            ],
            [
             0.3,
             "#f1b6da"
            ],
            [
             0.4,
             "#fde0ef"
            ],
            [
             0.5,
             "#f7f7f7"
            ],
            [
             0.6,
             "#e6f5d0"
            ],
            [
             0.7,
             "#b8e186"
            ],
            [
             0.8,
             "#7fbc41"
            ],
            [
             0.9,
             "#4d9221"
            ],
            [
             1,
             "#276419"
            ]
           ],
           "sequential": [
            [
             0,
             "#0d0887"
            ],
            [
             0.1111111111111111,
             "#46039f"
            ],
            [
             0.2222222222222222,
             "#7201a8"
            ],
            [
             0.3333333333333333,
             "#9c179e"
            ],
            [
             0.4444444444444444,
             "#bd3786"
            ],
            [
             0.5555555555555556,
             "#d8576b"
            ],
            [
             0.6666666666666666,
             "#ed7953"
            ],
            [
             0.7777777777777778,
             "#fb9f3a"
            ],
            [
             0.8888888888888888,
             "#fdca26"
            ],
            [
             1,
             "#f0f921"
            ]
           ],
           "sequentialminus": [
            [
             0,
             "#0d0887"
            ],
            [
             0.1111111111111111,
             "#46039f"
            ],
            [
             0.2222222222222222,
             "#7201a8"
            ],
            [
             0.3333333333333333,
             "#9c179e"
            ],
            [
             0.4444444444444444,
             "#bd3786"
            ],
            [
             0.5555555555555556,
             "#d8576b"
            ],
            [
             0.6666666666666666,
             "#ed7953"
            ],
            [
             0.7777777777777778,
             "#fb9f3a"
            ],
            [
             0.8888888888888888,
             "#fdca26"
            ],
            [
             1,
             "#f0f921"
            ]
           ]
          },
          "colorway": [
           "#636efa",
           "#EF553B",
           "#00cc96",
           "#ab63fa",
           "#FFA15A",
           "#19d3f3",
           "#FF6692",
           "#B6E880",
           "#FF97FF",
           "#FECB52"
          ],
          "font": {
           "color": "#2a3f5f"
          },
          "geo": {
           "bgcolor": "white",
           "lakecolor": "white",
           "landcolor": "#E5ECF6",
           "showlakes": true,
           "showland": true,
           "subunitcolor": "white"
          },
          "hoverlabel": {
           "align": "left"
          },
          "hovermode": "closest",
          "mapbox": {
           "style": "light"
          },
          "paper_bgcolor": "white",
          "plot_bgcolor": "#E5ECF6",
          "polar": {
           "angularaxis": {
            "gridcolor": "white",
            "linecolor": "white",
            "ticks": ""
           },
           "bgcolor": "#E5ECF6",
           "radialaxis": {
            "gridcolor": "white",
            "linecolor": "white",
            "ticks": ""
           }
          },
          "scene": {
           "xaxis": {
            "backgroundcolor": "#E5ECF6",
            "gridcolor": "white",
            "gridwidth": 2,
            "linecolor": "white",
            "showbackground": true,
            "ticks": "",
            "zerolinecolor": "white"
           },
           "yaxis": {
            "backgroundcolor": "#E5ECF6",
            "gridcolor": "white",
            "gridwidth": 2,
            "linecolor": "white",
            "showbackground": true,
            "ticks": "",
            "zerolinecolor": "white"
           },
           "zaxis": {
            "backgroundcolor": "#E5ECF6",
            "gridcolor": "white",
            "gridwidth": 2,
            "linecolor": "white",
            "showbackground": true,
            "ticks": "",
            "zerolinecolor": "white"
           }
          },
          "shapedefaults": {
           "line": {
            "color": "#2a3f5f"
           }
          },
          "ternary": {
           "aaxis": {
            "gridcolor": "white",
            "linecolor": "white",
            "ticks": ""
           },
           "baxis": {
            "gridcolor": "white",
            "linecolor": "white",
            "ticks": ""
           },
           "bgcolor": "#E5ECF6",
           "caxis": {
            "gridcolor": "white",
            "linecolor": "white",
            "ticks": ""
           }
          },
          "title": {
           "x": 0.05
          },
          "xaxis": {
           "automargin": true,
           "gridcolor": "white",
           "linecolor": "white",
           "ticks": "",
           "title": {
            "standoff": 15
           },
           "zerolinecolor": "white",
           "zerolinewidth": 2
          },
          "yaxis": {
           "automargin": true,
           "gridcolor": "white",
           "linecolor": "white",
           "ticks": "",
           "title": {
            "standoff": 15
           },
           "zerolinecolor": "white",
           "zerolinewidth": 2
          }
         }
        },
        "title": {
         "font": {
          "color": "#4D5663"
         }
        },
        "xaxis": {
         "gridcolor": "#E1E5ED",
         "showgrid": true,
         "tickfont": {
          "color": "#4D5663"
         },
         "title": {
          "font": {
           "color": "#4D5663"
          },
          "text": ""
         },
         "zerolinecolor": "#E1E5ED"
        },
        "yaxis": {
         "gridcolor": "#E1E5ED",
         "showgrid": true,
         "tickfont": {
          "color": "#4D5663"
         },
         "title": {
          "font": {
           "color": "#4D5663"
          },
          "text": ""
         },
         "zerolinecolor": "#E1E5ED"
        }
       }
      },
      "text/html": [
       "<div>\n",
       "        \n",
       "        \n",
       "            <div id=\"337cb87d-5eba-43c2-b74e-535d463697c1\" class=\"plotly-graph-div\" style=\"height:525px; width:100%;\"></div>\n",
       "            <script type=\"text/javascript\">\n",
       "                require([\"plotly\"], function(Plotly) {\n",
       "                    window.PLOTLYENV=window.PLOTLYENV || {};\n",
       "                    window.PLOTLYENV.BASE_URL='https://plot.ly';\n",
       "                    \n",
       "                if (document.getElementById(\"337cb87d-5eba-43c2-b74e-535d463697c1\")) {\n",
       "                    Plotly.newPlot(\n",
       "                        '337cb87d-5eba-43c2-b74e-535d463697c1',\n",
       "                        [{\"marker\": {\"color\": \"rgba(255, 153, 51, 0.6)\", \"line\": {\"color\": \"rgba(255, 153, 51, 1.0)\", \"width\": 1}}, \"name\": \"values\", \"orientation\": \"v\", \"text\": \"\", \"type\": \"bar\", \"x\": [\"A\", \"B\", \"C\"], \"y\": [22, 3, 4]}],\n",
       "                        {\"legend\": {\"bgcolor\": \"#F5F6F9\", \"font\": {\"color\": \"#4D5663\"}}, \"paper_bgcolor\": \"#F5F6F9\", \"plot_bgcolor\": \"#F5F6F9\", \"template\": {\"data\": {\"bar\": [{\"error_x\": {\"color\": \"#2a3f5f\"}, \"error_y\": {\"color\": \"#2a3f5f\"}, \"marker\": {\"line\": {\"color\": \"#E5ECF6\", \"width\": 0.5}}, \"type\": \"bar\"}], \"barpolar\": [{\"marker\": {\"line\": {\"color\": \"#E5ECF6\", \"width\": 0.5}}, \"type\": \"barpolar\"}], \"carpet\": [{\"aaxis\": {\"endlinecolor\": \"#2a3f5f\", \"gridcolor\": \"white\", \"linecolor\": \"white\", \"minorgridcolor\": \"white\", \"startlinecolor\": \"#2a3f5f\"}, \"baxis\": {\"endlinecolor\": \"#2a3f5f\", \"gridcolor\": \"white\", \"linecolor\": \"white\", \"minorgridcolor\": \"white\", \"startlinecolor\": \"#2a3f5f\"}, \"type\": \"carpet\"}], \"choropleth\": [{\"colorbar\": {\"outlinewidth\": 0, \"ticks\": \"\"}, \"type\": \"choropleth\"}], \"contour\": [{\"colorbar\": {\"outlinewidth\": 0, \"ticks\": \"\"}, \"colorscale\": [[0.0, \"#0d0887\"], [0.1111111111111111, \"#46039f\"], [0.2222222222222222, \"#7201a8\"], [0.3333333333333333, \"#9c179e\"], [0.4444444444444444, \"#bd3786\"], [0.5555555555555556, \"#d8576b\"], [0.6666666666666666, \"#ed7953\"], [0.7777777777777778, \"#fb9f3a\"], [0.8888888888888888, \"#fdca26\"], [1.0, \"#f0f921\"]], \"type\": \"contour\"}], \"contourcarpet\": [{\"colorbar\": {\"outlinewidth\": 0, \"ticks\": \"\"}, \"type\": \"contourcarpet\"}], \"heatmap\": [{\"colorbar\": {\"outlinewidth\": 0, \"ticks\": \"\"}, \"colorscale\": [[0.0, \"#0d0887\"], [0.1111111111111111, \"#46039f\"], [0.2222222222222222, \"#7201a8\"], [0.3333333333333333, \"#9c179e\"], [0.4444444444444444, \"#bd3786\"], [0.5555555555555556, \"#d8576b\"], [0.6666666666666666, \"#ed7953\"], [0.7777777777777778, \"#fb9f3a\"], [0.8888888888888888, \"#fdca26\"], [1.0, \"#f0f921\"]], \"type\": \"heatmap\"}], \"heatmapgl\": [{\"colorbar\": {\"outlinewidth\": 0, \"ticks\": \"\"}, \"colorscale\": [[0.0, \"#0d0887\"], [0.1111111111111111, \"#46039f\"], [0.2222222222222222, \"#7201a8\"], [0.3333333333333333, \"#9c179e\"], [0.4444444444444444, \"#bd3786\"], [0.5555555555555556, \"#d8576b\"], [0.6666666666666666, \"#ed7953\"], [0.7777777777777778, \"#fb9f3a\"], [0.8888888888888888, \"#fdca26\"], [1.0, \"#f0f921\"]], \"type\": \"heatmapgl\"}], \"histogram\": [{\"marker\": {\"colorbar\": {\"outlinewidth\": 0, \"ticks\": \"\"}}, \"type\": \"histogram\"}], \"histogram2d\": [{\"colorbar\": {\"outlinewidth\": 0, \"ticks\": \"\"}, \"colorscale\": [[0.0, \"#0d0887\"], [0.1111111111111111, \"#46039f\"], [0.2222222222222222, \"#7201a8\"], [0.3333333333333333, \"#9c179e\"], [0.4444444444444444, \"#bd3786\"], [0.5555555555555556, \"#d8576b\"], [0.6666666666666666, \"#ed7953\"], [0.7777777777777778, \"#fb9f3a\"], [0.8888888888888888, \"#fdca26\"], [1.0, \"#f0f921\"]], \"type\": \"histogram2d\"}], \"histogram2dcontour\": [{\"colorbar\": {\"outlinewidth\": 0, \"ticks\": \"\"}, \"colorscale\": [[0.0, \"#0d0887\"], [0.1111111111111111, \"#46039f\"], [0.2222222222222222, \"#7201a8\"], [0.3333333333333333, \"#9c179e\"], [0.4444444444444444, \"#bd3786\"], [0.5555555555555556, \"#d8576b\"], [0.6666666666666666, \"#ed7953\"], [0.7777777777777778, \"#fb9f3a\"], [0.8888888888888888, \"#fdca26\"], [1.0, \"#f0f921\"]], \"type\": \"histogram2dcontour\"}], \"mesh3d\": [{\"colorbar\": {\"outlinewidth\": 0, \"ticks\": \"\"}, \"type\": \"mesh3d\"}], \"parcoords\": [{\"line\": {\"colorbar\": {\"outlinewidth\": 0, \"ticks\": \"\"}}, \"type\": \"parcoords\"}], \"pie\": [{\"automargin\": true, \"type\": \"pie\"}], \"scatter\": [{\"marker\": {\"colorbar\": {\"outlinewidth\": 0, \"ticks\": \"\"}}, \"type\": \"scatter\"}], \"scatter3d\": [{\"line\": {\"colorbar\": {\"outlinewidth\": 0, \"ticks\": \"\"}}, \"marker\": {\"colorbar\": {\"outlinewidth\": 0, \"ticks\": \"\"}}, \"type\": \"scatter3d\"}], \"scattercarpet\": [{\"marker\": {\"colorbar\": {\"outlinewidth\": 0, \"ticks\": \"\"}}, \"type\": \"scattercarpet\"}], \"scattergeo\": [{\"marker\": {\"colorbar\": {\"outlinewidth\": 0, \"ticks\": \"\"}}, \"type\": \"scattergeo\"}], \"scattergl\": [{\"marker\": {\"colorbar\": {\"outlinewidth\": 0, \"ticks\": \"\"}}, \"type\": \"scattergl\"}], \"scattermapbox\": [{\"marker\": {\"colorbar\": {\"outlinewidth\": 0, \"ticks\": \"\"}}, \"type\": \"scattermapbox\"}], \"scatterpolar\": [{\"marker\": {\"colorbar\": {\"outlinewidth\": 0, \"ticks\": \"\"}}, \"type\": \"scatterpolar\"}], \"scatterpolargl\": [{\"marker\": {\"colorbar\": {\"outlinewidth\": 0, \"ticks\": \"\"}}, \"type\": \"scatterpolargl\"}], \"scatterternary\": [{\"marker\": {\"colorbar\": {\"outlinewidth\": 0, \"ticks\": \"\"}}, \"type\": \"scatterternary\"}], \"surface\": [{\"colorbar\": {\"outlinewidth\": 0, \"ticks\": \"\"}, \"colorscale\": [[0.0, \"#0d0887\"], [0.1111111111111111, \"#46039f\"], [0.2222222222222222, \"#7201a8\"], [0.3333333333333333, \"#9c179e\"], [0.4444444444444444, \"#bd3786\"], [0.5555555555555556, \"#d8576b\"], [0.6666666666666666, \"#ed7953\"], [0.7777777777777778, \"#fb9f3a\"], [0.8888888888888888, \"#fdca26\"], [1.0, \"#f0f921\"]], \"type\": \"surface\"}], \"table\": [{\"cells\": {\"fill\": {\"color\": \"#EBF0F8\"}, \"line\": {\"color\": \"white\"}}, \"header\": {\"fill\": {\"color\": \"#C8D4E3\"}, \"line\": {\"color\": \"white\"}}, \"type\": \"table\"}]}, \"layout\": {\"annotationdefaults\": {\"arrowcolor\": \"#2a3f5f\", \"arrowhead\": 0, \"arrowwidth\": 1}, \"coloraxis\": {\"colorbar\": {\"outlinewidth\": 0, \"ticks\": \"\"}}, \"colorscale\": {\"diverging\": [[0, \"#8e0152\"], [0.1, \"#c51b7d\"], [0.2, \"#de77ae\"], [0.3, \"#f1b6da\"], [0.4, \"#fde0ef\"], [0.5, \"#f7f7f7\"], [0.6, \"#e6f5d0\"], [0.7, \"#b8e186\"], [0.8, \"#7fbc41\"], [0.9, \"#4d9221\"], [1, \"#276419\"]], \"sequential\": [[0.0, \"#0d0887\"], [0.1111111111111111, \"#46039f\"], [0.2222222222222222, \"#7201a8\"], [0.3333333333333333, \"#9c179e\"], [0.4444444444444444, \"#bd3786\"], [0.5555555555555556, \"#d8576b\"], [0.6666666666666666, \"#ed7953\"], [0.7777777777777778, \"#fb9f3a\"], [0.8888888888888888, \"#fdca26\"], [1.0, \"#f0f921\"]], \"sequentialminus\": [[0.0, \"#0d0887\"], [0.1111111111111111, \"#46039f\"], [0.2222222222222222, \"#7201a8\"], [0.3333333333333333, \"#9c179e\"], [0.4444444444444444, \"#bd3786\"], [0.5555555555555556, \"#d8576b\"], [0.6666666666666666, \"#ed7953\"], [0.7777777777777778, \"#fb9f3a\"], [0.8888888888888888, \"#fdca26\"], [1.0, \"#f0f921\"]]}, \"colorway\": [\"#636efa\", \"#EF553B\", \"#00cc96\", \"#ab63fa\", \"#FFA15A\", \"#19d3f3\", \"#FF6692\", \"#B6E880\", \"#FF97FF\", \"#FECB52\"], \"font\": {\"color\": \"#2a3f5f\"}, \"geo\": {\"bgcolor\": \"white\", \"lakecolor\": \"white\", \"landcolor\": \"#E5ECF6\", \"showlakes\": true, \"showland\": true, \"subunitcolor\": \"white\"}, \"hoverlabel\": {\"align\": \"left\"}, \"hovermode\": \"closest\", \"mapbox\": {\"style\": \"light\"}, \"paper_bgcolor\": \"white\", \"plot_bgcolor\": \"#E5ECF6\", \"polar\": {\"angularaxis\": {\"gridcolor\": \"white\", \"linecolor\": \"white\", \"ticks\": \"\"}, \"bgcolor\": \"#E5ECF6\", \"radialaxis\": {\"gridcolor\": \"white\", \"linecolor\": \"white\", \"ticks\": \"\"}}, \"scene\": {\"xaxis\": {\"backgroundcolor\": \"#E5ECF6\", \"gridcolor\": \"white\", \"gridwidth\": 2, \"linecolor\": \"white\", \"showbackground\": true, \"ticks\": \"\", \"zerolinecolor\": \"white\"}, \"yaxis\": {\"backgroundcolor\": \"#E5ECF6\", \"gridcolor\": \"white\", \"gridwidth\": 2, \"linecolor\": \"white\", \"showbackground\": true, \"ticks\": \"\", \"zerolinecolor\": \"white\"}, \"zaxis\": {\"backgroundcolor\": \"#E5ECF6\", \"gridcolor\": \"white\", \"gridwidth\": 2, \"linecolor\": \"white\", \"showbackground\": true, \"ticks\": \"\", \"zerolinecolor\": \"white\"}}, \"shapedefaults\": {\"line\": {\"color\": \"#2a3f5f\"}}, \"ternary\": {\"aaxis\": {\"gridcolor\": \"white\", \"linecolor\": \"white\", \"ticks\": \"\"}, \"baxis\": {\"gridcolor\": \"white\", \"linecolor\": \"white\", \"ticks\": \"\"}, \"bgcolor\": \"#E5ECF6\", \"caxis\": {\"gridcolor\": \"white\", \"linecolor\": \"white\", \"ticks\": \"\"}}, \"title\": {\"x\": 0.05}, \"xaxis\": {\"automargin\": true, \"gridcolor\": \"white\", \"linecolor\": \"white\", \"ticks\": \"\", \"title\": {\"standoff\": 15}, \"zerolinecolor\": \"white\", \"zerolinewidth\": 2}, \"yaxis\": {\"automargin\": true, \"gridcolor\": \"white\", \"linecolor\": \"white\", \"ticks\": \"\", \"title\": {\"standoff\": 15}, \"zerolinecolor\": \"white\", \"zerolinewidth\": 2}}}, \"title\": {\"font\": {\"color\": \"#4D5663\"}}, \"xaxis\": {\"gridcolor\": \"#E1E5ED\", \"showgrid\": true, \"tickfont\": {\"color\": \"#4D5663\"}, \"title\": {\"font\": {\"color\": \"#4D5663\"}, \"text\": \"\"}, \"zerolinecolor\": \"#E1E5ED\"}, \"yaxis\": {\"gridcolor\": \"#E1E5ED\", \"showgrid\": true, \"tickfont\": {\"color\": \"#4D5663\"}, \"title\": {\"font\": {\"color\": \"#4D5663\"}, \"text\": \"\"}, \"zerolinecolor\": \"#E1E5ED\"}},\n",
       "                        {\"showLink\": true, \"linkText\": \"Export to plot.ly\", \"plotlyServerURL\": \"https://plot.ly\", \"responsive\": true}\n",
       "                    ).then(function(){\n",
       "                            \n",
       "var gd = document.getElementById('337cb87d-5eba-43c2-b74e-535d463697c1');\n",
       "var x = new MutationObserver(function (mutations, observer) {{\n",
       "        var display = window.getComputedStyle(gd).display;\n",
       "        if (!display || display === 'none') {{\n",
       "            console.log([gd, 'removed!']);\n",
       "            Plotly.purge(gd);\n",
       "            observer.disconnect();\n",
       "        }}\n",
       "}});\n",
       "\n",
       "// Listen for the removal of the full notebook cells\n",
       "var notebookContainer = gd.closest('#notebook-container');\n",
       "if (notebookContainer) {{\n",
       "    x.observe(notebookContainer, {childList: true});\n",
       "}}\n",
       "\n",
       "// Listen for the clearing of the current output cell\n",
       "var outputEl = gd.closest('.output');\n",
       "if (outputEl) {{\n",
       "    x.observe(outputEl, {childList: true});\n",
       "}}\n",
       "\n",
       "                        })\n",
       "                };\n",
       "                });\n",
       "            </script>\n",
       "        </div>"
      ]
     },
     "metadata": {},
     "output_type": "display_data"
    }
   ],
   "source": [
    "df2.iplot(x='category',y='values',kind='bar')"
   ]
  },
  {
   "cell_type": "code",
   "execution_count": 10,
   "metadata": {},
   "outputs": [
    {
     "data": {
      "application/vnd.plotly.v1+json": {
       "config": {
        "linkText": "Export to plot.ly",
        "plotlyServerURL": "https://plot.ly",
        "showLink": true
       },
       "data": [
        {
         "marker": {
          "color": "rgba(255, 153, 51, 0.6)",
          "line": {
           "color": "rgba(255, 153, 51, 1.0)",
           "width": 1
          }
         },
         "name": "None",
         "orientation": "v",
         "text": "",
         "type": "bar",
         "x": [
          "A",
          "B",
          "C",
          "D"
         ],
         "y": [
          100,
          100,
          100,
          100
         ]
        }
       ],
       "layout": {
        "legend": {
         "bgcolor": "#F5F6F9",
         "font": {
          "color": "#4D5663"
         }
        },
        "paper_bgcolor": "#F5F6F9",
        "plot_bgcolor": "#F5F6F9",
        "template": {
         "data": {
          "bar": [
           {
            "error_x": {
             "color": "#2a3f5f"
            },
            "error_y": {
             "color": "#2a3f5f"
            },
            "marker": {
             "line": {
              "color": "#E5ECF6",
              "width": 0.5
             }
            },
            "type": "bar"
           }
          ],
          "barpolar": [
           {
            "marker": {
             "line": {
              "color": "#E5ECF6",
              "width": 0.5
             }
            },
            "type": "barpolar"
           }
          ],
          "carpet": [
           {
            "aaxis": {
             "endlinecolor": "#2a3f5f",
             "gridcolor": "white",
             "linecolor": "white",
             "minorgridcolor": "white",
             "startlinecolor": "#2a3f5f"
            },
            "baxis": {
             "endlinecolor": "#2a3f5f",
             "gridcolor": "white",
             "linecolor": "white",
             "minorgridcolor": "white",
             "startlinecolor": "#2a3f5f"
            },
            "type": "carpet"
           }
          ],
          "choropleth": [
           {
            "colorbar": {
             "outlinewidth": 0,
             "ticks": ""
            },
            "type": "choropleth"
           }
          ],
          "contour": [
           {
            "colorbar": {
             "outlinewidth": 0,
             "ticks": ""
            },
            "colorscale": [
             [
              0,
              "#0d0887"
             ],
             [
              0.1111111111111111,
              "#46039f"
             ],
             [
              0.2222222222222222,
              "#7201a8"
             ],
             [
              0.3333333333333333,
              "#9c179e"
             ],
             [
              0.4444444444444444,
              "#bd3786"
             ],
             [
              0.5555555555555556,
              "#d8576b"
             ],
             [
              0.6666666666666666,
              "#ed7953"
             ],
             [
              0.7777777777777778,
              "#fb9f3a"
             ],
             [
              0.8888888888888888,
              "#fdca26"
             ],
             [
              1,
              "#f0f921"
             ]
            ],
            "type": "contour"
           }
          ],
          "contourcarpet": [
           {
            "colorbar": {
             "outlinewidth": 0,
             "ticks": ""
            },
            "type": "contourcarpet"
           }
          ],
          "heatmap": [
           {
            "colorbar": {
             "outlinewidth": 0,
             "ticks": ""
            },
            "colorscale": [
             [
              0,
              "#0d0887"
             ],
             [
              0.1111111111111111,
              "#46039f"
             ],
             [
              0.2222222222222222,
              "#7201a8"
             ],
             [
              0.3333333333333333,
              "#9c179e"
             ],
             [
              0.4444444444444444,
              "#bd3786"
             ],
             [
              0.5555555555555556,
              "#d8576b"
             ],
             [
              0.6666666666666666,
              "#ed7953"
             ],
             [
              0.7777777777777778,
              "#fb9f3a"
             ],
             [
              0.8888888888888888,
              "#fdca26"
             ],
             [
              1,
              "#f0f921"
             ]
            ],
            "type": "heatmap"
           }
          ],
          "heatmapgl": [
           {
            "colorbar": {
             "outlinewidth": 0,
             "ticks": ""
            },
            "colorscale": [
             [
              0,
              "#0d0887"
             ],
             [
              0.1111111111111111,
              "#46039f"
             ],
             [
              0.2222222222222222,
              "#7201a8"
             ],
             [
              0.3333333333333333,
              "#9c179e"
             ],
             [
              0.4444444444444444,
              "#bd3786"
             ],
             [
              0.5555555555555556,
              "#d8576b"
             ],
             [
              0.6666666666666666,
              "#ed7953"
             ],
             [
              0.7777777777777778,
              "#fb9f3a"
             ],
             [
              0.8888888888888888,
              "#fdca26"
             ],
             [
              1,
              "#f0f921"
             ]
            ],
            "type": "heatmapgl"
           }
          ],
          "histogram": [
           {
            "marker": {
             "colorbar": {
              "outlinewidth": 0,
              "ticks": ""
             }
            },
            "type": "histogram"
           }
          ],
          "histogram2d": [
           {
            "colorbar": {
             "outlinewidth": 0,
             "ticks": ""
            },
            "colorscale": [
             [
              0,
              "#0d0887"
             ],
             [
              0.1111111111111111,
              "#46039f"
             ],
             [
              0.2222222222222222,
              "#7201a8"
             ],
             [
              0.3333333333333333,
              "#9c179e"
             ],
             [
              0.4444444444444444,
              "#bd3786"
             ],
             [
              0.5555555555555556,
              "#d8576b"
             ],
             [
              0.6666666666666666,
              "#ed7953"
             ],
             [
              0.7777777777777778,
              "#fb9f3a"
             ],
             [
              0.8888888888888888,
              "#fdca26"
             ],
             [
              1,
              "#f0f921"
             ]
            ],
            "type": "histogram2d"
           }
          ],
          "histogram2dcontour": [
           {
            "colorbar": {
             "outlinewidth": 0,
             "ticks": ""
            },
            "colorscale": [
             [
              0,
              "#0d0887"
             ],
             [
              0.1111111111111111,
              "#46039f"
             ],
             [
              0.2222222222222222,
              "#7201a8"
             ],
             [
              0.3333333333333333,
              "#9c179e"
             ],
             [
              0.4444444444444444,
              "#bd3786"
             ],
             [
              0.5555555555555556,
              "#d8576b"
             ],
             [
              0.6666666666666666,
              "#ed7953"
             ],
             [
              0.7777777777777778,
              "#fb9f3a"
             ],
             [
              0.8888888888888888,
              "#fdca26"
             ],
             [
              1,
              "#f0f921"
             ]
            ],
            "type": "histogram2dcontour"
           }
          ],
          "mesh3d": [
           {
            "colorbar": {
             "outlinewidth": 0,
             "ticks": ""
            },
            "type": "mesh3d"
           }
          ],
          "parcoords": [
           {
            "line": {
             "colorbar": {
              "outlinewidth": 0,
              "ticks": ""
             }
            },
            "type": "parcoords"
           }
          ],
          "pie": [
           {
            "automargin": true,
            "type": "pie"
           }
          ],
          "scatter": [
           {
            "marker": {
             "colorbar": {
              "outlinewidth": 0,
              "ticks": ""
             }
            },
            "type": "scatter"
           }
          ],
          "scatter3d": [
           {
            "line": {
             "colorbar": {
              "outlinewidth": 0,
              "ticks": ""
             }
            },
            "marker": {
             "colorbar": {
              "outlinewidth": 0,
              "ticks": ""
             }
            },
            "type": "scatter3d"
           }
          ],
          "scattercarpet": [
           {
            "marker": {
             "colorbar": {
              "outlinewidth": 0,
              "ticks": ""
             }
            },
            "type": "scattercarpet"
           }
          ],
          "scattergeo": [
           {
            "marker": {
             "colorbar": {
              "outlinewidth": 0,
              "ticks": ""
             }
            },
            "type": "scattergeo"
           }
          ],
          "scattergl": [
           {
            "marker": {
             "colorbar": {
              "outlinewidth": 0,
              "ticks": ""
             }
            },
            "type": "scattergl"
           }
          ],
          "scattermapbox": [
           {
            "marker": {
             "colorbar": {
              "outlinewidth": 0,
              "ticks": ""
             }
            },
            "type": "scattermapbox"
           }
          ],
          "scatterpolar": [
           {
            "marker": {
             "colorbar": {
              "outlinewidth": 0,
              "ticks": ""
             }
            },
            "type": "scatterpolar"
           }
          ],
          "scatterpolargl": [
           {
            "marker": {
             "colorbar": {
              "outlinewidth": 0,
              "ticks": ""
             }
            },
            "type": "scatterpolargl"
           }
          ],
          "scatterternary": [
           {
            "marker": {
             "colorbar": {
              "outlinewidth": 0,
              "ticks": ""
             }
            },
            "type": "scatterternary"
           }
          ],
          "surface": [
           {
            "colorbar": {
             "outlinewidth": 0,
             "ticks": ""
            },
            "colorscale": [
             [
              0,
              "#0d0887"
             ],
             [
              0.1111111111111111,
              "#46039f"
             ],
             [
              0.2222222222222222,
              "#7201a8"
             ],
             [
              0.3333333333333333,
              "#9c179e"
             ],
             [
              0.4444444444444444,
              "#bd3786"
             ],
             [
              0.5555555555555556,
              "#d8576b"
             ],
             [
              0.6666666666666666,
              "#ed7953"
             ],
             [
              0.7777777777777778,
              "#fb9f3a"
             ],
             [
              0.8888888888888888,
              "#fdca26"
             ],
             [
              1,
              "#f0f921"
             ]
            ],
            "type": "surface"
           }
          ],
          "table": [
           {
            "cells": {
             "fill": {
              "color": "#EBF0F8"
             },
             "line": {
              "color": "white"
             }
            },
            "header": {
             "fill": {
              "color": "#C8D4E3"
             },
             "line": {
              "color": "white"
             }
            },
            "type": "table"
           }
          ]
         },
         "layout": {
          "annotationdefaults": {
           "arrowcolor": "#2a3f5f",
           "arrowhead": 0,
           "arrowwidth": 1
          },
          "coloraxis": {
           "colorbar": {
            "outlinewidth": 0,
            "ticks": ""
           }
          },
          "colorscale": {
           "diverging": [
            [
             0,
             "#8e0152"
            ],
            [
             0.1,
             "#c51b7d"
            ],
            [
             0.2,
             "#de77ae"
            ],
            [
             0.3,
             "#f1b6da"
            ],
            [
             0.4,
             "#fde0ef"
            ],
            [
             0.5,
             "#f7f7f7"
            ],
            [
             0.6,
             "#e6f5d0"
            ],
            [
             0.7,
             "#b8e186"
            ],
            [
             0.8,
             "#7fbc41"
            ],
            [
             0.9,
             "#4d9221"
            ],
            [
             1,
             "#276419"
            ]
           ],
           "sequential": [
            [
             0,
             "#0d0887"
            ],
            [
             0.1111111111111111,
             "#46039f"
            ],
            [
             0.2222222222222222,
             "#7201a8"
            ],
            [
             0.3333333333333333,
             "#9c179e"
            ],
            [
             0.4444444444444444,
             "#bd3786"
            ],
            [
             0.5555555555555556,
             "#d8576b"
            ],
            [
             0.6666666666666666,
             "#ed7953"
            ],
            [
             0.7777777777777778,
             "#fb9f3a"
            ],
            [
             0.8888888888888888,
             "#fdca26"
            ],
            [
             1,
             "#f0f921"
            ]
           ],
           "sequentialminus": [
            [
             0,
             "#0d0887"
            ],
            [
             0.1111111111111111,
             "#46039f"
            ],
            [
             0.2222222222222222,
             "#7201a8"
            ],
            [
             0.3333333333333333,
             "#9c179e"
            ],
            [
             0.4444444444444444,
             "#bd3786"
            ],
            [
             0.5555555555555556,
             "#d8576b"
            ],
            [
             0.6666666666666666,
             "#ed7953"
            ],
            [
             0.7777777777777778,
             "#fb9f3a"
            ],
            [
             0.8888888888888888,
             "#fdca26"
            ],
            [
             1,
             "#f0f921"
            ]
           ]
          },
          "colorway": [
           "#636efa",
           "#EF553B",
           "#00cc96",
           "#ab63fa",
           "#FFA15A",
           "#19d3f3",
           "#FF6692",
           "#B6E880",
           "#FF97FF",
           "#FECB52"
          ],
          "font": {
           "color": "#2a3f5f"
          },
          "geo": {
           "bgcolor": "white",
           "lakecolor": "white",
           "landcolor": "#E5ECF6",
           "showlakes": true,
           "showland": true,
           "subunitcolor": "white"
          },
          "hoverlabel": {
           "align": "left"
          },
          "hovermode": "closest",
          "mapbox": {
           "style": "light"
          },
          "paper_bgcolor": "white",
          "plot_bgcolor": "#E5ECF6",
          "polar": {
           "angularaxis": {
            "gridcolor": "white",
            "linecolor": "white",
            "ticks": ""
           },
           "bgcolor": "#E5ECF6",
           "radialaxis": {
            "gridcolor": "white",
            "linecolor": "white",
            "ticks": ""
           }
          },
          "scene": {
           "xaxis": {
            "backgroundcolor": "#E5ECF6",
            "gridcolor": "white",
            "gridwidth": 2,
            "linecolor": "white",
            "showbackground": true,
            "ticks": "",
            "zerolinecolor": "white"
           },
           "yaxis": {
            "backgroundcolor": "#E5ECF6",
            "gridcolor": "white",
            "gridwidth": 2,
            "linecolor": "white",
            "showbackground": true,
            "ticks": "",
            "zerolinecolor": "white"
           },
           "zaxis": {
            "backgroundcolor": "#E5ECF6",
            "gridcolor": "white",
            "gridwidth": 2,
            "linecolor": "white",
            "showbackground": true,
            "ticks": "",
            "zerolinecolor": "white"
           }
          },
          "shapedefaults": {
           "line": {
            "color": "#2a3f5f"
           }
          },
          "ternary": {
           "aaxis": {
            "gridcolor": "white",
            "linecolor": "white",
            "ticks": ""
           },
           "baxis": {
            "gridcolor": "white",
            "linecolor": "white",
            "ticks": ""
           },
           "bgcolor": "#E5ECF6",
           "caxis": {
            "gridcolor": "white",
            "linecolor": "white",
            "ticks": ""
           }
          },
          "title": {
           "x": 0.05
          },
          "xaxis": {
           "automargin": true,
           "gridcolor": "white",
           "linecolor": "white",
           "ticks": "",
           "title": {
            "standoff": 15
           },
           "zerolinecolor": "white",
           "zerolinewidth": 2
          },
          "yaxis": {
           "automargin": true,
           "gridcolor": "white",
           "linecolor": "white",
           "ticks": "",
           "title": {
            "standoff": 15
           },
           "zerolinecolor": "white",
           "zerolinewidth": 2
          }
         }
        },
        "title": {
         "font": {
          "color": "#4D5663"
         }
        },
        "xaxis": {
         "gridcolor": "#E1E5ED",
         "showgrid": true,
         "tickfont": {
          "color": "#4D5663"
         },
         "title": {
          "font": {
           "color": "#4D5663"
          },
          "text": ""
         },
         "zerolinecolor": "#E1E5ED"
        },
        "yaxis": {
         "gridcolor": "#E1E5ED",
         "showgrid": true,
         "tickfont": {
          "color": "#4D5663"
         },
         "title": {
          "font": {
           "color": "#4D5663"
          },
          "text": ""
         },
         "zerolinecolor": "#E1E5ED"
        }
       }
      },
      "text/html": [
       "<div>\n",
       "        \n",
       "        \n",
       "            <div id=\"57721a98-5a59-47a4-9347-e78ddb256bb2\" class=\"plotly-graph-div\" style=\"height:525px; width:100%;\"></div>\n",
       "            <script type=\"text/javascript\">\n",
       "                require([\"plotly\"], function(Plotly) {\n",
       "                    window.PLOTLYENV=window.PLOTLYENV || {};\n",
       "                    window.PLOTLYENV.BASE_URL='https://plot.ly';\n",
       "                    \n",
       "                if (document.getElementById(\"57721a98-5a59-47a4-9347-e78ddb256bb2\")) {\n",
       "                    Plotly.newPlot(\n",
       "                        '57721a98-5a59-47a4-9347-e78ddb256bb2',\n",
       "                        [{\"marker\": {\"color\": \"rgba(255, 153, 51, 0.6)\", \"line\": {\"color\": \"rgba(255, 153, 51, 1.0)\", \"width\": 1}}, \"name\": \"None\", \"orientation\": \"v\", \"text\": \"\", \"type\": \"bar\", \"x\": [\"A\", \"B\", \"C\", \"D\"], \"y\": [100, 100, 100, 100]}],\n",
       "                        {\"legend\": {\"bgcolor\": \"#F5F6F9\", \"font\": {\"color\": \"#4D5663\"}}, \"paper_bgcolor\": \"#F5F6F9\", \"plot_bgcolor\": \"#F5F6F9\", \"template\": {\"data\": {\"bar\": [{\"error_x\": {\"color\": \"#2a3f5f\"}, \"error_y\": {\"color\": \"#2a3f5f\"}, \"marker\": {\"line\": {\"color\": \"#E5ECF6\", \"width\": 0.5}}, \"type\": \"bar\"}], \"barpolar\": [{\"marker\": {\"line\": {\"color\": \"#E5ECF6\", \"width\": 0.5}}, \"type\": \"barpolar\"}], \"carpet\": [{\"aaxis\": {\"endlinecolor\": \"#2a3f5f\", \"gridcolor\": \"white\", \"linecolor\": \"white\", \"minorgridcolor\": \"white\", \"startlinecolor\": \"#2a3f5f\"}, \"baxis\": {\"endlinecolor\": \"#2a3f5f\", \"gridcolor\": \"white\", \"linecolor\": \"white\", \"minorgridcolor\": \"white\", \"startlinecolor\": \"#2a3f5f\"}, \"type\": \"carpet\"}], \"choropleth\": [{\"colorbar\": {\"outlinewidth\": 0, \"ticks\": \"\"}, \"type\": \"choropleth\"}], \"contour\": [{\"colorbar\": {\"outlinewidth\": 0, \"ticks\": \"\"}, \"colorscale\": [[0.0, \"#0d0887\"], [0.1111111111111111, \"#46039f\"], [0.2222222222222222, \"#7201a8\"], [0.3333333333333333, \"#9c179e\"], [0.4444444444444444, \"#bd3786\"], [0.5555555555555556, \"#d8576b\"], [0.6666666666666666, \"#ed7953\"], [0.7777777777777778, \"#fb9f3a\"], [0.8888888888888888, \"#fdca26\"], [1.0, \"#f0f921\"]], \"type\": \"contour\"}], \"contourcarpet\": [{\"colorbar\": {\"outlinewidth\": 0, \"ticks\": \"\"}, \"type\": \"contourcarpet\"}], \"heatmap\": [{\"colorbar\": {\"outlinewidth\": 0, \"ticks\": \"\"}, \"colorscale\": [[0.0, \"#0d0887\"], [0.1111111111111111, \"#46039f\"], [0.2222222222222222, \"#7201a8\"], [0.3333333333333333, \"#9c179e\"], [0.4444444444444444, \"#bd3786\"], [0.5555555555555556, \"#d8576b\"], [0.6666666666666666, \"#ed7953\"], [0.7777777777777778, \"#fb9f3a\"], [0.8888888888888888, \"#fdca26\"], [1.0, \"#f0f921\"]], \"type\": \"heatmap\"}], \"heatmapgl\": [{\"colorbar\": {\"outlinewidth\": 0, \"ticks\": \"\"}, \"colorscale\": [[0.0, \"#0d0887\"], [0.1111111111111111, \"#46039f\"], [0.2222222222222222, \"#7201a8\"], [0.3333333333333333, \"#9c179e\"], [0.4444444444444444, \"#bd3786\"], [0.5555555555555556, \"#d8576b\"], [0.6666666666666666, \"#ed7953\"], [0.7777777777777778, \"#fb9f3a\"], [0.8888888888888888, \"#fdca26\"], [1.0, \"#f0f921\"]], \"type\": \"heatmapgl\"}], \"histogram\": [{\"marker\": {\"colorbar\": {\"outlinewidth\": 0, \"ticks\": \"\"}}, \"type\": \"histogram\"}], \"histogram2d\": [{\"colorbar\": {\"outlinewidth\": 0, \"ticks\": \"\"}, \"colorscale\": [[0.0, \"#0d0887\"], [0.1111111111111111, \"#46039f\"], [0.2222222222222222, \"#7201a8\"], [0.3333333333333333, \"#9c179e\"], [0.4444444444444444, \"#bd3786\"], [0.5555555555555556, \"#d8576b\"], [0.6666666666666666, \"#ed7953\"], [0.7777777777777778, \"#fb9f3a\"], [0.8888888888888888, \"#fdca26\"], [1.0, \"#f0f921\"]], \"type\": \"histogram2d\"}], \"histogram2dcontour\": [{\"colorbar\": {\"outlinewidth\": 0, \"ticks\": \"\"}, \"colorscale\": [[0.0, \"#0d0887\"], [0.1111111111111111, \"#46039f\"], [0.2222222222222222, \"#7201a8\"], [0.3333333333333333, \"#9c179e\"], [0.4444444444444444, \"#bd3786\"], [0.5555555555555556, \"#d8576b\"], [0.6666666666666666, \"#ed7953\"], [0.7777777777777778, \"#fb9f3a\"], [0.8888888888888888, \"#fdca26\"], [1.0, \"#f0f921\"]], \"type\": \"histogram2dcontour\"}], \"mesh3d\": [{\"colorbar\": {\"outlinewidth\": 0, \"ticks\": \"\"}, \"type\": \"mesh3d\"}], \"parcoords\": [{\"line\": {\"colorbar\": {\"outlinewidth\": 0, \"ticks\": \"\"}}, \"type\": \"parcoords\"}], \"pie\": [{\"automargin\": true, \"type\": \"pie\"}], \"scatter\": [{\"marker\": {\"colorbar\": {\"outlinewidth\": 0, \"ticks\": \"\"}}, \"type\": \"scatter\"}], \"scatter3d\": [{\"line\": {\"colorbar\": {\"outlinewidth\": 0, \"ticks\": \"\"}}, \"marker\": {\"colorbar\": {\"outlinewidth\": 0, \"ticks\": \"\"}}, \"type\": \"scatter3d\"}], \"scattercarpet\": [{\"marker\": {\"colorbar\": {\"outlinewidth\": 0, \"ticks\": \"\"}}, \"type\": \"scattercarpet\"}], \"scattergeo\": [{\"marker\": {\"colorbar\": {\"outlinewidth\": 0, \"ticks\": \"\"}}, \"type\": \"scattergeo\"}], \"scattergl\": [{\"marker\": {\"colorbar\": {\"outlinewidth\": 0, \"ticks\": \"\"}}, \"type\": \"scattergl\"}], \"scattermapbox\": [{\"marker\": {\"colorbar\": {\"outlinewidth\": 0, \"ticks\": \"\"}}, \"type\": \"scattermapbox\"}], \"scatterpolar\": [{\"marker\": {\"colorbar\": {\"outlinewidth\": 0, \"ticks\": \"\"}}, \"type\": \"scatterpolar\"}], \"scatterpolargl\": [{\"marker\": {\"colorbar\": {\"outlinewidth\": 0, \"ticks\": \"\"}}, \"type\": \"scatterpolargl\"}], \"scatterternary\": [{\"marker\": {\"colorbar\": {\"outlinewidth\": 0, \"ticks\": \"\"}}, \"type\": \"scatterternary\"}], \"surface\": [{\"colorbar\": {\"outlinewidth\": 0, \"ticks\": \"\"}, \"colorscale\": [[0.0, \"#0d0887\"], [0.1111111111111111, \"#46039f\"], [0.2222222222222222, \"#7201a8\"], [0.3333333333333333, \"#9c179e\"], [0.4444444444444444, \"#bd3786\"], [0.5555555555555556, \"#d8576b\"], [0.6666666666666666, \"#ed7953\"], [0.7777777777777778, \"#fb9f3a\"], [0.8888888888888888, \"#fdca26\"], [1.0, \"#f0f921\"]], \"type\": \"surface\"}], \"table\": [{\"cells\": {\"fill\": {\"color\": \"#EBF0F8\"}, \"line\": {\"color\": \"white\"}}, \"header\": {\"fill\": {\"color\": \"#C8D4E3\"}, \"line\": {\"color\": \"white\"}}, \"type\": \"table\"}]}, \"layout\": {\"annotationdefaults\": {\"arrowcolor\": \"#2a3f5f\", \"arrowhead\": 0, \"arrowwidth\": 1}, \"coloraxis\": {\"colorbar\": {\"outlinewidth\": 0, \"ticks\": \"\"}}, \"colorscale\": {\"diverging\": [[0, \"#8e0152\"], [0.1, \"#c51b7d\"], [0.2, \"#de77ae\"], [0.3, \"#f1b6da\"], [0.4, \"#fde0ef\"], [0.5, \"#f7f7f7\"], [0.6, \"#e6f5d0\"], [0.7, \"#b8e186\"], [0.8, \"#7fbc41\"], [0.9, \"#4d9221\"], [1, \"#276419\"]], \"sequential\": [[0.0, \"#0d0887\"], [0.1111111111111111, \"#46039f\"], [0.2222222222222222, \"#7201a8\"], [0.3333333333333333, \"#9c179e\"], [0.4444444444444444, \"#bd3786\"], [0.5555555555555556, \"#d8576b\"], [0.6666666666666666, \"#ed7953\"], [0.7777777777777778, \"#fb9f3a\"], [0.8888888888888888, \"#fdca26\"], [1.0, \"#f0f921\"]], \"sequentialminus\": [[0.0, \"#0d0887\"], [0.1111111111111111, \"#46039f\"], [0.2222222222222222, \"#7201a8\"], [0.3333333333333333, \"#9c179e\"], [0.4444444444444444, \"#bd3786\"], [0.5555555555555556, \"#d8576b\"], [0.6666666666666666, \"#ed7953\"], [0.7777777777777778, \"#fb9f3a\"], [0.8888888888888888, \"#fdca26\"], [1.0, \"#f0f921\"]]}, \"colorway\": [\"#636efa\", \"#EF553B\", \"#00cc96\", \"#ab63fa\", \"#FFA15A\", \"#19d3f3\", \"#FF6692\", \"#B6E880\", \"#FF97FF\", \"#FECB52\"], \"font\": {\"color\": \"#2a3f5f\"}, \"geo\": {\"bgcolor\": \"white\", \"lakecolor\": \"white\", \"landcolor\": \"#E5ECF6\", \"showlakes\": true, \"showland\": true, \"subunitcolor\": \"white\"}, \"hoverlabel\": {\"align\": \"left\"}, \"hovermode\": \"closest\", \"mapbox\": {\"style\": \"light\"}, \"paper_bgcolor\": \"white\", \"plot_bgcolor\": \"#E5ECF6\", \"polar\": {\"angularaxis\": {\"gridcolor\": \"white\", \"linecolor\": \"white\", \"ticks\": \"\"}, \"bgcolor\": \"#E5ECF6\", \"radialaxis\": {\"gridcolor\": \"white\", \"linecolor\": \"white\", \"ticks\": \"\"}}, \"scene\": {\"xaxis\": {\"backgroundcolor\": \"#E5ECF6\", \"gridcolor\": \"white\", \"gridwidth\": 2, \"linecolor\": \"white\", \"showbackground\": true, \"ticks\": \"\", \"zerolinecolor\": \"white\"}, \"yaxis\": {\"backgroundcolor\": \"#E5ECF6\", \"gridcolor\": \"white\", \"gridwidth\": 2, \"linecolor\": \"white\", \"showbackground\": true, \"ticks\": \"\", \"zerolinecolor\": \"white\"}, \"zaxis\": {\"backgroundcolor\": \"#E5ECF6\", \"gridcolor\": \"white\", \"gridwidth\": 2, \"linecolor\": \"white\", \"showbackground\": true, \"ticks\": \"\", \"zerolinecolor\": \"white\"}}, \"shapedefaults\": {\"line\": {\"color\": \"#2a3f5f\"}}, \"ternary\": {\"aaxis\": {\"gridcolor\": \"white\", \"linecolor\": \"white\", \"ticks\": \"\"}, \"baxis\": {\"gridcolor\": \"white\", \"linecolor\": \"white\", \"ticks\": \"\"}, \"bgcolor\": \"#E5ECF6\", \"caxis\": {\"gridcolor\": \"white\", \"linecolor\": \"white\", \"ticks\": \"\"}}, \"title\": {\"x\": 0.05}, \"xaxis\": {\"automargin\": true, \"gridcolor\": \"white\", \"linecolor\": \"white\", \"ticks\": \"\", \"title\": {\"standoff\": 15}, \"zerolinecolor\": \"white\", \"zerolinewidth\": 2}, \"yaxis\": {\"automargin\": true, \"gridcolor\": \"white\", \"linecolor\": \"white\", \"ticks\": \"\", \"title\": {\"standoff\": 15}, \"zerolinecolor\": \"white\", \"zerolinewidth\": 2}}}, \"title\": {\"font\": {\"color\": \"#4D5663\"}}, \"xaxis\": {\"gridcolor\": \"#E1E5ED\", \"showgrid\": true, \"tickfont\": {\"color\": \"#4D5663\"}, \"title\": {\"font\": {\"color\": \"#4D5663\"}, \"text\": \"\"}, \"zerolinecolor\": \"#E1E5ED\"}, \"yaxis\": {\"gridcolor\": \"#E1E5ED\", \"showgrid\": true, \"tickfont\": {\"color\": \"#4D5663\"}, \"title\": {\"font\": {\"color\": \"#4D5663\"}, \"text\": \"\"}, \"zerolinecolor\": \"#E1E5ED\"}},\n",
       "                        {\"showLink\": true, \"linkText\": \"Export to plot.ly\", \"plotlyServerURL\": \"https://plot.ly\", \"responsive\": true}\n",
       "                    ).then(function(){\n",
       "                            \n",
       "var gd = document.getElementById('57721a98-5a59-47a4-9347-e78ddb256bb2');\n",
       "var x = new MutationObserver(function (mutations, observer) {{\n",
       "        var display = window.getComputedStyle(gd).display;\n",
       "        if (!display || display === 'none') {{\n",
       "            console.log([gd, 'removed!']);\n",
       "            Plotly.purge(gd);\n",
       "            observer.disconnect();\n",
       "        }}\n",
       "}});\n",
       "\n",
       "// Listen for the removal of the full notebook cells\n",
       "var notebookContainer = gd.closest('#notebook-container');\n",
       "if (notebookContainer) {{\n",
       "    x.observe(notebookContainer, {childList: true});\n",
       "}}\n",
       "\n",
       "// Listen for the clearing of the current output cell\n",
       "var outputEl = gd.closest('.output');\n",
       "if (outputEl) {{\n",
       "    x.observe(outputEl, {childList: true});\n",
       "}}\n",
       "\n",
       "                        })\n",
       "                };\n",
       "                });\n",
       "            </script>\n",
       "        </div>"
      ]
     },
     "metadata": {},
     "output_type": "display_data"
    }
   ],
   "source": [
    "df1.count().iplot(kind='bar')"
   ]
  },
  {
   "cell_type": "code",
   "execution_count": 11,
   "metadata": {},
   "outputs": [
    {
     "data": {
      "application/vnd.plotly.v1+json": {
       "config": {
        "linkText": "Export to plot.ly",
        "plotlyServerURL": "https://plot.ly",
        "showLink": true
       },
       "data": [
        {
         "boxpoints": false,
         "line": {
          "width": 1.3
         },
         "marker": {
          "color": "rgba(255, 153, 51, 1.0)"
         },
         "name": "category",
         "orientation": "v",
         "type": "box",
         "y": [
          "A",
          "B",
          "C"
         ]
        },
        {
         "boxpoints": false,
         "line": {
          "width": 1.3
         },
         "marker": {
          "color": "rgba(55, 128, 191, 1.0)"
         },
         "name": "values",
         "orientation": "v",
         "type": "box",
         "y": [
          22,
          3,
          4
         ]
        }
       ],
       "layout": {
        "legend": {
         "bgcolor": "#F5F6F9",
         "font": {
          "color": "#4D5663"
         }
        },
        "paper_bgcolor": "#F5F6F9",
        "plot_bgcolor": "#F5F6F9",
        "template": {
         "data": {
          "bar": [
           {
            "error_x": {
             "color": "#2a3f5f"
            },
            "error_y": {
             "color": "#2a3f5f"
            },
            "marker": {
             "line": {
              "color": "#E5ECF6",
              "width": 0.5
             }
            },
            "type": "bar"
           }
          ],
          "barpolar": [
           {
            "marker": {
             "line": {
              "color": "#E5ECF6",
              "width": 0.5
             }
            },
            "type": "barpolar"
           }
          ],
          "carpet": [
           {
            "aaxis": {
             "endlinecolor": "#2a3f5f",
             "gridcolor": "white",
             "linecolor": "white",
             "minorgridcolor": "white",
             "startlinecolor": "#2a3f5f"
            },
            "baxis": {
             "endlinecolor": "#2a3f5f",
             "gridcolor": "white",
             "linecolor": "white",
             "minorgridcolor": "white",
             "startlinecolor": "#2a3f5f"
            },
            "type": "carpet"
           }
          ],
          "choropleth": [
           {
            "colorbar": {
             "outlinewidth": 0,
             "ticks": ""
            },
            "type": "choropleth"
           }
          ],
          "contour": [
           {
            "colorbar": {
             "outlinewidth": 0,
             "ticks": ""
            },
            "colorscale": [
             [
              0,
              "#0d0887"
             ],
             [
              0.1111111111111111,
              "#46039f"
             ],
             [
              0.2222222222222222,
              "#7201a8"
             ],
             [
              0.3333333333333333,
              "#9c179e"
             ],
             [
              0.4444444444444444,
              "#bd3786"
             ],
             [
              0.5555555555555556,
              "#d8576b"
             ],
             [
              0.6666666666666666,
              "#ed7953"
             ],
             [
              0.7777777777777778,
              "#fb9f3a"
             ],
             [
              0.8888888888888888,
              "#fdca26"
             ],
             [
              1,
              "#f0f921"
             ]
            ],
            "type": "contour"
           }
          ],
          "contourcarpet": [
           {
            "colorbar": {
             "outlinewidth": 0,
             "ticks": ""
            },
            "type": "contourcarpet"
           }
          ],
          "heatmap": [
           {
            "colorbar": {
             "outlinewidth": 0,
             "ticks": ""
            },
            "colorscale": [
             [
              0,
              "#0d0887"
             ],
             [
              0.1111111111111111,
              "#46039f"
             ],
             [
              0.2222222222222222,
              "#7201a8"
             ],
             [
              0.3333333333333333,
              "#9c179e"
             ],
             [
              0.4444444444444444,
              "#bd3786"
             ],
             [
              0.5555555555555556,
              "#d8576b"
             ],
             [
              0.6666666666666666,
              "#ed7953"
             ],
             [
              0.7777777777777778,
              "#fb9f3a"
             ],
             [
              0.8888888888888888,
              "#fdca26"
             ],
             [
              1,
              "#f0f921"
             ]
            ],
            "type": "heatmap"
           }
          ],
          "heatmapgl": [
           {
            "colorbar": {
             "outlinewidth": 0,
             "ticks": ""
            },
            "colorscale": [
             [
              0,
              "#0d0887"
             ],
             [
              0.1111111111111111,
              "#46039f"
             ],
             [
              0.2222222222222222,
              "#7201a8"
             ],
             [
              0.3333333333333333,
              "#9c179e"
             ],
             [
              0.4444444444444444,
              "#bd3786"
             ],
             [
              0.5555555555555556,
              "#d8576b"
             ],
             [
              0.6666666666666666,
              "#ed7953"
             ],
             [
              0.7777777777777778,
              "#fb9f3a"
             ],
             [
              0.8888888888888888,
              "#fdca26"
             ],
             [
              1,
              "#f0f921"
             ]
            ],
            "type": "heatmapgl"
           }
          ],
          "histogram": [
           {
            "marker": {
             "colorbar": {
              "outlinewidth": 0,
              "ticks": ""
             }
            },
            "type": "histogram"
           }
          ],
          "histogram2d": [
           {
            "colorbar": {
             "outlinewidth": 0,
             "ticks": ""
            },
            "colorscale": [
             [
              0,
              "#0d0887"
             ],
             [
              0.1111111111111111,
              "#46039f"
             ],
             [
              0.2222222222222222,
              "#7201a8"
             ],
             [
              0.3333333333333333,
              "#9c179e"
             ],
             [
              0.4444444444444444,
              "#bd3786"
             ],
             [
              0.5555555555555556,
              "#d8576b"
             ],
             [
              0.6666666666666666,
              "#ed7953"
             ],
             [
              0.7777777777777778,
              "#fb9f3a"
             ],
             [
              0.8888888888888888,
              "#fdca26"
             ],
             [
              1,
              "#f0f921"
             ]
            ],
            "type": "histogram2d"
           }
          ],
          "histogram2dcontour": [
           {
            "colorbar": {
             "outlinewidth": 0,
             "ticks": ""
            },
            "colorscale": [
             [
              0,
              "#0d0887"
             ],
             [
              0.1111111111111111,
              "#46039f"
             ],
             [
              0.2222222222222222,
              "#7201a8"
             ],
             [
              0.3333333333333333,
              "#9c179e"
             ],
             [
              0.4444444444444444,
              "#bd3786"
             ],
             [
              0.5555555555555556,
              "#d8576b"
             ],
             [
              0.6666666666666666,
              "#ed7953"
             ],
             [
              0.7777777777777778,
              "#fb9f3a"
             ],
             [
              0.8888888888888888,
              "#fdca26"
             ],
             [
              1,
              "#f0f921"
             ]
            ],
            "type": "histogram2dcontour"
           }
          ],
          "mesh3d": [
           {
            "colorbar": {
             "outlinewidth": 0,
             "ticks": ""
            },
            "type": "mesh3d"
           }
          ],
          "parcoords": [
           {
            "line": {
             "colorbar": {
              "outlinewidth": 0,
              "ticks": ""
             }
            },
            "type": "parcoords"
           }
          ],
          "pie": [
           {
            "automargin": true,
            "type": "pie"
           }
          ],
          "scatter": [
           {
            "marker": {
             "colorbar": {
              "outlinewidth": 0,
              "ticks": ""
             }
            },
            "type": "scatter"
           }
          ],
          "scatter3d": [
           {
            "line": {
             "colorbar": {
              "outlinewidth": 0,
              "ticks": ""
             }
            },
            "marker": {
             "colorbar": {
              "outlinewidth": 0,
              "ticks": ""
             }
            },
            "type": "scatter3d"
           }
          ],
          "scattercarpet": [
           {
            "marker": {
             "colorbar": {
              "outlinewidth": 0,
              "ticks": ""
             }
            },
            "type": "scattercarpet"
           }
          ],
          "scattergeo": [
           {
            "marker": {
             "colorbar": {
              "outlinewidth": 0,
              "ticks": ""
             }
            },
            "type": "scattergeo"
           }
          ],
          "scattergl": [
           {
            "marker": {
             "colorbar": {
              "outlinewidth": 0,
              "ticks": ""
             }
            },
            "type": "scattergl"
           }
          ],
          "scattermapbox": [
           {
            "marker": {
             "colorbar": {
              "outlinewidth": 0,
              "ticks": ""
             }
            },
            "type": "scattermapbox"
           }
          ],
          "scatterpolar": [
           {
            "marker": {
             "colorbar": {
              "outlinewidth": 0,
              "ticks": ""
             }
            },
            "type": "scatterpolar"
           }
          ],
          "scatterpolargl": [
           {
            "marker": {
             "colorbar": {
              "outlinewidth": 0,
              "ticks": ""
             }
            },
            "type": "scatterpolargl"
           }
          ],
          "scatterternary": [
           {
            "marker": {
             "colorbar": {
              "outlinewidth": 0,
              "ticks": ""
             }
            },
            "type": "scatterternary"
           }
          ],
          "surface": [
           {
            "colorbar": {
             "outlinewidth": 0,
             "ticks": ""
            },
            "colorscale": [
             [
              0,
              "#0d0887"
             ],
             [
              0.1111111111111111,
              "#46039f"
             ],
             [
              0.2222222222222222,
              "#7201a8"
             ],
             [
              0.3333333333333333,
              "#9c179e"
             ],
             [
              0.4444444444444444,
              "#bd3786"
             ],
             [
              0.5555555555555556,
              "#d8576b"
             ],
             [
              0.6666666666666666,
              "#ed7953"
             ],
             [
              0.7777777777777778,
              "#fb9f3a"
             ],
             [
              0.8888888888888888,
              "#fdca26"
             ],
             [
              1,
              "#f0f921"
             ]
            ],
            "type": "surface"
           }
          ],
          "table": [
           {
            "cells": {
             "fill": {
              "color": "#EBF0F8"
             },
             "line": {
              "color": "white"
             }
            },
            "header": {
             "fill": {
              "color": "#C8D4E3"
             },
             "line": {
              "color": "white"
             }
            },
            "type": "table"
           }
          ]
         },
         "layout": {
          "annotationdefaults": {
           "arrowcolor": "#2a3f5f",
           "arrowhead": 0,
           "arrowwidth": 1
          },
          "coloraxis": {
           "colorbar": {
            "outlinewidth": 0,
            "ticks": ""
           }
          },
          "colorscale": {
           "diverging": [
            [
             0,
             "#8e0152"
            ],
            [
             0.1,
             "#c51b7d"
            ],
            [
             0.2,
             "#de77ae"
            ],
            [
             0.3,
             "#f1b6da"
            ],
            [
             0.4,
             "#fde0ef"
            ],
            [
             0.5,
             "#f7f7f7"
            ],
            [
             0.6,
             "#e6f5d0"
            ],
            [
             0.7,
             "#b8e186"
            ],
            [
             0.8,
             "#7fbc41"
            ],
            [
             0.9,
             "#4d9221"
            ],
            [
             1,
             "#276419"
            ]
           ],
           "sequential": [
            [
             0,
             "#0d0887"
            ],
            [
             0.1111111111111111,
             "#46039f"
            ],
            [
             0.2222222222222222,
             "#7201a8"
            ],
            [
             0.3333333333333333,
             "#9c179e"
            ],
            [
             0.4444444444444444,
             "#bd3786"
            ],
            [
             0.5555555555555556,
             "#d8576b"
            ],
            [
             0.6666666666666666,
             "#ed7953"
            ],
            [
             0.7777777777777778,
             "#fb9f3a"
            ],
            [
             0.8888888888888888,
             "#fdca26"
            ],
            [
             1,
             "#f0f921"
            ]
           ],
           "sequentialminus": [
            [
             0,
             "#0d0887"
            ],
            [
             0.1111111111111111,
             "#46039f"
            ],
            [
             0.2222222222222222,
             "#7201a8"
            ],
            [
             0.3333333333333333,
             "#9c179e"
            ],
            [
             0.4444444444444444,
             "#bd3786"
            ],
            [
             0.5555555555555556,
             "#d8576b"
            ],
            [
             0.6666666666666666,
             "#ed7953"
            ],
            [
             0.7777777777777778,
             "#fb9f3a"
            ],
            [
             0.8888888888888888,
             "#fdca26"
            ],
            [
             1,
             "#f0f921"
            ]
           ]
          },
          "colorway": [
           "#636efa",
           "#EF553B",
           "#00cc96",
           "#ab63fa",
           "#FFA15A",
           "#19d3f3",
           "#FF6692",
           "#B6E880",
           "#FF97FF",
           "#FECB52"
          ],
          "font": {
           "color": "#2a3f5f"
          },
          "geo": {
           "bgcolor": "white",
           "lakecolor": "white",
           "landcolor": "#E5ECF6",
           "showlakes": true,
           "showland": true,
           "subunitcolor": "white"
          },
          "hoverlabel": {
           "align": "left"
          },
          "hovermode": "closest",
          "mapbox": {
           "style": "light"
          },
          "paper_bgcolor": "white",
          "plot_bgcolor": "#E5ECF6",
          "polar": {
           "angularaxis": {
            "gridcolor": "white",
            "linecolor": "white",
            "ticks": ""
           },
           "bgcolor": "#E5ECF6",
           "radialaxis": {
            "gridcolor": "white",
            "linecolor": "white",
            "ticks": ""
           }
          },
          "scene": {
           "xaxis": {
            "backgroundcolor": "#E5ECF6",
            "gridcolor": "white",
            "gridwidth": 2,
            "linecolor": "white",
            "showbackground": true,
            "ticks": "",
            "zerolinecolor": "white"
           },
           "yaxis": {
            "backgroundcolor": "#E5ECF6",
            "gridcolor": "white",
            "gridwidth": 2,
            "linecolor": "white",
            "showbackground": true,
            "ticks": "",
            "zerolinecolor": "white"
           },
           "zaxis": {
            "backgroundcolor": "#E5ECF6",
            "gridcolor": "white",
            "gridwidth": 2,
            "linecolor": "white",
            "showbackground": true,
            "ticks": "",
            "zerolinecolor": "white"
           }
          },
          "shapedefaults": {
           "line": {
            "color": "#2a3f5f"
           }
          },
          "ternary": {
           "aaxis": {
            "gridcolor": "white",
            "linecolor": "white",
            "ticks": ""
           },
           "baxis": {
            "gridcolor": "white",
            "linecolor": "white",
            "ticks": ""
           },
           "bgcolor": "#E5ECF6",
           "caxis": {
            "gridcolor": "white",
            "linecolor": "white",
            "ticks": ""
           }
          },
          "title": {
           "x": 0.05
          },
          "xaxis": {
           "automargin": true,
           "gridcolor": "white",
           "linecolor": "white",
           "ticks": "",
           "title": {
            "standoff": 15
           },
           "zerolinecolor": "white",
           "zerolinewidth": 2
          },
          "yaxis": {
           "automargin": true,
           "gridcolor": "white",
           "linecolor": "white",
           "ticks": "",
           "title": {
            "standoff": 15
           },
           "zerolinecolor": "white",
           "zerolinewidth": 2
          }
         }
        },
        "title": {
         "font": {
          "color": "#4D5663"
         }
        },
        "xaxis": {
         "gridcolor": "#E1E5ED",
         "showgrid": true,
         "tickfont": {
          "color": "#4D5663"
         },
         "title": {
          "font": {
           "color": "#4D5663"
          },
          "text": ""
         },
         "zerolinecolor": "#E1E5ED"
        },
        "yaxis": {
         "gridcolor": "#E1E5ED",
         "showgrid": true,
         "tickfont": {
          "color": "#4D5663"
         },
         "title": {
          "font": {
           "color": "#4D5663"
          },
          "text": ""
         },
         "zerolinecolor": "#E1E5ED"
        }
       }
      },
      "text/html": [
       "<div>\n",
       "        \n",
       "        \n",
       "            <div id=\"22b3363e-3838-4475-a537-97c0452c1d33\" class=\"plotly-graph-div\" style=\"height:525px; width:100%;\"></div>\n",
       "            <script type=\"text/javascript\">\n",
       "                require([\"plotly\"], function(Plotly) {\n",
       "                    window.PLOTLYENV=window.PLOTLYENV || {};\n",
       "                    window.PLOTLYENV.BASE_URL='https://plot.ly';\n",
       "                    \n",
       "                if (document.getElementById(\"22b3363e-3838-4475-a537-97c0452c1d33\")) {\n",
       "                    Plotly.newPlot(\n",
       "                        '22b3363e-3838-4475-a537-97c0452c1d33',\n",
       "                        [{\"boxpoints\": false, \"line\": {\"width\": 1.3}, \"marker\": {\"color\": \"rgba(255, 153, 51, 1.0)\"}, \"name\": \"category\", \"orientation\": \"v\", \"type\": \"box\", \"y\": [\"A\", \"B\", \"C\"]}, {\"boxpoints\": false, \"line\": {\"width\": 1.3}, \"marker\": {\"color\": \"rgba(55, 128, 191, 1.0)\"}, \"name\": \"values\", \"orientation\": \"v\", \"type\": \"box\", \"y\": [22, 3, 4]}],\n",
       "                        {\"legend\": {\"bgcolor\": \"#F5F6F9\", \"font\": {\"color\": \"#4D5663\"}}, \"paper_bgcolor\": \"#F5F6F9\", \"plot_bgcolor\": \"#F5F6F9\", \"template\": {\"data\": {\"bar\": [{\"error_x\": {\"color\": \"#2a3f5f\"}, \"error_y\": {\"color\": \"#2a3f5f\"}, \"marker\": {\"line\": {\"color\": \"#E5ECF6\", \"width\": 0.5}}, \"type\": \"bar\"}], \"barpolar\": [{\"marker\": {\"line\": {\"color\": \"#E5ECF6\", \"width\": 0.5}}, \"type\": \"barpolar\"}], \"carpet\": [{\"aaxis\": {\"endlinecolor\": \"#2a3f5f\", \"gridcolor\": \"white\", \"linecolor\": \"white\", \"minorgridcolor\": \"white\", \"startlinecolor\": \"#2a3f5f\"}, \"baxis\": {\"endlinecolor\": \"#2a3f5f\", \"gridcolor\": \"white\", \"linecolor\": \"white\", \"minorgridcolor\": \"white\", \"startlinecolor\": \"#2a3f5f\"}, \"type\": \"carpet\"}], \"choropleth\": [{\"colorbar\": {\"outlinewidth\": 0, \"ticks\": \"\"}, \"type\": \"choropleth\"}], \"contour\": [{\"colorbar\": {\"outlinewidth\": 0, \"ticks\": \"\"}, \"colorscale\": [[0.0, \"#0d0887\"], [0.1111111111111111, \"#46039f\"], [0.2222222222222222, \"#7201a8\"], [0.3333333333333333, \"#9c179e\"], [0.4444444444444444, \"#bd3786\"], [0.5555555555555556, \"#d8576b\"], [0.6666666666666666, \"#ed7953\"], [0.7777777777777778, \"#fb9f3a\"], [0.8888888888888888, \"#fdca26\"], [1.0, \"#f0f921\"]], \"type\": \"contour\"}], \"contourcarpet\": [{\"colorbar\": {\"outlinewidth\": 0, \"ticks\": \"\"}, \"type\": \"contourcarpet\"}], \"heatmap\": [{\"colorbar\": {\"outlinewidth\": 0, \"ticks\": \"\"}, \"colorscale\": [[0.0, \"#0d0887\"], [0.1111111111111111, \"#46039f\"], [0.2222222222222222, \"#7201a8\"], [0.3333333333333333, \"#9c179e\"], [0.4444444444444444, \"#bd3786\"], [0.5555555555555556, \"#d8576b\"], [0.6666666666666666, \"#ed7953\"], [0.7777777777777778, \"#fb9f3a\"], [0.8888888888888888, \"#fdca26\"], [1.0, \"#f0f921\"]], \"type\": \"heatmap\"}], \"heatmapgl\": [{\"colorbar\": {\"outlinewidth\": 0, \"ticks\": \"\"}, \"colorscale\": [[0.0, \"#0d0887\"], [0.1111111111111111, \"#46039f\"], [0.2222222222222222, \"#7201a8\"], [0.3333333333333333, \"#9c179e\"], [0.4444444444444444, \"#bd3786\"], [0.5555555555555556, \"#d8576b\"], [0.6666666666666666, \"#ed7953\"], [0.7777777777777778, \"#fb9f3a\"], [0.8888888888888888, \"#fdca26\"], [1.0, \"#f0f921\"]], \"type\": \"heatmapgl\"}], \"histogram\": [{\"marker\": {\"colorbar\": {\"outlinewidth\": 0, \"ticks\": \"\"}}, \"type\": \"histogram\"}], \"histogram2d\": [{\"colorbar\": {\"outlinewidth\": 0, \"ticks\": \"\"}, \"colorscale\": [[0.0, \"#0d0887\"], [0.1111111111111111, \"#46039f\"], [0.2222222222222222, \"#7201a8\"], [0.3333333333333333, \"#9c179e\"], [0.4444444444444444, \"#bd3786\"], [0.5555555555555556, \"#d8576b\"], [0.6666666666666666, \"#ed7953\"], [0.7777777777777778, \"#fb9f3a\"], [0.8888888888888888, \"#fdca26\"], [1.0, \"#f0f921\"]], \"type\": \"histogram2d\"}], \"histogram2dcontour\": [{\"colorbar\": {\"outlinewidth\": 0, \"ticks\": \"\"}, \"colorscale\": [[0.0, \"#0d0887\"], [0.1111111111111111, \"#46039f\"], [0.2222222222222222, \"#7201a8\"], [0.3333333333333333, \"#9c179e\"], [0.4444444444444444, \"#bd3786\"], [0.5555555555555556, \"#d8576b\"], [0.6666666666666666, \"#ed7953\"], [0.7777777777777778, \"#fb9f3a\"], [0.8888888888888888, \"#fdca26\"], [1.0, \"#f0f921\"]], \"type\": \"histogram2dcontour\"}], \"mesh3d\": [{\"colorbar\": {\"outlinewidth\": 0, \"ticks\": \"\"}, \"type\": \"mesh3d\"}], \"parcoords\": [{\"line\": {\"colorbar\": {\"outlinewidth\": 0, \"ticks\": \"\"}}, \"type\": \"parcoords\"}], \"pie\": [{\"automargin\": true, \"type\": \"pie\"}], \"scatter\": [{\"marker\": {\"colorbar\": {\"outlinewidth\": 0, \"ticks\": \"\"}}, \"type\": \"scatter\"}], \"scatter3d\": [{\"line\": {\"colorbar\": {\"outlinewidth\": 0, \"ticks\": \"\"}}, \"marker\": {\"colorbar\": {\"outlinewidth\": 0, \"ticks\": \"\"}}, \"type\": \"scatter3d\"}], \"scattercarpet\": [{\"marker\": {\"colorbar\": {\"outlinewidth\": 0, \"ticks\": \"\"}}, \"type\": \"scattercarpet\"}], \"scattergeo\": [{\"marker\": {\"colorbar\": {\"outlinewidth\": 0, \"ticks\": \"\"}}, \"type\": \"scattergeo\"}], \"scattergl\": [{\"marker\": {\"colorbar\": {\"outlinewidth\": 0, \"ticks\": \"\"}}, \"type\": \"scattergl\"}], \"scattermapbox\": [{\"marker\": {\"colorbar\": {\"outlinewidth\": 0, \"ticks\": \"\"}}, \"type\": \"scattermapbox\"}], \"scatterpolar\": [{\"marker\": {\"colorbar\": {\"outlinewidth\": 0, \"ticks\": \"\"}}, \"type\": \"scatterpolar\"}], \"scatterpolargl\": [{\"marker\": {\"colorbar\": {\"outlinewidth\": 0, \"ticks\": \"\"}}, \"type\": \"scatterpolargl\"}], \"scatterternary\": [{\"marker\": {\"colorbar\": {\"outlinewidth\": 0, \"ticks\": \"\"}}, \"type\": \"scatterternary\"}], \"surface\": [{\"colorbar\": {\"outlinewidth\": 0, \"ticks\": \"\"}, \"colorscale\": [[0.0, \"#0d0887\"], [0.1111111111111111, \"#46039f\"], [0.2222222222222222, \"#7201a8\"], [0.3333333333333333, \"#9c179e\"], [0.4444444444444444, \"#bd3786\"], [0.5555555555555556, \"#d8576b\"], [0.6666666666666666, \"#ed7953\"], [0.7777777777777778, \"#fb9f3a\"], [0.8888888888888888, \"#fdca26\"], [1.0, \"#f0f921\"]], \"type\": \"surface\"}], \"table\": [{\"cells\": {\"fill\": {\"color\": \"#EBF0F8\"}, \"line\": {\"color\": \"white\"}}, \"header\": {\"fill\": {\"color\": \"#C8D4E3\"}, \"line\": {\"color\": \"white\"}}, \"type\": \"table\"}]}, \"layout\": {\"annotationdefaults\": {\"arrowcolor\": \"#2a3f5f\", \"arrowhead\": 0, \"arrowwidth\": 1}, \"coloraxis\": {\"colorbar\": {\"outlinewidth\": 0, \"ticks\": \"\"}}, \"colorscale\": {\"diverging\": [[0, \"#8e0152\"], [0.1, \"#c51b7d\"], [0.2, \"#de77ae\"], [0.3, \"#f1b6da\"], [0.4, \"#fde0ef\"], [0.5, \"#f7f7f7\"], [0.6, \"#e6f5d0\"], [0.7, \"#b8e186\"], [0.8, \"#7fbc41\"], [0.9, \"#4d9221\"], [1, \"#276419\"]], \"sequential\": [[0.0, \"#0d0887\"], [0.1111111111111111, \"#46039f\"], [0.2222222222222222, \"#7201a8\"], [0.3333333333333333, \"#9c179e\"], [0.4444444444444444, \"#bd3786\"], [0.5555555555555556, \"#d8576b\"], [0.6666666666666666, \"#ed7953\"], [0.7777777777777778, \"#fb9f3a\"], [0.8888888888888888, \"#fdca26\"], [1.0, \"#f0f921\"]], \"sequentialminus\": [[0.0, \"#0d0887\"], [0.1111111111111111, \"#46039f\"], [0.2222222222222222, \"#7201a8\"], [0.3333333333333333, \"#9c179e\"], [0.4444444444444444, \"#bd3786\"], [0.5555555555555556, \"#d8576b\"], [0.6666666666666666, \"#ed7953\"], [0.7777777777777778, \"#fb9f3a\"], [0.8888888888888888, \"#fdca26\"], [1.0, \"#f0f921\"]]}, \"colorway\": [\"#636efa\", \"#EF553B\", \"#00cc96\", \"#ab63fa\", \"#FFA15A\", \"#19d3f3\", \"#FF6692\", \"#B6E880\", \"#FF97FF\", \"#FECB52\"], \"font\": {\"color\": \"#2a3f5f\"}, \"geo\": {\"bgcolor\": \"white\", \"lakecolor\": \"white\", \"landcolor\": \"#E5ECF6\", \"showlakes\": true, \"showland\": true, \"subunitcolor\": \"white\"}, \"hoverlabel\": {\"align\": \"left\"}, \"hovermode\": \"closest\", \"mapbox\": {\"style\": \"light\"}, \"paper_bgcolor\": \"white\", \"plot_bgcolor\": \"#E5ECF6\", \"polar\": {\"angularaxis\": {\"gridcolor\": \"white\", \"linecolor\": \"white\", \"ticks\": \"\"}, \"bgcolor\": \"#E5ECF6\", \"radialaxis\": {\"gridcolor\": \"white\", \"linecolor\": \"white\", \"ticks\": \"\"}}, \"scene\": {\"xaxis\": {\"backgroundcolor\": \"#E5ECF6\", \"gridcolor\": \"white\", \"gridwidth\": 2, \"linecolor\": \"white\", \"showbackground\": true, \"ticks\": \"\", \"zerolinecolor\": \"white\"}, \"yaxis\": {\"backgroundcolor\": \"#E5ECF6\", \"gridcolor\": \"white\", \"gridwidth\": 2, \"linecolor\": \"white\", \"showbackground\": true, \"ticks\": \"\", \"zerolinecolor\": \"white\"}, \"zaxis\": {\"backgroundcolor\": \"#E5ECF6\", \"gridcolor\": \"white\", \"gridwidth\": 2, \"linecolor\": \"white\", \"showbackground\": true, \"ticks\": \"\", \"zerolinecolor\": \"white\"}}, \"shapedefaults\": {\"line\": {\"color\": \"#2a3f5f\"}}, \"ternary\": {\"aaxis\": {\"gridcolor\": \"white\", \"linecolor\": \"white\", \"ticks\": \"\"}, \"baxis\": {\"gridcolor\": \"white\", \"linecolor\": \"white\", \"ticks\": \"\"}, \"bgcolor\": \"#E5ECF6\", \"caxis\": {\"gridcolor\": \"white\", \"linecolor\": \"white\", \"ticks\": \"\"}}, \"title\": {\"x\": 0.05}, \"xaxis\": {\"automargin\": true, \"gridcolor\": \"white\", \"linecolor\": \"white\", \"ticks\": \"\", \"title\": {\"standoff\": 15}, \"zerolinecolor\": \"white\", \"zerolinewidth\": 2}, \"yaxis\": {\"automargin\": true, \"gridcolor\": \"white\", \"linecolor\": \"white\", \"ticks\": \"\", \"title\": {\"standoff\": 15}, \"zerolinecolor\": \"white\", \"zerolinewidth\": 2}}}, \"title\": {\"font\": {\"color\": \"#4D5663\"}}, \"xaxis\": {\"gridcolor\": \"#E1E5ED\", \"showgrid\": true, \"tickfont\": {\"color\": \"#4D5663\"}, \"title\": {\"font\": {\"color\": \"#4D5663\"}, \"text\": \"\"}, \"zerolinecolor\": \"#E1E5ED\"}, \"yaxis\": {\"gridcolor\": \"#E1E5ED\", \"showgrid\": true, \"tickfont\": {\"color\": \"#4D5663\"}, \"title\": {\"font\": {\"color\": \"#4D5663\"}, \"text\": \"\"}, \"zerolinecolor\": \"#E1E5ED\"}},\n",
       "                        {\"showLink\": true, \"linkText\": \"Export to plot.ly\", \"plotlyServerURL\": \"https://plot.ly\", \"responsive\": true}\n",
       "                    ).then(function(){\n",
       "                            \n",
       "var gd = document.getElementById('22b3363e-3838-4475-a537-97c0452c1d33');\n",
       "var x = new MutationObserver(function (mutations, observer) {{\n",
       "        var display = window.getComputedStyle(gd).display;\n",
       "        if (!display || display === 'none') {{\n",
       "            console.log([gd, 'removed!']);\n",
       "            Plotly.purge(gd);\n",
       "            observer.disconnect();\n",
       "        }}\n",
       "}});\n",
       "\n",
       "// Listen for the removal of the full notebook cells\n",
       "var notebookContainer = gd.closest('#notebook-container');\n",
       "if (notebookContainer) {{\n",
       "    x.observe(notebookContainer, {childList: true});\n",
       "}}\n",
       "\n",
       "// Listen for the clearing of the current output cell\n",
       "var outputEl = gd.closest('.output');\n",
       "if (outputEl) {{\n",
       "    x.observe(outputEl, {childList: true});\n",
       "}}\n",
       "\n",
       "                        })\n",
       "                };\n",
       "                });\n",
       "            </script>\n",
       "        </div>"
      ]
     },
     "metadata": {},
     "output_type": "display_data"
    }
   ],
   "source": [
    "df2.iplot(kind='box')"
   ]
  },
  {
   "cell_type": "code",
   "execution_count": 12,
   "metadata": {},
   "outputs": [
    {
     "data": {
      "text/html": [
       "<div>\n",
       "<style scoped>\n",
       "    .dataframe tbody tr th:only-of-type {\n",
       "        vertical-align: middle;\n",
       "    }\n",
       "\n",
       "    .dataframe tbody tr th {\n",
       "        vertical-align: top;\n",
       "    }\n",
       "\n",
       "    .dataframe thead th {\n",
       "        text-align: right;\n",
       "    }\n",
       "</style>\n",
       "<table border=\"1\" class=\"dataframe\">\n",
       "  <thead>\n",
       "    <tr style=\"text-align: right;\">\n",
       "      <th></th>\n",
       "      <th>x</th>\n",
       "      <th>y</th>\n",
       "      <th>z</th>\n",
       "    </tr>\n",
       "  </thead>\n",
       "  <tbody>\n",
       "    <tr>\n",
       "      <th>0</th>\n",
       "      <td>1</td>\n",
       "      <td>6</td>\n",
       "      <td>11</td>\n",
       "    </tr>\n",
       "    <tr>\n",
       "      <th>1</th>\n",
       "      <td>2</td>\n",
       "      <td>7</td>\n",
       "      <td>12</td>\n",
       "    </tr>\n",
       "    <tr>\n",
       "      <th>2</th>\n",
       "      <td>3</td>\n",
       "      <td>8</td>\n",
       "      <td>13</td>\n",
       "    </tr>\n",
       "    <tr>\n",
       "      <th>3</th>\n",
       "      <td>4</td>\n",
       "      <td>9</td>\n",
       "      <td>14</td>\n",
       "    </tr>\n",
       "    <tr>\n",
       "      <th>4</th>\n",
       "      <td>5</td>\n",
       "      <td>10</td>\n",
       "      <td>15</td>\n",
       "    </tr>\n",
       "  </tbody>\n",
       "</table>\n",
       "</div>"
      ],
      "text/plain": [
       "   x   y   z\n",
       "0  1   6  11\n",
       "1  2   7  12\n",
       "2  3   8  13\n",
       "3  4   9  14\n",
       "4  5  10  15"
      ]
     },
     "execution_count": 12,
     "metadata": {},
     "output_type": "execute_result"
    }
   ],
   "source": [
    "df3=pd.DataFrame({'x':[1,2,3,4,5],'y':[6,7,8,9,10],'z':[11,12,13,14,15]})\n",
    "df3"
   ]
  },
  {
   "cell_type": "code",
   "execution_count": 13,
   "metadata": {},
   "outputs": [
    {
     "data": {
      "application/vnd.plotly.v1+json": {
       "config": {
        "linkText": "Export to plot.ly",
        "plotlyServerURL": "https://plot.ly",
        "showLink": true
       },
       "data": [
        {
         "line": {
          "color": "rgba(255, 153, 51, 1.0)",
          "dash": "solid",
          "shape": "linear",
          "width": 1.3
         },
         "marker": {
          "size": 12,
          "symbol": "circle"
         },
         "mode": "lines+markers",
         "name": "x",
         "text": "",
         "type": "scatter",
         "x": [
          0,
          1,
          2,
          3,
          4
         ],
         "y": [
          1,
          2,
          3,
          4,
          5
         ]
        },
        {
         "line": {
          "color": "rgba(55, 128, 191, 1.0)",
          "dash": "solid",
          "shape": "linear",
          "width": 1.3
         },
         "marker": {
          "size": 12,
          "symbol": "circle"
         },
         "mode": "lines+markers",
         "name": "y",
         "text": "",
         "type": "scatter",
         "x": [
          0,
          1,
          2,
          3,
          4
         ],
         "y": [
          6,
          7,
          8,
          9,
          10
         ]
        },
        {
         "line": {
          "color": "rgba(50, 171, 96, 1.0)",
          "dash": "solid",
          "shape": "linear",
          "width": 1.3
         },
         "marker": {
          "size": 12,
          "symbol": "circle"
         },
         "mode": "lines+markers",
         "name": "z",
         "text": "",
         "type": "scatter",
         "x": [
          0,
          1,
          2,
          3,
          4
         ],
         "y": [
          11,
          12,
          13,
          14,
          15
         ]
        }
       ],
       "layout": {
        "legend": {
         "bgcolor": "#F5F6F9",
         "font": {
          "color": "#4D5663"
         }
        },
        "paper_bgcolor": "#F5F6F9",
        "plot_bgcolor": "#F5F6F9",
        "template": {
         "data": {
          "bar": [
           {
            "error_x": {
             "color": "#2a3f5f"
            },
            "error_y": {
             "color": "#2a3f5f"
            },
            "marker": {
             "line": {
              "color": "#E5ECF6",
              "width": 0.5
             }
            },
            "type": "bar"
           }
          ],
          "barpolar": [
           {
            "marker": {
             "line": {
              "color": "#E5ECF6",
              "width": 0.5
             }
            },
            "type": "barpolar"
           }
          ],
          "carpet": [
           {
            "aaxis": {
             "endlinecolor": "#2a3f5f",
             "gridcolor": "white",
             "linecolor": "white",
             "minorgridcolor": "white",
             "startlinecolor": "#2a3f5f"
            },
            "baxis": {
             "endlinecolor": "#2a3f5f",
             "gridcolor": "white",
             "linecolor": "white",
             "minorgridcolor": "white",
             "startlinecolor": "#2a3f5f"
            },
            "type": "carpet"
           }
          ],
          "choropleth": [
           {
            "colorbar": {
             "outlinewidth": 0,
             "ticks": ""
            },
            "type": "choropleth"
           }
          ],
          "contour": [
           {
            "colorbar": {
             "outlinewidth": 0,
             "ticks": ""
            },
            "colorscale": [
             [
              0,
              "#0d0887"
             ],
             [
              0.1111111111111111,
              "#46039f"
             ],
             [
              0.2222222222222222,
              "#7201a8"
             ],
             [
              0.3333333333333333,
              "#9c179e"
             ],
             [
              0.4444444444444444,
              "#bd3786"
             ],
             [
              0.5555555555555556,
              "#d8576b"
             ],
             [
              0.6666666666666666,
              "#ed7953"
             ],
             [
              0.7777777777777778,
              "#fb9f3a"
             ],
             [
              0.8888888888888888,
              "#fdca26"
             ],
             [
              1,
              "#f0f921"
             ]
            ],
            "type": "contour"
           }
          ],
          "contourcarpet": [
           {
            "colorbar": {
             "outlinewidth": 0,
             "ticks": ""
            },
            "type": "contourcarpet"
           }
          ],
          "heatmap": [
           {
            "colorbar": {
             "outlinewidth": 0,
             "ticks": ""
            },
            "colorscale": [
             [
              0,
              "#0d0887"
             ],
             [
              0.1111111111111111,
              "#46039f"
             ],
             [
              0.2222222222222222,
              "#7201a8"
             ],
             [
              0.3333333333333333,
              "#9c179e"
             ],
             [
              0.4444444444444444,
              "#bd3786"
             ],
             [
              0.5555555555555556,
              "#d8576b"
             ],
             [
              0.6666666666666666,
              "#ed7953"
             ],
             [
              0.7777777777777778,
              "#fb9f3a"
             ],
             [
              0.8888888888888888,
              "#fdca26"
             ],
             [
              1,
              "#f0f921"
             ]
            ],
            "type": "heatmap"
           }
          ],
          "heatmapgl": [
           {
            "colorbar": {
             "outlinewidth": 0,
             "ticks": ""
            },
            "colorscale": [
             [
              0,
              "#0d0887"
             ],
             [
              0.1111111111111111,
              "#46039f"
             ],
             [
              0.2222222222222222,
              "#7201a8"
             ],
             [
              0.3333333333333333,
              "#9c179e"
             ],
             [
              0.4444444444444444,
              "#bd3786"
             ],
             [
              0.5555555555555556,
              "#d8576b"
             ],
             [
              0.6666666666666666,
              "#ed7953"
             ],
             [
              0.7777777777777778,
              "#fb9f3a"
             ],
             [
              0.8888888888888888,
              "#fdca26"
             ],
             [
              1,
              "#f0f921"
             ]
            ],
            "type": "heatmapgl"
           }
          ],
          "histogram": [
           {
            "marker": {
             "colorbar": {
              "outlinewidth": 0,
              "ticks": ""
             }
            },
            "type": "histogram"
           }
          ],
          "histogram2d": [
           {
            "colorbar": {
             "outlinewidth": 0,
             "ticks": ""
            },
            "colorscale": [
             [
              0,
              "#0d0887"
             ],
             [
              0.1111111111111111,
              "#46039f"
             ],
             [
              0.2222222222222222,
              "#7201a8"
             ],
             [
              0.3333333333333333,
              "#9c179e"
             ],
             [
              0.4444444444444444,
              "#bd3786"
             ],
             [
              0.5555555555555556,
              "#d8576b"
             ],
             [
              0.6666666666666666,
              "#ed7953"
             ],
             [
              0.7777777777777778,
              "#fb9f3a"
             ],
             [
              0.8888888888888888,
              "#fdca26"
             ],
             [
              1,
              "#f0f921"
             ]
            ],
            "type": "histogram2d"
           }
          ],
          "histogram2dcontour": [
           {
            "colorbar": {
             "outlinewidth": 0,
             "ticks": ""
            },
            "colorscale": [
             [
              0,
              "#0d0887"
             ],
             [
              0.1111111111111111,
              "#46039f"
             ],
             [
              0.2222222222222222,
              "#7201a8"
             ],
             [
              0.3333333333333333,
              "#9c179e"
             ],
             [
              0.4444444444444444,
              "#bd3786"
             ],
             [
              0.5555555555555556,
              "#d8576b"
             ],
             [
              0.6666666666666666,
              "#ed7953"
             ],
             [
              0.7777777777777778,
              "#fb9f3a"
             ],
             [
              0.8888888888888888,
              "#fdca26"
             ],
             [
              1,
              "#f0f921"
             ]
            ],
            "type": "histogram2dcontour"
           }
          ],
          "mesh3d": [
           {
            "colorbar": {
             "outlinewidth": 0,
             "ticks": ""
            },
            "type": "mesh3d"
           }
          ],
          "parcoords": [
           {
            "line": {
             "colorbar": {
              "outlinewidth": 0,
              "ticks": ""
             }
            },
            "type": "parcoords"
           }
          ],
          "pie": [
           {
            "automargin": true,
            "type": "pie"
           }
          ],
          "scatter": [
           {
            "marker": {
             "colorbar": {
              "outlinewidth": 0,
              "ticks": ""
             }
            },
            "type": "scatter"
           }
          ],
          "scatter3d": [
           {
            "line": {
             "colorbar": {
              "outlinewidth": 0,
              "ticks": ""
             }
            },
            "marker": {
             "colorbar": {
              "outlinewidth": 0,
              "ticks": ""
             }
            },
            "type": "scatter3d"
           }
          ],
          "scattercarpet": [
           {
            "marker": {
             "colorbar": {
              "outlinewidth": 0,
              "ticks": ""
             }
            },
            "type": "scattercarpet"
           }
          ],
          "scattergeo": [
           {
            "marker": {
             "colorbar": {
              "outlinewidth": 0,
              "ticks": ""
             }
            },
            "type": "scattergeo"
           }
          ],
          "scattergl": [
           {
            "marker": {
             "colorbar": {
              "outlinewidth": 0,
              "ticks": ""
             }
            },
            "type": "scattergl"
           }
          ],
          "scattermapbox": [
           {
            "marker": {
             "colorbar": {
              "outlinewidth": 0,
              "ticks": ""
             }
            },
            "type": "scattermapbox"
           }
          ],
          "scatterpolar": [
           {
            "marker": {
             "colorbar": {
              "outlinewidth": 0,
              "ticks": ""
             }
            },
            "type": "scatterpolar"
           }
          ],
          "scatterpolargl": [
           {
            "marker": {
             "colorbar": {
              "outlinewidth": 0,
              "ticks": ""
             }
            },
            "type": "scatterpolargl"
           }
          ],
          "scatterternary": [
           {
            "marker": {
             "colorbar": {
              "outlinewidth": 0,
              "ticks": ""
             }
            },
            "type": "scatterternary"
           }
          ],
          "surface": [
           {
            "colorbar": {
             "outlinewidth": 0,
             "ticks": ""
            },
            "colorscale": [
             [
              0,
              "#0d0887"
             ],
             [
              0.1111111111111111,
              "#46039f"
             ],
             [
              0.2222222222222222,
              "#7201a8"
             ],
             [
              0.3333333333333333,
              "#9c179e"
             ],
             [
              0.4444444444444444,
              "#bd3786"
             ],
             [
              0.5555555555555556,
              "#d8576b"
             ],
             [
              0.6666666666666666,
              "#ed7953"
             ],
             [
              0.7777777777777778,
              "#fb9f3a"
             ],
             [
              0.8888888888888888,
              "#fdca26"
             ],
             [
              1,
              "#f0f921"
             ]
            ],
            "type": "surface"
           }
          ],
          "table": [
           {
            "cells": {
             "fill": {
              "color": "#EBF0F8"
             },
             "line": {
              "color": "white"
             }
            },
            "header": {
             "fill": {
              "color": "#C8D4E3"
             },
             "line": {
              "color": "white"
             }
            },
            "type": "table"
           }
          ]
         },
         "layout": {
          "annotationdefaults": {
           "arrowcolor": "#2a3f5f",
           "arrowhead": 0,
           "arrowwidth": 1
          },
          "coloraxis": {
           "colorbar": {
            "outlinewidth": 0,
            "ticks": ""
           }
          },
          "colorscale": {
           "diverging": [
            [
             0,
             "#8e0152"
            ],
            [
             0.1,
             "#c51b7d"
            ],
            [
             0.2,
             "#de77ae"
            ],
            [
             0.3,
             "#f1b6da"
            ],
            [
             0.4,
             "#fde0ef"
            ],
            [
             0.5,
             "#f7f7f7"
            ],
            [
             0.6,
             "#e6f5d0"
            ],
            [
             0.7,
             "#b8e186"
            ],
            [
             0.8,
             "#7fbc41"
            ],
            [
             0.9,
             "#4d9221"
            ],
            [
             1,
             "#276419"
            ]
           ],
           "sequential": [
            [
             0,
             "#0d0887"
            ],
            [
             0.1111111111111111,
             "#46039f"
            ],
            [
             0.2222222222222222,
             "#7201a8"
            ],
            [
             0.3333333333333333,
             "#9c179e"
            ],
            [
             0.4444444444444444,
             "#bd3786"
            ],
            [
             0.5555555555555556,
             "#d8576b"
            ],
            [
             0.6666666666666666,
             "#ed7953"
            ],
            [
             0.7777777777777778,
             "#fb9f3a"
            ],
            [
             0.8888888888888888,
             "#fdca26"
            ],
            [
             1,
             "#f0f921"
            ]
           ],
           "sequentialminus": [
            [
             0,
             "#0d0887"
            ],
            [
             0.1111111111111111,
             "#46039f"
            ],
            [
             0.2222222222222222,
             "#7201a8"
            ],
            [
             0.3333333333333333,
             "#9c179e"
            ],
            [
             0.4444444444444444,
             "#bd3786"
            ],
            [
             0.5555555555555556,
             "#d8576b"
            ],
            [
             0.6666666666666666,
             "#ed7953"
            ],
            [
             0.7777777777777778,
             "#fb9f3a"
            ],
            [
             0.8888888888888888,
             "#fdca26"
            ],
            [
             1,
             "#f0f921"
            ]
           ]
          },
          "colorway": [
           "#636efa",
           "#EF553B",
           "#00cc96",
           "#ab63fa",
           "#FFA15A",
           "#19d3f3",
           "#FF6692",
           "#B6E880",
           "#FF97FF",
           "#FECB52"
          ],
          "font": {
           "color": "#2a3f5f"
          },
          "geo": {
           "bgcolor": "white",
           "lakecolor": "white",
           "landcolor": "#E5ECF6",
           "showlakes": true,
           "showland": true,
           "subunitcolor": "white"
          },
          "hoverlabel": {
           "align": "left"
          },
          "hovermode": "closest",
          "mapbox": {
           "style": "light"
          },
          "paper_bgcolor": "white",
          "plot_bgcolor": "#E5ECF6",
          "polar": {
           "angularaxis": {
            "gridcolor": "white",
            "linecolor": "white",
            "ticks": ""
           },
           "bgcolor": "#E5ECF6",
           "radialaxis": {
            "gridcolor": "white",
            "linecolor": "white",
            "ticks": ""
           }
          },
          "scene": {
           "xaxis": {
            "backgroundcolor": "#E5ECF6",
            "gridcolor": "white",
            "gridwidth": 2,
            "linecolor": "white",
            "showbackground": true,
            "ticks": "",
            "zerolinecolor": "white"
           },
           "yaxis": {
            "backgroundcolor": "#E5ECF6",
            "gridcolor": "white",
            "gridwidth": 2,
            "linecolor": "white",
            "showbackground": true,
            "ticks": "",
            "zerolinecolor": "white"
           },
           "zaxis": {
            "backgroundcolor": "#E5ECF6",
            "gridcolor": "white",
            "gridwidth": 2,
            "linecolor": "white",
            "showbackground": true,
            "ticks": "",
            "zerolinecolor": "white"
           }
          },
          "shapedefaults": {
           "line": {
            "color": "#2a3f5f"
           }
          },
          "ternary": {
           "aaxis": {
            "gridcolor": "white",
            "linecolor": "white",
            "ticks": ""
           },
           "baxis": {
            "gridcolor": "white",
            "linecolor": "white",
            "ticks": ""
           },
           "bgcolor": "#E5ECF6",
           "caxis": {
            "gridcolor": "white",
            "linecolor": "white",
            "ticks": ""
           }
          },
          "title": {
           "x": 0.05
          },
          "xaxis": {
           "automargin": true,
           "gridcolor": "white",
           "linecolor": "white",
           "ticks": "",
           "title": {
            "standoff": 15
           },
           "zerolinecolor": "white",
           "zerolinewidth": 2
          },
          "yaxis": {
           "automargin": true,
           "gridcolor": "white",
           "linecolor": "white",
           "ticks": "",
           "title": {
            "standoff": 15
           },
           "zerolinecolor": "white",
           "zerolinewidth": 2
          }
         }
        },
        "title": {
         "font": {
          "color": "#4D5663"
         }
        },
        "xaxis": {
         "gridcolor": "#E1E5ED",
         "showgrid": true,
         "tickfont": {
          "color": "#4D5663"
         },
         "title": {
          "font": {
           "color": "#4D5663"
          },
          "text": ""
         },
         "zerolinecolor": "#E1E5ED"
        },
        "yaxis": {
         "gridcolor": "#E1E5ED",
         "showgrid": true,
         "tickfont": {
          "color": "#4D5663"
         },
         "title": {
          "font": {
           "color": "#4D5663"
          },
          "text": ""
         },
         "zerolinecolor": "#E1E5ED"
        }
       }
      },
      "text/html": [
       "<div>\n",
       "        \n",
       "        \n",
       "            <div id=\"32058adc-c09c-44f9-b857-1e6186314ffc\" class=\"plotly-graph-div\" style=\"height:525px; width:100%;\"></div>\n",
       "            <script type=\"text/javascript\">\n",
       "                require([\"plotly\"], function(Plotly) {\n",
       "                    window.PLOTLYENV=window.PLOTLYENV || {};\n",
       "                    window.PLOTLYENV.BASE_URL='https://plot.ly';\n",
       "                    \n",
       "                if (document.getElementById(\"32058adc-c09c-44f9-b857-1e6186314ffc\")) {\n",
       "                    Plotly.newPlot(\n",
       "                        '32058adc-c09c-44f9-b857-1e6186314ffc',\n",
       "                        [{\"line\": {\"color\": \"rgba(255, 153, 51, 1.0)\", \"dash\": \"solid\", \"shape\": \"linear\", \"width\": 1.3}, \"marker\": {\"size\": 12, \"symbol\": \"circle\"}, \"mode\": \"lines+markers\", \"name\": \"x\", \"text\": \"\", \"type\": \"scatter\", \"x\": [0, 1, 2, 3, 4], \"y\": [1, 2, 3, 4, 5]}, {\"line\": {\"color\": \"rgba(55, 128, 191, 1.0)\", \"dash\": \"solid\", \"shape\": \"linear\", \"width\": 1.3}, \"marker\": {\"size\": 12, \"symbol\": \"circle\"}, \"mode\": \"lines+markers\", \"name\": \"y\", \"text\": \"\", \"type\": \"scatter\", \"x\": [0, 1, 2, 3, 4], \"y\": [6, 7, 8, 9, 10]}, {\"line\": {\"color\": \"rgba(50, 171, 96, 1.0)\", \"dash\": \"solid\", \"shape\": \"linear\", \"width\": 1.3}, \"marker\": {\"size\": 12, \"symbol\": \"circle\"}, \"mode\": \"lines+markers\", \"name\": \"z\", \"text\": \"\", \"type\": \"scatter\", \"x\": [0, 1, 2, 3, 4], \"y\": [11, 12, 13, 14, 15]}],\n",
       "                        {\"legend\": {\"bgcolor\": \"#F5F6F9\", \"font\": {\"color\": \"#4D5663\"}}, \"paper_bgcolor\": \"#F5F6F9\", \"plot_bgcolor\": \"#F5F6F9\", \"template\": {\"data\": {\"bar\": [{\"error_x\": {\"color\": \"#2a3f5f\"}, \"error_y\": {\"color\": \"#2a3f5f\"}, \"marker\": {\"line\": {\"color\": \"#E5ECF6\", \"width\": 0.5}}, \"type\": \"bar\"}], \"barpolar\": [{\"marker\": {\"line\": {\"color\": \"#E5ECF6\", \"width\": 0.5}}, \"type\": \"barpolar\"}], \"carpet\": [{\"aaxis\": {\"endlinecolor\": \"#2a3f5f\", \"gridcolor\": \"white\", \"linecolor\": \"white\", \"minorgridcolor\": \"white\", \"startlinecolor\": \"#2a3f5f\"}, \"baxis\": {\"endlinecolor\": \"#2a3f5f\", \"gridcolor\": \"white\", \"linecolor\": \"white\", \"minorgridcolor\": \"white\", \"startlinecolor\": \"#2a3f5f\"}, \"type\": \"carpet\"}], \"choropleth\": [{\"colorbar\": {\"outlinewidth\": 0, \"ticks\": \"\"}, \"type\": \"choropleth\"}], \"contour\": [{\"colorbar\": {\"outlinewidth\": 0, \"ticks\": \"\"}, \"colorscale\": [[0.0, \"#0d0887\"], [0.1111111111111111, \"#46039f\"], [0.2222222222222222, \"#7201a8\"], [0.3333333333333333, \"#9c179e\"], [0.4444444444444444, \"#bd3786\"], [0.5555555555555556, \"#d8576b\"], [0.6666666666666666, \"#ed7953\"], [0.7777777777777778, \"#fb9f3a\"], [0.8888888888888888, \"#fdca26\"], [1.0, \"#f0f921\"]], \"type\": \"contour\"}], \"contourcarpet\": [{\"colorbar\": {\"outlinewidth\": 0, \"ticks\": \"\"}, \"type\": \"contourcarpet\"}], \"heatmap\": [{\"colorbar\": {\"outlinewidth\": 0, \"ticks\": \"\"}, \"colorscale\": [[0.0, \"#0d0887\"], [0.1111111111111111, \"#46039f\"], [0.2222222222222222, \"#7201a8\"], [0.3333333333333333, \"#9c179e\"], [0.4444444444444444, \"#bd3786\"], [0.5555555555555556, \"#d8576b\"], [0.6666666666666666, \"#ed7953\"], [0.7777777777777778, \"#fb9f3a\"], [0.8888888888888888, \"#fdca26\"], [1.0, \"#f0f921\"]], \"type\": \"heatmap\"}], \"heatmapgl\": [{\"colorbar\": {\"outlinewidth\": 0, \"ticks\": \"\"}, \"colorscale\": [[0.0, \"#0d0887\"], [0.1111111111111111, \"#46039f\"], [0.2222222222222222, \"#7201a8\"], [0.3333333333333333, \"#9c179e\"], [0.4444444444444444, \"#bd3786\"], [0.5555555555555556, \"#d8576b\"], [0.6666666666666666, \"#ed7953\"], [0.7777777777777778, \"#fb9f3a\"], [0.8888888888888888, \"#fdca26\"], [1.0, \"#f0f921\"]], \"type\": \"heatmapgl\"}], \"histogram\": [{\"marker\": {\"colorbar\": {\"outlinewidth\": 0, \"ticks\": \"\"}}, \"type\": \"histogram\"}], \"histogram2d\": [{\"colorbar\": {\"outlinewidth\": 0, \"ticks\": \"\"}, \"colorscale\": [[0.0, \"#0d0887\"], [0.1111111111111111, \"#46039f\"], [0.2222222222222222, \"#7201a8\"], [0.3333333333333333, \"#9c179e\"], [0.4444444444444444, \"#bd3786\"], [0.5555555555555556, \"#d8576b\"], [0.6666666666666666, \"#ed7953\"], [0.7777777777777778, \"#fb9f3a\"], [0.8888888888888888, \"#fdca26\"], [1.0, \"#f0f921\"]], \"type\": \"histogram2d\"}], \"histogram2dcontour\": [{\"colorbar\": {\"outlinewidth\": 0, \"ticks\": \"\"}, \"colorscale\": [[0.0, \"#0d0887\"], [0.1111111111111111, \"#46039f\"], [0.2222222222222222, \"#7201a8\"], [0.3333333333333333, \"#9c179e\"], [0.4444444444444444, \"#bd3786\"], [0.5555555555555556, \"#d8576b\"], [0.6666666666666666, \"#ed7953\"], [0.7777777777777778, \"#fb9f3a\"], [0.8888888888888888, \"#fdca26\"], [1.0, \"#f0f921\"]], \"type\": \"histogram2dcontour\"}], \"mesh3d\": [{\"colorbar\": {\"outlinewidth\": 0, \"ticks\": \"\"}, \"type\": \"mesh3d\"}], \"parcoords\": [{\"line\": {\"colorbar\": {\"outlinewidth\": 0, \"ticks\": \"\"}}, \"type\": \"parcoords\"}], \"pie\": [{\"automargin\": true, \"type\": \"pie\"}], \"scatter\": [{\"marker\": {\"colorbar\": {\"outlinewidth\": 0, \"ticks\": \"\"}}, \"type\": \"scatter\"}], \"scatter3d\": [{\"line\": {\"colorbar\": {\"outlinewidth\": 0, \"ticks\": \"\"}}, \"marker\": {\"colorbar\": {\"outlinewidth\": 0, \"ticks\": \"\"}}, \"type\": \"scatter3d\"}], \"scattercarpet\": [{\"marker\": {\"colorbar\": {\"outlinewidth\": 0, \"ticks\": \"\"}}, \"type\": \"scattercarpet\"}], \"scattergeo\": [{\"marker\": {\"colorbar\": {\"outlinewidth\": 0, \"ticks\": \"\"}}, \"type\": \"scattergeo\"}], \"scattergl\": [{\"marker\": {\"colorbar\": {\"outlinewidth\": 0, \"ticks\": \"\"}}, \"type\": \"scattergl\"}], \"scattermapbox\": [{\"marker\": {\"colorbar\": {\"outlinewidth\": 0, \"ticks\": \"\"}}, \"type\": \"scattermapbox\"}], \"scatterpolar\": [{\"marker\": {\"colorbar\": {\"outlinewidth\": 0, \"ticks\": \"\"}}, \"type\": \"scatterpolar\"}], \"scatterpolargl\": [{\"marker\": {\"colorbar\": {\"outlinewidth\": 0, \"ticks\": \"\"}}, \"type\": \"scatterpolargl\"}], \"scatterternary\": [{\"marker\": {\"colorbar\": {\"outlinewidth\": 0, \"ticks\": \"\"}}, \"type\": \"scatterternary\"}], \"surface\": [{\"colorbar\": {\"outlinewidth\": 0, \"ticks\": \"\"}, \"colorscale\": [[0.0, \"#0d0887\"], [0.1111111111111111, \"#46039f\"], [0.2222222222222222, \"#7201a8\"], [0.3333333333333333, \"#9c179e\"], [0.4444444444444444, \"#bd3786\"], [0.5555555555555556, \"#d8576b\"], [0.6666666666666666, \"#ed7953\"], [0.7777777777777778, \"#fb9f3a\"], [0.8888888888888888, \"#fdca26\"], [1.0, \"#f0f921\"]], \"type\": \"surface\"}], \"table\": [{\"cells\": {\"fill\": {\"color\": \"#EBF0F8\"}, \"line\": {\"color\": \"white\"}}, \"header\": {\"fill\": {\"color\": \"#C8D4E3\"}, \"line\": {\"color\": \"white\"}}, \"type\": \"table\"}]}, \"layout\": {\"annotationdefaults\": {\"arrowcolor\": \"#2a3f5f\", \"arrowhead\": 0, \"arrowwidth\": 1}, \"coloraxis\": {\"colorbar\": {\"outlinewidth\": 0, \"ticks\": \"\"}}, \"colorscale\": {\"diverging\": [[0, \"#8e0152\"], [0.1, \"#c51b7d\"], [0.2, \"#de77ae\"], [0.3, \"#f1b6da\"], [0.4, \"#fde0ef\"], [0.5, \"#f7f7f7\"], [0.6, \"#e6f5d0\"], [0.7, \"#b8e186\"], [0.8, \"#7fbc41\"], [0.9, \"#4d9221\"], [1, \"#276419\"]], \"sequential\": [[0.0, \"#0d0887\"], [0.1111111111111111, \"#46039f\"], [0.2222222222222222, \"#7201a8\"], [0.3333333333333333, \"#9c179e\"], [0.4444444444444444, \"#bd3786\"], [0.5555555555555556, \"#d8576b\"], [0.6666666666666666, \"#ed7953\"], [0.7777777777777778, \"#fb9f3a\"], [0.8888888888888888, \"#fdca26\"], [1.0, \"#f0f921\"]], \"sequentialminus\": [[0.0, \"#0d0887\"], [0.1111111111111111, \"#46039f\"], [0.2222222222222222, \"#7201a8\"], [0.3333333333333333, \"#9c179e\"], [0.4444444444444444, \"#bd3786\"], [0.5555555555555556, \"#d8576b\"], [0.6666666666666666, \"#ed7953\"], [0.7777777777777778, \"#fb9f3a\"], [0.8888888888888888, \"#fdca26\"], [1.0, \"#f0f921\"]]}, \"colorway\": [\"#636efa\", \"#EF553B\", \"#00cc96\", \"#ab63fa\", \"#FFA15A\", \"#19d3f3\", \"#FF6692\", \"#B6E880\", \"#FF97FF\", \"#FECB52\"], \"font\": {\"color\": \"#2a3f5f\"}, \"geo\": {\"bgcolor\": \"white\", \"lakecolor\": \"white\", \"landcolor\": \"#E5ECF6\", \"showlakes\": true, \"showland\": true, \"subunitcolor\": \"white\"}, \"hoverlabel\": {\"align\": \"left\"}, \"hovermode\": \"closest\", \"mapbox\": {\"style\": \"light\"}, \"paper_bgcolor\": \"white\", \"plot_bgcolor\": \"#E5ECF6\", \"polar\": {\"angularaxis\": {\"gridcolor\": \"white\", \"linecolor\": \"white\", \"ticks\": \"\"}, \"bgcolor\": \"#E5ECF6\", \"radialaxis\": {\"gridcolor\": \"white\", \"linecolor\": \"white\", \"ticks\": \"\"}}, \"scene\": {\"xaxis\": {\"backgroundcolor\": \"#E5ECF6\", \"gridcolor\": \"white\", \"gridwidth\": 2, \"linecolor\": \"white\", \"showbackground\": true, \"ticks\": \"\", \"zerolinecolor\": \"white\"}, \"yaxis\": {\"backgroundcolor\": \"#E5ECF6\", \"gridcolor\": \"white\", \"gridwidth\": 2, \"linecolor\": \"white\", \"showbackground\": true, \"ticks\": \"\", \"zerolinecolor\": \"white\"}, \"zaxis\": {\"backgroundcolor\": \"#E5ECF6\", \"gridcolor\": \"white\", \"gridwidth\": 2, \"linecolor\": \"white\", \"showbackground\": true, \"ticks\": \"\", \"zerolinecolor\": \"white\"}}, \"shapedefaults\": {\"line\": {\"color\": \"#2a3f5f\"}}, \"ternary\": {\"aaxis\": {\"gridcolor\": \"white\", \"linecolor\": \"white\", \"ticks\": \"\"}, \"baxis\": {\"gridcolor\": \"white\", \"linecolor\": \"white\", \"ticks\": \"\"}, \"bgcolor\": \"#E5ECF6\", \"caxis\": {\"gridcolor\": \"white\", \"linecolor\": \"white\", \"ticks\": \"\"}}, \"title\": {\"x\": 0.05}, \"xaxis\": {\"automargin\": true, \"gridcolor\": \"white\", \"linecolor\": \"white\", \"ticks\": \"\", \"title\": {\"standoff\": 15}, \"zerolinecolor\": \"white\", \"zerolinewidth\": 2}, \"yaxis\": {\"automargin\": true, \"gridcolor\": \"white\", \"linecolor\": \"white\", \"ticks\": \"\", \"title\": {\"standoff\": 15}, \"zerolinecolor\": \"white\", \"zerolinewidth\": 2}}}, \"title\": {\"font\": {\"color\": \"#4D5663\"}}, \"xaxis\": {\"gridcolor\": \"#E1E5ED\", \"showgrid\": true, \"tickfont\": {\"color\": \"#4D5663\"}, \"title\": {\"font\": {\"color\": \"#4D5663\"}, \"text\": \"\"}, \"zerolinecolor\": \"#E1E5ED\"}, \"yaxis\": {\"gridcolor\": \"#E1E5ED\", \"showgrid\": true, \"tickfont\": {\"color\": \"#4D5663\"}, \"title\": {\"font\": {\"color\": \"#4D5663\"}, \"text\": \"\"}, \"zerolinecolor\": \"#E1E5ED\"}},\n",
       "                        {\"showLink\": true, \"linkText\": \"Export to plot.ly\", \"plotlyServerURL\": \"https://plot.ly\", \"responsive\": true}\n",
       "                    ).then(function(){\n",
       "                            \n",
       "var gd = document.getElementById('32058adc-c09c-44f9-b857-1e6186314ffc');\n",
       "var x = new MutationObserver(function (mutations, observer) {{\n",
       "        var display = window.getComputedStyle(gd).display;\n",
       "        if (!display || display === 'none') {{\n",
       "            console.log([gd, 'removed!']);\n",
       "            Plotly.purge(gd);\n",
       "            observer.disconnect();\n",
       "        }}\n",
       "}});\n",
       "\n",
       "// Listen for the removal of the full notebook cells\n",
       "var notebookContainer = gd.closest('#notebook-container');\n",
       "if (notebookContainer) {{\n",
       "    x.observe(notebookContainer, {childList: true});\n",
       "}}\n",
       "\n",
       "// Listen for the clearing of the current output cell\n",
       "var outputEl = gd.closest('.output');\n",
       "if (outputEl) {{\n",
       "    x.observe(outputEl, {childList: true});\n",
       "}}\n",
       "\n",
       "                        })\n",
       "                };\n",
       "                });\n",
       "            </script>\n",
       "        </div>"
      ]
     },
     "metadata": {},
     "output_type": "display_data"
    }
   ],
   "source": [
    "df3.iplot(kind='scatter',mode='lines+markers')"
   ]
  },
  {
   "cell_type": "code",
   "execution_count": 14,
   "metadata": {},
   "outputs": [
    {
     "data": {
      "application/vnd.plotly.v1+json": {
       "config": {
        "linkText": "Export to plot.ly",
        "plotlyServerURL": "https://plot.ly",
        "showLink": true
       },
       "data": [
        {
         "colorscale": [
          [
           0,
           "rgb(165,0,38)"
          ],
          [
           0.1,
           "rgb(215,48,39)"
          ],
          [
           0.2,
           "rgb(244,109,67)"
          ],
          [
           0.3,
           "rgb(253,174,97)"
          ],
          [
           0.4,
           "rgb(254,224,144)"
          ],
          [
           0.5,
           "rgb(255,255,191)"
          ],
          [
           0.6,
           "rgb(224,243,248)"
          ],
          [
           0.7,
           "rgb(171,217,233)"
          ],
          [
           0.8,
           "rgb(116,173,209)"
          ],
          [
           0.9,
           "rgb(69,117,180)"
          ],
          [
           1,
           "rgb(49,54,149)"
          ]
         ],
         "type": "surface",
         "x": [
          0,
          1,
          2,
          3,
          4
         ],
         "y": [
          "x",
          "y",
          "z"
         ],
         "z": [
          [
           1,
           2,
           3,
           4,
           5
          ],
          [
           6,
           7,
           8,
           9,
           10
          ],
          [
           11,
           12,
           13,
           14,
           15
          ]
         ]
        }
       ],
       "layout": {
        "legend": {
         "bgcolor": "#F5F6F9",
         "font": {
          "color": "#4D5663"
         }
        },
        "paper_bgcolor": "#F5F6F9",
        "plot_bgcolor": "#F5F6F9",
        "template": {
         "data": {
          "bar": [
           {
            "error_x": {
             "color": "#2a3f5f"
            },
            "error_y": {
             "color": "#2a3f5f"
            },
            "marker": {
             "line": {
              "color": "#E5ECF6",
              "width": 0.5
             }
            },
            "type": "bar"
           }
          ],
          "barpolar": [
           {
            "marker": {
             "line": {
              "color": "#E5ECF6",
              "width": 0.5
             }
            },
            "type": "barpolar"
           }
          ],
          "carpet": [
           {
            "aaxis": {
             "endlinecolor": "#2a3f5f",
             "gridcolor": "white",
             "linecolor": "white",
             "minorgridcolor": "white",
             "startlinecolor": "#2a3f5f"
            },
            "baxis": {
             "endlinecolor": "#2a3f5f",
             "gridcolor": "white",
             "linecolor": "white",
             "minorgridcolor": "white",
             "startlinecolor": "#2a3f5f"
            },
            "type": "carpet"
           }
          ],
          "choropleth": [
           {
            "colorbar": {
             "outlinewidth": 0,
             "ticks": ""
            },
            "type": "choropleth"
           }
          ],
          "contour": [
           {
            "colorbar": {
             "outlinewidth": 0,
             "ticks": ""
            },
            "colorscale": [
             [
              0,
              "#0d0887"
             ],
             [
              0.1111111111111111,
              "#46039f"
             ],
             [
              0.2222222222222222,
              "#7201a8"
             ],
             [
              0.3333333333333333,
              "#9c179e"
             ],
             [
              0.4444444444444444,
              "#bd3786"
             ],
             [
              0.5555555555555556,
              "#d8576b"
             ],
             [
              0.6666666666666666,
              "#ed7953"
             ],
             [
              0.7777777777777778,
              "#fb9f3a"
             ],
             [
              0.8888888888888888,
              "#fdca26"
             ],
             [
              1,
              "#f0f921"
             ]
            ],
            "type": "contour"
           }
          ],
          "contourcarpet": [
           {
            "colorbar": {
             "outlinewidth": 0,
             "ticks": ""
            },
            "type": "contourcarpet"
           }
          ],
          "heatmap": [
           {
            "colorbar": {
             "outlinewidth": 0,
             "ticks": ""
            },
            "colorscale": [
             [
              0,
              "#0d0887"
             ],
             [
              0.1111111111111111,
              "#46039f"
             ],
             [
              0.2222222222222222,
              "#7201a8"
             ],
             [
              0.3333333333333333,
              "#9c179e"
             ],
             [
              0.4444444444444444,
              "#bd3786"
             ],
             [
              0.5555555555555556,
              "#d8576b"
             ],
             [
              0.6666666666666666,
              "#ed7953"
             ],
             [
              0.7777777777777778,
              "#fb9f3a"
             ],
             [
              0.8888888888888888,
              "#fdca26"
             ],
             [
              1,
              "#f0f921"
             ]
            ],
            "type": "heatmap"
           }
          ],
          "heatmapgl": [
           {
            "colorbar": {
             "outlinewidth": 0,
             "ticks": ""
            },
            "colorscale": [
             [
              0,
              "#0d0887"
             ],
             [
              0.1111111111111111,
              "#46039f"
             ],
             [
              0.2222222222222222,
              "#7201a8"
             ],
             [
              0.3333333333333333,
              "#9c179e"
             ],
             [
              0.4444444444444444,
              "#bd3786"
             ],
             [
              0.5555555555555556,
              "#d8576b"
             ],
             [
              0.6666666666666666,
              "#ed7953"
             ],
             [
              0.7777777777777778,
              "#fb9f3a"
             ],
             [
              0.8888888888888888,
              "#fdca26"
             ],
             [
              1,
              "#f0f921"
             ]
            ],
            "type": "heatmapgl"
           }
          ],
          "histogram": [
           {
            "marker": {
             "colorbar": {
              "outlinewidth": 0,
              "ticks": ""
             }
            },
            "type": "histogram"
           }
          ],
          "histogram2d": [
           {
            "colorbar": {
             "outlinewidth": 0,
             "ticks": ""
            },
            "colorscale": [
             [
              0,
              "#0d0887"
             ],
             [
              0.1111111111111111,
              "#46039f"
             ],
             [
              0.2222222222222222,
              "#7201a8"
             ],
             [
              0.3333333333333333,
              "#9c179e"
             ],
             [
              0.4444444444444444,
              "#bd3786"
             ],
             [
              0.5555555555555556,
              "#d8576b"
             ],
             [
              0.6666666666666666,
              "#ed7953"
             ],
             [
              0.7777777777777778,
              "#fb9f3a"
             ],
             [
              0.8888888888888888,
              "#fdca26"
             ],
             [
              1,
              "#f0f921"
             ]
            ],
            "type": "histogram2d"
           }
          ],
          "histogram2dcontour": [
           {
            "colorbar": {
             "outlinewidth": 0,
             "ticks": ""
            },
            "colorscale": [
             [
              0,
              "#0d0887"
             ],
             [
              0.1111111111111111,
              "#46039f"
             ],
             [
              0.2222222222222222,
              "#7201a8"
             ],
             [
              0.3333333333333333,
              "#9c179e"
             ],
             [
              0.4444444444444444,
              "#bd3786"
             ],
             [
              0.5555555555555556,
              "#d8576b"
             ],
             [
              0.6666666666666666,
              "#ed7953"
             ],
             [
              0.7777777777777778,
              "#fb9f3a"
             ],
             [
              0.8888888888888888,
              "#fdca26"
             ],
             [
              1,
              "#f0f921"
             ]
            ],
            "type": "histogram2dcontour"
           }
          ],
          "mesh3d": [
           {
            "colorbar": {
             "outlinewidth": 0,
             "ticks": ""
            },
            "type": "mesh3d"
           }
          ],
          "parcoords": [
           {
            "line": {
             "colorbar": {
              "outlinewidth": 0,
              "ticks": ""
             }
            },
            "type": "parcoords"
           }
          ],
          "pie": [
           {
            "automargin": true,
            "type": "pie"
           }
          ],
          "scatter": [
           {
            "marker": {
             "colorbar": {
              "outlinewidth": 0,
              "ticks": ""
             }
            },
            "type": "scatter"
           }
          ],
          "scatter3d": [
           {
            "line": {
             "colorbar": {
              "outlinewidth": 0,
              "ticks": ""
             }
            },
            "marker": {
             "colorbar": {
              "outlinewidth": 0,
              "ticks": ""
             }
            },
            "type": "scatter3d"
           }
          ],
          "scattercarpet": [
           {
            "marker": {
             "colorbar": {
              "outlinewidth": 0,
              "ticks": ""
             }
            },
            "type": "scattercarpet"
           }
          ],
          "scattergeo": [
           {
            "marker": {
             "colorbar": {
              "outlinewidth": 0,
              "ticks": ""
             }
            },
            "type": "scattergeo"
           }
          ],
          "scattergl": [
           {
            "marker": {
             "colorbar": {
              "outlinewidth": 0,
              "ticks": ""
             }
            },
            "type": "scattergl"
           }
          ],
          "scattermapbox": [
           {
            "marker": {
             "colorbar": {
              "outlinewidth": 0,
              "ticks": ""
             }
            },
            "type": "scattermapbox"
           }
          ],
          "scatterpolar": [
           {
            "marker": {
             "colorbar": {
              "outlinewidth": 0,
              "ticks": ""
             }
            },
            "type": "scatterpolar"
           }
          ],
          "scatterpolargl": [
           {
            "marker": {
             "colorbar": {
              "outlinewidth": 0,
              "ticks": ""
             }
            },
            "type": "scatterpolargl"
           }
          ],
          "scatterternary": [
           {
            "marker": {
             "colorbar": {
              "outlinewidth": 0,
              "ticks": ""
             }
            },
            "type": "scatterternary"
           }
          ],
          "surface": [
           {
            "colorbar": {
             "outlinewidth": 0,
             "ticks": ""
            },
            "colorscale": [
             [
              0,
              "#0d0887"
             ],
             [
              0.1111111111111111,
              "#46039f"
             ],
             [
              0.2222222222222222,
              "#7201a8"
             ],
             [
              0.3333333333333333,
              "#9c179e"
             ],
             [
              0.4444444444444444,
              "#bd3786"
             ],
             [
              0.5555555555555556,
              "#d8576b"
             ],
             [
              0.6666666666666666,
              "#ed7953"
             ],
             [
              0.7777777777777778,
              "#fb9f3a"
             ],
             [
              0.8888888888888888,
              "#fdca26"
             ],
             [
              1,
              "#f0f921"
             ]
            ],
            "type": "surface"
           }
          ],
          "table": [
           {
            "cells": {
             "fill": {
              "color": "#EBF0F8"
             },
             "line": {
              "color": "white"
             }
            },
            "header": {
             "fill": {
              "color": "#C8D4E3"
             },
             "line": {
              "color": "white"
             }
            },
            "type": "table"
           }
          ]
         },
         "layout": {
          "annotationdefaults": {
           "arrowcolor": "#2a3f5f",
           "arrowhead": 0,
           "arrowwidth": 1
          },
          "coloraxis": {
           "colorbar": {
            "outlinewidth": 0,
            "ticks": ""
           }
          },
          "colorscale": {
           "diverging": [
            [
             0,
             "#8e0152"
            ],
            [
             0.1,
             "#c51b7d"
            ],
            [
             0.2,
             "#de77ae"
            ],
            [
             0.3,
             "#f1b6da"
            ],
            [
             0.4,
             "#fde0ef"
            ],
            [
             0.5,
             "#f7f7f7"
            ],
            [
             0.6,
             "#e6f5d0"
            ],
            [
             0.7,
             "#b8e186"
            ],
            [
             0.8,
             "#7fbc41"
            ],
            [
             0.9,
             "#4d9221"
            ],
            [
             1,
             "#276419"
            ]
           ],
           "sequential": [
            [
             0,
             "#0d0887"
            ],
            [
             0.1111111111111111,
             "#46039f"
            ],
            [
             0.2222222222222222,
             "#7201a8"
            ],
            [
             0.3333333333333333,
             "#9c179e"
            ],
            [
             0.4444444444444444,
             "#bd3786"
            ],
            [
             0.5555555555555556,
             "#d8576b"
            ],
            [
             0.6666666666666666,
             "#ed7953"
            ],
            [
             0.7777777777777778,
             "#fb9f3a"
            ],
            [
             0.8888888888888888,
             "#fdca26"
            ],
            [
             1,
             "#f0f921"
            ]
           ],
           "sequentialminus": [
            [
             0,
             "#0d0887"
            ],
            [
             0.1111111111111111,
             "#46039f"
            ],
            [
             0.2222222222222222,
             "#7201a8"
            ],
            [
             0.3333333333333333,
             "#9c179e"
            ],
            [
             0.4444444444444444,
             "#bd3786"
            ],
            [
             0.5555555555555556,
             "#d8576b"
            ],
            [
             0.6666666666666666,
             "#ed7953"
            ],
            [
             0.7777777777777778,
             "#fb9f3a"
            ],
            [
             0.8888888888888888,
             "#fdca26"
            ],
            [
             1,
             "#f0f921"
            ]
           ]
          },
          "colorway": [
           "#636efa",
           "#EF553B",
           "#00cc96",
           "#ab63fa",
           "#FFA15A",
           "#19d3f3",
           "#FF6692",
           "#B6E880",
           "#FF97FF",
           "#FECB52"
          ],
          "font": {
           "color": "#2a3f5f"
          },
          "geo": {
           "bgcolor": "white",
           "lakecolor": "white",
           "landcolor": "#E5ECF6",
           "showlakes": true,
           "showland": true,
           "subunitcolor": "white"
          },
          "hoverlabel": {
           "align": "left"
          },
          "hovermode": "closest",
          "mapbox": {
           "style": "light"
          },
          "paper_bgcolor": "white",
          "plot_bgcolor": "#E5ECF6",
          "polar": {
           "angularaxis": {
            "gridcolor": "white",
            "linecolor": "white",
            "ticks": ""
           },
           "bgcolor": "#E5ECF6",
           "radialaxis": {
            "gridcolor": "white",
            "linecolor": "white",
            "ticks": ""
           }
          },
          "scene": {
           "xaxis": {
            "backgroundcolor": "#E5ECF6",
            "gridcolor": "white",
            "gridwidth": 2,
            "linecolor": "white",
            "showbackground": true,
            "ticks": "",
            "zerolinecolor": "white"
           },
           "yaxis": {
            "backgroundcolor": "#E5ECF6",
            "gridcolor": "white",
            "gridwidth": 2,
            "linecolor": "white",
            "showbackground": true,
            "ticks": "",
            "zerolinecolor": "white"
           },
           "zaxis": {
            "backgroundcolor": "#E5ECF6",
            "gridcolor": "white",
            "gridwidth": 2,
            "linecolor": "white",
            "showbackground": true,
            "ticks": "",
            "zerolinecolor": "white"
           }
          },
          "shapedefaults": {
           "line": {
            "color": "#2a3f5f"
           }
          },
          "ternary": {
           "aaxis": {
            "gridcolor": "white",
            "linecolor": "white",
            "ticks": ""
           },
           "baxis": {
            "gridcolor": "white",
            "linecolor": "white",
            "ticks": ""
           },
           "bgcolor": "#E5ECF6",
           "caxis": {
            "gridcolor": "white",
            "linecolor": "white",
            "ticks": ""
           }
          },
          "title": {
           "x": 0.05
          },
          "xaxis": {
           "automargin": true,
           "gridcolor": "white",
           "linecolor": "white",
           "ticks": "",
           "title": {
            "standoff": 15
           },
           "zerolinecolor": "white",
           "zerolinewidth": 2
          },
          "yaxis": {
           "automargin": true,
           "gridcolor": "white",
           "linecolor": "white",
           "ticks": "",
           "title": {
            "standoff": 15
           },
           "zerolinecolor": "white",
           "zerolinewidth": 2
          }
         }
        },
        "title": {
         "font": {
          "color": "#4D5663"
         }
        },
        "xaxis": {
         "gridcolor": "#E1E5ED",
         "showgrid": true,
         "tickfont": {
          "color": "#4D5663"
         },
         "title": {
          "font": {
           "color": "#4D5663"
          },
          "text": ""
         },
         "zerolinecolor": "#E1E5ED"
        },
        "yaxis": {
         "gridcolor": "#E1E5ED",
         "showgrid": true,
         "tickfont": {
          "color": "#4D5663"
         },
         "title": {
          "font": {
           "color": "#4D5663"
          },
          "text": ""
         },
         "zerolinecolor": "#E1E5ED"
        }
       }
      },
      "text/html": [
       "<div>\n",
       "        \n",
       "        \n",
       "            <div id=\"4d77ce72-c027-4efe-9c07-320ba7047a8b\" class=\"plotly-graph-div\" style=\"height:525px; width:100%;\"></div>\n",
       "            <script type=\"text/javascript\">\n",
       "                require([\"plotly\"], function(Plotly) {\n",
       "                    window.PLOTLYENV=window.PLOTLYENV || {};\n",
       "                    window.PLOTLYENV.BASE_URL='https://plot.ly';\n",
       "                    \n",
       "                if (document.getElementById(\"4d77ce72-c027-4efe-9c07-320ba7047a8b\")) {\n",
       "                    Plotly.newPlot(\n",
       "                        '4d77ce72-c027-4efe-9c07-320ba7047a8b',\n",
       "                        [{\"colorscale\": [[0.0, \"rgb(165,0,38)\"], [0.1, \"rgb(215,48,39)\"], [0.2, \"rgb(244,109,67)\"], [0.3, \"rgb(253,174,97)\"], [0.4, \"rgb(254,224,144)\"], [0.5, \"rgb(255,255,191)\"], [0.6, \"rgb(224,243,248)\"], [0.7, \"rgb(171,217,233)\"], [0.8, \"rgb(116,173,209)\"], [0.9, \"rgb(69,117,180)\"], [1.0, \"rgb(49,54,149)\"]], \"type\": \"surface\", \"x\": [0, 1, 2, 3, 4], \"y\": [\"x\", \"y\", \"z\"], \"z\": [[1, 2, 3, 4, 5], [6, 7, 8, 9, 10], [11, 12, 13, 14, 15]]}],\n",
       "                        {\"legend\": {\"bgcolor\": \"#F5F6F9\", \"font\": {\"color\": \"#4D5663\"}}, \"paper_bgcolor\": \"#F5F6F9\", \"plot_bgcolor\": \"#F5F6F9\", \"template\": {\"data\": {\"bar\": [{\"error_x\": {\"color\": \"#2a3f5f\"}, \"error_y\": {\"color\": \"#2a3f5f\"}, \"marker\": {\"line\": {\"color\": \"#E5ECF6\", \"width\": 0.5}}, \"type\": \"bar\"}], \"barpolar\": [{\"marker\": {\"line\": {\"color\": \"#E5ECF6\", \"width\": 0.5}}, \"type\": \"barpolar\"}], \"carpet\": [{\"aaxis\": {\"endlinecolor\": \"#2a3f5f\", \"gridcolor\": \"white\", \"linecolor\": \"white\", \"minorgridcolor\": \"white\", \"startlinecolor\": \"#2a3f5f\"}, \"baxis\": {\"endlinecolor\": \"#2a3f5f\", \"gridcolor\": \"white\", \"linecolor\": \"white\", \"minorgridcolor\": \"white\", \"startlinecolor\": \"#2a3f5f\"}, \"type\": \"carpet\"}], \"choropleth\": [{\"colorbar\": {\"outlinewidth\": 0, \"ticks\": \"\"}, \"type\": \"choropleth\"}], \"contour\": [{\"colorbar\": {\"outlinewidth\": 0, \"ticks\": \"\"}, \"colorscale\": [[0.0, \"#0d0887\"], [0.1111111111111111, \"#46039f\"], [0.2222222222222222, \"#7201a8\"], [0.3333333333333333, \"#9c179e\"], [0.4444444444444444, \"#bd3786\"], [0.5555555555555556, \"#d8576b\"], [0.6666666666666666, \"#ed7953\"], [0.7777777777777778, \"#fb9f3a\"], [0.8888888888888888, \"#fdca26\"], [1.0, \"#f0f921\"]], \"type\": \"contour\"}], \"contourcarpet\": [{\"colorbar\": {\"outlinewidth\": 0, \"ticks\": \"\"}, \"type\": \"contourcarpet\"}], \"heatmap\": [{\"colorbar\": {\"outlinewidth\": 0, \"ticks\": \"\"}, \"colorscale\": [[0.0, \"#0d0887\"], [0.1111111111111111, \"#46039f\"], [0.2222222222222222, \"#7201a8\"], [0.3333333333333333, \"#9c179e\"], [0.4444444444444444, \"#bd3786\"], [0.5555555555555556, \"#d8576b\"], [0.6666666666666666, \"#ed7953\"], [0.7777777777777778, \"#fb9f3a\"], [0.8888888888888888, \"#fdca26\"], [1.0, \"#f0f921\"]], \"type\": \"heatmap\"}], \"heatmapgl\": [{\"colorbar\": {\"outlinewidth\": 0, \"ticks\": \"\"}, \"colorscale\": [[0.0, \"#0d0887\"], [0.1111111111111111, \"#46039f\"], [0.2222222222222222, \"#7201a8\"], [0.3333333333333333, \"#9c179e\"], [0.4444444444444444, \"#bd3786\"], [0.5555555555555556, \"#d8576b\"], [0.6666666666666666, \"#ed7953\"], [0.7777777777777778, \"#fb9f3a\"], [0.8888888888888888, \"#fdca26\"], [1.0, \"#f0f921\"]], \"type\": \"heatmapgl\"}], \"histogram\": [{\"marker\": {\"colorbar\": {\"outlinewidth\": 0, \"ticks\": \"\"}}, \"type\": \"histogram\"}], \"histogram2d\": [{\"colorbar\": {\"outlinewidth\": 0, \"ticks\": \"\"}, \"colorscale\": [[0.0, \"#0d0887\"], [0.1111111111111111, \"#46039f\"], [0.2222222222222222, \"#7201a8\"], [0.3333333333333333, \"#9c179e\"], [0.4444444444444444, \"#bd3786\"], [0.5555555555555556, \"#d8576b\"], [0.6666666666666666, \"#ed7953\"], [0.7777777777777778, \"#fb9f3a\"], [0.8888888888888888, \"#fdca26\"], [1.0, \"#f0f921\"]], \"type\": \"histogram2d\"}], \"histogram2dcontour\": [{\"colorbar\": {\"outlinewidth\": 0, \"ticks\": \"\"}, \"colorscale\": [[0.0, \"#0d0887\"], [0.1111111111111111, \"#46039f\"], [0.2222222222222222, \"#7201a8\"], [0.3333333333333333, \"#9c179e\"], [0.4444444444444444, \"#bd3786\"], [0.5555555555555556, \"#d8576b\"], [0.6666666666666666, \"#ed7953\"], [0.7777777777777778, \"#fb9f3a\"], [0.8888888888888888, \"#fdca26\"], [1.0, \"#f0f921\"]], \"type\": \"histogram2dcontour\"}], \"mesh3d\": [{\"colorbar\": {\"outlinewidth\": 0, \"ticks\": \"\"}, \"type\": \"mesh3d\"}], \"parcoords\": [{\"line\": {\"colorbar\": {\"outlinewidth\": 0, \"ticks\": \"\"}}, \"type\": \"parcoords\"}], \"pie\": [{\"automargin\": true, \"type\": \"pie\"}], \"scatter\": [{\"marker\": {\"colorbar\": {\"outlinewidth\": 0, \"ticks\": \"\"}}, \"type\": \"scatter\"}], \"scatter3d\": [{\"line\": {\"colorbar\": {\"outlinewidth\": 0, \"ticks\": \"\"}}, \"marker\": {\"colorbar\": {\"outlinewidth\": 0, \"ticks\": \"\"}}, \"type\": \"scatter3d\"}], \"scattercarpet\": [{\"marker\": {\"colorbar\": {\"outlinewidth\": 0, \"ticks\": \"\"}}, \"type\": \"scattercarpet\"}], \"scattergeo\": [{\"marker\": {\"colorbar\": {\"outlinewidth\": 0, \"ticks\": \"\"}}, \"type\": \"scattergeo\"}], \"scattergl\": [{\"marker\": {\"colorbar\": {\"outlinewidth\": 0, \"ticks\": \"\"}}, \"type\": \"scattergl\"}], \"scattermapbox\": [{\"marker\": {\"colorbar\": {\"outlinewidth\": 0, \"ticks\": \"\"}}, \"type\": \"scattermapbox\"}], \"scatterpolar\": [{\"marker\": {\"colorbar\": {\"outlinewidth\": 0, \"ticks\": \"\"}}, \"type\": \"scatterpolar\"}], \"scatterpolargl\": [{\"marker\": {\"colorbar\": {\"outlinewidth\": 0, \"ticks\": \"\"}}, \"type\": \"scatterpolargl\"}], \"scatterternary\": [{\"marker\": {\"colorbar\": {\"outlinewidth\": 0, \"ticks\": \"\"}}, \"type\": \"scatterternary\"}], \"surface\": [{\"colorbar\": {\"outlinewidth\": 0, \"ticks\": \"\"}, \"colorscale\": [[0.0, \"#0d0887\"], [0.1111111111111111, \"#46039f\"], [0.2222222222222222, \"#7201a8\"], [0.3333333333333333, \"#9c179e\"], [0.4444444444444444, \"#bd3786\"], [0.5555555555555556, \"#d8576b\"], [0.6666666666666666, \"#ed7953\"], [0.7777777777777778, \"#fb9f3a\"], [0.8888888888888888, \"#fdca26\"], [1.0, \"#f0f921\"]], \"type\": \"surface\"}], \"table\": [{\"cells\": {\"fill\": {\"color\": \"#EBF0F8\"}, \"line\": {\"color\": \"white\"}}, \"header\": {\"fill\": {\"color\": \"#C8D4E3\"}, \"line\": {\"color\": \"white\"}}, \"type\": \"table\"}]}, \"layout\": {\"annotationdefaults\": {\"arrowcolor\": \"#2a3f5f\", \"arrowhead\": 0, \"arrowwidth\": 1}, \"coloraxis\": {\"colorbar\": {\"outlinewidth\": 0, \"ticks\": \"\"}}, \"colorscale\": {\"diverging\": [[0, \"#8e0152\"], [0.1, \"#c51b7d\"], [0.2, \"#de77ae\"], [0.3, \"#f1b6da\"], [0.4, \"#fde0ef\"], [0.5, \"#f7f7f7\"], [0.6, \"#e6f5d0\"], [0.7, \"#b8e186\"], [0.8, \"#7fbc41\"], [0.9, \"#4d9221\"], [1, \"#276419\"]], \"sequential\": [[0.0, \"#0d0887\"], [0.1111111111111111, \"#46039f\"], [0.2222222222222222, \"#7201a8\"], [0.3333333333333333, \"#9c179e\"], [0.4444444444444444, \"#bd3786\"], [0.5555555555555556, \"#d8576b\"], [0.6666666666666666, \"#ed7953\"], [0.7777777777777778, \"#fb9f3a\"], [0.8888888888888888, \"#fdca26\"], [1.0, \"#f0f921\"]], \"sequentialminus\": [[0.0, \"#0d0887\"], [0.1111111111111111, \"#46039f\"], [0.2222222222222222, \"#7201a8\"], [0.3333333333333333, \"#9c179e\"], [0.4444444444444444, \"#bd3786\"], [0.5555555555555556, \"#d8576b\"], [0.6666666666666666, \"#ed7953\"], [0.7777777777777778, \"#fb9f3a\"], [0.8888888888888888, \"#fdca26\"], [1.0, \"#f0f921\"]]}, \"colorway\": [\"#636efa\", \"#EF553B\", \"#00cc96\", \"#ab63fa\", \"#FFA15A\", \"#19d3f3\", \"#FF6692\", \"#B6E880\", \"#FF97FF\", \"#FECB52\"], \"font\": {\"color\": \"#2a3f5f\"}, \"geo\": {\"bgcolor\": \"white\", \"lakecolor\": \"white\", \"landcolor\": \"#E5ECF6\", \"showlakes\": true, \"showland\": true, \"subunitcolor\": \"white\"}, \"hoverlabel\": {\"align\": \"left\"}, \"hovermode\": \"closest\", \"mapbox\": {\"style\": \"light\"}, \"paper_bgcolor\": \"white\", \"plot_bgcolor\": \"#E5ECF6\", \"polar\": {\"angularaxis\": {\"gridcolor\": \"white\", \"linecolor\": \"white\", \"ticks\": \"\"}, \"bgcolor\": \"#E5ECF6\", \"radialaxis\": {\"gridcolor\": \"white\", \"linecolor\": \"white\", \"ticks\": \"\"}}, \"scene\": {\"xaxis\": {\"backgroundcolor\": \"#E5ECF6\", \"gridcolor\": \"white\", \"gridwidth\": 2, \"linecolor\": \"white\", \"showbackground\": true, \"ticks\": \"\", \"zerolinecolor\": \"white\"}, \"yaxis\": {\"backgroundcolor\": \"#E5ECF6\", \"gridcolor\": \"white\", \"gridwidth\": 2, \"linecolor\": \"white\", \"showbackground\": true, \"ticks\": \"\", \"zerolinecolor\": \"white\"}, \"zaxis\": {\"backgroundcolor\": \"#E5ECF6\", \"gridcolor\": \"white\", \"gridwidth\": 2, \"linecolor\": \"white\", \"showbackground\": true, \"ticks\": \"\", \"zerolinecolor\": \"white\"}}, \"shapedefaults\": {\"line\": {\"color\": \"#2a3f5f\"}}, \"ternary\": {\"aaxis\": {\"gridcolor\": \"white\", \"linecolor\": \"white\", \"ticks\": \"\"}, \"baxis\": {\"gridcolor\": \"white\", \"linecolor\": \"white\", \"ticks\": \"\"}, \"bgcolor\": \"#E5ECF6\", \"caxis\": {\"gridcolor\": \"white\", \"linecolor\": \"white\", \"ticks\": \"\"}}, \"title\": {\"x\": 0.05}, \"xaxis\": {\"automargin\": true, \"gridcolor\": \"white\", \"linecolor\": \"white\", \"ticks\": \"\", \"title\": {\"standoff\": 15}, \"zerolinecolor\": \"white\", \"zerolinewidth\": 2}, \"yaxis\": {\"automargin\": true, \"gridcolor\": \"white\", \"linecolor\": \"white\", \"ticks\": \"\", \"title\": {\"standoff\": 15}, \"zerolinecolor\": \"white\", \"zerolinewidth\": 2}}}, \"title\": {\"font\": {\"color\": \"#4D5663\"}}, \"xaxis\": {\"gridcolor\": \"#E1E5ED\", \"showgrid\": true, \"tickfont\": {\"color\": \"#4D5663\"}, \"title\": {\"font\": {\"color\": \"#4D5663\"}, \"text\": \"\"}, \"zerolinecolor\": \"#E1E5ED\"}, \"yaxis\": {\"gridcolor\": \"#E1E5ED\", \"showgrid\": true, \"tickfont\": {\"color\": \"#4D5663\"}, \"title\": {\"font\": {\"color\": \"#4D5663\"}, \"text\": \"\"}, \"zerolinecolor\": \"#E1E5ED\"}},\n",
       "                        {\"showLink\": true, \"linkText\": \"Export to plot.ly\", \"plotlyServerURL\": \"https://plot.ly\", \"responsive\": true}\n",
       "                    ).then(function(){\n",
       "                            \n",
       "var gd = document.getElementById('4d77ce72-c027-4efe-9c07-320ba7047a8b');\n",
       "var x = new MutationObserver(function (mutations, observer) {{\n",
       "        var display = window.getComputedStyle(gd).display;\n",
       "        if (!display || display === 'none') {{\n",
       "            console.log([gd, 'removed!']);\n",
       "            Plotly.purge(gd);\n",
       "            observer.disconnect();\n",
       "        }}\n",
       "}});\n",
       "\n",
       "// Listen for the removal of the full notebook cells\n",
       "var notebookContainer = gd.closest('#notebook-container');\n",
       "if (notebookContainer) {{\n",
       "    x.observe(notebookContainer, {childList: true});\n",
       "}}\n",
       "\n",
       "// Listen for the clearing of the current output cell\n",
       "var outputEl = gd.closest('.output');\n",
       "if (outputEl) {{\n",
       "    x.observe(outputEl, {childList: true});\n",
       "}}\n",
       "\n",
       "                        })\n",
       "                };\n",
       "                });\n",
       "            </script>\n",
       "        </div>"
      ]
     },
     "metadata": {},
     "output_type": "display_data"
    }
   ],
   "source": [
    "df3.iplot('surface',colorscale='rdylbu')"
   ]
  },
  {
   "cell_type": "code",
   "execution_count": 15,
   "metadata": {},
   "outputs": [
    {
     "name": "stderr",
     "output_type": "stream",
     "text": [
      "C:\\ProgramData\\Anaconda3\\lib\\site-packages\\cufflinks\\plotlytools.py:849: FutureWarning:\n",
      "\n",
      "The pandas.np module is deprecated and will be removed from pandas in a future version. Import numpy directly instead\n",
      "\n",
      "C:\\ProgramData\\Anaconda3\\lib\\site-packages\\cufflinks\\plotlytools.py:850: FutureWarning:\n",
      "\n",
      "The pandas.np module is deprecated and will be removed from pandas in a future version. Import numpy directly instead\n",
      "\n"
     ]
    },
    {
     "data": {
      "application/vnd.plotly.v1+json": {
       "config": {
        "linkText": "Export to plot.ly",
        "plotlyServerURL": "https://plot.ly",
        "showLink": true
       },
       "data": [
        {
         "line": {
          "color": "rgba(255, 153, 51, 1.0)",
          "dash": "solid",
          "shape": "linear",
          "width": 1.3
         },
         "marker": {
          "size": 12,
          "symbol": "circle"
         },
         "mode": "lines+markers",
         "name": "A",
         "text": "",
         "type": "scatter",
         "x": [
          0,
          1,
          2,
          3,
          4,
          5,
          6,
          7,
          8,
          9,
          10,
          11,
          12,
          13,
          14,
          15,
          16,
          17,
          18,
          19,
          20,
          21,
          22,
          23,
          24,
          25,
          26,
          27,
          28,
          29,
          30,
          31,
          32,
          33,
          34,
          35,
          36,
          37,
          38,
          39,
          40,
          41,
          42,
          43,
          44,
          45,
          46,
          47,
          48,
          49,
          50,
          51,
          52,
          53,
          54,
          55,
          56,
          57,
          58,
          59,
          60,
          61,
          62,
          63,
          64,
          65,
          66,
          67,
          68,
          69,
          70,
          71,
          72,
          73,
          74,
          75,
          76,
          77,
          78,
          79,
          80,
          81,
          82,
          83,
          84,
          85,
          86,
          87,
          88,
          89,
          90,
          91,
          92,
          93,
          94,
          95,
          96,
          97,
          98,
          99
         ],
         "y": [
          -0.8460237271253019,
          0.6850443896998784,
          0.013609065845515527,
          -0.4988132770316513,
          -0.5026795682975888,
          -2.1648319958850464,
          -1.154552707782905,
          0.4645360254620899,
          1.3740964676790737,
          -2.242787929269608,
          0.912469992443577,
          0.9719058990913453,
          -1.4485752232730136,
          -1.4856817403879254,
          -1.7707609389688101,
          -1.544708909569676,
          -0.845047053954906,
          1.5718728962014008,
          1.7407180132610471,
          2.146932204884541,
          1.185958873022132,
          0.2630462182169065,
          -0.751468859481539,
          0.12184899133054408,
          0.21414513681628883,
          0.9417985234694084,
          1.2425311236379861,
          -0.7377121463314611,
          -2.1358685937035027,
          -0.01613866776884078,
          -1.224414063134968,
          -0.43117966330931345,
          0.4474472858747312,
          0.36962982018769797,
          0.847196324617692,
          1.880012748500143,
          1.1045060967752076,
          0.4633019355132985,
          -1.464979842190436,
          1.4075418941380369,
          -0.015380220180128674,
          1.5729576249594048,
          0.035613201302045094,
          -2.1191326657010925,
          0.4674612766990198,
          1.5672725306048771,
          0.32374701394053695,
          -0.07586660607563349,
          -0.28766130688384633,
          0.8484426019712326,
          0.12285878967475791,
          0.10747331366298463,
          -0.014364068259369946,
          0.04745854722618259,
          0.08562776472368197,
          -1.2389066249610874,
          -0.6995068508645815,
          -0.7972095540515397,
          1.2007857778924123,
          -0.09290640667433647,
          -0.2934859290199042,
          -0.07763488078361577,
          0.6157033452195625,
          0.10784793323471127,
          -0.5688943346294603,
          0.3980559147795507,
          0.5661577662311075,
          -2.195580683945319,
          0.8997439452375172,
          0.6116820569345487,
          0.898185107218264,
          -3.16636935240398,
          0.5157190077667173,
          1.7027542662620736,
          -1.8334998040533916,
          1.5191373232065937,
          -0.17460849019525584,
          1.131963144127607,
          0.3568780584530282,
          0.9102545259831278,
          0.13445560873806117,
          0.40655314317655816,
          1.0152337299856296,
          1.4398556923049288,
          -0.18648795002338767,
          0.4306655374413637,
          0.09626036855680789,
          1.5076321511661732,
          -0.8426903877075556,
          -0.4677942497505051,
          1.2558162159647377,
          -0.3149934105775024,
          0.3672194688408298,
          -2.3065307475577677,
          -0.6732954546156035,
          1.3521271382546514,
          -0.18481351745424293,
          -0.8944438856872224,
          0.30256144019502035,
          -1.774058004598215
         ]
        },
        {
         "line": {
          "color": "rgba(55, 128, 191, 1.0)",
          "dash": "solid",
          "shape": "linear",
          "width": 1.3
         },
         "marker": {
          "size": 12,
          "symbol": "circle"
         },
         "mode": "lines+markers",
         "name": "B",
         "text": "",
         "type": "scatter",
         "x": [
          0,
          1,
          2,
          3,
          4,
          5,
          6,
          7,
          8,
          9,
          10,
          11,
          12,
          13,
          14,
          15,
          16,
          17,
          18,
          19,
          20,
          21,
          22,
          23,
          24,
          25,
          26,
          27,
          28,
          29,
          30,
          31,
          32,
          33,
          34,
          35,
          36,
          37,
          38,
          39,
          40,
          41,
          42,
          43,
          44,
          45,
          46,
          47,
          48,
          49,
          50,
          51,
          52,
          53,
          54,
          55,
          56,
          57,
          58,
          59,
          60,
          61,
          62,
          63,
          64,
          65,
          66,
          67,
          68,
          69,
          70,
          71,
          72,
          73,
          74,
          75,
          76,
          77,
          78,
          79,
          80,
          81,
          82,
          83,
          84,
          85,
          86,
          87,
          88,
          89,
          90,
          91,
          92,
          93,
          94,
          95,
          96,
          97,
          98,
          99
         ],
         "y": [
          -1.6690665071741209,
          -0.9484589845302493,
          -0.8161375694116357,
          0.6840786863502893,
          -2.2018317733312114,
          0.017536684463240967,
          1.2891016612183293,
          -1.804728629786003,
          0.3259795023528879,
          0.049809753323116025,
          -0.5586374064724668,
          0.29429666978152597,
          0.39061076983085435,
          0.8943681379041947,
          -0.552752183630096,
          -3.254423561116218,
          0.6019509133633993,
          -0.8259461083978703,
          1.710869136590222,
          -0.6615216430491391,
          -1.1578938475951246,
          -1.053495434073233,
          0.050146122300815554,
          0.5165620720663516,
          -0.48796706452958144,
          -0.4419290713862438,
          -0.7685738951120951,
          0.006761444700873407,
          -1.3503432760800622,
          0.86268829936173,
          -0.3601098281120075,
          1.5471265668795813,
          -0.7877036076046857,
          -0.11570378586982293,
          -0.38626518512976876,
          -1.6261076438084243,
          0.1552139671521332,
          -0.5535272578079041,
          -0.4630992019337326,
          -0.6139324026188785,
          1.39842534595313,
          0.025329165810796576,
          -1.80275260504035,
          0.2897836172364911,
          0.10549183348243746,
          -1.154884935652627,
          0.0900151454704177,
          -1.9925874148798286,
          0.1854025982354397,
          -1.6396389383040153,
          1.1334741520064942,
          -2.0443178533842548,
          -0.6515321439298384,
          0.21430215795085017,
          -2.2171803435270627,
          -0.10679315372693604,
          1.3358567958691514,
          -1.1979954208547445,
          0.748006345653784,
          -1.2771340270653806,
          0.24106633940119884,
          -0.17317250017492125,
          1.4708772807273518,
          -0.2382694937834363,
          -0.7276772174913667,
          0.3308764931989634,
          -1.0020418664013873,
          1.8115458705425924,
          0.524693389700117,
          1.0641059387955556,
          -0.5677562318557139,
          3.684053699497508,
          0.07477586077751451,
          1.16602333777211,
          -0.3644225537743912,
          -0.2561592131802757,
          0.8456431281725347,
          -0.41187096117433014,
          -0.8736896574049339,
          0.6679638026301171,
          1.1001823918068032,
          1.0535495494708962,
          -2.104565944240315,
          0.3720753582969174,
          -0.5010108088639956,
          -0.5245036613989332,
          -0.24392870922439877,
          -0.19658226865093806,
          0.6584933540744552,
          0.2871266386215244,
          1.0654171438176951,
          1.7258373286970015,
          2.107649563188196,
          1.6470948082198242,
          0.02453824662895236,
          -1.194105419184158,
          -1.214498105522763,
          1.8090870987912386,
          -0.3243706643776886,
          -1.0410093775593163
         ]
        },
        {
         "connectgaps": false,
         "fill": "tozeroy",
         "line": {
          "color": "green",
          "dash": "solid",
          "shape": "linear",
          "width": 0.5
         },
         "mode": "lines",
         "name": "Spread",
         "showlegend": false,
         "type": "scatter",
         "x": [
          0,
          1,
          2,
          3,
          4,
          5,
          6,
          7,
          8,
          9,
          10,
          11,
          12,
          13,
          14,
          15,
          16,
          17,
          18,
          19,
          20,
          21,
          22,
          23,
          24,
          25,
          26,
          27,
          28,
          29,
          30,
          31,
          32,
          33,
          34,
          35,
          36,
          37,
          38,
          39,
          40,
          41,
          42,
          43,
          44,
          45,
          46,
          47,
          48,
          49,
          50,
          51,
          52,
          53,
          54,
          55,
          56,
          57,
          58,
          59,
          60,
          61,
          62,
          63,
          64,
          65,
          66,
          67,
          68,
          69,
          70,
          71,
          72,
          73,
          74,
          75,
          76,
          77,
          78,
          79,
          80,
          81,
          82,
          83,
          84,
          85,
          86,
          87,
          88,
          89,
          90,
          91,
          92,
          93,
          94,
          95,
          96,
          97,
          98,
          99
         ],
         "xaxis": "x2",
         "y": [
          0.8230427800488189,
          1.6335033742301277,
          0.8297466352571513,
          "",
          1.6991522050336227,
          "",
          "",
          2.269264655248093,
          1.0481169653261857,
          "",
          1.4711073989160437,
          0.6776092293098193,
          "",
          "",
          "",
          1.709714651546542,
          "",
          2.3978190045992713,
          0.029848876670825142,
          2.80845384793368,
          2.3438527206172566,
          1.3165416522901394,
          "",
          "",
          0.7021122013458703,
          1.3837275948556522,
          2.011105018750081,
          "",
          "",
          "",
          "",
          "",
          1.2351508934794169,
          0.4853336060575209,
          1.2334615097474608,
          3.506120392308567,
          0.9492921296230744,
          1.0168291933212026,
          "",
          2.0214742967569155,
          "",
          1.5476284591486082,
          1.838365806342395,
          "",
          0.36196944321658236,
          2.722157466257504,
          0.23373186847011926,
          1.9167208088041952,
          "",
          2.488081540275248,
          "",
          2.1517911670472394,
          0.6371680756704684,
          "",
          2.3028081082507446,
          "",
          "",
          0.4007858668032048,
          0.45277943223862827,
          1.1842276203910442,
          "",
          0.09553761939130548,
          "",
          0.34611742701814757,
          0.15878288286190645,
          0.06717942158058732,
          1.5681996326324947,
          "",
          0.3750505555374002,
          "",
          1.4659413390739777,
          "",
          0.4409431469892028,
          0.5367309284899635,
          "",
          1.7752965363868694,
          "",
          1.543834105301937,
          1.230567715857962,
          0.24229072335301072,
          "",
          "",
          3.1197996742259444,
          1.0677803340080114,
          0.31452285884060793,
          0.9551691988402969,
          0.34018907778120666,
          1.7042144198171112,
          "",
          "",
          0.19039907214704255,
          "",
          "",
          "",
          "",
          2.5462325574388096,
          1.0296845880685201,
          "",
          0.626932104572709,
          ""
         ],
         "yaxis": "y2"
        },
        {
         "connectgaps": false,
         "fill": "tozeroy",
         "line": {
          "color": "red",
          "dash": "solid",
          "shape": "linear",
          "width": 0.5
         },
         "mode": "lines",
         "name": "Spread",
         "showlegend": false,
         "type": "scatter",
         "x": [
          0,
          1,
          2,
          3,
          4,
          5,
          6,
          7,
          8,
          9,
          10,
          11,
          12,
          13,
          14,
          15,
          16,
          17,
          18,
          19,
          20,
          21,
          22,
          23,
          24,
          25,
          26,
          27,
          28,
          29,
          30,
          31,
          32,
          33,
          34,
          35,
          36,
          37,
          38,
          39,
          40,
          41,
          42,
          43,
          44,
          45,
          46,
          47,
          48,
          49,
          50,
          51,
          52,
          53,
          54,
          55,
          56,
          57,
          58,
          59,
          60,
          61,
          62,
          63,
          64,
          65,
          66,
          67,
          68,
          69,
          70,
          71,
          72,
          73,
          74,
          75,
          76,
          77,
          78,
          79,
          80,
          81,
          82,
          83,
          84,
          85,
          86,
          87,
          88,
          89,
          90,
          91,
          92,
          93,
          94,
          95,
          96,
          97,
          98,
          99
         ],
         "xaxis": "x2",
         "y": [
          "",
          "",
          "",
          -1.1828919633819406,
          "",
          -2.1823686803482873,
          -2.4436543690012344,
          "",
          "",
          -2.292597682592724,
          "",
          "",
          -1.8391859931038679,
          -2.38004987829212,
          -1.218008755338714,
          "",
          -1.4469979673183053,
          "",
          "",
          "",
          "",
          "",
          -0.8016149817823546,
          -0.3947130807358076,
          "",
          "",
          "",
          -0.7444735910323345,
          -0.7855253176234405,
          -0.8788269671305707,
          -0.8643042350229606,
          -1.9783062301888947,
          "",
          "",
          "",
          "",
          "",
          "",
          -1.0018806402567035,
          "",
          -1.4138055661332587,
          "",
          "",
          -2.4089162829375836,
          "",
          "",
          "",
          "",
          -0.47306390511928603,
          "",
          -1.0106153623317362,
          "",
          "",
          -0.16684361072466758,
          "",
          -1.1321134712341514,
          -2.035363646733733,
          "",
          "",
          "",
          -0.534552268421103,
          "",
          -0.8551739355077893,
          "",
          "",
          "",
          "",
          -4.007126554487911,
          "",
          -0.4524238818610069,
          "",
          -6.850423051901489,
          "",
          "",
          -1.4690772502790004,
          "",
          -1.0202516183677905,
          "",
          "",
          "",
          -0.965726783068742,
          -0.6469964062943381,
          "",
          "",
          "",
          "",
          "",
          "",
          -1.5011837417820106,
          -0.7549208883720295,
          "",
          -2.040830739274504,
          -1.7404300943473663,
          -3.9536255557775917,
          -0.6978337012445558,
          "",
          "",
          -2.703530984478461,
          "",
          -0.7330486270388987
         ],
         "yaxis": "y2"
        }
       ],
       "layout": {
        "hovermode": "x",
        "legend": {
         "bgcolor": "#F5F6F9",
         "font": {
          "color": "#4D5663"
         }
        },
        "paper_bgcolor": "#F5F6F9",
        "plot_bgcolor": "#F5F6F9",
        "template": {
         "data": {
          "bar": [
           {
            "error_x": {
             "color": "#2a3f5f"
            },
            "error_y": {
             "color": "#2a3f5f"
            },
            "marker": {
             "line": {
              "color": "#E5ECF6",
              "width": 0.5
             }
            },
            "type": "bar"
           }
          ],
          "barpolar": [
           {
            "marker": {
             "line": {
              "color": "#E5ECF6",
              "width": 0.5
             }
            },
            "type": "barpolar"
           }
          ],
          "carpet": [
           {
            "aaxis": {
             "endlinecolor": "#2a3f5f",
             "gridcolor": "white",
             "linecolor": "white",
             "minorgridcolor": "white",
             "startlinecolor": "#2a3f5f"
            },
            "baxis": {
             "endlinecolor": "#2a3f5f",
             "gridcolor": "white",
             "linecolor": "white",
             "minorgridcolor": "white",
             "startlinecolor": "#2a3f5f"
            },
            "type": "carpet"
           }
          ],
          "choropleth": [
           {
            "colorbar": {
             "outlinewidth": 0,
             "ticks": ""
            },
            "type": "choropleth"
           }
          ],
          "contour": [
           {
            "colorbar": {
             "outlinewidth": 0,
             "ticks": ""
            },
            "colorscale": [
             [
              0,
              "#0d0887"
             ],
             [
              0.1111111111111111,
              "#46039f"
             ],
             [
              0.2222222222222222,
              "#7201a8"
             ],
             [
              0.3333333333333333,
              "#9c179e"
             ],
             [
              0.4444444444444444,
              "#bd3786"
             ],
             [
              0.5555555555555556,
              "#d8576b"
             ],
             [
              0.6666666666666666,
              "#ed7953"
             ],
             [
              0.7777777777777778,
              "#fb9f3a"
             ],
             [
              0.8888888888888888,
              "#fdca26"
             ],
             [
              1,
              "#f0f921"
             ]
            ],
            "type": "contour"
           }
          ],
          "contourcarpet": [
           {
            "colorbar": {
             "outlinewidth": 0,
             "ticks": ""
            },
            "type": "contourcarpet"
           }
          ],
          "heatmap": [
           {
            "colorbar": {
             "outlinewidth": 0,
             "ticks": ""
            },
            "colorscale": [
             [
              0,
              "#0d0887"
             ],
             [
              0.1111111111111111,
              "#46039f"
             ],
             [
              0.2222222222222222,
              "#7201a8"
             ],
             [
              0.3333333333333333,
              "#9c179e"
             ],
             [
              0.4444444444444444,
              "#bd3786"
             ],
             [
              0.5555555555555556,
              "#d8576b"
             ],
             [
              0.6666666666666666,
              "#ed7953"
             ],
             [
              0.7777777777777778,
              "#fb9f3a"
             ],
             [
              0.8888888888888888,
              "#fdca26"
             ],
             [
              1,
              "#f0f921"
             ]
            ],
            "type": "heatmap"
           }
          ],
          "heatmapgl": [
           {
            "colorbar": {
             "outlinewidth": 0,
             "ticks": ""
            },
            "colorscale": [
             [
              0,
              "#0d0887"
             ],
             [
              0.1111111111111111,
              "#46039f"
             ],
             [
              0.2222222222222222,
              "#7201a8"
             ],
             [
              0.3333333333333333,
              "#9c179e"
             ],
             [
              0.4444444444444444,
              "#bd3786"
             ],
             [
              0.5555555555555556,
              "#d8576b"
             ],
             [
              0.6666666666666666,
              "#ed7953"
             ],
             [
              0.7777777777777778,
              "#fb9f3a"
             ],
             [
              0.8888888888888888,
              "#fdca26"
             ],
             [
              1,
              "#f0f921"
             ]
            ],
            "type": "heatmapgl"
           }
          ],
          "histogram": [
           {
            "marker": {
             "colorbar": {
              "outlinewidth": 0,
              "ticks": ""
             }
            },
            "type": "histogram"
           }
          ],
          "histogram2d": [
           {
            "colorbar": {
             "outlinewidth": 0,
             "ticks": ""
            },
            "colorscale": [
             [
              0,
              "#0d0887"
             ],
             [
              0.1111111111111111,
              "#46039f"
             ],
             [
              0.2222222222222222,
              "#7201a8"
             ],
             [
              0.3333333333333333,
              "#9c179e"
             ],
             [
              0.4444444444444444,
              "#bd3786"
             ],
             [
              0.5555555555555556,
              "#d8576b"
             ],
             [
              0.6666666666666666,
              "#ed7953"
             ],
             [
              0.7777777777777778,
              "#fb9f3a"
             ],
             [
              0.8888888888888888,
              "#fdca26"
             ],
             [
              1,
              "#f0f921"
             ]
            ],
            "type": "histogram2d"
           }
          ],
          "histogram2dcontour": [
           {
            "colorbar": {
             "outlinewidth": 0,
             "ticks": ""
            },
            "colorscale": [
             [
              0,
              "#0d0887"
             ],
             [
              0.1111111111111111,
              "#46039f"
             ],
             [
              0.2222222222222222,
              "#7201a8"
             ],
             [
              0.3333333333333333,
              "#9c179e"
             ],
             [
              0.4444444444444444,
              "#bd3786"
             ],
             [
              0.5555555555555556,
              "#d8576b"
             ],
             [
              0.6666666666666666,
              "#ed7953"
             ],
             [
              0.7777777777777778,
              "#fb9f3a"
             ],
             [
              0.8888888888888888,
              "#fdca26"
             ],
             [
              1,
              "#f0f921"
             ]
            ],
            "type": "histogram2dcontour"
           }
          ],
          "mesh3d": [
           {
            "colorbar": {
             "outlinewidth": 0,
             "ticks": ""
            },
            "type": "mesh3d"
           }
          ],
          "parcoords": [
           {
            "line": {
             "colorbar": {
              "outlinewidth": 0,
              "ticks": ""
             }
            },
            "type": "parcoords"
           }
          ],
          "pie": [
           {
            "automargin": true,
            "type": "pie"
           }
          ],
          "scatter": [
           {
            "marker": {
             "colorbar": {
              "outlinewidth": 0,
              "ticks": ""
             }
            },
            "type": "scatter"
           }
          ],
          "scatter3d": [
           {
            "line": {
             "colorbar": {
              "outlinewidth": 0,
              "ticks": ""
             }
            },
            "marker": {
             "colorbar": {
              "outlinewidth": 0,
              "ticks": ""
             }
            },
            "type": "scatter3d"
           }
          ],
          "scattercarpet": [
           {
            "marker": {
             "colorbar": {
              "outlinewidth": 0,
              "ticks": ""
             }
            },
            "type": "scattercarpet"
           }
          ],
          "scattergeo": [
           {
            "marker": {
             "colorbar": {
              "outlinewidth": 0,
              "ticks": ""
             }
            },
            "type": "scattergeo"
           }
          ],
          "scattergl": [
           {
            "marker": {
             "colorbar": {
              "outlinewidth": 0,
              "ticks": ""
             }
            },
            "type": "scattergl"
           }
          ],
          "scattermapbox": [
           {
            "marker": {
             "colorbar": {
              "outlinewidth": 0,
              "ticks": ""
             }
            },
            "type": "scattermapbox"
           }
          ],
          "scatterpolar": [
           {
            "marker": {
             "colorbar": {
              "outlinewidth": 0,
              "ticks": ""
             }
            },
            "type": "scatterpolar"
           }
          ],
          "scatterpolargl": [
           {
            "marker": {
             "colorbar": {
              "outlinewidth": 0,
              "ticks": ""
             }
            },
            "type": "scatterpolargl"
           }
          ],
          "scatterternary": [
           {
            "marker": {
             "colorbar": {
              "outlinewidth": 0,
              "ticks": ""
             }
            },
            "type": "scatterternary"
           }
          ],
          "surface": [
           {
            "colorbar": {
             "outlinewidth": 0,
             "ticks": ""
            },
            "colorscale": [
             [
              0,
              "#0d0887"
             ],
             [
              0.1111111111111111,
              "#46039f"
             ],
             [
              0.2222222222222222,
              "#7201a8"
             ],
             [
              0.3333333333333333,
              "#9c179e"
             ],
             [
              0.4444444444444444,
              "#bd3786"
             ],
             [
              0.5555555555555556,
              "#d8576b"
             ],
             [
              0.6666666666666666,
              "#ed7953"
             ],
             [
              0.7777777777777778,
              "#fb9f3a"
             ],
             [
              0.8888888888888888,
              "#fdca26"
             ],
             [
              1,
              "#f0f921"
             ]
            ],
            "type": "surface"
           }
          ],
          "table": [
           {
            "cells": {
             "fill": {
              "color": "#EBF0F8"
             },
             "line": {
              "color": "white"
             }
            },
            "header": {
             "fill": {
              "color": "#C8D4E3"
             },
             "line": {
              "color": "white"
             }
            },
            "type": "table"
           }
          ]
         },
         "layout": {
          "annotationdefaults": {
           "arrowcolor": "#2a3f5f",
           "arrowhead": 0,
           "arrowwidth": 1
          },
          "coloraxis": {
           "colorbar": {
            "outlinewidth": 0,
            "ticks": ""
           }
          },
          "colorscale": {
           "diverging": [
            [
             0,
             "#8e0152"
            ],
            [
             0.1,
             "#c51b7d"
            ],
            [
             0.2,
             "#de77ae"
            ],
            [
             0.3,
             "#f1b6da"
            ],
            [
             0.4,
             "#fde0ef"
            ],
            [
             0.5,
             "#f7f7f7"
            ],
            [
             0.6,
             "#e6f5d0"
            ],
            [
             0.7,
             "#b8e186"
            ],
            [
             0.8,
             "#7fbc41"
            ],
            [
             0.9,
             "#4d9221"
            ],
            [
             1,
             "#276419"
            ]
           ],
           "sequential": [
            [
             0,
             "#0d0887"
            ],
            [
             0.1111111111111111,
             "#46039f"
            ],
            [
             0.2222222222222222,
             "#7201a8"
            ],
            [
             0.3333333333333333,
             "#9c179e"
            ],
            [
             0.4444444444444444,
             "#bd3786"
            ],
            [
             0.5555555555555556,
             "#d8576b"
            ],
            [
             0.6666666666666666,
             "#ed7953"
            ],
            [
             0.7777777777777778,
             "#fb9f3a"
            ],
            [
             0.8888888888888888,
             "#fdca26"
            ],
            [
             1,
             "#f0f921"
            ]
           ],
           "sequentialminus": [
            [
             0,
             "#0d0887"
            ],
            [
             0.1111111111111111,
             "#46039f"
            ],
            [
             0.2222222222222222,
             "#7201a8"
            ],
            [
             0.3333333333333333,
             "#9c179e"
            ],
            [
             0.4444444444444444,
             "#bd3786"
            ],
            [
             0.5555555555555556,
             "#d8576b"
            ],
            [
             0.6666666666666666,
             "#ed7953"
            ],
            [
             0.7777777777777778,
             "#fb9f3a"
            ],
            [
             0.8888888888888888,
             "#fdca26"
            ],
            [
             1,
             "#f0f921"
            ]
           ]
          },
          "colorway": [
           "#636efa",
           "#EF553B",
           "#00cc96",
           "#ab63fa",
           "#FFA15A",
           "#19d3f3",
           "#FF6692",
           "#B6E880",
           "#FF97FF",
           "#FECB52"
          ],
          "font": {
           "color": "#2a3f5f"
          },
          "geo": {
           "bgcolor": "white",
           "lakecolor": "white",
           "landcolor": "#E5ECF6",
           "showlakes": true,
           "showland": true,
           "subunitcolor": "white"
          },
          "hoverlabel": {
           "align": "left"
          },
          "hovermode": "closest",
          "mapbox": {
           "style": "light"
          },
          "paper_bgcolor": "white",
          "plot_bgcolor": "#E5ECF6",
          "polar": {
           "angularaxis": {
            "gridcolor": "white",
            "linecolor": "white",
            "ticks": ""
           },
           "bgcolor": "#E5ECF6",
           "radialaxis": {
            "gridcolor": "white",
            "linecolor": "white",
            "ticks": ""
           }
          },
          "scene": {
           "xaxis": {
            "backgroundcolor": "#E5ECF6",
            "gridcolor": "white",
            "gridwidth": 2,
            "linecolor": "white",
            "showbackground": true,
            "ticks": "",
            "zerolinecolor": "white"
           },
           "yaxis": {
            "backgroundcolor": "#E5ECF6",
            "gridcolor": "white",
            "gridwidth": 2,
            "linecolor": "white",
            "showbackground": true,
            "ticks": "",
            "zerolinecolor": "white"
           },
           "zaxis": {
            "backgroundcolor": "#E5ECF6",
            "gridcolor": "white",
            "gridwidth": 2,
            "linecolor": "white",
            "showbackground": true,
            "ticks": "",
            "zerolinecolor": "white"
           }
          },
          "shapedefaults": {
           "line": {
            "color": "#2a3f5f"
           }
          },
          "ternary": {
           "aaxis": {
            "gridcolor": "white",
            "linecolor": "white",
            "ticks": ""
           },
           "baxis": {
            "gridcolor": "white",
            "linecolor": "white",
            "ticks": ""
           },
           "bgcolor": "#E5ECF6",
           "caxis": {
            "gridcolor": "white",
            "linecolor": "white",
            "ticks": ""
           }
          },
          "title": {
           "x": 0.05
          },
          "xaxis": {
           "automargin": true,
           "gridcolor": "white",
           "linecolor": "white",
           "ticks": "",
           "title": {
            "standoff": 15
           },
           "zerolinecolor": "white",
           "zerolinewidth": 2
          },
          "yaxis": {
           "automargin": true,
           "gridcolor": "white",
           "linecolor": "white",
           "ticks": "",
           "title": {
            "standoff": 15
           },
           "zerolinecolor": "white",
           "zerolinewidth": 2
          }
         }
        },
        "title": {
         "font": {
          "color": "#4D5663"
         }
        },
        "xaxis": {
         "gridcolor": "#E1E5ED",
         "showgrid": true,
         "tickfont": {
          "color": "#4D5663"
         },
         "title": {
          "font": {
           "color": "#4D5663"
          },
          "text": ""
         },
         "zerolinecolor": "#E1E5ED"
        },
        "xaxis2": {
         "anchor": "y2",
         "gridcolor": "#E1E5ED",
         "showgrid": true,
         "showticklabels": false,
         "tickfont": {
          "color": "#4D5663"
         },
         "title": {
          "font": {
           "color": "#4D5663"
          },
          "text": ""
         },
         "zerolinecolor": "#E1E5ED"
        },
        "yaxis": {
         "domain": [
          0.3,
          1
         ],
         "gridcolor": "#E1E5ED",
         "showgrid": true,
         "tickfont": {
          "color": "#4D5663"
         },
         "title": {
          "font": {
           "color": "#4D5663"
          },
          "text": ""
         },
         "zerolinecolor": "#E1E5ED"
        },
        "yaxis2": {
         "domain": [
          0,
          0.25
         ],
         "gridcolor": "#E1E5ED",
         "showgrid": true,
         "tickfont": {
          "color": "#4D5663"
         },
         "title": {
          "font": {
           "color": "#4D5663"
          },
          "text": "Spread"
         },
         "zerolinecolor": "#E1E5ED"
        }
       }
      },
      "text/html": [
       "<div>\n",
       "        \n",
       "        \n",
       "            <div id=\"1a57929a-18d7-454a-9fa7-66c02b6a1878\" class=\"plotly-graph-div\" style=\"height:525px; width:100%;\"></div>\n",
       "            <script type=\"text/javascript\">\n",
       "                require([\"plotly\"], function(Plotly) {\n",
       "                    window.PLOTLYENV=window.PLOTLYENV || {};\n",
       "                    window.PLOTLYENV.BASE_URL='https://plot.ly';\n",
       "                    \n",
       "                if (document.getElementById(\"1a57929a-18d7-454a-9fa7-66c02b6a1878\")) {\n",
       "                    Plotly.newPlot(\n",
       "                        '1a57929a-18d7-454a-9fa7-66c02b6a1878',\n",
       "                        [{\"line\": {\"color\": \"rgba(255, 153, 51, 1.0)\", \"dash\": \"solid\", \"shape\": \"linear\", \"width\": 1.3}, \"marker\": {\"size\": 12, \"symbol\": \"circle\"}, \"mode\": \"lines+markers\", \"name\": \"A\", \"text\": \"\", \"type\": \"scatter\", \"x\": [0, 1, 2, 3, 4, 5, 6, 7, 8, 9, 10, 11, 12, 13, 14, 15, 16, 17, 18, 19, 20, 21, 22, 23, 24, 25, 26, 27, 28, 29, 30, 31, 32, 33, 34, 35, 36, 37, 38, 39, 40, 41, 42, 43, 44, 45, 46, 47, 48, 49, 50, 51, 52, 53, 54, 55, 56, 57, 58, 59, 60, 61, 62, 63, 64, 65, 66, 67, 68, 69, 70, 71, 72, 73, 74, 75, 76, 77, 78, 79, 80, 81, 82, 83, 84, 85, 86, 87, 88, 89, 90, 91, 92, 93, 94, 95, 96, 97, 98, 99], \"y\": [-0.8460237271253019, 0.6850443896998784, 0.013609065845515527, -0.4988132770316513, -0.5026795682975888, -2.1648319958850464, -1.154552707782905, 0.4645360254620899, 1.3740964676790737, -2.242787929269608, 0.912469992443577, 0.9719058990913453, -1.4485752232730136, -1.4856817403879254, -1.7707609389688101, -1.544708909569676, -0.845047053954906, 1.5718728962014008, 1.7407180132610471, 2.146932204884541, 1.185958873022132, 0.2630462182169065, -0.751468859481539, 0.12184899133054408, 0.21414513681628883, 0.9417985234694084, 1.2425311236379861, -0.7377121463314611, -2.1358685937035027, -0.01613866776884078, -1.224414063134968, -0.43117966330931345, 0.4474472858747312, 0.36962982018769797, 0.847196324617692, 1.880012748500143, 1.1045060967752076, 0.4633019355132985, -1.464979842190436, 1.4075418941380369, -0.015380220180128674, 1.5729576249594048, 0.035613201302045094, -2.1191326657010925, 0.4674612766990198, 1.5672725306048771, 0.32374701394053695, -0.07586660607563349, -0.28766130688384633, 0.8484426019712326, 0.12285878967475791, 0.10747331366298463, -0.014364068259369946, 0.04745854722618259, 0.08562776472368197, -1.2389066249610874, -0.6995068508645815, -0.7972095540515397, 1.2007857778924123, -0.09290640667433647, -0.2934859290199042, -0.07763488078361577, 0.6157033452195625, 0.10784793323471127, -0.5688943346294603, 0.3980559147795507, 0.5661577662311075, -2.195580683945319, 0.8997439452375172, 0.6116820569345487, 0.898185107218264, -3.16636935240398, 0.5157190077667173, 1.7027542662620736, -1.8334998040533916, 1.5191373232065937, -0.17460849019525584, 1.131963144127607, 0.3568780584530282, 0.9102545259831278, 0.13445560873806117, 0.40655314317655816, 1.0152337299856296, 1.4398556923049288, -0.18648795002338767, 0.4306655374413637, 0.09626036855680789, 1.5076321511661732, -0.8426903877075556, -0.4677942497505051, 1.2558162159647377, -0.3149934105775024, 0.3672194688408298, -2.3065307475577677, -0.6732954546156035, 1.3521271382546514, -0.18481351745424293, -0.8944438856872224, 0.30256144019502035, -1.774058004598215]}, {\"line\": {\"color\": \"rgba(55, 128, 191, 1.0)\", \"dash\": \"solid\", \"shape\": \"linear\", \"width\": 1.3}, \"marker\": {\"size\": 12, \"symbol\": \"circle\"}, \"mode\": \"lines+markers\", \"name\": \"B\", \"text\": \"\", \"type\": \"scatter\", \"x\": [0, 1, 2, 3, 4, 5, 6, 7, 8, 9, 10, 11, 12, 13, 14, 15, 16, 17, 18, 19, 20, 21, 22, 23, 24, 25, 26, 27, 28, 29, 30, 31, 32, 33, 34, 35, 36, 37, 38, 39, 40, 41, 42, 43, 44, 45, 46, 47, 48, 49, 50, 51, 52, 53, 54, 55, 56, 57, 58, 59, 60, 61, 62, 63, 64, 65, 66, 67, 68, 69, 70, 71, 72, 73, 74, 75, 76, 77, 78, 79, 80, 81, 82, 83, 84, 85, 86, 87, 88, 89, 90, 91, 92, 93, 94, 95, 96, 97, 98, 99], \"y\": [-1.6690665071741209, -0.9484589845302493, -0.8161375694116357, 0.6840786863502893, -2.2018317733312114, 0.017536684463240967, 1.2891016612183293, -1.804728629786003, 0.3259795023528879, 0.049809753323116025, -0.5586374064724668, 0.29429666978152597, 0.39061076983085435, 0.8943681379041947, -0.552752183630096, -3.254423561116218, 0.6019509133633993, -0.8259461083978703, 1.710869136590222, -0.6615216430491391, -1.1578938475951246, -1.053495434073233, 0.050146122300815554, 0.5165620720663516, -0.48796706452958144, -0.4419290713862438, -0.7685738951120951, 0.006761444700873407, -1.3503432760800622, 0.86268829936173, -0.3601098281120075, 1.5471265668795813, -0.7877036076046857, -0.11570378586982293, -0.38626518512976876, -1.6261076438084243, 0.1552139671521332, -0.5535272578079041, -0.4630992019337326, -0.6139324026188785, 1.39842534595313, 0.025329165810796576, -1.80275260504035, 0.2897836172364911, 0.10549183348243746, -1.154884935652627, 0.0900151454704177, -1.9925874148798286, 0.1854025982354397, -1.6396389383040153, 1.1334741520064942, -2.0443178533842548, -0.6515321439298384, 0.21430215795085017, -2.2171803435270627, -0.10679315372693604, 1.3358567958691514, -1.1979954208547445, 0.748006345653784, -1.2771340270653806, 0.24106633940119884, -0.17317250017492125, 1.4708772807273518, -0.2382694937834363, -0.7276772174913667, 0.3308764931989634, -1.0020418664013873, 1.8115458705425924, 0.524693389700117, 1.0641059387955556, -0.5677562318557139, 3.684053699497508, 0.07477586077751451, 1.16602333777211, -0.3644225537743912, -0.2561592131802757, 0.8456431281725347, -0.41187096117433014, -0.8736896574049339, 0.6679638026301171, 1.1001823918068032, 1.0535495494708962, -2.104565944240315, 0.3720753582969174, -0.5010108088639956, -0.5245036613989332, -0.24392870922439877, -0.19658226865093806, 0.6584933540744552, 0.2871266386215244, 1.0654171438176951, 1.7258373286970015, 2.107649563188196, 1.6470948082198242, 0.02453824662895236, -1.194105419184158, -1.214498105522763, 1.8090870987912386, -0.3243706643776886, -1.0410093775593163]}, {\"connectgaps\": false, \"fill\": \"tozeroy\", \"line\": {\"color\": \"green\", \"dash\": \"solid\", \"shape\": \"linear\", \"width\": 0.5}, \"mode\": \"lines\", \"name\": \"Spread\", \"showlegend\": false, \"type\": \"scatter\", \"x\": [0, 1, 2, 3, 4, 5, 6, 7, 8, 9, 10, 11, 12, 13, 14, 15, 16, 17, 18, 19, 20, 21, 22, 23, 24, 25, 26, 27, 28, 29, 30, 31, 32, 33, 34, 35, 36, 37, 38, 39, 40, 41, 42, 43, 44, 45, 46, 47, 48, 49, 50, 51, 52, 53, 54, 55, 56, 57, 58, 59, 60, 61, 62, 63, 64, 65, 66, 67, 68, 69, 70, 71, 72, 73, 74, 75, 76, 77, 78, 79, 80, 81, 82, 83, 84, 85, 86, 87, 88, 89, 90, 91, 92, 93, 94, 95, 96, 97, 98, 99], \"xaxis\": \"x2\", \"y\": [0.8230427800488189, 1.6335033742301277, 0.8297466352571513, \"\", 1.6991522050336227, \"\", \"\", 2.269264655248093, 1.0481169653261857, \"\", 1.4711073989160437, 0.6776092293098193, \"\", \"\", \"\", 1.709714651546542, \"\", 2.3978190045992713, 0.029848876670825142, 2.80845384793368, 2.3438527206172566, 1.3165416522901394, \"\", \"\", 0.7021122013458703, 1.3837275948556522, 2.011105018750081, \"\", \"\", \"\", \"\", \"\", 1.2351508934794169, 0.4853336060575209, 1.2334615097474608, 3.506120392308567, 0.9492921296230744, 1.0168291933212026, \"\", 2.0214742967569155, \"\", 1.5476284591486082, 1.838365806342395, \"\", 0.36196944321658236, 2.722157466257504, 0.23373186847011926, 1.9167208088041952, \"\", 2.488081540275248, \"\", 2.1517911670472394, 0.6371680756704684, \"\", 2.3028081082507446, \"\", \"\", 0.4007858668032048, 0.45277943223862827, 1.1842276203910442, \"\", 0.09553761939130548, \"\", 0.34611742701814757, 0.15878288286190645, 0.06717942158058732, 1.5681996326324947, \"\", 0.3750505555374002, \"\", 1.4659413390739777, \"\", 0.4409431469892028, 0.5367309284899635, \"\", 1.7752965363868694, \"\", 1.543834105301937, 1.230567715857962, 0.24229072335301072, \"\", \"\", 3.1197996742259444, 1.0677803340080114, 0.31452285884060793, 0.9551691988402969, 0.34018907778120666, 1.7042144198171112, \"\", \"\", 0.19039907214704255, \"\", \"\", \"\", \"\", 2.5462325574388096, 1.0296845880685201, \"\", 0.626932104572709, \"\"], \"yaxis\": \"y2\"}, {\"connectgaps\": false, \"fill\": \"tozeroy\", \"line\": {\"color\": \"red\", \"dash\": \"solid\", \"shape\": \"linear\", \"width\": 0.5}, \"mode\": \"lines\", \"name\": \"Spread\", \"showlegend\": false, \"type\": \"scatter\", \"x\": [0, 1, 2, 3, 4, 5, 6, 7, 8, 9, 10, 11, 12, 13, 14, 15, 16, 17, 18, 19, 20, 21, 22, 23, 24, 25, 26, 27, 28, 29, 30, 31, 32, 33, 34, 35, 36, 37, 38, 39, 40, 41, 42, 43, 44, 45, 46, 47, 48, 49, 50, 51, 52, 53, 54, 55, 56, 57, 58, 59, 60, 61, 62, 63, 64, 65, 66, 67, 68, 69, 70, 71, 72, 73, 74, 75, 76, 77, 78, 79, 80, 81, 82, 83, 84, 85, 86, 87, 88, 89, 90, 91, 92, 93, 94, 95, 96, 97, 98, 99], \"xaxis\": \"x2\", \"y\": [\"\", \"\", \"\", -1.1828919633819406, \"\", -2.1823686803482873, -2.4436543690012344, \"\", \"\", -2.292597682592724, \"\", \"\", -1.8391859931038679, -2.38004987829212, -1.218008755338714, \"\", -1.4469979673183053, \"\", \"\", \"\", \"\", \"\", -0.8016149817823546, -0.3947130807358076, \"\", \"\", \"\", -0.7444735910323345, -0.7855253176234405, -0.8788269671305707, -0.8643042350229606, -1.9783062301888947, \"\", \"\", \"\", \"\", \"\", \"\", -1.0018806402567035, \"\", -1.4138055661332587, \"\", \"\", -2.4089162829375836, \"\", \"\", \"\", \"\", -0.47306390511928603, \"\", -1.0106153623317362, \"\", \"\", -0.16684361072466758, \"\", -1.1321134712341514, -2.035363646733733, \"\", \"\", \"\", -0.534552268421103, \"\", -0.8551739355077893, \"\", \"\", \"\", \"\", -4.007126554487911, \"\", -0.4524238818610069, \"\", -6.850423051901489, \"\", \"\", -1.4690772502790004, \"\", -1.0202516183677905, \"\", \"\", \"\", -0.965726783068742, -0.6469964062943381, \"\", \"\", \"\", \"\", \"\", \"\", -1.5011837417820106, -0.7549208883720295, \"\", -2.040830739274504, -1.7404300943473663, -3.9536255557775917, -0.6978337012445558, \"\", \"\", -2.703530984478461, \"\", -0.7330486270388987], \"yaxis\": \"y2\"}],\n",
       "                        {\"hovermode\": \"x\", \"legend\": {\"bgcolor\": \"#F5F6F9\", \"font\": {\"color\": \"#4D5663\"}}, \"paper_bgcolor\": \"#F5F6F9\", \"plot_bgcolor\": \"#F5F6F9\", \"template\": {\"data\": {\"bar\": [{\"error_x\": {\"color\": \"#2a3f5f\"}, \"error_y\": {\"color\": \"#2a3f5f\"}, \"marker\": {\"line\": {\"color\": \"#E5ECF6\", \"width\": 0.5}}, \"type\": \"bar\"}], \"barpolar\": [{\"marker\": {\"line\": {\"color\": \"#E5ECF6\", \"width\": 0.5}}, \"type\": \"barpolar\"}], \"carpet\": [{\"aaxis\": {\"endlinecolor\": \"#2a3f5f\", \"gridcolor\": \"white\", \"linecolor\": \"white\", \"minorgridcolor\": \"white\", \"startlinecolor\": \"#2a3f5f\"}, \"baxis\": {\"endlinecolor\": \"#2a3f5f\", \"gridcolor\": \"white\", \"linecolor\": \"white\", \"minorgridcolor\": \"white\", \"startlinecolor\": \"#2a3f5f\"}, \"type\": \"carpet\"}], \"choropleth\": [{\"colorbar\": {\"outlinewidth\": 0, \"ticks\": \"\"}, \"type\": \"choropleth\"}], \"contour\": [{\"colorbar\": {\"outlinewidth\": 0, \"ticks\": \"\"}, \"colorscale\": [[0.0, \"#0d0887\"], [0.1111111111111111, \"#46039f\"], [0.2222222222222222, \"#7201a8\"], [0.3333333333333333, \"#9c179e\"], [0.4444444444444444, \"#bd3786\"], [0.5555555555555556, \"#d8576b\"], [0.6666666666666666, \"#ed7953\"], [0.7777777777777778, \"#fb9f3a\"], [0.8888888888888888, \"#fdca26\"], [1.0, \"#f0f921\"]], \"type\": \"contour\"}], \"contourcarpet\": [{\"colorbar\": {\"outlinewidth\": 0, \"ticks\": \"\"}, \"type\": \"contourcarpet\"}], \"heatmap\": [{\"colorbar\": {\"outlinewidth\": 0, \"ticks\": \"\"}, \"colorscale\": [[0.0, \"#0d0887\"], [0.1111111111111111, \"#46039f\"], [0.2222222222222222, \"#7201a8\"], [0.3333333333333333, \"#9c179e\"], [0.4444444444444444, \"#bd3786\"], [0.5555555555555556, \"#d8576b\"], [0.6666666666666666, \"#ed7953\"], [0.7777777777777778, \"#fb9f3a\"], [0.8888888888888888, \"#fdca26\"], [1.0, \"#f0f921\"]], \"type\": \"heatmap\"}], \"heatmapgl\": [{\"colorbar\": {\"outlinewidth\": 0, \"ticks\": \"\"}, \"colorscale\": [[0.0, \"#0d0887\"], [0.1111111111111111, \"#46039f\"], [0.2222222222222222, \"#7201a8\"], [0.3333333333333333, \"#9c179e\"], [0.4444444444444444, \"#bd3786\"], [0.5555555555555556, \"#d8576b\"], [0.6666666666666666, \"#ed7953\"], [0.7777777777777778, \"#fb9f3a\"], [0.8888888888888888, \"#fdca26\"], [1.0, \"#f0f921\"]], \"type\": \"heatmapgl\"}], \"histogram\": [{\"marker\": {\"colorbar\": {\"outlinewidth\": 0, \"ticks\": \"\"}}, \"type\": \"histogram\"}], \"histogram2d\": [{\"colorbar\": {\"outlinewidth\": 0, \"ticks\": \"\"}, \"colorscale\": [[0.0, \"#0d0887\"], [0.1111111111111111, \"#46039f\"], [0.2222222222222222, \"#7201a8\"], [0.3333333333333333, \"#9c179e\"], [0.4444444444444444, \"#bd3786\"], [0.5555555555555556, \"#d8576b\"], [0.6666666666666666, \"#ed7953\"], [0.7777777777777778, \"#fb9f3a\"], [0.8888888888888888, \"#fdca26\"], [1.0, \"#f0f921\"]], \"type\": \"histogram2d\"}], \"histogram2dcontour\": [{\"colorbar\": {\"outlinewidth\": 0, \"ticks\": \"\"}, \"colorscale\": [[0.0, \"#0d0887\"], [0.1111111111111111, \"#46039f\"], [0.2222222222222222, \"#7201a8\"], [0.3333333333333333, \"#9c179e\"], [0.4444444444444444, \"#bd3786\"], [0.5555555555555556, \"#d8576b\"], [0.6666666666666666, \"#ed7953\"], [0.7777777777777778, \"#fb9f3a\"], [0.8888888888888888, \"#fdca26\"], [1.0, \"#f0f921\"]], \"type\": \"histogram2dcontour\"}], \"mesh3d\": [{\"colorbar\": {\"outlinewidth\": 0, \"ticks\": \"\"}, \"type\": \"mesh3d\"}], \"parcoords\": [{\"line\": {\"colorbar\": {\"outlinewidth\": 0, \"ticks\": \"\"}}, \"type\": \"parcoords\"}], \"pie\": [{\"automargin\": true, \"type\": \"pie\"}], \"scatter\": [{\"marker\": {\"colorbar\": {\"outlinewidth\": 0, \"ticks\": \"\"}}, \"type\": \"scatter\"}], \"scatter3d\": [{\"line\": {\"colorbar\": {\"outlinewidth\": 0, \"ticks\": \"\"}}, \"marker\": {\"colorbar\": {\"outlinewidth\": 0, \"ticks\": \"\"}}, \"type\": \"scatter3d\"}], \"scattercarpet\": [{\"marker\": {\"colorbar\": {\"outlinewidth\": 0, \"ticks\": \"\"}}, \"type\": \"scattercarpet\"}], \"scattergeo\": [{\"marker\": {\"colorbar\": {\"outlinewidth\": 0, \"ticks\": \"\"}}, \"type\": \"scattergeo\"}], \"scattergl\": [{\"marker\": {\"colorbar\": {\"outlinewidth\": 0, \"ticks\": \"\"}}, \"type\": \"scattergl\"}], \"scattermapbox\": [{\"marker\": {\"colorbar\": {\"outlinewidth\": 0, \"ticks\": \"\"}}, \"type\": \"scattermapbox\"}], \"scatterpolar\": [{\"marker\": {\"colorbar\": {\"outlinewidth\": 0, \"ticks\": \"\"}}, \"type\": \"scatterpolar\"}], \"scatterpolargl\": [{\"marker\": {\"colorbar\": {\"outlinewidth\": 0, \"ticks\": \"\"}}, \"type\": \"scatterpolargl\"}], \"scatterternary\": [{\"marker\": {\"colorbar\": {\"outlinewidth\": 0, \"ticks\": \"\"}}, \"type\": \"scatterternary\"}], \"surface\": [{\"colorbar\": {\"outlinewidth\": 0, \"ticks\": \"\"}, \"colorscale\": [[0.0, \"#0d0887\"], [0.1111111111111111, \"#46039f\"], [0.2222222222222222, \"#7201a8\"], [0.3333333333333333, \"#9c179e\"], [0.4444444444444444, \"#bd3786\"], [0.5555555555555556, \"#d8576b\"], [0.6666666666666666, \"#ed7953\"], [0.7777777777777778, \"#fb9f3a\"], [0.8888888888888888, \"#fdca26\"], [1.0, \"#f0f921\"]], \"type\": \"surface\"}], \"table\": [{\"cells\": {\"fill\": {\"color\": \"#EBF0F8\"}, \"line\": {\"color\": \"white\"}}, \"header\": {\"fill\": {\"color\": \"#C8D4E3\"}, \"line\": {\"color\": \"white\"}}, \"type\": \"table\"}]}, \"layout\": {\"annotationdefaults\": {\"arrowcolor\": \"#2a3f5f\", \"arrowhead\": 0, \"arrowwidth\": 1}, \"coloraxis\": {\"colorbar\": {\"outlinewidth\": 0, \"ticks\": \"\"}}, \"colorscale\": {\"diverging\": [[0, \"#8e0152\"], [0.1, \"#c51b7d\"], [0.2, \"#de77ae\"], [0.3, \"#f1b6da\"], [0.4, \"#fde0ef\"], [0.5, \"#f7f7f7\"], [0.6, \"#e6f5d0\"], [0.7, \"#b8e186\"], [0.8, \"#7fbc41\"], [0.9, \"#4d9221\"], [1, \"#276419\"]], \"sequential\": [[0.0, \"#0d0887\"], [0.1111111111111111, \"#46039f\"], [0.2222222222222222, \"#7201a8\"], [0.3333333333333333, \"#9c179e\"], [0.4444444444444444, \"#bd3786\"], [0.5555555555555556, \"#d8576b\"], [0.6666666666666666, \"#ed7953\"], [0.7777777777777778, \"#fb9f3a\"], [0.8888888888888888, \"#fdca26\"], [1.0, \"#f0f921\"]], \"sequentialminus\": [[0.0, \"#0d0887\"], [0.1111111111111111, \"#46039f\"], [0.2222222222222222, \"#7201a8\"], [0.3333333333333333, \"#9c179e\"], [0.4444444444444444, \"#bd3786\"], [0.5555555555555556, \"#d8576b\"], [0.6666666666666666, \"#ed7953\"], [0.7777777777777778, \"#fb9f3a\"], [0.8888888888888888, \"#fdca26\"], [1.0, \"#f0f921\"]]}, \"colorway\": [\"#636efa\", \"#EF553B\", \"#00cc96\", \"#ab63fa\", \"#FFA15A\", \"#19d3f3\", \"#FF6692\", \"#B6E880\", \"#FF97FF\", \"#FECB52\"], \"font\": {\"color\": \"#2a3f5f\"}, \"geo\": {\"bgcolor\": \"white\", \"lakecolor\": \"white\", \"landcolor\": \"#E5ECF6\", \"showlakes\": true, \"showland\": true, \"subunitcolor\": \"white\"}, \"hoverlabel\": {\"align\": \"left\"}, \"hovermode\": \"closest\", \"mapbox\": {\"style\": \"light\"}, \"paper_bgcolor\": \"white\", \"plot_bgcolor\": \"#E5ECF6\", \"polar\": {\"angularaxis\": {\"gridcolor\": \"white\", \"linecolor\": \"white\", \"ticks\": \"\"}, \"bgcolor\": \"#E5ECF6\", \"radialaxis\": {\"gridcolor\": \"white\", \"linecolor\": \"white\", \"ticks\": \"\"}}, \"scene\": {\"xaxis\": {\"backgroundcolor\": \"#E5ECF6\", \"gridcolor\": \"white\", \"gridwidth\": 2, \"linecolor\": \"white\", \"showbackground\": true, \"ticks\": \"\", \"zerolinecolor\": \"white\"}, \"yaxis\": {\"backgroundcolor\": \"#E5ECF6\", \"gridcolor\": \"white\", \"gridwidth\": 2, \"linecolor\": \"white\", \"showbackground\": true, \"ticks\": \"\", \"zerolinecolor\": \"white\"}, \"zaxis\": {\"backgroundcolor\": \"#E5ECF6\", \"gridcolor\": \"white\", \"gridwidth\": 2, \"linecolor\": \"white\", \"showbackground\": true, \"ticks\": \"\", \"zerolinecolor\": \"white\"}}, \"shapedefaults\": {\"line\": {\"color\": \"#2a3f5f\"}}, \"ternary\": {\"aaxis\": {\"gridcolor\": \"white\", \"linecolor\": \"white\", \"ticks\": \"\"}, \"baxis\": {\"gridcolor\": \"white\", \"linecolor\": \"white\", \"ticks\": \"\"}, \"bgcolor\": \"#E5ECF6\", \"caxis\": {\"gridcolor\": \"white\", \"linecolor\": \"white\", \"ticks\": \"\"}}, \"title\": {\"x\": 0.05}, \"xaxis\": {\"automargin\": true, \"gridcolor\": \"white\", \"linecolor\": \"white\", \"ticks\": \"\", \"title\": {\"standoff\": 15}, \"zerolinecolor\": \"white\", \"zerolinewidth\": 2}, \"yaxis\": {\"automargin\": true, \"gridcolor\": \"white\", \"linecolor\": \"white\", \"ticks\": \"\", \"title\": {\"standoff\": 15}, \"zerolinecolor\": \"white\", \"zerolinewidth\": 2}}}, \"title\": {\"font\": {\"color\": \"#4D5663\"}}, \"xaxis\": {\"gridcolor\": \"#E1E5ED\", \"showgrid\": true, \"tickfont\": {\"color\": \"#4D5663\"}, \"title\": {\"font\": {\"color\": \"#4D5663\"}, \"text\": \"\"}, \"zerolinecolor\": \"#E1E5ED\"}, \"xaxis2\": {\"anchor\": \"y2\", \"gridcolor\": \"#E1E5ED\", \"showgrid\": true, \"showticklabels\": false, \"tickfont\": {\"color\": \"#4D5663\"}, \"title\": {\"font\": {\"color\": \"#4D5663\"}, \"text\": \"\"}, \"zerolinecolor\": \"#E1E5ED\"}, \"yaxis\": {\"domain\": [0.3, 1], \"gridcolor\": \"#E1E5ED\", \"showgrid\": true, \"tickfont\": {\"color\": \"#4D5663\"}, \"title\": {\"font\": {\"color\": \"#4D5663\"}, \"text\": \"\"}, \"zerolinecolor\": \"#E1E5ED\"}, \"yaxis2\": {\"domain\": [0, 0.25], \"gridcolor\": \"#E1E5ED\", \"showgrid\": true, \"tickfont\": {\"color\": \"#4D5663\"}, \"title\": {\"font\": {\"color\": \"#4D5663\"}, \"text\": \"Spread\"}, \"zerolinecolor\": \"#E1E5ED\"}},\n",
       "                        {\"showLink\": true, \"linkText\": \"Export to plot.ly\", \"plotlyServerURL\": \"https://plot.ly\", \"responsive\": true}\n",
       "                    ).then(function(){\n",
       "                            \n",
       "var gd = document.getElementById('1a57929a-18d7-454a-9fa7-66c02b6a1878');\n",
       "var x = new MutationObserver(function (mutations, observer) {{\n",
       "        var display = window.getComputedStyle(gd).display;\n",
       "        if (!display || display === 'none') {{\n",
       "            console.log([gd, 'removed!']);\n",
       "            Plotly.purge(gd);\n",
       "            observer.disconnect();\n",
       "        }}\n",
       "}});\n",
       "\n",
       "// Listen for the removal of the full notebook cells\n",
       "var notebookContainer = gd.closest('#notebook-container');\n",
       "if (notebookContainer) {{\n",
       "    x.observe(notebookContainer, {childList: true});\n",
       "}}\n",
       "\n",
       "// Listen for the clearing of the current output cell\n",
       "var outputEl = gd.closest('.output');\n",
       "if (outputEl) {{\n",
       "    x.observe(outputEl, {childList: true});\n",
       "}}\n",
       "\n",
       "                        })\n",
       "                };\n",
       "                });\n",
       "            </script>\n",
       "        </div>"
      ]
     },
     "metadata": {},
     "output_type": "display_data"
    }
   ],
   "source": [
    "df1[['A','B']].iplot(kind='spread',mode='lines+markers')"
   ]
  },
  {
   "cell_type": "code",
   "execution_count": 16,
   "metadata": {},
   "outputs": [
    {
     "data": {
      "application/vnd.plotly.v1+json": {
       "config": {
        "linkText": "Export to plot.ly",
        "plotlyServerURL": "https://plot.ly",
        "showLink": true
       },
       "data": [
        {
         "histfunc": "count",
         "histnorm": "",
         "marker": {
          "color": "rgba(255, 153, 51, 1.0)",
          "line": {
           "color": "#4D5663",
           "width": 1.3
          }
         },
         "name": "A",
         "nbinsx": 25,
         "opacity": 0.8,
         "orientation": "v",
         "type": "histogram",
         "x": [
          -0.8460237271253019,
          0.6850443896998784,
          0.013609065845515527,
          -0.4988132770316513,
          -0.5026795682975888,
          -2.1648319958850464,
          -1.154552707782905,
          0.4645360254620899,
          1.3740964676790737,
          -2.242787929269608,
          0.912469992443577,
          0.9719058990913453,
          -1.4485752232730136,
          -1.4856817403879254,
          -1.7707609389688101,
          -1.544708909569676,
          -0.845047053954906,
          1.5718728962014008,
          1.7407180132610471,
          2.146932204884541,
          1.185958873022132,
          0.2630462182169065,
          -0.751468859481539,
          0.12184899133054408,
          0.21414513681628883,
          0.9417985234694084,
          1.2425311236379861,
          -0.7377121463314611,
          -2.1358685937035027,
          -0.01613866776884078,
          -1.224414063134968,
          -0.43117966330931345,
          0.4474472858747312,
          0.36962982018769797,
          0.847196324617692,
          1.880012748500143,
          1.1045060967752076,
          0.4633019355132985,
          -1.464979842190436,
          1.4075418941380369,
          -0.015380220180128674,
          1.5729576249594048,
          0.035613201302045094,
          -2.1191326657010925,
          0.4674612766990198,
          1.5672725306048771,
          0.32374701394053695,
          -0.07586660607563349,
          -0.28766130688384633,
          0.8484426019712326,
          0.12285878967475791,
          0.10747331366298463,
          -0.014364068259369946,
          0.04745854722618259,
          0.08562776472368197,
          -1.2389066249610874,
          -0.6995068508645815,
          -0.7972095540515397,
          1.2007857778924123,
          -0.09290640667433647,
          -0.2934859290199042,
          -0.07763488078361577,
          0.6157033452195625,
          0.10784793323471127,
          -0.5688943346294603,
          0.3980559147795507,
          0.5661577662311075,
          -2.195580683945319,
          0.8997439452375172,
          0.6116820569345487,
          0.898185107218264,
          -3.16636935240398,
          0.5157190077667173,
          1.7027542662620736,
          -1.8334998040533916,
          1.5191373232065937,
          -0.17460849019525584,
          1.131963144127607,
          0.3568780584530282,
          0.9102545259831278,
          0.13445560873806117,
          0.40655314317655816,
          1.0152337299856296,
          1.4398556923049288,
          -0.18648795002338767,
          0.4306655374413637,
          0.09626036855680789,
          1.5076321511661732,
          -0.8426903877075556,
          -0.4677942497505051,
          1.2558162159647377,
          -0.3149934105775024,
          0.3672194688408298,
          -2.3065307475577677,
          -0.6732954546156035,
          1.3521271382546514,
          -0.18481351745424293,
          -0.8944438856872224,
          0.30256144019502035,
          -1.774058004598215
         ]
        }
       ],
       "layout": {
        "barmode": "overlay",
        "legend": {
         "bgcolor": "#F5F6F9",
         "font": {
          "color": "#4D5663"
         }
        },
        "paper_bgcolor": "#F5F6F9",
        "plot_bgcolor": "#F5F6F9",
        "template": {
         "data": {
          "bar": [
           {
            "error_x": {
             "color": "#2a3f5f"
            },
            "error_y": {
             "color": "#2a3f5f"
            },
            "marker": {
             "line": {
              "color": "#E5ECF6",
              "width": 0.5
             }
            },
            "type": "bar"
           }
          ],
          "barpolar": [
           {
            "marker": {
             "line": {
              "color": "#E5ECF6",
              "width": 0.5
             }
            },
            "type": "barpolar"
           }
          ],
          "carpet": [
           {
            "aaxis": {
             "endlinecolor": "#2a3f5f",
             "gridcolor": "white",
             "linecolor": "white",
             "minorgridcolor": "white",
             "startlinecolor": "#2a3f5f"
            },
            "baxis": {
             "endlinecolor": "#2a3f5f",
             "gridcolor": "white",
             "linecolor": "white",
             "minorgridcolor": "white",
             "startlinecolor": "#2a3f5f"
            },
            "type": "carpet"
           }
          ],
          "choropleth": [
           {
            "colorbar": {
             "outlinewidth": 0,
             "ticks": ""
            },
            "type": "choropleth"
           }
          ],
          "contour": [
           {
            "colorbar": {
             "outlinewidth": 0,
             "ticks": ""
            },
            "colorscale": [
             [
              0,
              "#0d0887"
             ],
             [
              0.1111111111111111,
              "#46039f"
             ],
             [
              0.2222222222222222,
              "#7201a8"
             ],
             [
              0.3333333333333333,
              "#9c179e"
             ],
             [
              0.4444444444444444,
              "#bd3786"
             ],
             [
              0.5555555555555556,
              "#d8576b"
             ],
             [
              0.6666666666666666,
              "#ed7953"
             ],
             [
              0.7777777777777778,
              "#fb9f3a"
             ],
             [
              0.8888888888888888,
              "#fdca26"
             ],
             [
              1,
              "#f0f921"
             ]
            ],
            "type": "contour"
           }
          ],
          "contourcarpet": [
           {
            "colorbar": {
             "outlinewidth": 0,
             "ticks": ""
            },
            "type": "contourcarpet"
           }
          ],
          "heatmap": [
           {
            "colorbar": {
             "outlinewidth": 0,
             "ticks": ""
            },
            "colorscale": [
             [
              0,
              "#0d0887"
             ],
             [
              0.1111111111111111,
              "#46039f"
             ],
             [
              0.2222222222222222,
              "#7201a8"
             ],
             [
              0.3333333333333333,
              "#9c179e"
             ],
             [
              0.4444444444444444,
              "#bd3786"
             ],
             [
              0.5555555555555556,
              "#d8576b"
             ],
             [
              0.6666666666666666,
              "#ed7953"
             ],
             [
              0.7777777777777778,
              "#fb9f3a"
             ],
             [
              0.8888888888888888,
              "#fdca26"
             ],
             [
              1,
              "#f0f921"
             ]
            ],
            "type": "heatmap"
           }
          ],
          "heatmapgl": [
           {
            "colorbar": {
             "outlinewidth": 0,
             "ticks": ""
            },
            "colorscale": [
             [
              0,
              "#0d0887"
             ],
             [
              0.1111111111111111,
              "#46039f"
             ],
             [
              0.2222222222222222,
              "#7201a8"
             ],
             [
              0.3333333333333333,
              "#9c179e"
             ],
             [
              0.4444444444444444,
              "#bd3786"
             ],
             [
              0.5555555555555556,
              "#d8576b"
             ],
             [
              0.6666666666666666,
              "#ed7953"
             ],
             [
              0.7777777777777778,
              "#fb9f3a"
             ],
             [
              0.8888888888888888,
              "#fdca26"
             ],
             [
              1,
              "#f0f921"
             ]
            ],
            "type": "heatmapgl"
           }
          ],
          "histogram": [
           {
            "marker": {
             "colorbar": {
              "outlinewidth": 0,
              "ticks": ""
             }
            },
            "type": "histogram"
           }
          ],
          "histogram2d": [
           {
            "colorbar": {
             "outlinewidth": 0,
             "ticks": ""
            },
            "colorscale": [
             [
              0,
              "#0d0887"
             ],
             [
              0.1111111111111111,
              "#46039f"
             ],
             [
              0.2222222222222222,
              "#7201a8"
             ],
             [
              0.3333333333333333,
              "#9c179e"
             ],
             [
              0.4444444444444444,
              "#bd3786"
             ],
             [
              0.5555555555555556,
              "#d8576b"
             ],
             [
              0.6666666666666666,
              "#ed7953"
             ],
             [
              0.7777777777777778,
              "#fb9f3a"
             ],
             [
              0.8888888888888888,
              "#fdca26"
             ],
             [
              1,
              "#f0f921"
             ]
            ],
            "type": "histogram2d"
           }
          ],
          "histogram2dcontour": [
           {
            "colorbar": {
             "outlinewidth": 0,
             "ticks": ""
            },
            "colorscale": [
             [
              0,
              "#0d0887"
             ],
             [
              0.1111111111111111,
              "#46039f"
             ],
             [
              0.2222222222222222,
              "#7201a8"
             ],
             [
              0.3333333333333333,
              "#9c179e"
             ],
             [
              0.4444444444444444,
              "#bd3786"
             ],
             [
              0.5555555555555556,
              "#d8576b"
             ],
             [
              0.6666666666666666,
              "#ed7953"
             ],
             [
              0.7777777777777778,
              "#fb9f3a"
             ],
             [
              0.8888888888888888,
              "#fdca26"
             ],
             [
              1,
              "#f0f921"
             ]
            ],
            "type": "histogram2dcontour"
           }
          ],
          "mesh3d": [
           {
            "colorbar": {
             "outlinewidth": 0,
             "ticks": ""
            },
            "type": "mesh3d"
           }
          ],
          "parcoords": [
           {
            "line": {
             "colorbar": {
              "outlinewidth": 0,
              "ticks": ""
             }
            },
            "type": "parcoords"
           }
          ],
          "pie": [
           {
            "automargin": true,
            "type": "pie"
           }
          ],
          "scatter": [
           {
            "marker": {
             "colorbar": {
              "outlinewidth": 0,
              "ticks": ""
             }
            },
            "type": "scatter"
           }
          ],
          "scatter3d": [
           {
            "line": {
             "colorbar": {
              "outlinewidth": 0,
              "ticks": ""
             }
            },
            "marker": {
             "colorbar": {
              "outlinewidth": 0,
              "ticks": ""
             }
            },
            "type": "scatter3d"
           }
          ],
          "scattercarpet": [
           {
            "marker": {
             "colorbar": {
              "outlinewidth": 0,
              "ticks": ""
             }
            },
            "type": "scattercarpet"
           }
          ],
          "scattergeo": [
           {
            "marker": {
             "colorbar": {
              "outlinewidth": 0,
              "ticks": ""
             }
            },
            "type": "scattergeo"
           }
          ],
          "scattergl": [
           {
            "marker": {
             "colorbar": {
              "outlinewidth": 0,
              "ticks": ""
             }
            },
            "type": "scattergl"
           }
          ],
          "scattermapbox": [
           {
            "marker": {
             "colorbar": {
              "outlinewidth": 0,
              "ticks": ""
             }
            },
            "type": "scattermapbox"
           }
          ],
          "scatterpolar": [
           {
            "marker": {
             "colorbar": {
              "outlinewidth": 0,
              "ticks": ""
             }
            },
            "type": "scatterpolar"
           }
          ],
          "scatterpolargl": [
           {
            "marker": {
             "colorbar": {
              "outlinewidth": 0,
              "ticks": ""
             }
            },
            "type": "scatterpolargl"
           }
          ],
          "scatterternary": [
           {
            "marker": {
             "colorbar": {
              "outlinewidth": 0,
              "ticks": ""
             }
            },
            "type": "scatterternary"
           }
          ],
          "surface": [
           {
            "colorbar": {
             "outlinewidth": 0,
             "ticks": ""
            },
            "colorscale": [
             [
              0,
              "#0d0887"
             ],
             [
              0.1111111111111111,
              "#46039f"
             ],
             [
              0.2222222222222222,
              "#7201a8"
             ],
             [
              0.3333333333333333,
              "#9c179e"
             ],
             [
              0.4444444444444444,
              "#bd3786"
             ],
             [
              0.5555555555555556,
              "#d8576b"
             ],
             [
              0.6666666666666666,
              "#ed7953"
             ],
             [
              0.7777777777777778,
              "#fb9f3a"
             ],
             [
              0.8888888888888888,
              "#fdca26"
             ],
             [
              1,
              "#f0f921"
             ]
            ],
            "type": "surface"
           }
          ],
          "table": [
           {
            "cells": {
             "fill": {
              "color": "#EBF0F8"
             },
             "line": {
              "color": "white"
             }
            },
            "header": {
             "fill": {
              "color": "#C8D4E3"
             },
             "line": {
              "color": "white"
             }
            },
            "type": "table"
           }
          ]
         },
         "layout": {
          "annotationdefaults": {
           "arrowcolor": "#2a3f5f",
           "arrowhead": 0,
           "arrowwidth": 1
          },
          "coloraxis": {
           "colorbar": {
            "outlinewidth": 0,
            "ticks": ""
           }
          },
          "colorscale": {
           "diverging": [
            [
             0,
             "#8e0152"
            ],
            [
             0.1,
             "#c51b7d"
            ],
            [
             0.2,
             "#de77ae"
            ],
            [
             0.3,
             "#f1b6da"
            ],
            [
             0.4,
             "#fde0ef"
            ],
            [
             0.5,
             "#f7f7f7"
            ],
            [
             0.6,
             "#e6f5d0"
            ],
            [
             0.7,
             "#b8e186"
            ],
            [
             0.8,
             "#7fbc41"
            ],
            [
             0.9,
             "#4d9221"
            ],
            [
             1,
             "#276419"
            ]
           ],
           "sequential": [
            [
             0,
             "#0d0887"
            ],
            [
             0.1111111111111111,
             "#46039f"
            ],
            [
             0.2222222222222222,
             "#7201a8"
            ],
            [
             0.3333333333333333,
             "#9c179e"
            ],
            [
             0.4444444444444444,
             "#bd3786"
            ],
            [
             0.5555555555555556,
             "#d8576b"
            ],
            [
             0.6666666666666666,
             "#ed7953"
            ],
            [
             0.7777777777777778,
             "#fb9f3a"
            ],
            [
             0.8888888888888888,
             "#fdca26"
            ],
            [
             1,
             "#f0f921"
            ]
           ],
           "sequentialminus": [
            [
             0,
             "#0d0887"
            ],
            [
             0.1111111111111111,
             "#46039f"
            ],
            [
             0.2222222222222222,
             "#7201a8"
            ],
            [
             0.3333333333333333,
             "#9c179e"
            ],
            [
             0.4444444444444444,
             "#bd3786"
            ],
            [
             0.5555555555555556,
             "#d8576b"
            ],
            [
             0.6666666666666666,
             "#ed7953"
            ],
            [
             0.7777777777777778,
             "#fb9f3a"
            ],
            [
             0.8888888888888888,
             "#fdca26"
            ],
            [
             1,
             "#f0f921"
            ]
           ]
          },
          "colorway": [
           "#636efa",
           "#EF553B",
           "#00cc96",
           "#ab63fa",
           "#FFA15A",
           "#19d3f3",
           "#FF6692",
           "#B6E880",
           "#FF97FF",
           "#FECB52"
          ],
          "font": {
           "color": "#2a3f5f"
          },
          "geo": {
           "bgcolor": "white",
           "lakecolor": "white",
           "landcolor": "#E5ECF6",
           "showlakes": true,
           "showland": true,
           "subunitcolor": "white"
          },
          "hoverlabel": {
           "align": "left"
          },
          "hovermode": "closest",
          "mapbox": {
           "style": "light"
          },
          "paper_bgcolor": "white",
          "plot_bgcolor": "#E5ECF6",
          "polar": {
           "angularaxis": {
            "gridcolor": "white",
            "linecolor": "white",
            "ticks": ""
           },
           "bgcolor": "#E5ECF6",
           "radialaxis": {
            "gridcolor": "white",
            "linecolor": "white",
            "ticks": ""
           }
          },
          "scene": {
           "xaxis": {
            "backgroundcolor": "#E5ECF6",
            "gridcolor": "white",
            "gridwidth": 2,
            "linecolor": "white",
            "showbackground": true,
            "ticks": "",
            "zerolinecolor": "white"
           },
           "yaxis": {
            "backgroundcolor": "#E5ECF6",
            "gridcolor": "white",
            "gridwidth": 2,
            "linecolor": "white",
            "showbackground": true,
            "ticks": "",
            "zerolinecolor": "white"
           },
           "zaxis": {
            "backgroundcolor": "#E5ECF6",
            "gridcolor": "white",
            "gridwidth": 2,
            "linecolor": "white",
            "showbackground": true,
            "ticks": "",
            "zerolinecolor": "white"
           }
          },
          "shapedefaults": {
           "line": {
            "color": "#2a3f5f"
           }
          },
          "ternary": {
           "aaxis": {
            "gridcolor": "white",
            "linecolor": "white",
            "ticks": ""
           },
           "baxis": {
            "gridcolor": "white",
            "linecolor": "white",
            "ticks": ""
           },
           "bgcolor": "#E5ECF6",
           "caxis": {
            "gridcolor": "white",
            "linecolor": "white",
            "ticks": ""
           }
          },
          "title": {
           "x": 0.05
          },
          "xaxis": {
           "automargin": true,
           "gridcolor": "white",
           "linecolor": "white",
           "ticks": "",
           "title": {
            "standoff": 15
           },
           "zerolinecolor": "white",
           "zerolinewidth": 2
          },
          "yaxis": {
           "automargin": true,
           "gridcolor": "white",
           "linecolor": "white",
           "ticks": "",
           "title": {
            "standoff": 15
           },
           "zerolinecolor": "white",
           "zerolinewidth": 2
          }
         }
        },
        "title": {
         "font": {
          "color": "#4D5663"
         }
        },
        "xaxis": {
         "gridcolor": "#E1E5ED",
         "showgrid": true,
         "tickfont": {
          "color": "#4D5663"
         },
         "title": {
          "font": {
           "color": "#4D5663"
          },
          "text": ""
         },
         "zerolinecolor": "#E1E5ED"
        },
        "yaxis": {
         "gridcolor": "#E1E5ED",
         "showgrid": true,
         "tickfont": {
          "color": "#4D5663"
         },
         "title": {
          "font": {
           "color": "#4D5663"
          },
          "text": ""
         },
         "zerolinecolor": "#E1E5ED"
        }
       }
      },
      "text/html": [
       "<div>\n",
       "        \n",
       "        \n",
       "            <div id=\"f0ba4695-6fa1-4345-b57f-cc3b08f59c45\" class=\"plotly-graph-div\" style=\"height:525px; width:100%;\"></div>\n",
       "            <script type=\"text/javascript\">\n",
       "                require([\"plotly\"], function(Plotly) {\n",
       "                    window.PLOTLYENV=window.PLOTLYENV || {};\n",
       "                    window.PLOTLYENV.BASE_URL='https://plot.ly';\n",
       "                    \n",
       "                if (document.getElementById(\"f0ba4695-6fa1-4345-b57f-cc3b08f59c45\")) {\n",
       "                    Plotly.newPlot(\n",
       "                        'f0ba4695-6fa1-4345-b57f-cc3b08f59c45',\n",
       "                        [{\"histfunc\": \"count\", \"histnorm\": \"\", \"marker\": {\"color\": \"rgba(255, 153, 51, 1.0)\", \"line\": {\"color\": \"#4D5663\", \"width\": 1.3}}, \"name\": \"A\", \"nbinsx\": 25, \"opacity\": 0.8, \"orientation\": \"v\", \"type\": \"histogram\", \"x\": [-0.8460237271253019, 0.6850443896998784, 0.013609065845515527, -0.4988132770316513, -0.5026795682975888, -2.1648319958850464, -1.154552707782905, 0.4645360254620899, 1.3740964676790737, -2.242787929269608, 0.912469992443577, 0.9719058990913453, -1.4485752232730136, -1.4856817403879254, -1.7707609389688101, -1.544708909569676, -0.845047053954906, 1.5718728962014008, 1.7407180132610471, 2.146932204884541, 1.185958873022132, 0.2630462182169065, -0.751468859481539, 0.12184899133054408, 0.21414513681628883, 0.9417985234694084, 1.2425311236379861, -0.7377121463314611, -2.1358685937035027, -0.01613866776884078, -1.224414063134968, -0.43117966330931345, 0.4474472858747312, 0.36962982018769797, 0.847196324617692, 1.880012748500143, 1.1045060967752076, 0.4633019355132985, -1.464979842190436, 1.4075418941380369, -0.015380220180128674, 1.5729576249594048, 0.035613201302045094, -2.1191326657010925, 0.4674612766990198, 1.5672725306048771, 0.32374701394053695, -0.07586660607563349, -0.28766130688384633, 0.8484426019712326, 0.12285878967475791, 0.10747331366298463, -0.014364068259369946, 0.04745854722618259, 0.08562776472368197, -1.2389066249610874, -0.6995068508645815, -0.7972095540515397, 1.2007857778924123, -0.09290640667433647, -0.2934859290199042, -0.07763488078361577, 0.6157033452195625, 0.10784793323471127, -0.5688943346294603, 0.3980559147795507, 0.5661577662311075, -2.195580683945319, 0.8997439452375172, 0.6116820569345487, 0.898185107218264, -3.16636935240398, 0.5157190077667173, 1.7027542662620736, -1.8334998040533916, 1.5191373232065937, -0.17460849019525584, 1.131963144127607, 0.3568780584530282, 0.9102545259831278, 0.13445560873806117, 0.40655314317655816, 1.0152337299856296, 1.4398556923049288, -0.18648795002338767, 0.4306655374413637, 0.09626036855680789, 1.5076321511661732, -0.8426903877075556, -0.4677942497505051, 1.2558162159647377, -0.3149934105775024, 0.3672194688408298, -2.3065307475577677, -0.6732954546156035, 1.3521271382546514, -0.18481351745424293, -0.8944438856872224, 0.30256144019502035, -1.774058004598215]}],\n",
       "                        {\"barmode\": \"overlay\", \"legend\": {\"bgcolor\": \"#F5F6F9\", \"font\": {\"color\": \"#4D5663\"}}, \"paper_bgcolor\": \"#F5F6F9\", \"plot_bgcolor\": \"#F5F6F9\", \"template\": {\"data\": {\"bar\": [{\"error_x\": {\"color\": \"#2a3f5f\"}, \"error_y\": {\"color\": \"#2a3f5f\"}, \"marker\": {\"line\": {\"color\": \"#E5ECF6\", \"width\": 0.5}}, \"type\": \"bar\"}], \"barpolar\": [{\"marker\": {\"line\": {\"color\": \"#E5ECF6\", \"width\": 0.5}}, \"type\": \"barpolar\"}], \"carpet\": [{\"aaxis\": {\"endlinecolor\": \"#2a3f5f\", \"gridcolor\": \"white\", \"linecolor\": \"white\", \"minorgridcolor\": \"white\", \"startlinecolor\": \"#2a3f5f\"}, \"baxis\": {\"endlinecolor\": \"#2a3f5f\", \"gridcolor\": \"white\", \"linecolor\": \"white\", \"minorgridcolor\": \"white\", \"startlinecolor\": \"#2a3f5f\"}, \"type\": \"carpet\"}], \"choropleth\": [{\"colorbar\": {\"outlinewidth\": 0, \"ticks\": \"\"}, \"type\": \"choropleth\"}], \"contour\": [{\"colorbar\": {\"outlinewidth\": 0, \"ticks\": \"\"}, \"colorscale\": [[0.0, \"#0d0887\"], [0.1111111111111111, \"#46039f\"], [0.2222222222222222, \"#7201a8\"], [0.3333333333333333, \"#9c179e\"], [0.4444444444444444, \"#bd3786\"], [0.5555555555555556, \"#d8576b\"], [0.6666666666666666, \"#ed7953\"], [0.7777777777777778, \"#fb9f3a\"], [0.8888888888888888, \"#fdca26\"], [1.0, \"#f0f921\"]], \"type\": \"contour\"}], \"contourcarpet\": [{\"colorbar\": {\"outlinewidth\": 0, \"ticks\": \"\"}, \"type\": \"contourcarpet\"}], \"heatmap\": [{\"colorbar\": {\"outlinewidth\": 0, \"ticks\": \"\"}, \"colorscale\": [[0.0, \"#0d0887\"], [0.1111111111111111, \"#46039f\"], [0.2222222222222222, \"#7201a8\"], [0.3333333333333333, \"#9c179e\"], [0.4444444444444444, \"#bd3786\"], [0.5555555555555556, \"#d8576b\"], [0.6666666666666666, \"#ed7953\"], [0.7777777777777778, \"#fb9f3a\"], [0.8888888888888888, \"#fdca26\"], [1.0, \"#f0f921\"]], \"type\": \"heatmap\"}], \"heatmapgl\": [{\"colorbar\": {\"outlinewidth\": 0, \"ticks\": \"\"}, \"colorscale\": [[0.0, \"#0d0887\"], [0.1111111111111111, \"#46039f\"], [0.2222222222222222, \"#7201a8\"], [0.3333333333333333, \"#9c179e\"], [0.4444444444444444, \"#bd3786\"], [0.5555555555555556, \"#d8576b\"], [0.6666666666666666, \"#ed7953\"], [0.7777777777777778, \"#fb9f3a\"], [0.8888888888888888, \"#fdca26\"], [1.0, \"#f0f921\"]], \"type\": \"heatmapgl\"}], \"histogram\": [{\"marker\": {\"colorbar\": {\"outlinewidth\": 0, \"ticks\": \"\"}}, \"type\": \"histogram\"}], \"histogram2d\": [{\"colorbar\": {\"outlinewidth\": 0, \"ticks\": \"\"}, \"colorscale\": [[0.0, \"#0d0887\"], [0.1111111111111111, \"#46039f\"], [0.2222222222222222, \"#7201a8\"], [0.3333333333333333, \"#9c179e\"], [0.4444444444444444, \"#bd3786\"], [0.5555555555555556, \"#d8576b\"], [0.6666666666666666, \"#ed7953\"], [0.7777777777777778, \"#fb9f3a\"], [0.8888888888888888, \"#fdca26\"], [1.0, \"#f0f921\"]], \"type\": \"histogram2d\"}], \"histogram2dcontour\": [{\"colorbar\": {\"outlinewidth\": 0, \"ticks\": \"\"}, \"colorscale\": [[0.0, \"#0d0887\"], [0.1111111111111111, \"#46039f\"], [0.2222222222222222, \"#7201a8\"], [0.3333333333333333, \"#9c179e\"], [0.4444444444444444, \"#bd3786\"], [0.5555555555555556, \"#d8576b\"], [0.6666666666666666, \"#ed7953\"], [0.7777777777777778, \"#fb9f3a\"], [0.8888888888888888, \"#fdca26\"], [1.0, \"#f0f921\"]], \"type\": \"histogram2dcontour\"}], \"mesh3d\": [{\"colorbar\": {\"outlinewidth\": 0, \"ticks\": \"\"}, \"type\": \"mesh3d\"}], \"parcoords\": [{\"line\": {\"colorbar\": {\"outlinewidth\": 0, \"ticks\": \"\"}}, \"type\": \"parcoords\"}], \"pie\": [{\"automargin\": true, \"type\": \"pie\"}], \"scatter\": [{\"marker\": {\"colorbar\": {\"outlinewidth\": 0, \"ticks\": \"\"}}, \"type\": \"scatter\"}], \"scatter3d\": [{\"line\": {\"colorbar\": {\"outlinewidth\": 0, \"ticks\": \"\"}}, \"marker\": {\"colorbar\": {\"outlinewidth\": 0, \"ticks\": \"\"}}, \"type\": \"scatter3d\"}], \"scattercarpet\": [{\"marker\": {\"colorbar\": {\"outlinewidth\": 0, \"ticks\": \"\"}}, \"type\": \"scattercarpet\"}], \"scattergeo\": [{\"marker\": {\"colorbar\": {\"outlinewidth\": 0, \"ticks\": \"\"}}, \"type\": \"scattergeo\"}], \"scattergl\": [{\"marker\": {\"colorbar\": {\"outlinewidth\": 0, \"ticks\": \"\"}}, \"type\": \"scattergl\"}], \"scattermapbox\": [{\"marker\": {\"colorbar\": {\"outlinewidth\": 0, \"ticks\": \"\"}}, \"type\": \"scattermapbox\"}], \"scatterpolar\": [{\"marker\": {\"colorbar\": {\"outlinewidth\": 0, \"ticks\": \"\"}}, \"type\": \"scatterpolar\"}], \"scatterpolargl\": [{\"marker\": {\"colorbar\": {\"outlinewidth\": 0, \"ticks\": \"\"}}, \"type\": \"scatterpolargl\"}], \"scatterternary\": [{\"marker\": {\"colorbar\": {\"outlinewidth\": 0, \"ticks\": \"\"}}, \"type\": \"scatterternary\"}], \"surface\": [{\"colorbar\": {\"outlinewidth\": 0, \"ticks\": \"\"}, \"colorscale\": [[0.0, \"#0d0887\"], [0.1111111111111111, \"#46039f\"], [0.2222222222222222, \"#7201a8\"], [0.3333333333333333, \"#9c179e\"], [0.4444444444444444, \"#bd3786\"], [0.5555555555555556, \"#d8576b\"], [0.6666666666666666, \"#ed7953\"], [0.7777777777777778, \"#fb9f3a\"], [0.8888888888888888, \"#fdca26\"], [1.0, \"#f0f921\"]], \"type\": \"surface\"}], \"table\": [{\"cells\": {\"fill\": {\"color\": \"#EBF0F8\"}, \"line\": {\"color\": \"white\"}}, \"header\": {\"fill\": {\"color\": \"#C8D4E3\"}, \"line\": {\"color\": \"white\"}}, \"type\": \"table\"}]}, \"layout\": {\"annotationdefaults\": {\"arrowcolor\": \"#2a3f5f\", \"arrowhead\": 0, \"arrowwidth\": 1}, \"coloraxis\": {\"colorbar\": {\"outlinewidth\": 0, \"ticks\": \"\"}}, \"colorscale\": {\"diverging\": [[0, \"#8e0152\"], [0.1, \"#c51b7d\"], [0.2, \"#de77ae\"], [0.3, \"#f1b6da\"], [0.4, \"#fde0ef\"], [0.5, \"#f7f7f7\"], [0.6, \"#e6f5d0\"], [0.7, \"#b8e186\"], [0.8, \"#7fbc41\"], [0.9, \"#4d9221\"], [1, \"#276419\"]], \"sequential\": [[0.0, \"#0d0887\"], [0.1111111111111111, \"#46039f\"], [0.2222222222222222, \"#7201a8\"], [0.3333333333333333, \"#9c179e\"], [0.4444444444444444, \"#bd3786\"], [0.5555555555555556, \"#d8576b\"], [0.6666666666666666, \"#ed7953\"], [0.7777777777777778, \"#fb9f3a\"], [0.8888888888888888, \"#fdca26\"], [1.0, \"#f0f921\"]], \"sequentialminus\": [[0.0, \"#0d0887\"], [0.1111111111111111, \"#46039f\"], [0.2222222222222222, \"#7201a8\"], [0.3333333333333333, \"#9c179e\"], [0.4444444444444444, \"#bd3786\"], [0.5555555555555556, \"#d8576b\"], [0.6666666666666666, \"#ed7953\"], [0.7777777777777778, \"#fb9f3a\"], [0.8888888888888888, \"#fdca26\"], [1.0, \"#f0f921\"]]}, \"colorway\": [\"#636efa\", \"#EF553B\", \"#00cc96\", \"#ab63fa\", \"#FFA15A\", \"#19d3f3\", \"#FF6692\", \"#B6E880\", \"#FF97FF\", \"#FECB52\"], \"font\": {\"color\": \"#2a3f5f\"}, \"geo\": {\"bgcolor\": \"white\", \"lakecolor\": \"white\", \"landcolor\": \"#E5ECF6\", \"showlakes\": true, \"showland\": true, \"subunitcolor\": \"white\"}, \"hoverlabel\": {\"align\": \"left\"}, \"hovermode\": \"closest\", \"mapbox\": {\"style\": \"light\"}, \"paper_bgcolor\": \"white\", \"plot_bgcolor\": \"#E5ECF6\", \"polar\": {\"angularaxis\": {\"gridcolor\": \"white\", \"linecolor\": \"white\", \"ticks\": \"\"}, \"bgcolor\": \"#E5ECF6\", \"radialaxis\": {\"gridcolor\": \"white\", \"linecolor\": \"white\", \"ticks\": \"\"}}, \"scene\": {\"xaxis\": {\"backgroundcolor\": \"#E5ECF6\", \"gridcolor\": \"white\", \"gridwidth\": 2, \"linecolor\": \"white\", \"showbackground\": true, \"ticks\": \"\", \"zerolinecolor\": \"white\"}, \"yaxis\": {\"backgroundcolor\": \"#E5ECF6\", \"gridcolor\": \"white\", \"gridwidth\": 2, \"linecolor\": \"white\", \"showbackground\": true, \"ticks\": \"\", \"zerolinecolor\": \"white\"}, \"zaxis\": {\"backgroundcolor\": \"#E5ECF6\", \"gridcolor\": \"white\", \"gridwidth\": 2, \"linecolor\": \"white\", \"showbackground\": true, \"ticks\": \"\", \"zerolinecolor\": \"white\"}}, \"shapedefaults\": {\"line\": {\"color\": \"#2a3f5f\"}}, \"ternary\": {\"aaxis\": {\"gridcolor\": \"white\", \"linecolor\": \"white\", \"ticks\": \"\"}, \"baxis\": {\"gridcolor\": \"white\", \"linecolor\": \"white\", \"ticks\": \"\"}, \"bgcolor\": \"#E5ECF6\", \"caxis\": {\"gridcolor\": \"white\", \"linecolor\": \"white\", \"ticks\": \"\"}}, \"title\": {\"x\": 0.05}, \"xaxis\": {\"automargin\": true, \"gridcolor\": \"white\", \"linecolor\": \"white\", \"ticks\": \"\", \"title\": {\"standoff\": 15}, \"zerolinecolor\": \"white\", \"zerolinewidth\": 2}, \"yaxis\": {\"automargin\": true, \"gridcolor\": \"white\", \"linecolor\": \"white\", \"ticks\": \"\", \"title\": {\"standoff\": 15}, \"zerolinecolor\": \"white\", \"zerolinewidth\": 2}}}, \"title\": {\"font\": {\"color\": \"#4D5663\"}}, \"xaxis\": {\"gridcolor\": \"#E1E5ED\", \"showgrid\": true, \"tickfont\": {\"color\": \"#4D5663\"}, \"title\": {\"font\": {\"color\": \"#4D5663\"}, \"text\": \"\"}, \"zerolinecolor\": \"#E1E5ED\"}, \"yaxis\": {\"gridcolor\": \"#E1E5ED\", \"showgrid\": true, \"tickfont\": {\"color\": \"#4D5663\"}, \"title\": {\"font\": {\"color\": \"#4D5663\"}, \"text\": \"\"}, \"zerolinecolor\": \"#E1E5ED\"}},\n",
       "                        {\"showLink\": true, \"linkText\": \"Export to plot.ly\", \"plotlyServerURL\": \"https://plot.ly\", \"responsive\": true}\n",
       "                    ).then(function(){\n",
       "                            \n",
       "var gd = document.getElementById('f0ba4695-6fa1-4345-b57f-cc3b08f59c45');\n",
       "var x = new MutationObserver(function (mutations, observer) {{\n",
       "        var display = window.getComputedStyle(gd).display;\n",
       "        if (!display || display === 'none') {{\n",
       "            console.log([gd, 'removed!']);\n",
       "            Plotly.purge(gd);\n",
       "            observer.disconnect();\n",
       "        }}\n",
       "}});\n",
       "\n",
       "// Listen for the removal of the full notebook cells\n",
       "var notebookContainer = gd.closest('#notebook-container');\n",
       "if (notebookContainer) {{\n",
       "    x.observe(notebookContainer, {childList: true});\n",
       "}}\n",
       "\n",
       "// Listen for the clearing of the current output cell\n",
       "var outputEl = gd.closest('.output');\n",
       "if (outputEl) {{\n",
       "    x.observe(outputEl, {childList: true});\n",
       "}}\n",
       "\n",
       "                        })\n",
       "                };\n",
       "                });\n",
       "            </script>\n",
       "        </div>"
      ]
     },
     "metadata": {},
     "output_type": "display_data"
    }
   ],
   "source": [
    "df1['A'].iplot(kind='hist',bins=25)"
   ]
  },
  {
   "cell_type": "code",
   "execution_count": 17,
   "metadata": {},
   "outputs": [
    {
     "data": {
      "application/vnd.plotly.v1+json": {
       "config": {
        "linkText": "Export to plot.ly",
        "plotlyServerURL": "https://plot.ly",
        "showLink": true
       },
       "data": [
        {
         "marker": {
          "color": [
           "rgb(255, 153, 51)",
           "rgb(55, 128, 191)",
           "rgb(50, 171, 96)",
           "rgb(128, 0, 128)",
           "rgb(219, 64, 82)",
           "rgb(0, 128, 128)",
           "rgb(255, 255, 51)",
           "rgb(128, 128, 0)",
           "rgb(251, 128, 114)",
           "rgb(128, 177, 211)"
          ],
          "line": {
           "width": 1.3
          },
          "size": [
           94,
           43,
           65,
           75,
           49,
           71,
           73,
           71,
           77,
           88,
           94,
           31,
           75,
           65,
           112,
           63,
           43,
           42,
           63,
           80,
           65,
           67,
           71,
           20,
           32,
           107,
           74,
           68,
           50,
           51,
           80,
           35,
           31,
           74,
           62,
           72,
           51,
           100,
           59,
           56,
           55,
           75,
           69,
           105,
           57,
           56,
           63,
           72,
           63,
           85,
           75,
           75,
           63,
           51,
           82,
           70,
           50,
           91,
           59,
           23,
           42,
           45,
           42,
           78,
           12,
           85,
           48,
           75,
           96,
           69,
           105,
           68,
           18,
           81,
           49,
           49,
           68,
           88,
           56,
           67,
           81,
           93,
           60,
           68,
           53,
           52,
           63,
           50,
           85,
           82,
           53,
           62,
           103,
           71,
           60,
           29,
           84,
           86,
           77,
           46
          ],
          "symbol": "circle"
         },
         "mode": "markers",
         "text": "",
         "type": "scatter",
         "x": [
          -0.8460237271253019,
          0.6850443896998784,
          0.013609065845515527,
          -0.4988132770316513,
          -0.5026795682975888,
          -2.1648319958850464,
          -1.154552707782905,
          0.4645360254620899,
          1.3740964676790737,
          -2.242787929269608,
          0.912469992443577,
          0.9719058990913453,
          -1.4485752232730136,
          -1.4856817403879254,
          -1.7707609389688101,
          -1.544708909569676,
          -0.845047053954906,
          1.5718728962014008,
          1.7407180132610471,
          2.146932204884541,
          1.185958873022132,
          0.2630462182169065,
          -0.751468859481539,
          0.12184899133054408,
          0.21414513681628883,
          0.9417985234694084,
          1.2425311236379861,
          -0.7377121463314611,
          -2.1358685937035027,
          -0.01613866776884078,
          -1.224414063134968,
          -0.43117966330931345,
          0.4474472858747312,
          0.36962982018769797,
          0.847196324617692,
          1.880012748500143,
          1.1045060967752076,
          0.4633019355132985,
          -1.464979842190436,
          1.4075418941380369,
          -0.015380220180128674,
          1.5729576249594048,
          0.035613201302045094,
          -2.1191326657010925,
          0.4674612766990198,
          1.5672725306048771,
          0.32374701394053695,
          -0.07586660607563349,
          -0.28766130688384633,
          0.8484426019712326,
          0.12285878967475791,
          0.10747331366298463,
          -0.014364068259369946,
          0.04745854722618259,
          0.08562776472368197,
          -1.2389066249610874,
          -0.6995068508645815,
          -0.7972095540515397,
          1.2007857778924123,
          -0.09290640667433647,
          -0.2934859290199042,
          -0.07763488078361577,
          0.6157033452195625,
          0.10784793323471127,
          -0.5688943346294603,
          0.3980559147795507,
          0.5661577662311075,
          -2.195580683945319,
          0.8997439452375172,
          0.6116820569345487,
          0.898185107218264,
          -3.16636935240398,
          0.5157190077667173,
          1.7027542662620736,
          -1.8334998040533916,
          1.5191373232065937,
          -0.17460849019525584,
          1.131963144127607,
          0.3568780584530282,
          0.9102545259831278,
          0.13445560873806117,
          0.40655314317655816,
          1.0152337299856296,
          1.4398556923049288,
          -0.18648795002338767,
          0.4306655374413637,
          0.09626036855680789,
          1.5076321511661732,
          -0.8426903877075556,
          -0.4677942497505051,
          1.2558162159647377,
          -0.3149934105775024,
          0.3672194688408298,
          -2.3065307475577677,
          -0.6732954546156035,
          1.3521271382546514,
          -0.18481351745424293,
          -0.8944438856872224,
          0.30256144019502035,
          -1.774058004598215
         ],
         "y": [
          -1.6690665071741209,
          -0.9484589845302493,
          -0.8161375694116357,
          0.6840786863502893,
          -2.2018317733312114,
          0.017536684463240967,
          1.2891016612183293,
          -1.804728629786003,
          0.3259795023528879,
          0.049809753323116025,
          -0.5586374064724668,
          0.29429666978152597,
          0.39061076983085435,
          0.8943681379041947,
          -0.552752183630096,
          -3.254423561116218,
          0.6019509133633993,
          -0.8259461083978703,
          1.710869136590222,
          -0.6615216430491391,
          -1.1578938475951246,
          -1.053495434073233,
          0.050146122300815554,
          0.5165620720663516,
          -0.48796706452958144,
          -0.4419290713862438,
          -0.7685738951120951,
          0.006761444700873407,
          -1.3503432760800622,
          0.86268829936173,
          -0.3601098281120075,
          1.5471265668795813,
          -0.7877036076046857,
          -0.11570378586982293,
          -0.38626518512976876,
          -1.6261076438084243,
          0.1552139671521332,
          -0.5535272578079041,
          -0.4630992019337326,
          -0.6139324026188785,
          1.39842534595313,
          0.025329165810796576,
          -1.80275260504035,
          0.2897836172364911,
          0.10549183348243746,
          -1.154884935652627,
          0.0900151454704177,
          -1.9925874148798286,
          0.1854025982354397,
          -1.6396389383040153,
          1.1334741520064942,
          -2.0443178533842548,
          -0.6515321439298384,
          0.21430215795085017,
          -2.2171803435270627,
          -0.10679315372693604,
          1.3358567958691514,
          -1.1979954208547445,
          0.748006345653784,
          -1.2771340270653806,
          0.24106633940119884,
          -0.17317250017492125,
          1.4708772807273518,
          -0.2382694937834363,
          -0.7276772174913667,
          0.3308764931989634,
          -1.0020418664013873,
          1.8115458705425924,
          0.524693389700117,
          1.0641059387955556,
          -0.5677562318557139,
          3.684053699497508,
          0.07477586077751451,
          1.16602333777211,
          -0.3644225537743912,
          -0.2561592131802757,
          0.8456431281725347,
          -0.41187096117433014,
          -0.8736896574049339,
          0.6679638026301171,
          1.1001823918068032,
          1.0535495494708962,
          -2.104565944240315,
          0.3720753582969174,
          -0.5010108088639956,
          -0.5245036613989332,
          -0.24392870922439877,
          -0.19658226865093806,
          0.6584933540744552,
          0.2871266386215244,
          1.0654171438176951,
          1.7258373286970015,
          2.107649563188196,
          1.6470948082198242,
          0.02453824662895236,
          -1.194105419184158,
          -1.214498105522763,
          1.8090870987912386,
          -0.3243706643776886,
          -1.0410093775593163
         ]
        }
       ],
       "layout": {
        "legend": {
         "bgcolor": "#F5F6F9",
         "font": {
          "color": "#4D5663"
         }
        },
        "paper_bgcolor": "#F5F6F9",
        "plot_bgcolor": "#F5F6F9",
        "template": {
         "data": {
          "bar": [
           {
            "error_x": {
             "color": "#2a3f5f"
            },
            "error_y": {
             "color": "#2a3f5f"
            },
            "marker": {
             "line": {
              "color": "#E5ECF6",
              "width": 0.5
             }
            },
            "type": "bar"
           }
          ],
          "barpolar": [
           {
            "marker": {
             "line": {
              "color": "#E5ECF6",
              "width": 0.5
             }
            },
            "type": "barpolar"
           }
          ],
          "carpet": [
           {
            "aaxis": {
             "endlinecolor": "#2a3f5f",
             "gridcolor": "white",
             "linecolor": "white",
             "minorgridcolor": "white",
             "startlinecolor": "#2a3f5f"
            },
            "baxis": {
             "endlinecolor": "#2a3f5f",
             "gridcolor": "white",
             "linecolor": "white",
             "minorgridcolor": "white",
             "startlinecolor": "#2a3f5f"
            },
            "type": "carpet"
           }
          ],
          "choropleth": [
           {
            "colorbar": {
             "outlinewidth": 0,
             "ticks": ""
            },
            "type": "choropleth"
           }
          ],
          "contour": [
           {
            "colorbar": {
             "outlinewidth": 0,
             "ticks": ""
            },
            "colorscale": [
             [
              0,
              "#0d0887"
             ],
             [
              0.1111111111111111,
              "#46039f"
             ],
             [
              0.2222222222222222,
              "#7201a8"
             ],
             [
              0.3333333333333333,
              "#9c179e"
             ],
             [
              0.4444444444444444,
              "#bd3786"
             ],
             [
              0.5555555555555556,
              "#d8576b"
             ],
             [
              0.6666666666666666,
              "#ed7953"
             ],
             [
              0.7777777777777778,
              "#fb9f3a"
             ],
             [
              0.8888888888888888,
              "#fdca26"
             ],
             [
              1,
              "#f0f921"
             ]
            ],
            "type": "contour"
           }
          ],
          "contourcarpet": [
           {
            "colorbar": {
             "outlinewidth": 0,
             "ticks": ""
            },
            "type": "contourcarpet"
           }
          ],
          "heatmap": [
           {
            "colorbar": {
             "outlinewidth": 0,
             "ticks": ""
            },
            "colorscale": [
             [
              0,
              "#0d0887"
             ],
             [
              0.1111111111111111,
              "#46039f"
             ],
             [
              0.2222222222222222,
              "#7201a8"
             ],
             [
              0.3333333333333333,
              "#9c179e"
             ],
             [
              0.4444444444444444,
              "#bd3786"
             ],
             [
              0.5555555555555556,
              "#d8576b"
             ],
             [
              0.6666666666666666,
              "#ed7953"
             ],
             [
              0.7777777777777778,
              "#fb9f3a"
             ],
             [
              0.8888888888888888,
              "#fdca26"
             ],
             [
              1,
              "#f0f921"
             ]
            ],
            "type": "heatmap"
           }
          ],
          "heatmapgl": [
           {
            "colorbar": {
             "outlinewidth": 0,
             "ticks": ""
            },
            "colorscale": [
             [
              0,
              "#0d0887"
             ],
             [
              0.1111111111111111,
              "#46039f"
             ],
             [
              0.2222222222222222,
              "#7201a8"
             ],
             [
              0.3333333333333333,
              "#9c179e"
             ],
             [
              0.4444444444444444,
              "#bd3786"
             ],
             [
              0.5555555555555556,
              "#d8576b"
             ],
             [
              0.6666666666666666,
              "#ed7953"
             ],
             [
              0.7777777777777778,
              "#fb9f3a"
             ],
             [
              0.8888888888888888,
              "#fdca26"
             ],
             [
              1,
              "#f0f921"
             ]
            ],
            "type": "heatmapgl"
           }
          ],
          "histogram": [
           {
            "marker": {
             "colorbar": {
              "outlinewidth": 0,
              "ticks": ""
             }
            },
            "type": "histogram"
           }
          ],
          "histogram2d": [
           {
            "colorbar": {
             "outlinewidth": 0,
             "ticks": ""
            },
            "colorscale": [
             [
              0,
              "#0d0887"
             ],
             [
              0.1111111111111111,
              "#46039f"
             ],
             [
              0.2222222222222222,
              "#7201a8"
             ],
             [
              0.3333333333333333,
              "#9c179e"
             ],
             [
              0.4444444444444444,
              "#bd3786"
             ],
             [
              0.5555555555555556,
              "#d8576b"
             ],
             [
              0.6666666666666666,
              "#ed7953"
             ],
             [
              0.7777777777777778,
              "#fb9f3a"
             ],
             [
              0.8888888888888888,
              "#fdca26"
             ],
             [
              1,
              "#f0f921"
             ]
            ],
            "type": "histogram2d"
           }
          ],
          "histogram2dcontour": [
           {
            "colorbar": {
             "outlinewidth": 0,
             "ticks": ""
            },
            "colorscale": [
             [
              0,
              "#0d0887"
             ],
             [
              0.1111111111111111,
              "#46039f"
             ],
             [
              0.2222222222222222,
              "#7201a8"
             ],
             [
              0.3333333333333333,
              "#9c179e"
             ],
             [
              0.4444444444444444,
              "#bd3786"
             ],
             [
              0.5555555555555556,
              "#d8576b"
             ],
             [
              0.6666666666666666,
              "#ed7953"
             ],
             [
              0.7777777777777778,
              "#fb9f3a"
             ],
             [
              0.8888888888888888,
              "#fdca26"
             ],
             [
              1,
              "#f0f921"
             ]
            ],
            "type": "histogram2dcontour"
           }
          ],
          "mesh3d": [
           {
            "colorbar": {
             "outlinewidth": 0,
             "ticks": ""
            },
            "type": "mesh3d"
           }
          ],
          "parcoords": [
           {
            "line": {
             "colorbar": {
              "outlinewidth": 0,
              "ticks": ""
             }
            },
            "type": "parcoords"
           }
          ],
          "pie": [
           {
            "automargin": true,
            "type": "pie"
           }
          ],
          "scatter": [
           {
            "marker": {
             "colorbar": {
              "outlinewidth": 0,
              "ticks": ""
             }
            },
            "type": "scatter"
           }
          ],
          "scatter3d": [
           {
            "line": {
             "colorbar": {
              "outlinewidth": 0,
              "ticks": ""
             }
            },
            "marker": {
             "colorbar": {
              "outlinewidth": 0,
              "ticks": ""
             }
            },
            "type": "scatter3d"
           }
          ],
          "scattercarpet": [
           {
            "marker": {
             "colorbar": {
              "outlinewidth": 0,
              "ticks": ""
             }
            },
            "type": "scattercarpet"
           }
          ],
          "scattergeo": [
           {
            "marker": {
             "colorbar": {
              "outlinewidth": 0,
              "ticks": ""
             }
            },
            "type": "scattergeo"
           }
          ],
          "scattergl": [
           {
            "marker": {
             "colorbar": {
              "outlinewidth": 0,
              "ticks": ""
             }
            },
            "type": "scattergl"
           }
          ],
          "scattermapbox": [
           {
            "marker": {
             "colorbar": {
              "outlinewidth": 0,
              "ticks": ""
             }
            },
            "type": "scattermapbox"
           }
          ],
          "scatterpolar": [
           {
            "marker": {
             "colorbar": {
              "outlinewidth": 0,
              "ticks": ""
             }
            },
            "type": "scatterpolar"
           }
          ],
          "scatterpolargl": [
           {
            "marker": {
             "colorbar": {
              "outlinewidth": 0,
              "ticks": ""
             }
            },
            "type": "scatterpolargl"
           }
          ],
          "scatterternary": [
           {
            "marker": {
             "colorbar": {
              "outlinewidth": 0,
              "ticks": ""
             }
            },
            "type": "scatterternary"
           }
          ],
          "surface": [
           {
            "colorbar": {
             "outlinewidth": 0,
             "ticks": ""
            },
            "colorscale": [
             [
              0,
              "#0d0887"
             ],
             [
              0.1111111111111111,
              "#46039f"
             ],
             [
              0.2222222222222222,
              "#7201a8"
             ],
             [
              0.3333333333333333,
              "#9c179e"
             ],
             [
              0.4444444444444444,
              "#bd3786"
             ],
             [
              0.5555555555555556,
              "#d8576b"
             ],
             [
              0.6666666666666666,
              "#ed7953"
             ],
             [
              0.7777777777777778,
              "#fb9f3a"
             ],
             [
              0.8888888888888888,
              "#fdca26"
             ],
             [
              1,
              "#f0f921"
             ]
            ],
            "type": "surface"
           }
          ],
          "table": [
           {
            "cells": {
             "fill": {
              "color": "#EBF0F8"
             },
             "line": {
              "color": "white"
             }
            },
            "header": {
             "fill": {
              "color": "#C8D4E3"
             },
             "line": {
              "color": "white"
             }
            },
            "type": "table"
           }
          ]
         },
         "layout": {
          "annotationdefaults": {
           "arrowcolor": "#2a3f5f",
           "arrowhead": 0,
           "arrowwidth": 1
          },
          "coloraxis": {
           "colorbar": {
            "outlinewidth": 0,
            "ticks": ""
           }
          },
          "colorscale": {
           "diverging": [
            [
             0,
             "#8e0152"
            ],
            [
             0.1,
             "#c51b7d"
            ],
            [
             0.2,
             "#de77ae"
            ],
            [
             0.3,
             "#f1b6da"
            ],
            [
             0.4,
             "#fde0ef"
            ],
            [
             0.5,
             "#f7f7f7"
            ],
            [
             0.6,
             "#e6f5d0"
            ],
            [
             0.7,
             "#b8e186"
            ],
            [
             0.8,
             "#7fbc41"
            ],
            [
             0.9,
             "#4d9221"
            ],
            [
             1,
             "#276419"
            ]
           ],
           "sequential": [
            [
             0,
             "#0d0887"
            ],
            [
             0.1111111111111111,
             "#46039f"
            ],
            [
             0.2222222222222222,
             "#7201a8"
            ],
            [
             0.3333333333333333,
             "#9c179e"
            ],
            [
             0.4444444444444444,
             "#bd3786"
            ],
            [
             0.5555555555555556,
             "#d8576b"
            ],
            [
             0.6666666666666666,
             "#ed7953"
            ],
            [
             0.7777777777777778,
             "#fb9f3a"
            ],
            [
             0.8888888888888888,
             "#fdca26"
            ],
            [
             1,
             "#f0f921"
            ]
           ],
           "sequentialminus": [
            [
             0,
             "#0d0887"
            ],
            [
             0.1111111111111111,
             "#46039f"
            ],
            [
             0.2222222222222222,
             "#7201a8"
            ],
            [
             0.3333333333333333,
             "#9c179e"
            ],
            [
             0.4444444444444444,
             "#bd3786"
            ],
            [
             0.5555555555555556,
             "#d8576b"
            ],
            [
             0.6666666666666666,
             "#ed7953"
            ],
            [
             0.7777777777777778,
             "#fb9f3a"
            ],
            [
             0.8888888888888888,
             "#fdca26"
            ],
            [
             1,
             "#f0f921"
            ]
           ]
          },
          "colorway": [
           "#636efa",
           "#EF553B",
           "#00cc96",
           "#ab63fa",
           "#FFA15A",
           "#19d3f3",
           "#FF6692",
           "#B6E880",
           "#FF97FF",
           "#FECB52"
          ],
          "font": {
           "color": "#2a3f5f"
          },
          "geo": {
           "bgcolor": "white",
           "lakecolor": "white",
           "landcolor": "#E5ECF6",
           "showlakes": true,
           "showland": true,
           "subunitcolor": "white"
          },
          "hoverlabel": {
           "align": "left"
          },
          "hovermode": "closest",
          "mapbox": {
           "style": "light"
          },
          "paper_bgcolor": "white",
          "plot_bgcolor": "#E5ECF6",
          "polar": {
           "angularaxis": {
            "gridcolor": "white",
            "linecolor": "white",
            "ticks": ""
           },
           "bgcolor": "#E5ECF6",
           "radialaxis": {
            "gridcolor": "white",
            "linecolor": "white",
            "ticks": ""
           }
          },
          "scene": {
           "xaxis": {
            "backgroundcolor": "#E5ECF6",
            "gridcolor": "white",
            "gridwidth": 2,
            "linecolor": "white",
            "showbackground": true,
            "ticks": "",
            "zerolinecolor": "white"
           },
           "yaxis": {
            "backgroundcolor": "#E5ECF6",
            "gridcolor": "white",
            "gridwidth": 2,
            "linecolor": "white",
            "showbackground": true,
            "ticks": "",
            "zerolinecolor": "white"
           },
           "zaxis": {
            "backgroundcolor": "#E5ECF6",
            "gridcolor": "white",
            "gridwidth": 2,
            "linecolor": "white",
            "showbackground": true,
            "ticks": "",
            "zerolinecolor": "white"
           }
          },
          "shapedefaults": {
           "line": {
            "color": "#2a3f5f"
           }
          },
          "ternary": {
           "aaxis": {
            "gridcolor": "white",
            "linecolor": "white",
            "ticks": ""
           },
           "baxis": {
            "gridcolor": "white",
            "linecolor": "white",
            "ticks": ""
           },
           "bgcolor": "#E5ECF6",
           "caxis": {
            "gridcolor": "white",
            "linecolor": "white",
            "ticks": ""
           }
          },
          "title": {
           "x": 0.05
          },
          "xaxis": {
           "automargin": true,
           "gridcolor": "white",
           "linecolor": "white",
           "ticks": "",
           "title": {
            "standoff": 15
           },
           "zerolinecolor": "white",
           "zerolinewidth": 2
          },
          "yaxis": {
           "automargin": true,
           "gridcolor": "white",
           "linecolor": "white",
           "ticks": "",
           "title": {
            "standoff": 15
           },
           "zerolinecolor": "white",
           "zerolinewidth": 2
          }
         }
        },
        "title": {
         "font": {
          "color": "#4D5663"
         }
        },
        "xaxis": {
         "gridcolor": "#E1E5ED",
         "showgrid": true,
         "tickfont": {
          "color": "#4D5663"
         },
         "title": {
          "font": {
           "color": "#4D5663"
          },
          "text": ""
         },
         "zerolinecolor": "#E1E5ED"
        },
        "yaxis": {
         "gridcolor": "#E1E5ED",
         "showgrid": true,
         "tickfont": {
          "color": "#4D5663"
         },
         "title": {
          "font": {
           "color": "#4D5663"
          },
          "text": ""
         },
         "zerolinecolor": "#E1E5ED"
        }
       }
      },
      "text/html": [
       "<div>\n",
       "        \n",
       "        \n",
       "            <div id=\"94f16374-090b-4065-98cc-9a73dcb828e8\" class=\"plotly-graph-div\" style=\"height:525px; width:100%;\"></div>\n",
       "            <script type=\"text/javascript\">\n",
       "                require([\"plotly\"], function(Plotly) {\n",
       "                    window.PLOTLYENV=window.PLOTLYENV || {};\n",
       "                    window.PLOTLYENV.BASE_URL='https://plot.ly';\n",
       "                    \n",
       "                if (document.getElementById(\"94f16374-090b-4065-98cc-9a73dcb828e8\")) {\n",
       "                    Plotly.newPlot(\n",
       "                        '94f16374-090b-4065-98cc-9a73dcb828e8',\n",
       "                        [{\"marker\": {\"color\": [\"rgb(255, 153, 51)\", \"rgb(55, 128, 191)\", \"rgb(50, 171, 96)\", \"rgb(128, 0, 128)\", \"rgb(219, 64, 82)\", \"rgb(0, 128, 128)\", \"rgb(255, 255, 51)\", \"rgb(128, 128, 0)\", \"rgb(251, 128, 114)\", \"rgb(128, 177, 211)\"], \"line\": {\"width\": 1.3}, \"size\": [94, 43, 65, 75, 49, 71, 73, 71, 77, 88, 94, 31, 75, 65, 112, 63, 43, 42, 63, 80, 65, 67, 71, 20, 32, 107, 74, 68, 50, 51, 80, 35, 31, 74, 62, 72, 51, 100, 59, 56, 55, 75, 69, 105, 57, 56, 63, 72, 63, 85, 75, 75, 63, 51, 82, 70, 50, 91, 59, 23, 42, 45, 42, 78, 12, 85, 48, 75, 96, 69, 105, 68, 18, 81, 49, 49, 68, 88, 56, 67, 81, 93, 60, 68, 53, 52, 63, 50, 85, 82, 53, 62, 103, 71, 60, 29, 84, 86, 77, 46], \"symbol\": \"circle\"}, \"mode\": \"markers\", \"text\": \"\", \"type\": \"scatter\", \"x\": [-0.8460237271253019, 0.6850443896998784, 0.013609065845515527, -0.4988132770316513, -0.5026795682975888, -2.1648319958850464, -1.154552707782905, 0.4645360254620899, 1.3740964676790737, -2.242787929269608, 0.912469992443577, 0.9719058990913453, -1.4485752232730136, -1.4856817403879254, -1.7707609389688101, -1.544708909569676, -0.845047053954906, 1.5718728962014008, 1.7407180132610471, 2.146932204884541, 1.185958873022132, 0.2630462182169065, -0.751468859481539, 0.12184899133054408, 0.21414513681628883, 0.9417985234694084, 1.2425311236379861, -0.7377121463314611, -2.1358685937035027, -0.01613866776884078, -1.224414063134968, -0.43117966330931345, 0.4474472858747312, 0.36962982018769797, 0.847196324617692, 1.880012748500143, 1.1045060967752076, 0.4633019355132985, -1.464979842190436, 1.4075418941380369, -0.015380220180128674, 1.5729576249594048, 0.035613201302045094, -2.1191326657010925, 0.4674612766990198, 1.5672725306048771, 0.32374701394053695, -0.07586660607563349, -0.28766130688384633, 0.8484426019712326, 0.12285878967475791, 0.10747331366298463, -0.014364068259369946, 0.04745854722618259, 0.08562776472368197, -1.2389066249610874, -0.6995068508645815, -0.7972095540515397, 1.2007857778924123, -0.09290640667433647, -0.2934859290199042, -0.07763488078361577, 0.6157033452195625, 0.10784793323471127, -0.5688943346294603, 0.3980559147795507, 0.5661577662311075, -2.195580683945319, 0.8997439452375172, 0.6116820569345487, 0.898185107218264, -3.16636935240398, 0.5157190077667173, 1.7027542662620736, -1.8334998040533916, 1.5191373232065937, -0.17460849019525584, 1.131963144127607, 0.3568780584530282, 0.9102545259831278, 0.13445560873806117, 0.40655314317655816, 1.0152337299856296, 1.4398556923049288, -0.18648795002338767, 0.4306655374413637, 0.09626036855680789, 1.5076321511661732, -0.8426903877075556, -0.4677942497505051, 1.2558162159647377, -0.3149934105775024, 0.3672194688408298, -2.3065307475577677, -0.6732954546156035, 1.3521271382546514, -0.18481351745424293, -0.8944438856872224, 0.30256144019502035, -1.774058004598215], \"y\": [-1.6690665071741209, -0.9484589845302493, -0.8161375694116357, 0.6840786863502893, -2.2018317733312114, 0.017536684463240967, 1.2891016612183293, -1.804728629786003, 0.3259795023528879, 0.049809753323116025, -0.5586374064724668, 0.29429666978152597, 0.39061076983085435, 0.8943681379041947, -0.552752183630096, -3.254423561116218, 0.6019509133633993, -0.8259461083978703, 1.710869136590222, -0.6615216430491391, -1.1578938475951246, -1.053495434073233, 0.050146122300815554, 0.5165620720663516, -0.48796706452958144, -0.4419290713862438, -0.7685738951120951, 0.006761444700873407, -1.3503432760800622, 0.86268829936173, -0.3601098281120075, 1.5471265668795813, -0.7877036076046857, -0.11570378586982293, -0.38626518512976876, -1.6261076438084243, 0.1552139671521332, -0.5535272578079041, -0.4630992019337326, -0.6139324026188785, 1.39842534595313, 0.025329165810796576, -1.80275260504035, 0.2897836172364911, 0.10549183348243746, -1.154884935652627, 0.0900151454704177, -1.9925874148798286, 0.1854025982354397, -1.6396389383040153, 1.1334741520064942, -2.0443178533842548, -0.6515321439298384, 0.21430215795085017, -2.2171803435270627, -0.10679315372693604, 1.3358567958691514, -1.1979954208547445, 0.748006345653784, -1.2771340270653806, 0.24106633940119884, -0.17317250017492125, 1.4708772807273518, -0.2382694937834363, -0.7276772174913667, 0.3308764931989634, -1.0020418664013873, 1.8115458705425924, 0.524693389700117, 1.0641059387955556, -0.5677562318557139, 3.684053699497508, 0.07477586077751451, 1.16602333777211, -0.3644225537743912, -0.2561592131802757, 0.8456431281725347, -0.41187096117433014, -0.8736896574049339, 0.6679638026301171, 1.1001823918068032, 1.0535495494708962, -2.104565944240315, 0.3720753582969174, -0.5010108088639956, -0.5245036613989332, -0.24392870922439877, -0.19658226865093806, 0.6584933540744552, 0.2871266386215244, 1.0654171438176951, 1.7258373286970015, 2.107649563188196, 1.6470948082198242, 0.02453824662895236, -1.194105419184158, -1.214498105522763, 1.8090870987912386, -0.3243706643776886, -1.0410093775593163]}],\n",
       "                        {\"legend\": {\"bgcolor\": \"#F5F6F9\", \"font\": {\"color\": \"#4D5663\"}}, \"paper_bgcolor\": \"#F5F6F9\", \"plot_bgcolor\": \"#F5F6F9\", \"template\": {\"data\": {\"bar\": [{\"error_x\": {\"color\": \"#2a3f5f\"}, \"error_y\": {\"color\": \"#2a3f5f\"}, \"marker\": {\"line\": {\"color\": \"#E5ECF6\", \"width\": 0.5}}, \"type\": \"bar\"}], \"barpolar\": [{\"marker\": {\"line\": {\"color\": \"#E5ECF6\", \"width\": 0.5}}, \"type\": \"barpolar\"}], \"carpet\": [{\"aaxis\": {\"endlinecolor\": \"#2a3f5f\", \"gridcolor\": \"white\", \"linecolor\": \"white\", \"minorgridcolor\": \"white\", \"startlinecolor\": \"#2a3f5f\"}, \"baxis\": {\"endlinecolor\": \"#2a3f5f\", \"gridcolor\": \"white\", \"linecolor\": \"white\", \"minorgridcolor\": \"white\", \"startlinecolor\": \"#2a3f5f\"}, \"type\": \"carpet\"}], \"choropleth\": [{\"colorbar\": {\"outlinewidth\": 0, \"ticks\": \"\"}, \"type\": \"choropleth\"}], \"contour\": [{\"colorbar\": {\"outlinewidth\": 0, \"ticks\": \"\"}, \"colorscale\": [[0.0, \"#0d0887\"], [0.1111111111111111, \"#46039f\"], [0.2222222222222222, \"#7201a8\"], [0.3333333333333333, \"#9c179e\"], [0.4444444444444444, \"#bd3786\"], [0.5555555555555556, \"#d8576b\"], [0.6666666666666666, \"#ed7953\"], [0.7777777777777778, \"#fb9f3a\"], [0.8888888888888888, \"#fdca26\"], [1.0, \"#f0f921\"]], \"type\": \"contour\"}], \"contourcarpet\": [{\"colorbar\": {\"outlinewidth\": 0, \"ticks\": \"\"}, \"type\": \"contourcarpet\"}], \"heatmap\": [{\"colorbar\": {\"outlinewidth\": 0, \"ticks\": \"\"}, \"colorscale\": [[0.0, \"#0d0887\"], [0.1111111111111111, \"#46039f\"], [0.2222222222222222, \"#7201a8\"], [0.3333333333333333, \"#9c179e\"], [0.4444444444444444, \"#bd3786\"], [0.5555555555555556, \"#d8576b\"], [0.6666666666666666, \"#ed7953\"], [0.7777777777777778, \"#fb9f3a\"], [0.8888888888888888, \"#fdca26\"], [1.0, \"#f0f921\"]], \"type\": \"heatmap\"}], \"heatmapgl\": [{\"colorbar\": {\"outlinewidth\": 0, \"ticks\": \"\"}, \"colorscale\": [[0.0, \"#0d0887\"], [0.1111111111111111, \"#46039f\"], [0.2222222222222222, \"#7201a8\"], [0.3333333333333333, \"#9c179e\"], [0.4444444444444444, \"#bd3786\"], [0.5555555555555556, \"#d8576b\"], [0.6666666666666666, \"#ed7953\"], [0.7777777777777778, \"#fb9f3a\"], [0.8888888888888888, \"#fdca26\"], [1.0, \"#f0f921\"]], \"type\": \"heatmapgl\"}], \"histogram\": [{\"marker\": {\"colorbar\": {\"outlinewidth\": 0, \"ticks\": \"\"}}, \"type\": \"histogram\"}], \"histogram2d\": [{\"colorbar\": {\"outlinewidth\": 0, \"ticks\": \"\"}, \"colorscale\": [[0.0, \"#0d0887\"], [0.1111111111111111, \"#46039f\"], [0.2222222222222222, \"#7201a8\"], [0.3333333333333333, \"#9c179e\"], [0.4444444444444444, \"#bd3786\"], [0.5555555555555556, \"#d8576b\"], [0.6666666666666666, \"#ed7953\"], [0.7777777777777778, \"#fb9f3a\"], [0.8888888888888888, \"#fdca26\"], [1.0, \"#f0f921\"]], \"type\": \"histogram2d\"}], \"histogram2dcontour\": [{\"colorbar\": {\"outlinewidth\": 0, \"ticks\": \"\"}, \"colorscale\": [[0.0, \"#0d0887\"], [0.1111111111111111, \"#46039f\"], [0.2222222222222222, \"#7201a8\"], [0.3333333333333333, \"#9c179e\"], [0.4444444444444444, \"#bd3786\"], [0.5555555555555556, \"#d8576b\"], [0.6666666666666666, \"#ed7953\"], [0.7777777777777778, \"#fb9f3a\"], [0.8888888888888888, \"#fdca26\"], [1.0, \"#f0f921\"]], \"type\": \"histogram2dcontour\"}], \"mesh3d\": [{\"colorbar\": {\"outlinewidth\": 0, \"ticks\": \"\"}, \"type\": \"mesh3d\"}], \"parcoords\": [{\"line\": {\"colorbar\": {\"outlinewidth\": 0, \"ticks\": \"\"}}, \"type\": \"parcoords\"}], \"pie\": [{\"automargin\": true, \"type\": \"pie\"}], \"scatter\": [{\"marker\": {\"colorbar\": {\"outlinewidth\": 0, \"ticks\": \"\"}}, \"type\": \"scatter\"}], \"scatter3d\": [{\"line\": {\"colorbar\": {\"outlinewidth\": 0, \"ticks\": \"\"}}, \"marker\": {\"colorbar\": {\"outlinewidth\": 0, \"ticks\": \"\"}}, \"type\": \"scatter3d\"}], \"scattercarpet\": [{\"marker\": {\"colorbar\": {\"outlinewidth\": 0, \"ticks\": \"\"}}, \"type\": \"scattercarpet\"}], \"scattergeo\": [{\"marker\": {\"colorbar\": {\"outlinewidth\": 0, \"ticks\": \"\"}}, \"type\": \"scattergeo\"}], \"scattergl\": [{\"marker\": {\"colorbar\": {\"outlinewidth\": 0, \"ticks\": \"\"}}, \"type\": \"scattergl\"}], \"scattermapbox\": [{\"marker\": {\"colorbar\": {\"outlinewidth\": 0, \"ticks\": \"\"}}, \"type\": \"scattermapbox\"}], \"scatterpolar\": [{\"marker\": {\"colorbar\": {\"outlinewidth\": 0, \"ticks\": \"\"}}, \"type\": \"scatterpolar\"}], \"scatterpolargl\": [{\"marker\": {\"colorbar\": {\"outlinewidth\": 0, \"ticks\": \"\"}}, \"type\": \"scatterpolargl\"}], \"scatterternary\": [{\"marker\": {\"colorbar\": {\"outlinewidth\": 0, \"ticks\": \"\"}}, \"type\": \"scatterternary\"}], \"surface\": [{\"colorbar\": {\"outlinewidth\": 0, \"ticks\": \"\"}, \"colorscale\": [[0.0, \"#0d0887\"], [0.1111111111111111, \"#46039f\"], [0.2222222222222222, \"#7201a8\"], [0.3333333333333333, \"#9c179e\"], [0.4444444444444444, \"#bd3786\"], [0.5555555555555556, \"#d8576b\"], [0.6666666666666666, \"#ed7953\"], [0.7777777777777778, \"#fb9f3a\"], [0.8888888888888888, \"#fdca26\"], [1.0, \"#f0f921\"]], \"type\": \"surface\"}], \"table\": [{\"cells\": {\"fill\": {\"color\": \"#EBF0F8\"}, \"line\": {\"color\": \"white\"}}, \"header\": {\"fill\": {\"color\": \"#C8D4E3\"}, \"line\": {\"color\": \"white\"}}, \"type\": \"table\"}]}, \"layout\": {\"annotationdefaults\": {\"arrowcolor\": \"#2a3f5f\", \"arrowhead\": 0, \"arrowwidth\": 1}, \"coloraxis\": {\"colorbar\": {\"outlinewidth\": 0, \"ticks\": \"\"}}, \"colorscale\": {\"diverging\": [[0, \"#8e0152\"], [0.1, \"#c51b7d\"], [0.2, \"#de77ae\"], [0.3, \"#f1b6da\"], [0.4, \"#fde0ef\"], [0.5, \"#f7f7f7\"], [0.6, \"#e6f5d0\"], [0.7, \"#b8e186\"], [0.8, \"#7fbc41\"], [0.9, \"#4d9221\"], [1, \"#276419\"]], \"sequential\": [[0.0, \"#0d0887\"], [0.1111111111111111, \"#46039f\"], [0.2222222222222222, \"#7201a8\"], [0.3333333333333333, \"#9c179e\"], [0.4444444444444444, \"#bd3786\"], [0.5555555555555556, \"#d8576b\"], [0.6666666666666666, \"#ed7953\"], [0.7777777777777778, \"#fb9f3a\"], [0.8888888888888888, \"#fdca26\"], [1.0, \"#f0f921\"]], \"sequentialminus\": [[0.0, \"#0d0887\"], [0.1111111111111111, \"#46039f\"], [0.2222222222222222, \"#7201a8\"], [0.3333333333333333, \"#9c179e\"], [0.4444444444444444, \"#bd3786\"], [0.5555555555555556, \"#d8576b\"], [0.6666666666666666, \"#ed7953\"], [0.7777777777777778, \"#fb9f3a\"], [0.8888888888888888, \"#fdca26\"], [1.0, \"#f0f921\"]]}, \"colorway\": [\"#636efa\", \"#EF553B\", \"#00cc96\", \"#ab63fa\", \"#FFA15A\", \"#19d3f3\", \"#FF6692\", \"#B6E880\", \"#FF97FF\", \"#FECB52\"], \"font\": {\"color\": \"#2a3f5f\"}, \"geo\": {\"bgcolor\": \"white\", \"lakecolor\": \"white\", \"landcolor\": \"#E5ECF6\", \"showlakes\": true, \"showland\": true, \"subunitcolor\": \"white\"}, \"hoverlabel\": {\"align\": \"left\"}, \"hovermode\": \"closest\", \"mapbox\": {\"style\": \"light\"}, \"paper_bgcolor\": \"white\", \"plot_bgcolor\": \"#E5ECF6\", \"polar\": {\"angularaxis\": {\"gridcolor\": \"white\", \"linecolor\": \"white\", \"ticks\": \"\"}, \"bgcolor\": \"#E5ECF6\", \"radialaxis\": {\"gridcolor\": \"white\", \"linecolor\": \"white\", \"ticks\": \"\"}}, \"scene\": {\"xaxis\": {\"backgroundcolor\": \"#E5ECF6\", \"gridcolor\": \"white\", \"gridwidth\": 2, \"linecolor\": \"white\", \"showbackground\": true, \"ticks\": \"\", \"zerolinecolor\": \"white\"}, \"yaxis\": {\"backgroundcolor\": \"#E5ECF6\", \"gridcolor\": \"white\", \"gridwidth\": 2, \"linecolor\": \"white\", \"showbackground\": true, \"ticks\": \"\", \"zerolinecolor\": \"white\"}, \"zaxis\": {\"backgroundcolor\": \"#E5ECF6\", \"gridcolor\": \"white\", \"gridwidth\": 2, \"linecolor\": \"white\", \"showbackground\": true, \"ticks\": \"\", \"zerolinecolor\": \"white\"}}, \"shapedefaults\": {\"line\": {\"color\": \"#2a3f5f\"}}, \"ternary\": {\"aaxis\": {\"gridcolor\": \"white\", \"linecolor\": \"white\", \"ticks\": \"\"}, \"baxis\": {\"gridcolor\": \"white\", \"linecolor\": \"white\", \"ticks\": \"\"}, \"bgcolor\": \"#E5ECF6\", \"caxis\": {\"gridcolor\": \"white\", \"linecolor\": \"white\", \"ticks\": \"\"}}, \"title\": {\"x\": 0.05}, \"xaxis\": {\"automargin\": true, \"gridcolor\": \"white\", \"linecolor\": \"white\", \"ticks\": \"\", \"title\": {\"standoff\": 15}, \"zerolinecolor\": \"white\", \"zerolinewidth\": 2}, \"yaxis\": {\"automargin\": true, \"gridcolor\": \"white\", \"linecolor\": \"white\", \"ticks\": \"\", \"title\": {\"standoff\": 15}, \"zerolinecolor\": \"white\", \"zerolinewidth\": 2}}}, \"title\": {\"font\": {\"color\": \"#4D5663\"}}, \"xaxis\": {\"gridcolor\": \"#E1E5ED\", \"showgrid\": true, \"tickfont\": {\"color\": \"#4D5663\"}, \"title\": {\"font\": {\"color\": \"#4D5663\"}, \"text\": \"\"}, \"zerolinecolor\": \"#E1E5ED\"}, \"yaxis\": {\"gridcolor\": \"#E1E5ED\", \"showgrid\": true, \"tickfont\": {\"color\": \"#4D5663\"}, \"title\": {\"font\": {\"color\": \"#4D5663\"}, \"text\": \"\"}, \"zerolinecolor\": \"#E1E5ED\"}},\n",
       "                        {\"showLink\": true, \"linkText\": \"Export to plot.ly\", \"plotlyServerURL\": \"https://plot.ly\", \"responsive\": true}\n",
       "                    ).then(function(){\n",
       "                            \n",
       "var gd = document.getElementById('94f16374-090b-4065-98cc-9a73dcb828e8');\n",
       "var x = new MutationObserver(function (mutations, observer) {{\n",
       "        var display = window.getComputedStyle(gd).display;\n",
       "        if (!display || display === 'none') {{\n",
       "            console.log([gd, 'removed!']);\n",
       "            Plotly.purge(gd);\n",
       "            observer.disconnect();\n",
       "        }}\n",
       "}});\n",
       "\n",
       "// Listen for the removal of the full notebook cells\n",
       "var notebookContainer = gd.closest('#notebook-container');\n",
       "if (notebookContainer) {{\n",
       "    x.observe(notebookContainer, {childList: true});\n",
       "}}\n",
       "\n",
       "// Listen for the clearing of the current output cell\n",
       "var outputEl = gd.closest('.output');\n",
       "if (outputEl) {{\n",
       "    x.observe(outputEl, {childList: true});\n",
       "}}\n",
       "\n",
       "                        })\n",
       "                };\n",
       "                });\n",
       "            </script>\n",
       "        </div>"
      ]
     },
     "metadata": {},
     "output_type": "display_data"
    }
   ],
   "source": [
    "df1.iplot(kind='bubble',x='A',y='B',size='C')"
   ]
  },
  {
   "cell_type": "code",
   "execution_count": 18,
   "metadata": {},
   "outputs": [
    {
     "data": {
      "application/vnd.plotly.v1+json": {
       "config": {
        "linkText": "Export to plot.ly",
        "plotlyServerURL": "https://plot.ly",
        "showLink": true
       },
       "data": [
        {
         "histfunc": "count",
         "histnorm": "",
         "marker": {
          "color": "rgba(255, 153, 51, 1.0)",
          "line": {
           "color": "#4D5663",
           "width": 1.3
          }
         },
         "name": "A",
         "nbinsx": 10,
         "opacity": 0.8,
         "orientation": "v",
         "type": "histogram",
         "x": [
          -0.8460237271253019,
          0.6850443896998784,
          0.013609065845515527,
          -0.4988132770316513,
          -0.5026795682975888,
          -2.1648319958850464,
          -1.154552707782905,
          0.4645360254620899,
          1.3740964676790737,
          -2.242787929269608,
          0.912469992443577,
          0.9719058990913453,
          -1.4485752232730136,
          -1.4856817403879254,
          -1.7707609389688101,
          -1.544708909569676,
          -0.845047053954906,
          1.5718728962014008,
          1.7407180132610471,
          2.146932204884541,
          1.185958873022132,
          0.2630462182169065,
          -0.751468859481539,
          0.12184899133054408,
          0.21414513681628883,
          0.9417985234694084,
          1.2425311236379861,
          -0.7377121463314611,
          -2.1358685937035027,
          -0.01613866776884078,
          -1.224414063134968,
          -0.43117966330931345,
          0.4474472858747312,
          0.36962982018769797,
          0.847196324617692,
          1.880012748500143,
          1.1045060967752076,
          0.4633019355132985,
          -1.464979842190436,
          1.4075418941380369,
          -0.015380220180128674,
          1.5729576249594048,
          0.035613201302045094,
          -2.1191326657010925,
          0.4674612766990198,
          1.5672725306048771,
          0.32374701394053695,
          -0.07586660607563349,
          -0.28766130688384633,
          0.8484426019712326,
          0.12285878967475791,
          0.10747331366298463,
          -0.014364068259369946,
          0.04745854722618259,
          0.08562776472368197,
          -1.2389066249610874,
          -0.6995068508645815,
          -0.7972095540515397,
          1.2007857778924123,
          -0.09290640667433647,
          -0.2934859290199042,
          -0.07763488078361577,
          0.6157033452195625,
          0.10784793323471127,
          -0.5688943346294603,
          0.3980559147795507,
          0.5661577662311075,
          -2.195580683945319,
          0.8997439452375172,
          0.6116820569345487,
          0.898185107218264,
          -3.16636935240398,
          0.5157190077667173,
          1.7027542662620736,
          -1.8334998040533916,
          1.5191373232065937,
          -0.17460849019525584,
          1.131963144127607,
          0.3568780584530282,
          0.9102545259831278,
          0.13445560873806117,
          0.40655314317655816,
          1.0152337299856296,
          1.4398556923049288,
          -0.18648795002338767,
          0.4306655374413637,
          0.09626036855680789,
          1.5076321511661732,
          -0.8426903877075556,
          -0.4677942497505051,
          1.2558162159647377,
          -0.3149934105775024,
          0.3672194688408298,
          -2.3065307475577677,
          -0.6732954546156035,
          1.3521271382546514,
          -0.18481351745424293,
          -0.8944438856872224,
          0.30256144019502035,
          -1.774058004598215
         ],
         "xaxis": "x",
         "yaxis": "y"
        },
        {
         "line": {
          "color": "rgba(128, 128, 128, 1.0)",
          "dash": "solid",
          "shape": "linear",
          "width": 1.3
         },
         "marker": {
          "size": 2,
          "symbol": "circle"
         },
         "mode": "markers",
         "name": "A",
         "text": "",
         "type": "scatter",
         "x": [
          -1.6690665071741209,
          -0.9484589845302493,
          -0.8161375694116357,
          0.6840786863502893,
          -2.2018317733312114,
          0.017536684463240967,
          1.2891016612183293,
          -1.804728629786003,
          0.3259795023528879,
          0.049809753323116025,
          -0.5586374064724668,
          0.29429666978152597,
          0.39061076983085435,
          0.8943681379041947,
          -0.552752183630096,
          -3.254423561116218,
          0.6019509133633993,
          -0.8259461083978703,
          1.710869136590222,
          -0.6615216430491391,
          -1.1578938475951246,
          -1.053495434073233,
          0.050146122300815554,
          0.5165620720663516,
          -0.48796706452958144,
          -0.4419290713862438,
          -0.7685738951120951,
          0.006761444700873407,
          -1.3503432760800622,
          0.86268829936173,
          -0.3601098281120075,
          1.5471265668795813,
          -0.7877036076046857,
          -0.11570378586982293,
          -0.38626518512976876,
          -1.6261076438084243,
          0.1552139671521332,
          -0.5535272578079041,
          -0.4630992019337326,
          -0.6139324026188785,
          1.39842534595313,
          0.025329165810796576,
          -1.80275260504035,
          0.2897836172364911,
          0.10549183348243746,
          -1.154884935652627,
          0.0900151454704177,
          -1.9925874148798286,
          0.1854025982354397,
          -1.6396389383040153,
          1.1334741520064942,
          -2.0443178533842548,
          -0.6515321439298384,
          0.21430215795085017,
          -2.2171803435270627,
          -0.10679315372693604,
          1.3358567958691514,
          -1.1979954208547445,
          0.748006345653784,
          -1.2771340270653806,
          0.24106633940119884,
          -0.17317250017492125,
          1.4708772807273518,
          -0.2382694937834363,
          -0.7276772174913667,
          0.3308764931989634,
          -1.0020418664013873,
          1.8115458705425924,
          0.524693389700117,
          1.0641059387955556,
          -0.5677562318557139,
          3.684053699497508,
          0.07477586077751451,
          1.16602333777211,
          -0.3644225537743912,
          -0.2561592131802757,
          0.8456431281725347,
          -0.41187096117433014,
          -0.8736896574049339,
          0.6679638026301171,
          1.1001823918068032,
          1.0535495494708962,
          -2.104565944240315,
          0.3720753582969174,
          -0.5010108088639956,
          -0.5245036613989332,
          -0.24392870922439877,
          -0.19658226865093806,
          0.6584933540744552,
          0.2871266386215244,
          1.0654171438176951,
          1.7258373286970015,
          2.107649563188196,
          1.6470948082198242,
          0.02453824662895236,
          -1.194105419184158,
          -1.214498105522763,
          1.8090870987912386,
          -0.3243706643776886,
          -1.0410093775593163
         ],
         "xaxis": "x2",
         "y": [
          -0.8460237271253019,
          0.6850443896998784,
          0.013609065845515527,
          -0.4988132770316513,
          -0.5026795682975888,
          -2.1648319958850464,
          -1.154552707782905,
          0.4645360254620899,
          1.3740964676790737,
          -2.242787929269608,
          0.912469992443577,
          0.9719058990913453,
          -1.4485752232730136,
          -1.4856817403879254,
          -1.7707609389688101,
          -1.544708909569676,
          -0.845047053954906,
          1.5718728962014008,
          1.7407180132610471,
          2.146932204884541,
          1.185958873022132,
          0.2630462182169065,
          -0.751468859481539,
          0.12184899133054408,
          0.21414513681628883,
          0.9417985234694084,
          1.2425311236379861,
          -0.7377121463314611,
          -2.1358685937035027,
          -0.01613866776884078,
          -1.224414063134968,
          -0.43117966330931345,
          0.4474472858747312,
          0.36962982018769797,
          0.847196324617692,
          1.880012748500143,
          1.1045060967752076,
          0.4633019355132985,
          -1.464979842190436,
          1.4075418941380369,
          -0.015380220180128674,
          1.5729576249594048,
          0.035613201302045094,
          -2.1191326657010925,
          0.4674612766990198,
          1.5672725306048771,
          0.32374701394053695,
          -0.07586660607563349,
          -0.28766130688384633,
          0.8484426019712326,
          0.12285878967475791,
          0.10747331366298463,
          -0.014364068259369946,
          0.04745854722618259,
          0.08562776472368197,
          -1.2389066249610874,
          -0.6995068508645815,
          -0.7972095540515397,
          1.2007857778924123,
          -0.09290640667433647,
          -0.2934859290199042,
          -0.07763488078361577,
          0.6157033452195625,
          0.10784793323471127,
          -0.5688943346294603,
          0.3980559147795507,
          0.5661577662311075,
          -2.195580683945319,
          0.8997439452375172,
          0.6116820569345487,
          0.898185107218264,
          -3.16636935240398,
          0.5157190077667173,
          1.7027542662620736,
          -1.8334998040533916,
          1.5191373232065937,
          -0.17460849019525584,
          1.131963144127607,
          0.3568780584530282,
          0.9102545259831278,
          0.13445560873806117,
          0.40655314317655816,
          1.0152337299856296,
          1.4398556923049288,
          -0.18648795002338767,
          0.4306655374413637,
          0.09626036855680789,
          1.5076321511661732,
          -0.8426903877075556,
          -0.4677942497505051,
          1.2558162159647377,
          -0.3149934105775024,
          0.3672194688408298,
          -2.3065307475577677,
          -0.6732954546156035,
          1.3521271382546514,
          -0.18481351745424293,
          -0.8944438856872224,
          0.30256144019502035,
          -1.774058004598215
         ],
         "yaxis": "y2"
        },
        {
         "line": {
          "color": "rgba(128, 128, 128, 1.0)",
          "dash": "solid",
          "shape": "linear",
          "width": 1.3
         },
         "marker": {
          "size": 2,
          "symbol": "circle"
         },
         "mode": "markers",
         "name": "A",
         "text": "",
         "type": "scatter",
         "x": [
          1.2497020135564443,
          -0.9316000796524302,
          -0.007557078183790653,
          0.4594372049529466,
          -0.6714989061973291,
          0.28377275797757057,
          0.34825899371820007,
          0.25429155553242627,
          0.5179819167995959,
          1.024247936646388,
          1.2752821551534776,
          -1.4349110925235573,
          0.42960979907731234,
          -0.0065907366554523086,
          2.0217422884557066,
          -0.093114659091693,
          -0.9518137597332781,
          -0.9636790193634064,
          -0.06122108403321417,
          0.658900584897198,
          0.03311330995050802,
          0.11283798818109615,
          0.2557261881204865,
          -1.9343893589294923,
          -1.4315757230520012,
          1.809055941249507,
          0.4038496434120006,
          0.12390997039431657,
          -0.6385960151728208,
          -0.5792557171833106,
          0.6604932205517213,
          -1.3021210807647674,
          -1.4678616658092518,
          0.3879357314950945,
          -0.13207453362427443,
          0.33180310031462557,
          -0.6038645039181272,
          1.5238624040446942,
          -0.2368111706774786,
          -0.36892612529652086,
          -0.42227062872289656,
          0.4275280571921868,
          0.19561703339876219,
          1.7557491814862947,
          -0.33418215698565384,
          -0.36898653868489917,
          -0.053909536663410196,
          0.3312054704487845,
          -0.0701819178820426,
          0.8815697464070676,
          0.44185838710279196,
          0.43611469097132877,
          -0.07031715164084198,
          -0.6002141992917431,
          0.7545525522727039,
          0.23617121490845747,
          -0.6517921025318381,
          1.1346408626972306,
          -0.2589585308852226,
          -1.8185043433377492,
          -1.0012962870856807,
          -0.8385822319296605,
          -0.9973550356500325,
          0.562107983148546,
          -2.2988266052358037,
          0.8771526431814153,
          -0.7413820928312768,
          0.44776314854753335,
          1.3350092408510306,
          0.1805096550206448,
          1.7522359953206381,
          0.12385054878704348,
          -2.015246573955783,
          0.6904494874421021,
          -0.6627547992477942,
          -0.6687596742023091,
          0.1479720149501183,
          1.0093777762142584,
          -0.37547704167061763,
          0.08831595650199713,
          0.7245285334977353,
          1.238110023684578,
          -0.22383069432704047,
          0.13115197951032936,
          -0.49201430904382065,
          -0.5613515858429395,
          -0.058603034270792005,
          -0.6516719515097118,
          0.8746302424267516,
          0.7531286992581482,
          -0.5154560262208938,
          -0.11003537235693457,
          1.6646485956567596,
          0.27425408939490015,
          -0.22243578618604876,
          -1.5527567417115955,
          0.8513567075629405,
          0.9122651218519495,
          0.5218503137083844,
          -0.7914445882844924
         ],
         "xaxis": "x3",
         "y": [
          -0.8460237271253019,
          0.6850443896998784,
          0.013609065845515527,
          -0.4988132770316513,
          -0.5026795682975888,
          -2.1648319958850464,
          -1.154552707782905,
          0.4645360254620899,
          1.3740964676790737,
          -2.242787929269608,
          0.912469992443577,
          0.9719058990913453,
          -1.4485752232730136,
          -1.4856817403879254,
          -1.7707609389688101,
          -1.544708909569676,
          -0.845047053954906,
          1.5718728962014008,
          1.7407180132610471,
          2.146932204884541,
          1.185958873022132,
          0.2630462182169065,
          -0.751468859481539,
          0.12184899133054408,
          0.21414513681628883,
          0.9417985234694084,
          1.2425311236379861,
          -0.7377121463314611,
          -2.1358685937035027,
          -0.01613866776884078,
          -1.224414063134968,
          -0.43117966330931345,
          0.4474472858747312,
          0.36962982018769797,
          0.847196324617692,
          1.880012748500143,
          1.1045060967752076,
          0.4633019355132985,
          -1.464979842190436,
          1.4075418941380369,
          -0.015380220180128674,
          1.5729576249594048,
          0.035613201302045094,
          -2.1191326657010925,
          0.4674612766990198,
          1.5672725306048771,
          0.32374701394053695,
          -0.07586660607563349,
          -0.28766130688384633,
          0.8484426019712326,
          0.12285878967475791,
          0.10747331366298463,
          -0.014364068259369946,
          0.04745854722618259,
          0.08562776472368197,
          -1.2389066249610874,
          -0.6995068508645815,
          -0.7972095540515397,
          1.2007857778924123,
          -0.09290640667433647,
          -0.2934859290199042,
          -0.07763488078361577,
          0.6157033452195625,
          0.10784793323471127,
          -0.5688943346294603,
          0.3980559147795507,
          0.5661577662311075,
          -2.195580683945319,
          0.8997439452375172,
          0.6116820569345487,
          0.898185107218264,
          -3.16636935240398,
          0.5157190077667173,
          1.7027542662620736,
          -1.8334998040533916,
          1.5191373232065937,
          -0.17460849019525584,
          1.131963144127607,
          0.3568780584530282,
          0.9102545259831278,
          0.13445560873806117,
          0.40655314317655816,
          1.0152337299856296,
          1.4398556923049288,
          -0.18648795002338767,
          0.4306655374413637,
          0.09626036855680789,
          1.5076321511661732,
          -0.8426903877075556,
          -0.4677942497505051,
          1.2558162159647377,
          -0.3149934105775024,
          0.3672194688408298,
          -2.3065307475577677,
          -0.6732954546156035,
          1.3521271382546514,
          -0.18481351745424293,
          -0.8944438856872224,
          0.30256144019502035,
          -1.774058004598215
         ],
         "yaxis": "y3"
        },
        {
         "line": {
          "color": "rgba(128, 128, 128, 1.0)",
          "dash": "solid",
          "shape": "linear",
          "width": 1.3
         },
         "marker": {
          "size": 2,
          "symbol": "circle"
         },
         "mode": "markers",
         "name": "A",
         "text": "",
         "type": "scatter",
         "x": [
          -0.32041892387271975,
          -2.535781600276222,
          -0.04408546179644281,
          -2.3405844134684664,
          0.9279911450501884,
          0.4814943220898587,
          0.35579534383086114,
          -0.062251080946320966,
          0.3868777530800276,
          -0.49476679614220437,
          -0.8387863285243597,
          -1.4927513724298949,
          1.2485004032751141,
          -0.16209791744877255,
          -0.8870476807803657,
          -0.7158294517826341,
          2.02848488832112,
          1.0607859919277178,
          -0.21750756626159404,
          1.4990989009356968,
          0.051751008469180654,
          -1.0052906520292644,
          -1.426379303101054,
          1.2046813063680146,
          -0.3629493168282169,
          -1.2206654939832016,
          0.7211886077144074,
          0.551180030907174,
          0.7999843072857239,
          -0.4633938854086553,
          -1.1644528401192586,
          0.24090921103096416,
          0.8290872266015253,
          0.45311341554065987,
          -1.1361473409312766,
          0.19670201841562326,
          -0.7608891225045208,
          1.6184820886651028,
          0.23866783727270027,
          0.3194834434206449,
          -0.13264957566792493,
          -1.3622899960664197,
          -0.5059548359033674,
          -1.5207193243701072,
          0.0383896346451543,
          0.22471006863672247,
          -2.3395958213400996,
          0.9718642352457134,
          0.08752113595260505,
          0.056488911917380966,
          -1.7031511265948294,
          -0.6495058769759012,
          0.4751392576008469,
          0.22582576544344388,
          -0.8354357215301077,
          0.40884315986866976,
          -0.13166199452853417,
          0.38565091409043867,
          0.9177919580778401,
          -0.1265514366785135,
          0.7731541135723086,
          -0.6055012355430393,
          -0.17310095616672008,
          0.0028625553929229187,
          -1.6173154377703736,
          0.031842967913956875,
          0.6445113835435722,
          1.345475927676821,
          0.8513210651772364,
          -0.5699597579069349,
          -0.5081477435741466,
          2.385322514412292,
          0.6838956460562465,
          -1.7810248489204372,
          -0.6742963308502551,
          -0.22565106772893542,
          0.9012343551381534,
          0.3214222698746299,
          -1.0393295551338915,
          -1.1493685840378596,
          -0.8523772077209022,
          0.9627935646968878,
          0.7503042411149256,
          -1.093233562900274,
          0.6120289959054054,
          1.0288597010418579,
          -0.8840007860265477,
          -1.519595799053845,
          0.42338721210765096,
          1.3554741239003676,
          -1.2549553286941448,
          -0.5482133703134511,
          0.41457759610921063,
          0.4244946373209914,
          -0.9564993222470815,
          1.3348521387425258,
          -0.5195542890412702,
          -0.8003405815647018,
          1.5954509655452298,
          -0.20080081745316186
         ],
         "xaxis": "x4",
         "y": [
          -0.8460237271253019,
          0.6850443896998784,
          0.013609065845515527,
          -0.4988132770316513,
          -0.5026795682975888,
          -2.1648319958850464,
          -1.154552707782905,
          0.4645360254620899,
          1.3740964676790737,
          -2.242787929269608,
          0.912469992443577,
          0.9719058990913453,
          -1.4485752232730136,
          -1.4856817403879254,
          -1.7707609389688101,
          -1.544708909569676,
          -0.845047053954906,
          1.5718728962014008,
          1.7407180132610471,
          2.146932204884541,
          1.185958873022132,
          0.2630462182169065,
          -0.751468859481539,
          0.12184899133054408,
          0.21414513681628883,
          0.9417985234694084,
          1.2425311236379861,
          -0.7377121463314611,
          -2.1358685937035027,
          -0.01613866776884078,
          -1.224414063134968,
          -0.43117966330931345,
          0.4474472858747312,
          0.36962982018769797,
          0.847196324617692,
          1.880012748500143,
          1.1045060967752076,
          0.4633019355132985,
          -1.464979842190436,
          1.4075418941380369,
          -0.015380220180128674,
          1.5729576249594048,
          0.035613201302045094,
          -2.1191326657010925,
          0.4674612766990198,
          1.5672725306048771,
          0.32374701394053695,
          -0.07586660607563349,
          -0.28766130688384633,
          0.8484426019712326,
          0.12285878967475791,
          0.10747331366298463,
          -0.014364068259369946,
          0.04745854722618259,
          0.08562776472368197,
          -1.2389066249610874,
          -0.6995068508645815,
          -0.7972095540515397,
          1.2007857778924123,
          -0.09290640667433647,
          -0.2934859290199042,
          -0.07763488078361577,
          0.6157033452195625,
          0.10784793323471127,
          -0.5688943346294603,
          0.3980559147795507,
          0.5661577662311075,
          -2.195580683945319,
          0.8997439452375172,
          0.6116820569345487,
          0.898185107218264,
          -3.16636935240398,
          0.5157190077667173,
          1.7027542662620736,
          -1.8334998040533916,
          1.5191373232065937,
          -0.17460849019525584,
          1.131963144127607,
          0.3568780584530282,
          0.9102545259831278,
          0.13445560873806117,
          0.40655314317655816,
          1.0152337299856296,
          1.4398556923049288,
          -0.18648795002338767,
          0.4306655374413637,
          0.09626036855680789,
          1.5076321511661732,
          -0.8426903877075556,
          -0.4677942497505051,
          1.2558162159647377,
          -0.3149934105775024,
          0.3672194688408298,
          -2.3065307475577677,
          -0.6732954546156035,
          1.3521271382546514,
          -0.18481351745424293,
          -0.8944438856872224,
          0.30256144019502035,
          -1.774058004598215
         ],
         "yaxis": "y4"
        },
        {
         "line": {
          "color": "rgba(128, 128, 128, 1.0)",
          "dash": "solid",
          "shape": "linear",
          "width": 1.3
         },
         "marker": {
          "size": 2,
          "symbol": "circle"
         },
         "mode": "markers",
         "name": "B",
         "text": "",
         "type": "scatter",
         "x": [
          -0.8460237271253019,
          0.6850443896998784,
          0.013609065845515527,
          -0.4988132770316513,
          -0.5026795682975888,
          -2.1648319958850464,
          -1.154552707782905,
          0.4645360254620899,
          1.3740964676790737,
          -2.242787929269608,
          0.912469992443577,
          0.9719058990913453,
          -1.4485752232730136,
          -1.4856817403879254,
          -1.7707609389688101,
          -1.544708909569676,
          -0.845047053954906,
          1.5718728962014008,
          1.7407180132610471,
          2.146932204884541,
          1.185958873022132,
          0.2630462182169065,
          -0.751468859481539,
          0.12184899133054408,
          0.21414513681628883,
          0.9417985234694084,
          1.2425311236379861,
          -0.7377121463314611,
          -2.1358685937035027,
          -0.01613866776884078,
          -1.224414063134968,
          -0.43117966330931345,
          0.4474472858747312,
          0.36962982018769797,
          0.847196324617692,
          1.880012748500143,
          1.1045060967752076,
          0.4633019355132985,
          -1.464979842190436,
          1.4075418941380369,
          -0.015380220180128674,
          1.5729576249594048,
          0.035613201302045094,
          -2.1191326657010925,
          0.4674612766990198,
          1.5672725306048771,
          0.32374701394053695,
          -0.07586660607563349,
          -0.28766130688384633,
          0.8484426019712326,
          0.12285878967475791,
          0.10747331366298463,
          -0.014364068259369946,
          0.04745854722618259,
          0.08562776472368197,
          -1.2389066249610874,
          -0.6995068508645815,
          -0.7972095540515397,
          1.2007857778924123,
          -0.09290640667433647,
          -0.2934859290199042,
          -0.07763488078361577,
          0.6157033452195625,
          0.10784793323471127,
          -0.5688943346294603,
          0.3980559147795507,
          0.5661577662311075,
          -2.195580683945319,
          0.8997439452375172,
          0.6116820569345487,
          0.898185107218264,
          -3.16636935240398,
          0.5157190077667173,
          1.7027542662620736,
          -1.8334998040533916,
          1.5191373232065937,
          -0.17460849019525584,
          1.131963144127607,
          0.3568780584530282,
          0.9102545259831278,
          0.13445560873806117,
          0.40655314317655816,
          1.0152337299856296,
          1.4398556923049288,
          -0.18648795002338767,
          0.4306655374413637,
          0.09626036855680789,
          1.5076321511661732,
          -0.8426903877075556,
          -0.4677942497505051,
          1.2558162159647377,
          -0.3149934105775024,
          0.3672194688408298,
          -2.3065307475577677,
          -0.6732954546156035,
          1.3521271382546514,
          -0.18481351745424293,
          -0.8944438856872224,
          0.30256144019502035,
          -1.774058004598215
         ],
         "xaxis": "x5",
         "y": [
          -1.6690665071741209,
          -0.9484589845302493,
          -0.8161375694116357,
          0.6840786863502893,
          -2.2018317733312114,
          0.017536684463240967,
          1.2891016612183293,
          -1.804728629786003,
          0.3259795023528879,
          0.049809753323116025,
          -0.5586374064724668,
          0.29429666978152597,
          0.39061076983085435,
          0.8943681379041947,
          -0.552752183630096,
          -3.254423561116218,
          0.6019509133633993,
          -0.8259461083978703,
          1.710869136590222,
          -0.6615216430491391,
          -1.1578938475951246,
          -1.053495434073233,
          0.050146122300815554,
          0.5165620720663516,
          -0.48796706452958144,
          -0.4419290713862438,
          -0.7685738951120951,
          0.006761444700873407,
          -1.3503432760800622,
          0.86268829936173,
          -0.3601098281120075,
          1.5471265668795813,
          -0.7877036076046857,
          -0.11570378586982293,
          -0.38626518512976876,
          -1.6261076438084243,
          0.1552139671521332,
          -0.5535272578079041,
          -0.4630992019337326,
          -0.6139324026188785,
          1.39842534595313,
          0.025329165810796576,
          -1.80275260504035,
          0.2897836172364911,
          0.10549183348243746,
          -1.154884935652627,
          0.0900151454704177,
          -1.9925874148798286,
          0.1854025982354397,
          -1.6396389383040153,
          1.1334741520064942,
          -2.0443178533842548,
          -0.6515321439298384,
          0.21430215795085017,
          -2.2171803435270627,
          -0.10679315372693604,
          1.3358567958691514,
          -1.1979954208547445,
          0.748006345653784,
          -1.2771340270653806,
          0.24106633940119884,
          -0.17317250017492125,
          1.4708772807273518,
          -0.2382694937834363,
          -0.7276772174913667,
          0.3308764931989634,
          -1.0020418664013873,
          1.8115458705425924,
          0.524693389700117,
          1.0641059387955556,
          -0.5677562318557139,
          3.684053699497508,
          0.07477586077751451,
          1.16602333777211,
          -0.3644225537743912,
          -0.2561592131802757,
          0.8456431281725347,
          -0.41187096117433014,
          -0.8736896574049339,
          0.6679638026301171,
          1.1001823918068032,
          1.0535495494708962,
          -2.104565944240315,
          0.3720753582969174,
          -0.5010108088639956,
          -0.5245036613989332,
          -0.24392870922439877,
          -0.19658226865093806,
          0.6584933540744552,
          0.2871266386215244,
          1.0654171438176951,
          1.7258373286970015,
          2.107649563188196,
          1.6470948082198242,
          0.02453824662895236,
          -1.194105419184158,
          -1.214498105522763,
          1.8090870987912386,
          -0.3243706643776886,
          -1.0410093775593163
         ],
         "yaxis": "y5"
        },
        {
         "histfunc": "count",
         "histnorm": "",
         "marker": {
          "color": "rgba(55, 128, 191, 1.0)",
          "line": {
           "color": "#4D5663",
           "width": 1.3
          }
         },
         "name": "B",
         "nbinsx": 10,
         "opacity": 0.8,
         "orientation": "v",
         "type": "histogram",
         "x": [
          -1.6690665071741209,
          -0.9484589845302493,
          -0.8161375694116357,
          0.6840786863502893,
          -2.2018317733312114,
          0.017536684463240967,
          1.2891016612183293,
          -1.804728629786003,
          0.3259795023528879,
          0.049809753323116025,
          -0.5586374064724668,
          0.29429666978152597,
          0.39061076983085435,
          0.8943681379041947,
          -0.552752183630096,
          -3.254423561116218,
          0.6019509133633993,
          -0.8259461083978703,
          1.710869136590222,
          -0.6615216430491391,
          -1.1578938475951246,
          -1.053495434073233,
          0.050146122300815554,
          0.5165620720663516,
          -0.48796706452958144,
          -0.4419290713862438,
          -0.7685738951120951,
          0.006761444700873407,
          -1.3503432760800622,
          0.86268829936173,
          -0.3601098281120075,
          1.5471265668795813,
          -0.7877036076046857,
          -0.11570378586982293,
          -0.38626518512976876,
          -1.6261076438084243,
          0.1552139671521332,
          -0.5535272578079041,
          -0.4630992019337326,
          -0.6139324026188785,
          1.39842534595313,
          0.025329165810796576,
          -1.80275260504035,
          0.2897836172364911,
          0.10549183348243746,
          -1.154884935652627,
          0.0900151454704177,
          -1.9925874148798286,
          0.1854025982354397,
          -1.6396389383040153,
          1.1334741520064942,
          -2.0443178533842548,
          -0.6515321439298384,
          0.21430215795085017,
          -2.2171803435270627,
          -0.10679315372693604,
          1.3358567958691514,
          -1.1979954208547445,
          0.748006345653784,
          -1.2771340270653806,
          0.24106633940119884,
          -0.17317250017492125,
          1.4708772807273518,
          -0.2382694937834363,
          -0.7276772174913667,
          0.3308764931989634,
          -1.0020418664013873,
          1.8115458705425924,
          0.524693389700117,
          1.0641059387955556,
          -0.5677562318557139,
          3.684053699497508,
          0.07477586077751451,
          1.16602333777211,
          -0.3644225537743912,
          -0.2561592131802757,
          0.8456431281725347,
          -0.41187096117433014,
          -0.8736896574049339,
          0.6679638026301171,
          1.1001823918068032,
          1.0535495494708962,
          -2.104565944240315,
          0.3720753582969174,
          -0.5010108088639956,
          -0.5245036613989332,
          -0.24392870922439877,
          -0.19658226865093806,
          0.6584933540744552,
          0.2871266386215244,
          1.0654171438176951,
          1.7258373286970015,
          2.107649563188196,
          1.6470948082198242,
          0.02453824662895236,
          -1.194105419184158,
          -1.214498105522763,
          1.8090870987912386,
          -0.3243706643776886,
          -1.0410093775593163
         ],
         "xaxis": "x6",
         "yaxis": "y6"
        },
        {
         "line": {
          "color": "rgba(128, 128, 128, 1.0)",
          "dash": "solid",
          "shape": "linear",
          "width": 1.3
         },
         "marker": {
          "size": 2,
          "symbol": "circle"
         },
         "mode": "markers",
         "name": "B",
         "text": "",
         "type": "scatter",
         "x": [
          1.2497020135564443,
          -0.9316000796524302,
          -0.007557078183790653,
          0.4594372049529466,
          -0.6714989061973291,
          0.28377275797757057,
          0.34825899371820007,
          0.25429155553242627,
          0.5179819167995959,
          1.024247936646388,
          1.2752821551534776,
          -1.4349110925235573,
          0.42960979907731234,
          -0.0065907366554523086,
          2.0217422884557066,
          -0.093114659091693,
          -0.9518137597332781,
          -0.9636790193634064,
          -0.06122108403321417,
          0.658900584897198,
          0.03311330995050802,
          0.11283798818109615,
          0.2557261881204865,
          -1.9343893589294923,
          -1.4315757230520012,
          1.809055941249507,
          0.4038496434120006,
          0.12390997039431657,
          -0.6385960151728208,
          -0.5792557171833106,
          0.6604932205517213,
          -1.3021210807647674,
          -1.4678616658092518,
          0.3879357314950945,
          -0.13207453362427443,
          0.33180310031462557,
          -0.6038645039181272,
          1.5238624040446942,
          -0.2368111706774786,
          -0.36892612529652086,
          -0.42227062872289656,
          0.4275280571921868,
          0.19561703339876219,
          1.7557491814862947,
          -0.33418215698565384,
          -0.36898653868489917,
          -0.053909536663410196,
          0.3312054704487845,
          -0.0701819178820426,
          0.8815697464070676,
          0.44185838710279196,
          0.43611469097132877,
          -0.07031715164084198,
          -0.6002141992917431,
          0.7545525522727039,
          0.23617121490845747,
          -0.6517921025318381,
          1.1346408626972306,
          -0.2589585308852226,
          -1.8185043433377492,
          -1.0012962870856807,
          -0.8385822319296605,
          -0.9973550356500325,
          0.562107983148546,
          -2.2988266052358037,
          0.8771526431814153,
          -0.7413820928312768,
          0.44776314854753335,
          1.3350092408510306,
          0.1805096550206448,
          1.7522359953206381,
          0.12385054878704348,
          -2.015246573955783,
          0.6904494874421021,
          -0.6627547992477942,
          -0.6687596742023091,
          0.1479720149501183,
          1.0093777762142584,
          -0.37547704167061763,
          0.08831595650199713,
          0.7245285334977353,
          1.238110023684578,
          -0.22383069432704047,
          0.13115197951032936,
          -0.49201430904382065,
          -0.5613515858429395,
          -0.058603034270792005,
          -0.6516719515097118,
          0.8746302424267516,
          0.7531286992581482,
          -0.5154560262208938,
          -0.11003537235693457,
          1.6646485956567596,
          0.27425408939490015,
          -0.22243578618604876,
          -1.5527567417115955,
          0.8513567075629405,
          0.9122651218519495,
          0.5218503137083844,
          -0.7914445882844924
         ],
         "xaxis": "x7",
         "y": [
          -1.6690665071741209,
          -0.9484589845302493,
          -0.8161375694116357,
          0.6840786863502893,
          -2.2018317733312114,
          0.017536684463240967,
          1.2891016612183293,
          -1.804728629786003,
          0.3259795023528879,
          0.049809753323116025,
          -0.5586374064724668,
          0.29429666978152597,
          0.39061076983085435,
          0.8943681379041947,
          -0.552752183630096,
          -3.254423561116218,
          0.6019509133633993,
          -0.8259461083978703,
          1.710869136590222,
          -0.6615216430491391,
          -1.1578938475951246,
          -1.053495434073233,
          0.050146122300815554,
          0.5165620720663516,
          -0.48796706452958144,
          -0.4419290713862438,
          -0.7685738951120951,
          0.006761444700873407,
          -1.3503432760800622,
          0.86268829936173,
          -0.3601098281120075,
          1.5471265668795813,
          -0.7877036076046857,
          -0.11570378586982293,
          -0.38626518512976876,
          -1.6261076438084243,
          0.1552139671521332,
          -0.5535272578079041,
          -0.4630992019337326,
          -0.6139324026188785,
          1.39842534595313,
          0.025329165810796576,
          -1.80275260504035,
          0.2897836172364911,
          0.10549183348243746,
          -1.154884935652627,
          0.0900151454704177,
          -1.9925874148798286,
          0.1854025982354397,
          -1.6396389383040153,
          1.1334741520064942,
          -2.0443178533842548,
          -0.6515321439298384,
          0.21430215795085017,
          -2.2171803435270627,
          -0.10679315372693604,
          1.3358567958691514,
          -1.1979954208547445,
          0.748006345653784,
          -1.2771340270653806,
          0.24106633940119884,
          -0.17317250017492125,
          1.4708772807273518,
          -0.2382694937834363,
          -0.7276772174913667,
          0.3308764931989634,
          -1.0020418664013873,
          1.8115458705425924,
          0.524693389700117,
          1.0641059387955556,
          -0.5677562318557139,
          3.684053699497508,
          0.07477586077751451,
          1.16602333777211,
          -0.3644225537743912,
          -0.2561592131802757,
          0.8456431281725347,
          -0.41187096117433014,
          -0.8736896574049339,
          0.6679638026301171,
          1.1001823918068032,
          1.0535495494708962,
          -2.104565944240315,
          0.3720753582969174,
          -0.5010108088639956,
          -0.5245036613989332,
          -0.24392870922439877,
          -0.19658226865093806,
          0.6584933540744552,
          0.2871266386215244,
          1.0654171438176951,
          1.7258373286970015,
          2.107649563188196,
          1.6470948082198242,
          0.02453824662895236,
          -1.194105419184158,
          -1.214498105522763,
          1.8090870987912386,
          -0.3243706643776886,
          -1.0410093775593163
         ],
         "yaxis": "y7"
        },
        {
         "line": {
          "color": "rgba(128, 128, 128, 1.0)",
          "dash": "solid",
          "shape": "linear",
          "width": 1.3
         },
         "marker": {
          "size": 2,
          "symbol": "circle"
         },
         "mode": "markers",
         "name": "B",
         "text": "",
         "type": "scatter",
         "x": [
          -0.32041892387271975,
          -2.535781600276222,
          -0.04408546179644281,
          -2.3405844134684664,
          0.9279911450501884,
          0.4814943220898587,
          0.35579534383086114,
          -0.062251080946320966,
          0.3868777530800276,
          -0.49476679614220437,
          -0.8387863285243597,
          -1.4927513724298949,
          1.2485004032751141,
          -0.16209791744877255,
          -0.8870476807803657,
          -0.7158294517826341,
          2.02848488832112,
          1.0607859919277178,
          -0.21750756626159404,
          1.4990989009356968,
          0.051751008469180654,
          -1.0052906520292644,
          -1.426379303101054,
          1.2046813063680146,
          -0.3629493168282169,
          -1.2206654939832016,
          0.7211886077144074,
          0.551180030907174,
          0.7999843072857239,
          -0.4633938854086553,
          -1.1644528401192586,
          0.24090921103096416,
          0.8290872266015253,
          0.45311341554065987,
          -1.1361473409312766,
          0.19670201841562326,
          -0.7608891225045208,
          1.6184820886651028,
          0.23866783727270027,
          0.3194834434206449,
          -0.13264957566792493,
          -1.3622899960664197,
          -0.5059548359033674,
          -1.5207193243701072,
          0.0383896346451543,
          0.22471006863672247,
          -2.3395958213400996,
          0.9718642352457134,
          0.08752113595260505,
          0.056488911917380966,
          -1.7031511265948294,
          -0.6495058769759012,
          0.4751392576008469,
          0.22582576544344388,
          -0.8354357215301077,
          0.40884315986866976,
          -0.13166199452853417,
          0.38565091409043867,
          0.9177919580778401,
          -0.1265514366785135,
          0.7731541135723086,
          -0.6055012355430393,
          -0.17310095616672008,
          0.0028625553929229187,
          -1.6173154377703736,
          0.031842967913956875,
          0.6445113835435722,
          1.345475927676821,
          0.8513210651772364,
          -0.5699597579069349,
          -0.5081477435741466,
          2.385322514412292,
          0.6838956460562465,
          -1.7810248489204372,
          -0.6742963308502551,
          -0.22565106772893542,
          0.9012343551381534,
          0.3214222698746299,
          -1.0393295551338915,
          -1.1493685840378596,
          -0.8523772077209022,
          0.9627935646968878,
          0.7503042411149256,
          -1.093233562900274,
          0.6120289959054054,
          1.0288597010418579,
          -0.8840007860265477,
          -1.519595799053845,
          0.42338721210765096,
          1.3554741239003676,
          -1.2549553286941448,
          -0.5482133703134511,
          0.41457759610921063,
          0.4244946373209914,
          -0.9564993222470815,
          1.3348521387425258,
          -0.5195542890412702,
          -0.8003405815647018,
          1.5954509655452298,
          -0.20080081745316186
         ],
         "xaxis": "x8",
         "y": [
          -1.6690665071741209,
          -0.9484589845302493,
          -0.8161375694116357,
          0.6840786863502893,
          -2.2018317733312114,
          0.017536684463240967,
          1.2891016612183293,
          -1.804728629786003,
          0.3259795023528879,
          0.049809753323116025,
          -0.5586374064724668,
          0.29429666978152597,
          0.39061076983085435,
          0.8943681379041947,
          -0.552752183630096,
          -3.254423561116218,
          0.6019509133633993,
          -0.8259461083978703,
          1.710869136590222,
          -0.6615216430491391,
          -1.1578938475951246,
          -1.053495434073233,
          0.050146122300815554,
          0.5165620720663516,
          -0.48796706452958144,
          -0.4419290713862438,
          -0.7685738951120951,
          0.006761444700873407,
          -1.3503432760800622,
          0.86268829936173,
          -0.3601098281120075,
          1.5471265668795813,
          -0.7877036076046857,
          -0.11570378586982293,
          -0.38626518512976876,
          -1.6261076438084243,
          0.1552139671521332,
          -0.5535272578079041,
          -0.4630992019337326,
          -0.6139324026188785,
          1.39842534595313,
          0.025329165810796576,
          -1.80275260504035,
          0.2897836172364911,
          0.10549183348243746,
          -1.154884935652627,
          0.0900151454704177,
          -1.9925874148798286,
          0.1854025982354397,
          -1.6396389383040153,
          1.1334741520064942,
          -2.0443178533842548,
          -0.6515321439298384,
          0.21430215795085017,
          -2.2171803435270627,
          -0.10679315372693604,
          1.3358567958691514,
          -1.1979954208547445,
          0.748006345653784,
          -1.2771340270653806,
          0.24106633940119884,
          -0.17317250017492125,
          1.4708772807273518,
          -0.2382694937834363,
          -0.7276772174913667,
          0.3308764931989634,
          -1.0020418664013873,
          1.8115458705425924,
          0.524693389700117,
          1.0641059387955556,
          -0.5677562318557139,
          3.684053699497508,
          0.07477586077751451,
          1.16602333777211,
          -0.3644225537743912,
          -0.2561592131802757,
          0.8456431281725347,
          -0.41187096117433014,
          -0.8736896574049339,
          0.6679638026301171,
          1.1001823918068032,
          1.0535495494708962,
          -2.104565944240315,
          0.3720753582969174,
          -0.5010108088639956,
          -0.5245036613989332,
          -0.24392870922439877,
          -0.19658226865093806,
          0.6584933540744552,
          0.2871266386215244,
          1.0654171438176951,
          1.7258373286970015,
          2.107649563188196,
          1.6470948082198242,
          0.02453824662895236,
          -1.194105419184158,
          -1.214498105522763,
          1.8090870987912386,
          -0.3243706643776886,
          -1.0410093775593163
         ],
         "yaxis": "y8"
        },
        {
         "line": {
          "color": "rgba(128, 128, 128, 1.0)",
          "dash": "solid",
          "shape": "linear",
          "width": 1.3
         },
         "marker": {
          "size": 2,
          "symbol": "circle"
         },
         "mode": "markers",
         "name": "C",
         "text": "",
         "type": "scatter",
         "x": [
          -0.8460237271253019,
          0.6850443896998784,
          0.013609065845515527,
          -0.4988132770316513,
          -0.5026795682975888,
          -2.1648319958850464,
          -1.154552707782905,
          0.4645360254620899,
          1.3740964676790737,
          -2.242787929269608,
          0.912469992443577,
          0.9719058990913453,
          -1.4485752232730136,
          -1.4856817403879254,
          -1.7707609389688101,
          -1.544708909569676,
          -0.845047053954906,
          1.5718728962014008,
          1.7407180132610471,
          2.146932204884541,
          1.185958873022132,
          0.2630462182169065,
          -0.751468859481539,
          0.12184899133054408,
          0.21414513681628883,
          0.9417985234694084,
          1.2425311236379861,
          -0.7377121463314611,
          -2.1358685937035027,
          -0.01613866776884078,
          -1.224414063134968,
          -0.43117966330931345,
          0.4474472858747312,
          0.36962982018769797,
          0.847196324617692,
          1.880012748500143,
          1.1045060967752076,
          0.4633019355132985,
          -1.464979842190436,
          1.4075418941380369,
          -0.015380220180128674,
          1.5729576249594048,
          0.035613201302045094,
          -2.1191326657010925,
          0.4674612766990198,
          1.5672725306048771,
          0.32374701394053695,
          -0.07586660607563349,
          -0.28766130688384633,
          0.8484426019712326,
          0.12285878967475791,
          0.10747331366298463,
          -0.014364068259369946,
          0.04745854722618259,
          0.08562776472368197,
          -1.2389066249610874,
          -0.6995068508645815,
          -0.7972095540515397,
          1.2007857778924123,
          -0.09290640667433647,
          -0.2934859290199042,
          -0.07763488078361577,
          0.6157033452195625,
          0.10784793323471127,
          -0.5688943346294603,
          0.3980559147795507,
          0.5661577662311075,
          -2.195580683945319,
          0.8997439452375172,
          0.6116820569345487,
          0.898185107218264,
          -3.16636935240398,
          0.5157190077667173,
          1.7027542662620736,
          -1.8334998040533916,
          1.5191373232065937,
          -0.17460849019525584,
          1.131963144127607,
          0.3568780584530282,
          0.9102545259831278,
          0.13445560873806117,
          0.40655314317655816,
          1.0152337299856296,
          1.4398556923049288,
          -0.18648795002338767,
          0.4306655374413637,
          0.09626036855680789,
          1.5076321511661732,
          -0.8426903877075556,
          -0.4677942497505051,
          1.2558162159647377,
          -0.3149934105775024,
          0.3672194688408298,
          -2.3065307475577677,
          -0.6732954546156035,
          1.3521271382546514,
          -0.18481351745424293,
          -0.8944438856872224,
          0.30256144019502035,
          -1.774058004598215
         ],
         "xaxis": "x9",
         "y": [
          1.2497020135564443,
          -0.9316000796524302,
          -0.007557078183790653,
          0.4594372049529466,
          -0.6714989061973291,
          0.28377275797757057,
          0.34825899371820007,
          0.25429155553242627,
          0.5179819167995959,
          1.024247936646388,
          1.2752821551534776,
          -1.4349110925235573,
          0.42960979907731234,
          -0.0065907366554523086,
          2.0217422884557066,
          -0.093114659091693,
          -0.9518137597332781,
          -0.9636790193634064,
          -0.06122108403321417,
          0.658900584897198,
          0.03311330995050802,
          0.11283798818109615,
          0.2557261881204865,
          -1.9343893589294923,
          -1.4315757230520012,
          1.809055941249507,
          0.4038496434120006,
          0.12390997039431657,
          -0.6385960151728208,
          -0.5792557171833106,
          0.6604932205517213,
          -1.3021210807647674,
          -1.4678616658092518,
          0.3879357314950945,
          -0.13207453362427443,
          0.33180310031462557,
          -0.6038645039181272,
          1.5238624040446942,
          -0.2368111706774786,
          -0.36892612529652086,
          -0.42227062872289656,
          0.4275280571921868,
          0.19561703339876219,
          1.7557491814862947,
          -0.33418215698565384,
          -0.36898653868489917,
          -0.053909536663410196,
          0.3312054704487845,
          -0.0701819178820426,
          0.8815697464070676,
          0.44185838710279196,
          0.43611469097132877,
          -0.07031715164084198,
          -0.6002141992917431,
          0.7545525522727039,
          0.23617121490845747,
          -0.6517921025318381,
          1.1346408626972306,
          -0.2589585308852226,
          -1.8185043433377492,
          -1.0012962870856807,
          -0.8385822319296605,
          -0.9973550356500325,
          0.562107983148546,
          -2.2988266052358037,
          0.8771526431814153,
          -0.7413820928312768,
          0.44776314854753335,
          1.3350092408510306,
          0.1805096550206448,
          1.7522359953206381,
          0.12385054878704348,
          -2.015246573955783,
          0.6904494874421021,
          -0.6627547992477942,
          -0.6687596742023091,
          0.1479720149501183,
          1.0093777762142584,
          -0.37547704167061763,
          0.08831595650199713,
          0.7245285334977353,
          1.238110023684578,
          -0.22383069432704047,
          0.13115197951032936,
          -0.49201430904382065,
          -0.5613515858429395,
          -0.058603034270792005,
          -0.6516719515097118,
          0.8746302424267516,
          0.7531286992581482,
          -0.5154560262208938,
          -0.11003537235693457,
          1.6646485956567596,
          0.27425408939490015,
          -0.22243578618604876,
          -1.5527567417115955,
          0.8513567075629405,
          0.9122651218519495,
          0.5218503137083844,
          -0.7914445882844924
         ],
         "yaxis": "y9"
        },
        {
         "line": {
          "color": "rgba(128, 128, 128, 1.0)",
          "dash": "solid",
          "shape": "linear",
          "width": 1.3
         },
         "marker": {
          "size": 2,
          "symbol": "circle"
         },
         "mode": "markers",
         "name": "C",
         "text": "",
         "type": "scatter",
         "x": [
          -1.6690665071741209,
          -0.9484589845302493,
          -0.8161375694116357,
          0.6840786863502893,
          -2.2018317733312114,
          0.017536684463240967,
          1.2891016612183293,
          -1.804728629786003,
          0.3259795023528879,
          0.049809753323116025,
          -0.5586374064724668,
          0.29429666978152597,
          0.39061076983085435,
          0.8943681379041947,
          -0.552752183630096,
          -3.254423561116218,
          0.6019509133633993,
          -0.8259461083978703,
          1.710869136590222,
          -0.6615216430491391,
          -1.1578938475951246,
          -1.053495434073233,
          0.050146122300815554,
          0.5165620720663516,
          -0.48796706452958144,
          -0.4419290713862438,
          -0.7685738951120951,
          0.006761444700873407,
          -1.3503432760800622,
          0.86268829936173,
          -0.3601098281120075,
          1.5471265668795813,
          -0.7877036076046857,
          -0.11570378586982293,
          -0.38626518512976876,
          -1.6261076438084243,
          0.1552139671521332,
          -0.5535272578079041,
          -0.4630992019337326,
          -0.6139324026188785,
          1.39842534595313,
          0.025329165810796576,
          -1.80275260504035,
          0.2897836172364911,
          0.10549183348243746,
          -1.154884935652627,
          0.0900151454704177,
          -1.9925874148798286,
          0.1854025982354397,
          -1.6396389383040153,
          1.1334741520064942,
          -2.0443178533842548,
          -0.6515321439298384,
          0.21430215795085017,
          -2.2171803435270627,
          -0.10679315372693604,
          1.3358567958691514,
          -1.1979954208547445,
          0.748006345653784,
          -1.2771340270653806,
          0.24106633940119884,
          -0.17317250017492125,
          1.4708772807273518,
          -0.2382694937834363,
          -0.7276772174913667,
          0.3308764931989634,
          -1.0020418664013873,
          1.8115458705425924,
          0.524693389700117,
          1.0641059387955556,
          -0.5677562318557139,
          3.684053699497508,
          0.07477586077751451,
          1.16602333777211,
          -0.3644225537743912,
          -0.2561592131802757,
          0.8456431281725347,
          -0.41187096117433014,
          -0.8736896574049339,
          0.6679638026301171,
          1.1001823918068032,
          1.0535495494708962,
          -2.104565944240315,
          0.3720753582969174,
          -0.5010108088639956,
          -0.5245036613989332,
          -0.24392870922439877,
          -0.19658226865093806,
          0.6584933540744552,
          0.2871266386215244,
          1.0654171438176951,
          1.7258373286970015,
          2.107649563188196,
          1.6470948082198242,
          0.02453824662895236,
          -1.194105419184158,
          -1.214498105522763,
          1.8090870987912386,
          -0.3243706643776886,
          -1.0410093775593163
         ],
         "xaxis": "x10",
         "y": [
          1.2497020135564443,
          -0.9316000796524302,
          -0.007557078183790653,
          0.4594372049529466,
          -0.6714989061973291,
          0.28377275797757057,
          0.34825899371820007,
          0.25429155553242627,
          0.5179819167995959,
          1.024247936646388,
          1.2752821551534776,
          -1.4349110925235573,
          0.42960979907731234,
          -0.0065907366554523086,
          2.0217422884557066,
          -0.093114659091693,
          -0.9518137597332781,
          -0.9636790193634064,
          -0.06122108403321417,
          0.658900584897198,
          0.03311330995050802,
          0.11283798818109615,
          0.2557261881204865,
          -1.9343893589294923,
          -1.4315757230520012,
          1.809055941249507,
          0.4038496434120006,
          0.12390997039431657,
          -0.6385960151728208,
          -0.5792557171833106,
          0.6604932205517213,
          -1.3021210807647674,
          -1.4678616658092518,
          0.3879357314950945,
          -0.13207453362427443,
          0.33180310031462557,
          -0.6038645039181272,
          1.5238624040446942,
          -0.2368111706774786,
          -0.36892612529652086,
          -0.42227062872289656,
          0.4275280571921868,
          0.19561703339876219,
          1.7557491814862947,
          -0.33418215698565384,
          -0.36898653868489917,
          -0.053909536663410196,
          0.3312054704487845,
          -0.0701819178820426,
          0.8815697464070676,
          0.44185838710279196,
          0.43611469097132877,
          -0.07031715164084198,
          -0.6002141992917431,
          0.7545525522727039,
          0.23617121490845747,
          -0.6517921025318381,
          1.1346408626972306,
          -0.2589585308852226,
          -1.8185043433377492,
          -1.0012962870856807,
          -0.8385822319296605,
          -0.9973550356500325,
          0.562107983148546,
          -2.2988266052358037,
          0.8771526431814153,
          -0.7413820928312768,
          0.44776314854753335,
          1.3350092408510306,
          0.1805096550206448,
          1.7522359953206381,
          0.12385054878704348,
          -2.015246573955783,
          0.6904494874421021,
          -0.6627547992477942,
          -0.6687596742023091,
          0.1479720149501183,
          1.0093777762142584,
          -0.37547704167061763,
          0.08831595650199713,
          0.7245285334977353,
          1.238110023684578,
          -0.22383069432704047,
          0.13115197951032936,
          -0.49201430904382065,
          -0.5613515858429395,
          -0.058603034270792005,
          -0.6516719515097118,
          0.8746302424267516,
          0.7531286992581482,
          -0.5154560262208938,
          -0.11003537235693457,
          1.6646485956567596,
          0.27425408939490015,
          -0.22243578618604876,
          -1.5527567417115955,
          0.8513567075629405,
          0.9122651218519495,
          0.5218503137083844,
          -0.7914445882844924
         ],
         "yaxis": "y10"
        },
        {
         "histfunc": "count",
         "histnorm": "",
         "marker": {
          "color": "rgba(50, 171, 96, 1.0)",
          "line": {
           "color": "#4D5663",
           "width": 1.3
          }
         },
         "name": "C",
         "nbinsx": 10,
         "opacity": 0.8,
         "orientation": "v",
         "type": "histogram",
         "x": [
          1.2497020135564443,
          -0.9316000796524302,
          -0.007557078183790653,
          0.4594372049529466,
          -0.6714989061973291,
          0.28377275797757057,
          0.34825899371820007,
          0.25429155553242627,
          0.5179819167995959,
          1.024247936646388,
          1.2752821551534776,
          -1.4349110925235573,
          0.42960979907731234,
          -0.0065907366554523086,
          2.0217422884557066,
          -0.093114659091693,
          -0.9518137597332781,
          -0.9636790193634064,
          -0.06122108403321417,
          0.658900584897198,
          0.03311330995050802,
          0.11283798818109615,
          0.2557261881204865,
          -1.9343893589294923,
          -1.4315757230520012,
          1.809055941249507,
          0.4038496434120006,
          0.12390997039431657,
          -0.6385960151728208,
          -0.5792557171833106,
          0.6604932205517213,
          -1.3021210807647674,
          -1.4678616658092518,
          0.3879357314950945,
          -0.13207453362427443,
          0.33180310031462557,
          -0.6038645039181272,
          1.5238624040446942,
          -0.2368111706774786,
          -0.36892612529652086,
          -0.42227062872289656,
          0.4275280571921868,
          0.19561703339876219,
          1.7557491814862947,
          -0.33418215698565384,
          -0.36898653868489917,
          -0.053909536663410196,
          0.3312054704487845,
          -0.0701819178820426,
          0.8815697464070676,
          0.44185838710279196,
          0.43611469097132877,
          -0.07031715164084198,
          -0.6002141992917431,
          0.7545525522727039,
          0.23617121490845747,
          -0.6517921025318381,
          1.1346408626972306,
          -0.2589585308852226,
          -1.8185043433377492,
          -1.0012962870856807,
          -0.8385822319296605,
          -0.9973550356500325,
          0.562107983148546,
          -2.2988266052358037,
          0.8771526431814153,
          -0.7413820928312768,
          0.44776314854753335,
          1.3350092408510306,
          0.1805096550206448,
          1.7522359953206381,
          0.12385054878704348,
          -2.015246573955783,
          0.6904494874421021,
          -0.6627547992477942,
          -0.6687596742023091,
          0.1479720149501183,
          1.0093777762142584,
          -0.37547704167061763,
          0.08831595650199713,
          0.7245285334977353,
          1.238110023684578,
          -0.22383069432704047,
          0.13115197951032936,
          -0.49201430904382065,
          -0.5613515858429395,
          -0.058603034270792005,
          -0.6516719515097118,
          0.8746302424267516,
          0.7531286992581482,
          -0.5154560262208938,
          -0.11003537235693457,
          1.6646485956567596,
          0.27425408939490015,
          -0.22243578618604876,
          -1.5527567417115955,
          0.8513567075629405,
          0.9122651218519495,
          0.5218503137083844,
          -0.7914445882844924
         ],
         "xaxis": "x11",
         "yaxis": "y11"
        },
        {
         "line": {
          "color": "rgba(128, 128, 128, 1.0)",
          "dash": "solid",
          "shape": "linear",
          "width": 1.3
         },
         "marker": {
          "size": 2,
          "symbol": "circle"
         },
         "mode": "markers",
         "name": "C",
         "text": "",
         "type": "scatter",
         "x": [
          -0.32041892387271975,
          -2.535781600276222,
          -0.04408546179644281,
          -2.3405844134684664,
          0.9279911450501884,
          0.4814943220898587,
          0.35579534383086114,
          -0.062251080946320966,
          0.3868777530800276,
          -0.49476679614220437,
          -0.8387863285243597,
          -1.4927513724298949,
          1.2485004032751141,
          -0.16209791744877255,
          -0.8870476807803657,
          -0.7158294517826341,
          2.02848488832112,
          1.0607859919277178,
          -0.21750756626159404,
          1.4990989009356968,
          0.051751008469180654,
          -1.0052906520292644,
          -1.426379303101054,
          1.2046813063680146,
          -0.3629493168282169,
          -1.2206654939832016,
          0.7211886077144074,
          0.551180030907174,
          0.7999843072857239,
          -0.4633938854086553,
          -1.1644528401192586,
          0.24090921103096416,
          0.8290872266015253,
          0.45311341554065987,
          -1.1361473409312766,
          0.19670201841562326,
          -0.7608891225045208,
          1.6184820886651028,
          0.23866783727270027,
          0.3194834434206449,
          -0.13264957566792493,
          -1.3622899960664197,
          -0.5059548359033674,
          -1.5207193243701072,
          0.0383896346451543,
          0.22471006863672247,
          -2.3395958213400996,
          0.9718642352457134,
          0.08752113595260505,
          0.056488911917380966,
          -1.7031511265948294,
          -0.6495058769759012,
          0.4751392576008469,
          0.22582576544344388,
          -0.8354357215301077,
          0.40884315986866976,
          -0.13166199452853417,
          0.38565091409043867,
          0.9177919580778401,
          -0.1265514366785135,
          0.7731541135723086,
          -0.6055012355430393,
          -0.17310095616672008,
          0.0028625553929229187,
          -1.6173154377703736,
          0.031842967913956875,
          0.6445113835435722,
          1.345475927676821,
          0.8513210651772364,
          -0.5699597579069349,
          -0.5081477435741466,
          2.385322514412292,
          0.6838956460562465,
          -1.7810248489204372,
          -0.6742963308502551,
          -0.22565106772893542,
          0.9012343551381534,
          0.3214222698746299,
          -1.0393295551338915,
          -1.1493685840378596,
          -0.8523772077209022,
          0.9627935646968878,
          0.7503042411149256,
          -1.093233562900274,
          0.6120289959054054,
          1.0288597010418579,
          -0.8840007860265477,
          -1.519595799053845,
          0.42338721210765096,
          1.3554741239003676,
          -1.2549553286941448,
          -0.5482133703134511,
          0.41457759610921063,
          0.4244946373209914,
          -0.9564993222470815,
          1.3348521387425258,
          -0.5195542890412702,
          -0.8003405815647018,
          1.5954509655452298,
          -0.20080081745316186
         ],
         "xaxis": "x12",
         "y": [
          1.2497020135564443,
          -0.9316000796524302,
          -0.007557078183790653,
          0.4594372049529466,
          -0.6714989061973291,
          0.28377275797757057,
          0.34825899371820007,
          0.25429155553242627,
          0.5179819167995959,
          1.024247936646388,
          1.2752821551534776,
          -1.4349110925235573,
          0.42960979907731234,
          -0.0065907366554523086,
          2.0217422884557066,
          -0.093114659091693,
          -0.9518137597332781,
          -0.9636790193634064,
          -0.06122108403321417,
          0.658900584897198,
          0.03311330995050802,
          0.11283798818109615,
          0.2557261881204865,
          -1.9343893589294923,
          -1.4315757230520012,
          1.809055941249507,
          0.4038496434120006,
          0.12390997039431657,
          -0.6385960151728208,
          -0.5792557171833106,
          0.6604932205517213,
          -1.3021210807647674,
          -1.4678616658092518,
          0.3879357314950945,
          -0.13207453362427443,
          0.33180310031462557,
          -0.6038645039181272,
          1.5238624040446942,
          -0.2368111706774786,
          -0.36892612529652086,
          -0.42227062872289656,
          0.4275280571921868,
          0.19561703339876219,
          1.7557491814862947,
          -0.33418215698565384,
          -0.36898653868489917,
          -0.053909536663410196,
          0.3312054704487845,
          -0.0701819178820426,
          0.8815697464070676,
          0.44185838710279196,
          0.43611469097132877,
          -0.07031715164084198,
          -0.6002141992917431,
          0.7545525522727039,
          0.23617121490845747,
          -0.6517921025318381,
          1.1346408626972306,
          -0.2589585308852226,
          -1.8185043433377492,
          -1.0012962870856807,
          -0.8385822319296605,
          -0.9973550356500325,
          0.562107983148546,
          -2.2988266052358037,
          0.8771526431814153,
          -0.7413820928312768,
          0.44776314854753335,
          1.3350092408510306,
          0.1805096550206448,
          1.7522359953206381,
          0.12385054878704348,
          -2.015246573955783,
          0.6904494874421021,
          -0.6627547992477942,
          -0.6687596742023091,
          0.1479720149501183,
          1.0093777762142584,
          -0.37547704167061763,
          0.08831595650199713,
          0.7245285334977353,
          1.238110023684578,
          -0.22383069432704047,
          0.13115197951032936,
          -0.49201430904382065,
          -0.5613515858429395,
          -0.058603034270792005,
          -0.6516719515097118,
          0.8746302424267516,
          0.7531286992581482,
          -0.5154560262208938,
          -0.11003537235693457,
          1.6646485956567596,
          0.27425408939490015,
          -0.22243578618604876,
          -1.5527567417115955,
          0.8513567075629405,
          0.9122651218519495,
          0.5218503137083844,
          -0.7914445882844924
         ],
         "yaxis": "y12"
        },
        {
         "line": {
          "color": "rgba(128, 128, 128, 1.0)",
          "dash": "solid",
          "shape": "linear",
          "width": 1.3
         },
         "marker": {
          "size": 2,
          "symbol": "circle"
         },
         "mode": "markers",
         "name": "D",
         "text": "",
         "type": "scatter",
         "x": [
          -0.8460237271253019,
          0.6850443896998784,
          0.013609065845515527,
          -0.4988132770316513,
          -0.5026795682975888,
          -2.1648319958850464,
          -1.154552707782905,
          0.4645360254620899,
          1.3740964676790737,
          -2.242787929269608,
          0.912469992443577,
          0.9719058990913453,
          -1.4485752232730136,
          -1.4856817403879254,
          -1.7707609389688101,
          -1.544708909569676,
          -0.845047053954906,
          1.5718728962014008,
          1.7407180132610471,
          2.146932204884541,
          1.185958873022132,
          0.2630462182169065,
          -0.751468859481539,
          0.12184899133054408,
          0.21414513681628883,
          0.9417985234694084,
          1.2425311236379861,
          -0.7377121463314611,
          -2.1358685937035027,
          -0.01613866776884078,
          -1.224414063134968,
          -0.43117966330931345,
          0.4474472858747312,
          0.36962982018769797,
          0.847196324617692,
          1.880012748500143,
          1.1045060967752076,
          0.4633019355132985,
          -1.464979842190436,
          1.4075418941380369,
          -0.015380220180128674,
          1.5729576249594048,
          0.035613201302045094,
          -2.1191326657010925,
          0.4674612766990198,
          1.5672725306048771,
          0.32374701394053695,
          -0.07586660607563349,
          -0.28766130688384633,
          0.8484426019712326,
          0.12285878967475791,
          0.10747331366298463,
          -0.014364068259369946,
          0.04745854722618259,
          0.08562776472368197,
          -1.2389066249610874,
          -0.6995068508645815,
          -0.7972095540515397,
          1.2007857778924123,
          -0.09290640667433647,
          -0.2934859290199042,
          -0.07763488078361577,
          0.6157033452195625,
          0.10784793323471127,
          -0.5688943346294603,
          0.3980559147795507,
          0.5661577662311075,
          -2.195580683945319,
          0.8997439452375172,
          0.6116820569345487,
          0.898185107218264,
          -3.16636935240398,
          0.5157190077667173,
          1.7027542662620736,
          -1.8334998040533916,
          1.5191373232065937,
          -0.17460849019525584,
          1.131963144127607,
          0.3568780584530282,
          0.9102545259831278,
          0.13445560873806117,
          0.40655314317655816,
          1.0152337299856296,
          1.4398556923049288,
          -0.18648795002338767,
          0.4306655374413637,
          0.09626036855680789,
          1.5076321511661732,
          -0.8426903877075556,
          -0.4677942497505051,
          1.2558162159647377,
          -0.3149934105775024,
          0.3672194688408298,
          -2.3065307475577677,
          -0.6732954546156035,
          1.3521271382546514,
          -0.18481351745424293,
          -0.8944438856872224,
          0.30256144019502035,
          -1.774058004598215
         ],
         "xaxis": "x13",
         "y": [
          -0.32041892387271975,
          -2.535781600276222,
          -0.04408546179644281,
          -2.3405844134684664,
          0.9279911450501884,
          0.4814943220898587,
          0.35579534383086114,
          -0.062251080946320966,
          0.3868777530800276,
          -0.49476679614220437,
          -0.8387863285243597,
          -1.4927513724298949,
          1.2485004032751141,
          -0.16209791744877255,
          -0.8870476807803657,
          -0.7158294517826341,
          2.02848488832112,
          1.0607859919277178,
          -0.21750756626159404,
          1.4990989009356968,
          0.051751008469180654,
          -1.0052906520292644,
          -1.426379303101054,
          1.2046813063680146,
          -0.3629493168282169,
          -1.2206654939832016,
          0.7211886077144074,
          0.551180030907174,
          0.7999843072857239,
          -0.4633938854086553,
          -1.1644528401192586,
          0.24090921103096416,
          0.8290872266015253,
          0.45311341554065987,
          -1.1361473409312766,
          0.19670201841562326,
          -0.7608891225045208,
          1.6184820886651028,
          0.23866783727270027,
          0.3194834434206449,
          -0.13264957566792493,
          -1.3622899960664197,
          -0.5059548359033674,
          -1.5207193243701072,
          0.0383896346451543,
          0.22471006863672247,
          -2.3395958213400996,
          0.9718642352457134,
          0.08752113595260505,
          0.056488911917380966,
          -1.7031511265948294,
          -0.6495058769759012,
          0.4751392576008469,
          0.22582576544344388,
          -0.8354357215301077,
          0.40884315986866976,
          -0.13166199452853417,
          0.38565091409043867,
          0.9177919580778401,
          -0.1265514366785135,
          0.7731541135723086,
          -0.6055012355430393,
          -0.17310095616672008,
          0.0028625553929229187,
          -1.6173154377703736,
          0.031842967913956875,
          0.6445113835435722,
          1.345475927676821,
          0.8513210651772364,
          -0.5699597579069349,
          -0.5081477435741466,
          2.385322514412292,
          0.6838956460562465,
          -1.7810248489204372,
          -0.6742963308502551,
          -0.22565106772893542,
          0.9012343551381534,
          0.3214222698746299,
          -1.0393295551338915,
          -1.1493685840378596,
          -0.8523772077209022,
          0.9627935646968878,
          0.7503042411149256,
          -1.093233562900274,
          0.6120289959054054,
          1.0288597010418579,
          -0.8840007860265477,
          -1.519595799053845,
          0.42338721210765096,
          1.3554741239003676,
          -1.2549553286941448,
          -0.5482133703134511,
          0.41457759610921063,
          0.4244946373209914,
          -0.9564993222470815,
          1.3348521387425258,
          -0.5195542890412702,
          -0.8003405815647018,
          1.5954509655452298,
          -0.20080081745316186
         ],
         "yaxis": "y13"
        },
        {
         "line": {
          "color": "rgba(128, 128, 128, 1.0)",
          "dash": "solid",
          "shape": "linear",
          "width": 1.3
         },
         "marker": {
          "size": 2,
          "symbol": "circle"
         },
         "mode": "markers",
         "name": "D",
         "text": "",
         "type": "scatter",
         "x": [
          -1.6690665071741209,
          -0.9484589845302493,
          -0.8161375694116357,
          0.6840786863502893,
          -2.2018317733312114,
          0.017536684463240967,
          1.2891016612183293,
          -1.804728629786003,
          0.3259795023528879,
          0.049809753323116025,
          -0.5586374064724668,
          0.29429666978152597,
          0.39061076983085435,
          0.8943681379041947,
          -0.552752183630096,
          -3.254423561116218,
          0.6019509133633993,
          -0.8259461083978703,
          1.710869136590222,
          -0.6615216430491391,
          -1.1578938475951246,
          -1.053495434073233,
          0.050146122300815554,
          0.5165620720663516,
          -0.48796706452958144,
          -0.4419290713862438,
          -0.7685738951120951,
          0.006761444700873407,
          -1.3503432760800622,
          0.86268829936173,
          -0.3601098281120075,
          1.5471265668795813,
          -0.7877036076046857,
          -0.11570378586982293,
          -0.38626518512976876,
          -1.6261076438084243,
          0.1552139671521332,
          -0.5535272578079041,
          -0.4630992019337326,
          -0.6139324026188785,
          1.39842534595313,
          0.025329165810796576,
          -1.80275260504035,
          0.2897836172364911,
          0.10549183348243746,
          -1.154884935652627,
          0.0900151454704177,
          -1.9925874148798286,
          0.1854025982354397,
          -1.6396389383040153,
          1.1334741520064942,
          -2.0443178533842548,
          -0.6515321439298384,
          0.21430215795085017,
          -2.2171803435270627,
          -0.10679315372693604,
          1.3358567958691514,
          -1.1979954208547445,
          0.748006345653784,
          -1.2771340270653806,
          0.24106633940119884,
          -0.17317250017492125,
          1.4708772807273518,
          -0.2382694937834363,
          -0.7276772174913667,
          0.3308764931989634,
          -1.0020418664013873,
          1.8115458705425924,
          0.524693389700117,
          1.0641059387955556,
          -0.5677562318557139,
          3.684053699497508,
          0.07477586077751451,
          1.16602333777211,
          -0.3644225537743912,
          -0.2561592131802757,
          0.8456431281725347,
          -0.41187096117433014,
          -0.8736896574049339,
          0.6679638026301171,
          1.1001823918068032,
          1.0535495494708962,
          -2.104565944240315,
          0.3720753582969174,
          -0.5010108088639956,
          -0.5245036613989332,
          -0.24392870922439877,
          -0.19658226865093806,
          0.6584933540744552,
          0.2871266386215244,
          1.0654171438176951,
          1.7258373286970015,
          2.107649563188196,
          1.6470948082198242,
          0.02453824662895236,
          -1.194105419184158,
          -1.214498105522763,
          1.8090870987912386,
          -0.3243706643776886,
          -1.0410093775593163
         ],
         "xaxis": "x14",
         "y": [
          -0.32041892387271975,
          -2.535781600276222,
          -0.04408546179644281,
          -2.3405844134684664,
          0.9279911450501884,
          0.4814943220898587,
          0.35579534383086114,
          -0.062251080946320966,
          0.3868777530800276,
          -0.49476679614220437,
          -0.8387863285243597,
          -1.4927513724298949,
          1.2485004032751141,
          -0.16209791744877255,
          -0.8870476807803657,
          -0.7158294517826341,
          2.02848488832112,
          1.0607859919277178,
          -0.21750756626159404,
          1.4990989009356968,
          0.051751008469180654,
          -1.0052906520292644,
          -1.426379303101054,
          1.2046813063680146,
          -0.3629493168282169,
          -1.2206654939832016,
          0.7211886077144074,
          0.551180030907174,
          0.7999843072857239,
          -0.4633938854086553,
          -1.1644528401192586,
          0.24090921103096416,
          0.8290872266015253,
          0.45311341554065987,
          -1.1361473409312766,
          0.19670201841562326,
          -0.7608891225045208,
          1.6184820886651028,
          0.23866783727270027,
          0.3194834434206449,
          -0.13264957566792493,
          -1.3622899960664197,
          -0.5059548359033674,
          -1.5207193243701072,
          0.0383896346451543,
          0.22471006863672247,
          -2.3395958213400996,
          0.9718642352457134,
          0.08752113595260505,
          0.056488911917380966,
          -1.7031511265948294,
          -0.6495058769759012,
          0.4751392576008469,
          0.22582576544344388,
          -0.8354357215301077,
          0.40884315986866976,
          -0.13166199452853417,
          0.38565091409043867,
          0.9177919580778401,
          -0.1265514366785135,
          0.7731541135723086,
          -0.6055012355430393,
          -0.17310095616672008,
          0.0028625553929229187,
          -1.6173154377703736,
          0.031842967913956875,
          0.6445113835435722,
          1.345475927676821,
          0.8513210651772364,
          -0.5699597579069349,
          -0.5081477435741466,
          2.385322514412292,
          0.6838956460562465,
          -1.7810248489204372,
          -0.6742963308502551,
          -0.22565106772893542,
          0.9012343551381534,
          0.3214222698746299,
          -1.0393295551338915,
          -1.1493685840378596,
          -0.8523772077209022,
          0.9627935646968878,
          0.7503042411149256,
          -1.093233562900274,
          0.6120289959054054,
          1.0288597010418579,
          -0.8840007860265477,
          -1.519595799053845,
          0.42338721210765096,
          1.3554741239003676,
          -1.2549553286941448,
          -0.5482133703134511,
          0.41457759610921063,
          0.4244946373209914,
          -0.9564993222470815,
          1.3348521387425258,
          -0.5195542890412702,
          -0.8003405815647018,
          1.5954509655452298,
          -0.20080081745316186
         ],
         "yaxis": "y14"
        },
        {
         "line": {
          "color": "rgba(128, 128, 128, 1.0)",
          "dash": "solid",
          "shape": "linear",
          "width": 1.3
         },
         "marker": {
          "size": 2,
          "symbol": "circle"
         },
         "mode": "markers",
         "name": "D",
         "text": "",
         "type": "scatter",
         "x": [
          1.2497020135564443,
          -0.9316000796524302,
          -0.007557078183790653,
          0.4594372049529466,
          -0.6714989061973291,
          0.28377275797757057,
          0.34825899371820007,
          0.25429155553242627,
          0.5179819167995959,
          1.024247936646388,
          1.2752821551534776,
          -1.4349110925235573,
          0.42960979907731234,
          -0.0065907366554523086,
          2.0217422884557066,
          -0.093114659091693,
          -0.9518137597332781,
          -0.9636790193634064,
          -0.06122108403321417,
          0.658900584897198,
          0.03311330995050802,
          0.11283798818109615,
          0.2557261881204865,
          -1.9343893589294923,
          -1.4315757230520012,
          1.809055941249507,
          0.4038496434120006,
          0.12390997039431657,
          -0.6385960151728208,
          -0.5792557171833106,
          0.6604932205517213,
          -1.3021210807647674,
          -1.4678616658092518,
          0.3879357314950945,
          -0.13207453362427443,
          0.33180310031462557,
          -0.6038645039181272,
          1.5238624040446942,
          -0.2368111706774786,
          -0.36892612529652086,
          -0.42227062872289656,
          0.4275280571921868,
          0.19561703339876219,
          1.7557491814862947,
          -0.33418215698565384,
          -0.36898653868489917,
          -0.053909536663410196,
          0.3312054704487845,
          -0.0701819178820426,
          0.8815697464070676,
          0.44185838710279196,
          0.43611469097132877,
          -0.07031715164084198,
          -0.6002141992917431,
          0.7545525522727039,
          0.23617121490845747,
          -0.6517921025318381,
          1.1346408626972306,
          -0.2589585308852226,
          -1.8185043433377492,
          -1.0012962870856807,
          -0.8385822319296605,
          -0.9973550356500325,
          0.562107983148546,
          -2.2988266052358037,
          0.8771526431814153,
          -0.7413820928312768,
          0.44776314854753335,
          1.3350092408510306,
          0.1805096550206448,
          1.7522359953206381,
          0.12385054878704348,
          -2.015246573955783,
          0.6904494874421021,
          -0.6627547992477942,
          -0.6687596742023091,
          0.1479720149501183,
          1.0093777762142584,
          -0.37547704167061763,
          0.08831595650199713,
          0.7245285334977353,
          1.238110023684578,
          -0.22383069432704047,
          0.13115197951032936,
          -0.49201430904382065,
          -0.5613515858429395,
          -0.058603034270792005,
          -0.6516719515097118,
          0.8746302424267516,
          0.7531286992581482,
          -0.5154560262208938,
          -0.11003537235693457,
          1.6646485956567596,
          0.27425408939490015,
          -0.22243578618604876,
          -1.5527567417115955,
          0.8513567075629405,
          0.9122651218519495,
          0.5218503137083844,
          -0.7914445882844924
         ],
         "xaxis": "x15",
         "y": [
          -0.32041892387271975,
          -2.535781600276222,
          -0.04408546179644281,
          -2.3405844134684664,
          0.9279911450501884,
          0.4814943220898587,
          0.35579534383086114,
          -0.062251080946320966,
          0.3868777530800276,
          -0.49476679614220437,
          -0.8387863285243597,
          -1.4927513724298949,
          1.2485004032751141,
          -0.16209791744877255,
          -0.8870476807803657,
          -0.7158294517826341,
          2.02848488832112,
          1.0607859919277178,
          -0.21750756626159404,
          1.4990989009356968,
          0.051751008469180654,
          -1.0052906520292644,
          -1.426379303101054,
          1.2046813063680146,
          -0.3629493168282169,
          -1.2206654939832016,
          0.7211886077144074,
          0.551180030907174,
          0.7999843072857239,
          -0.4633938854086553,
          -1.1644528401192586,
          0.24090921103096416,
          0.8290872266015253,
          0.45311341554065987,
          -1.1361473409312766,
          0.19670201841562326,
          -0.7608891225045208,
          1.6184820886651028,
          0.23866783727270027,
          0.3194834434206449,
          -0.13264957566792493,
          -1.3622899960664197,
          -0.5059548359033674,
          -1.5207193243701072,
          0.0383896346451543,
          0.22471006863672247,
          -2.3395958213400996,
          0.9718642352457134,
          0.08752113595260505,
          0.056488911917380966,
          -1.7031511265948294,
          -0.6495058769759012,
          0.4751392576008469,
          0.22582576544344388,
          -0.8354357215301077,
          0.40884315986866976,
          -0.13166199452853417,
          0.38565091409043867,
          0.9177919580778401,
          -0.1265514366785135,
          0.7731541135723086,
          -0.6055012355430393,
          -0.17310095616672008,
          0.0028625553929229187,
          -1.6173154377703736,
          0.031842967913956875,
          0.6445113835435722,
          1.345475927676821,
          0.8513210651772364,
          -0.5699597579069349,
          -0.5081477435741466,
          2.385322514412292,
          0.6838956460562465,
          -1.7810248489204372,
          -0.6742963308502551,
          -0.22565106772893542,
          0.9012343551381534,
          0.3214222698746299,
          -1.0393295551338915,
          -1.1493685840378596,
          -0.8523772077209022,
          0.9627935646968878,
          0.7503042411149256,
          -1.093233562900274,
          0.6120289959054054,
          1.0288597010418579,
          -0.8840007860265477,
          -1.519595799053845,
          0.42338721210765096,
          1.3554741239003676,
          -1.2549553286941448,
          -0.5482133703134511,
          0.41457759610921063,
          0.4244946373209914,
          -0.9564993222470815,
          1.3348521387425258,
          -0.5195542890412702,
          -0.8003405815647018,
          1.5954509655452298,
          -0.20080081745316186
         ],
         "yaxis": "y15"
        },
        {
         "histfunc": "count",
         "histnorm": "",
         "marker": {
          "color": "rgba(128, 0, 128, 1.0)",
          "line": {
           "color": "#4D5663",
           "width": 1.3
          }
         },
         "name": "D",
         "nbinsx": 10,
         "opacity": 0.8,
         "orientation": "v",
         "type": "histogram",
         "x": [
          -0.32041892387271975,
          -2.535781600276222,
          -0.04408546179644281,
          -2.3405844134684664,
          0.9279911450501884,
          0.4814943220898587,
          0.35579534383086114,
          -0.062251080946320966,
          0.3868777530800276,
          -0.49476679614220437,
          -0.8387863285243597,
          -1.4927513724298949,
          1.2485004032751141,
          -0.16209791744877255,
          -0.8870476807803657,
          -0.7158294517826341,
          2.02848488832112,
          1.0607859919277178,
          -0.21750756626159404,
          1.4990989009356968,
          0.051751008469180654,
          -1.0052906520292644,
          -1.426379303101054,
          1.2046813063680146,
          -0.3629493168282169,
          -1.2206654939832016,
          0.7211886077144074,
          0.551180030907174,
          0.7999843072857239,
          -0.4633938854086553,
          -1.1644528401192586,
          0.24090921103096416,
          0.8290872266015253,
          0.45311341554065987,
          -1.1361473409312766,
          0.19670201841562326,
          -0.7608891225045208,
          1.6184820886651028,
          0.23866783727270027,
          0.3194834434206449,
          -0.13264957566792493,
          -1.3622899960664197,
          -0.5059548359033674,
          -1.5207193243701072,
          0.0383896346451543,
          0.22471006863672247,
          -2.3395958213400996,
          0.9718642352457134,
          0.08752113595260505,
          0.056488911917380966,
          -1.7031511265948294,
          -0.6495058769759012,
          0.4751392576008469,
          0.22582576544344388,
          -0.8354357215301077,
          0.40884315986866976,
          -0.13166199452853417,
          0.38565091409043867,
          0.9177919580778401,
          -0.1265514366785135,
          0.7731541135723086,
          -0.6055012355430393,
          -0.17310095616672008,
          0.0028625553929229187,
          -1.6173154377703736,
          0.031842967913956875,
          0.6445113835435722,
          1.345475927676821,
          0.8513210651772364,
          -0.5699597579069349,
          -0.5081477435741466,
          2.385322514412292,
          0.6838956460562465,
          -1.7810248489204372,
          -0.6742963308502551,
          -0.22565106772893542,
          0.9012343551381534,
          0.3214222698746299,
          -1.0393295551338915,
          -1.1493685840378596,
          -0.8523772077209022,
          0.9627935646968878,
          0.7503042411149256,
          -1.093233562900274,
          0.6120289959054054,
          1.0288597010418579,
          -0.8840007860265477,
          -1.519595799053845,
          0.42338721210765096,
          1.3554741239003676,
          -1.2549553286941448,
          -0.5482133703134511,
          0.41457759610921063,
          0.4244946373209914,
          -0.9564993222470815,
          1.3348521387425258,
          -0.5195542890412702,
          -0.8003405815647018,
          1.5954509655452298,
          -0.20080081745316186
         ],
         "xaxis": "x16",
         "yaxis": "y16"
        }
       ],
       "layout": {
        "bargap": 0.02,
        "legend": {
         "bgcolor": "#F5F6F9",
         "font": {
          "color": "#4D5663"
         }
        },
        "paper_bgcolor": "#F5F6F9",
        "plot_bgcolor": "#F5F6F9",
        "showlegend": false,
        "template": {
         "data": {
          "bar": [
           {
            "error_x": {
             "color": "#2a3f5f"
            },
            "error_y": {
             "color": "#2a3f5f"
            },
            "marker": {
             "line": {
              "color": "#E5ECF6",
              "width": 0.5
             }
            },
            "type": "bar"
           }
          ],
          "barpolar": [
           {
            "marker": {
             "line": {
              "color": "#E5ECF6",
              "width": 0.5
             }
            },
            "type": "barpolar"
           }
          ],
          "carpet": [
           {
            "aaxis": {
             "endlinecolor": "#2a3f5f",
             "gridcolor": "white",
             "linecolor": "white",
             "minorgridcolor": "white",
             "startlinecolor": "#2a3f5f"
            },
            "baxis": {
             "endlinecolor": "#2a3f5f",
             "gridcolor": "white",
             "linecolor": "white",
             "minorgridcolor": "white",
             "startlinecolor": "#2a3f5f"
            },
            "type": "carpet"
           }
          ],
          "choropleth": [
           {
            "colorbar": {
             "outlinewidth": 0,
             "ticks": ""
            },
            "type": "choropleth"
           }
          ],
          "contour": [
           {
            "colorbar": {
             "outlinewidth": 0,
             "ticks": ""
            },
            "colorscale": [
             [
              0,
              "#0d0887"
             ],
             [
              0.1111111111111111,
              "#46039f"
             ],
             [
              0.2222222222222222,
              "#7201a8"
             ],
             [
              0.3333333333333333,
              "#9c179e"
             ],
             [
              0.4444444444444444,
              "#bd3786"
             ],
             [
              0.5555555555555556,
              "#d8576b"
             ],
             [
              0.6666666666666666,
              "#ed7953"
             ],
             [
              0.7777777777777778,
              "#fb9f3a"
             ],
             [
              0.8888888888888888,
              "#fdca26"
             ],
             [
              1,
              "#f0f921"
             ]
            ],
            "type": "contour"
           }
          ],
          "contourcarpet": [
           {
            "colorbar": {
             "outlinewidth": 0,
             "ticks": ""
            },
            "type": "contourcarpet"
           }
          ],
          "heatmap": [
           {
            "colorbar": {
             "outlinewidth": 0,
             "ticks": ""
            },
            "colorscale": [
             [
              0,
              "#0d0887"
             ],
             [
              0.1111111111111111,
              "#46039f"
             ],
             [
              0.2222222222222222,
              "#7201a8"
             ],
             [
              0.3333333333333333,
              "#9c179e"
             ],
             [
              0.4444444444444444,
              "#bd3786"
             ],
             [
              0.5555555555555556,
              "#d8576b"
             ],
             [
              0.6666666666666666,
              "#ed7953"
             ],
             [
              0.7777777777777778,
              "#fb9f3a"
             ],
             [
              0.8888888888888888,
              "#fdca26"
             ],
             [
              1,
              "#f0f921"
             ]
            ],
            "type": "heatmap"
           }
          ],
          "heatmapgl": [
           {
            "colorbar": {
             "outlinewidth": 0,
             "ticks": ""
            },
            "colorscale": [
             [
              0,
              "#0d0887"
             ],
             [
              0.1111111111111111,
              "#46039f"
             ],
             [
              0.2222222222222222,
              "#7201a8"
             ],
             [
              0.3333333333333333,
              "#9c179e"
             ],
             [
              0.4444444444444444,
              "#bd3786"
             ],
             [
              0.5555555555555556,
              "#d8576b"
             ],
             [
              0.6666666666666666,
              "#ed7953"
             ],
             [
              0.7777777777777778,
              "#fb9f3a"
             ],
             [
              0.8888888888888888,
              "#fdca26"
             ],
             [
              1,
              "#f0f921"
             ]
            ],
            "type": "heatmapgl"
           }
          ],
          "histogram": [
           {
            "marker": {
             "colorbar": {
              "outlinewidth": 0,
              "ticks": ""
             }
            },
            "type": "histogram"
           }
          ],
          "histogram2d": [
           {
            "colorbar": {
             "outlinewidth": 0,
             "ticks": ""
            },
            "colorscale": [
             [
              0,
              "#0d0887"
             ],
             [
              0.1111111111111111,
              "#46039f"
             ],
             [
              0.2222222222222222,
              "#7201a8"
             ],
             [
              0.3333333333333333,
              "#9c179e"
             ],
             [
              0.4444444444444444,
              "#bd3786"
             ],
             [
              0.5555555555555556,
              "#d8576b"
             ],
             [
              0.6666666666666666,
              "#ed7953"
             ],
             [
              0.7777777777777778,
              "#fb9f3a"
             ],
             [
              0.8888888888888888,
              "#fdca26"
             ],
             [
              1,
              "#f0f921"
             ]
            ],
            "type": "histogram2d"
           }
          ],
          "histogram2dcontour": [
           {
            "colorbar": {
             "outlinewidth": 0,
             "ticks": ""
            },
            "colorscale": [
             [
              0,
              "#0d0887"
             ],
             [
              0.1111111111111111,
              "#46039f"
             ],
             [
              0.2222222222222222,
              "#7201a8"
             ],
             [
              0.3333333333333333,
              "#9c179e"
             ],
             [
              0.4444444444444444,
              "#bd3786"
             ],
             [
              0.5555555555555556,
              "#d8576b"
             ],
             [
              0.6666666666666666,
              "#ed7953"
             ],
             [
              0.7777777777777778,
              "#fb9f3a"
             ],
             [
              0.8888888888888888,
              "#fdca26"
             ],
             [
              1,
              "#f0f921"
             ]
            ],
            "type": "histogram2dcontour"
           }
          ],
          "mesh3d": [
           {
            "colorbar": {
             "outlinewidth": 0,
             "ticks": ""
            },
            "type": "mesh3d"
           }
          ],
          "parcoords": [
           {
            "line": {
             "colorbar": {
              "outlinewidth": 0,
              "ticks": ""
             }
            },
            "type": "parcoords"
           }
          ],
          "pie": [
           {
            "automargin": true,
            "type": "pie"
           }
          ],
          "scatter": [
           {
            "marker": {
             "colorbar": {
              "outlinewidth": 0,
              "ticks": ""
             }
            },
            "type": "scatter"
           }
          ],
          "scatter3d": [
           {
            "line": {
             "colorbar": {
              "outlinewidth": 0,
              "ticks": ""
             }
            },
            "marker": {
             "colorbar": {
              "outlinewidth": 0,
              "ticks": ""
             }
            },
            "type": "scatter3d"
           }
          ],
          "scattercarpet": [
           {
            "marker": {
             "colorbar": {
              "outlinewidth": 0,
              "ticks": ""
             }
            },
            "type": "scattercarpet"
           }
          ],
          "scattergeo": [
           {
            "marker": {
             "colorbar": {
              "outlinewidth": 0,
              "ticks": ""
             }
            },
            "type": "scattergeo"
           }
          ],
          "scattergl": [
           {
            "marker": {
             "colorbar": {
              "outlinewidth": 0,
              "ticks": ""
             }
            },
            "type": "scattergl"
           }
          ],
          "scattermapbox": [
           {
            "marker": {
             "colorbar": {
              "outlinewidth": 0,
              "ticks": ""
             }
            },
            "type": "scattermapbox"
           }
          ],
          "scatterpolar": [
           {
            "marker": {
             "colorbar": {
              "outlinewidth": 0,
              "ticks": ""
             }
            },
            "type": "scatterpolar"
           }
          ],
          "scatterpolargl": [
           {
            "marker": {
             "colorbar": {
              "outlinewidth": 0,
              "ticks": ""
             }
            },
            "type": "scatterpolargl"
           }
          ],
          "scatterternary": [
           {
            "marker": {
             "colorbar": {
              "outlinewidth": 0,
              "ticks": ""
             }
            },
            "type": "scatterternary"
           }
          ],
          "surface": [
           {
            "colorbar": {
             "outlinewidth": 0,
             "ticks": ""
            },
            "colorscale": [
             [
              0,
              "#0d0887"
             ],
             [
              0.1111111111111111,
              "#46039f"
             ],
             [
              0.2222222222222222,
              "#7201a8"
             ],
             [
              0.3333333333333333,
              "#9c179e"
             ],
             [
              0.4444444444444444,
              "#bd3786"
             ],
             [
              0.5555555555555556,
              "#d8576b"
             ],
             [
              0.6666666666666666,
              "#ed7953"
             ],
             [
              0.7777777777777778,
              "#fb9f3a"
             ],
             [
              0.8888888888888888,
              "#fdca26"
             ],
             [
              1,
              "#f0f921"
             ]
            ],
            "type": "surface"
           }
          ],
          "table": [
           {
            "cells": {
             "fill": {
              "color": "#EBF0F8"
             },
             "line": {
              "color": "white"
             }
            },
            "header": {
             "fill": {
              "color": "#C8D4E3"
             },
             "line": {
              "color": "white"
             }
            },
            "type": "table"
           }
          ]
         },
         "layout": {
          "annotationdefaults": {
           "arrowcolor": "#2a3f5f",
           "arrowhead": 0,
           "arrowwidth": 1
          },
          "coloraxis": {
           "colorbar": {
            "outlinewidth": 0,
            "ticks": ""
           }
          },
          "colorscale": {
           "diverging": [
            [
             0,
             "#8e0152"
            ],
            [
             0.1,
             "#c51b7d"
            ],
            [
             0.2,
             "#de77ae"
            ],
            [
             0.3,
             "#f1b6da"
            ],
            [
             0.4,
             "#fde0ef"
            ],
            [
             0.5,
             "#f7f7f7"
            ],
            [
             0.6,
             "#e6f5d0"
            ],
            [
             0.7,
             "#b8e186"
            ],
            [
             0.8,
             "#7fbc41"
            ],
            [
             0.9,
             "#4d9221"
            ],
            [
             1,
             "#276419"
            ]
           ],
           "sequential": [
            [
             0,
             "#0d0887"
            ],
            [
             0.1111111111111111,
             "#46039f"
            ],
            [
             0.2222222222222222,
             "#7201a8"
            ],
            [
             0.3333333333333333,
             "#9c179e"
            ],
            [
             0.4444444444444444,
             "#bd3786"
            ],
            [
             0.5555555555555556,
             "#d8576b"
            ],
            [
             0.6666666666666666,
             "#ed7953"
            ],
            [
             0.7777777777777778,
             "#fb9f3a"
            ],
            [
             0.8888888888888888,
             "#fdca26"
            ],
            [
             1,
             "#f0f921"
            ]
           ],
           "sequentialminus": [
            [
             0,
             "#0d0887"
            ],
            [
             0.1111111111111111,
             "#46039f"
            ],
            [
             0.2222222222222222,
             "#7201a8"
            ],
            [
             0.3333333333333333,
             "#9c179e"
            ],
            [
             0.4444444444444444,
             "#bd3786"
            ],
            [
             0.5555555555555556,
             "#d8576b"
            ],
            [
             0.6666666666666666,
             "#ed7953"
            ],
            [
             0.7777777777777778,
             "#fb9f3a"
            ],
            [
             0.8888888888888888,
             "#fdca26"
            ],
            [
             1,
             "#f0f921"
            ]
           ]
          },
          "colorway": [
           "#636efa",
           "#EF553B",
           "#00cc96",
           "#ab63fa",
           "#FFA15A",
           "#19d3f3",
           "#FF6692",
           "#B6E880",
           "#FF97FF",
           "#FECB52"
          ],
          "font": {
           "color": "#2a3f5f"
          },
          "geo": {
           "bgcolor": "white",
           "lakecolor": "white",
           "landcolor": "#E5ECF6",
           "showlakes": true,
           "showland": true,
           "subunitcolor": "white"
          },
          "hoverlabel": {
           "align": "left"
          },
          "hovermode": "closest",
          "mapbox": {
           "style": "light"
          },
          "paper_bgcolor": "white",
          "plot_bgcolor": "#E5ECF6",
          "polar": {
           "angularaxis": {
            "gridcolor": "white",
            "linecolor": "white",
            "ticks": ""
           },
           "bgcolor": "#E5ECF6",
           "radialaxis": {
            "gridcolor": "white",
            "linecolor": "white",
            "ticks": ""
           }
          },
          "scene": {
           "xaxis": {
            "backgroundcolor": "#E5ECF6",
            "gridcolor": "white",
            "gridwidth": 2,
            "linecolor": "white",
            "showbackground": true,
            "ticks": "",
            "zerolinecolor": "white"
           },
           "yaxis": {
            "backgroundcolor": "#E5ECF6",
            "gridcolor": "white",
            "gridwidth": 2,
            "linecolor": "white",
            "showbackground": true,
            "ticks": "",
            "zerolinecolor": "white"
           },
           "zaxis": {
            "backgroundcolor": "#E5ECF6",
            "gridcolor": "white",
            "gridwidth": 2,
            "linecolor": "white",
            "showbackground": true,
            "ticks": "",
            "zerolinecolor": "white"
           }
          },
          "shapedefaults": {
           "line": {
            "color": "#2a3f5f"
           }
          },
          "ternary": {
           "aaxis": {
            "gridcolor": "white",
            "linecolor": "white",
            "ticks": ""
           },
           "baxis": {
            "gridcolor": "white",
            "linecolor": "white",
            "ticks": ""
           },
           "bgcolor": "#E5ECF6",
           "caxis": {
            "gridcolor": "white",
            "linecolor": "white",
            "ticks": ""
           }
          },
          "title": {
           "x": 0.05
          },
          "xaxis": {
           "automargin": true,
           "gridcolor": "white",
           "linecolor": "white",
           "ticks": "",
           "title": {
            "standoff": 15
           },
           "zerolinecolor": "white",
           "zerolinewidth": 2
          },
          "yaxis": {
           "automargin": true,
           "gridcolor": "white",
           "linecolor": "white",
           "ticks": "",
           "title": {
            "standoff": 15
           },
           "zerolinecolor": "white",
           "zerolinewidth": 2
          }
         }
        },
        "title": {
         "font": {
          "color": "#4D5663"
         }
        },
        "xaxis": {
         "anchor": "y",
         "domain": [
          0,
          0.2125
         ],
         "gridcolor": "#E1E5ED",
         "showgrid": false,
         "tickfont": {
          "color": "#4D5663"
         },
         "title": {
          "font": {
           "color": "#4D5663"
          },
          "text": ""
         },
         "zerolinecolor": "#E1E5ED"
        },
        "xaxis10": {
         "anchor": "y10",
         "domain": [
          0.2625,
          0.475
         ],
         "gridcolor": "#E1E5ED",
         "showgrid": false,
         "tickfont": {
          "color": "#4D5663"
         },
         "title": {
          "font": {
           "color": "#4D5663"
          },
          "text": ""
         },
         "zerolinecolor": "#E1E5ED"
        },
        "xaxis11": {
         "anchor": "y11",
         "domain": [
          0.525,
          0.7375
         ],
         "gridcolor": "#E1E5ED",
         "showgrid": false,
         "tickfont": {
          "color": "#4D5663"
         },
         "title": {
          "font": {
           "color": "#4D5663"
          },
          "text": ""
         },
         "zerolinecolor": "#E1E5ED"
        },
        "xaxis12": {
         "anchor": "y12",
         "domain": [
          0.7875,
          1
         ],
         "gridcolor": "#E1E5ED",
         "showgrid": false,
         "tickfont": {
          "color": "#4D5663"
         },
         "title": {
          "font": {
           "color": "#4D5663"
          },
          "text": ""
         },
         "zerolinecolor": "#E1E5ED"
        },
        "xaxis13": {
         "anchor": "y13",
         "domain": [
          0,
          0.2125
         ],
         "gridcolor": "#E1E5ED",
         "showgrid": false,
         "tickfont": {
          "color": "#4D5663"
         },
         "title": {
          "font": {
           "color": "#4D5663"
          },
          "text": ""
         },
         "zerolinecolor": "#E1E5ED"
        },
        "xaxis14": {
         "anchor": "y14",
         "domain": [
          0.2625,
          0.475
         ],
         "gridcolor": "#E1E5ED",
         "showgrid": false,
         "tickfont": {
          "color": "#4D5663"
         },
         "title": {
          "font": {
           "color": "#4D5663"
          },
          "text": ""
         },
         "zerolinecolor": "#E1E5ED"
        },
        "xaxis15": {
         "anchor": "y15",
         "domain": [
          0.525,
          0.7375
         ],
         "gridcolor": "#E1E5ED",
         "showgrid": false,
         "tickfont": {
          "color": "#4D5663"
         },
         "title": {
          "font": {
           "color": "#4D5663"
          },
          "text": ""
         },
         "zerolinecolor": "#E1E5ED"
        },
        "xaxis16": {
         "anchor": "y16",
         "domain": [
          0.7875,
          1
         ],
         "gridcolor": "#E1E5ED",
         "showgrid": false,
         "tickfont": {
          "color": "#4D5663"
         },
         "title": {
          "font": {
           "color": "#4D5663"
          },
          "text": ""
         },
         "zerolinecolor": "#E1E5ED"
        },
        "xaxis2": {
         "anchor": "y2",
         "domain": [
          0.2625,
          0.475
         ],
         "gridcolor": "#E1E5ED",
         "showgrid": false,
         "tickfont": {
          "color": "#4D5663"
         },
         "title": {
          "font": {
           "color": "#4D5663"
          },
          "text": ""
         },
         "zerolinecolor": "#E1E5ED"
        },
        "xaxis3": {
         "anchor": "y3",
         "domain": [
          0.525,
          0.7375
         ],
         "gridcolor": "#E1E5ED",
         "showgrid": false,
         "tickfont": {
          "color": "#4D5663"
         },
         "title": {
          "font": {
           "color": "#4D5663"
          },
          "text": ""
         },
         "zerolinecolor": "#E1E5ED"
        },
        "xaxis4": {
         "anchor": "y4",
         "domain": [
          0.7875,
          1
         ],
         "gridcolor": "#E1E5ED",
         "showgrid": false,
         "tickfont": {
          "color": "#4D5663"
         },
         "title": {
          "font": {
           "color": "#4D5663"
          },
          "text": ""
         },
         "zerolinecolor": "#E1E5ED"
        },
        "xaxis5": {
         "anchor": "y5",
         "domain": [
          0,
          0.2125
         ],
         "gridcolor": "#E1E5ED",
         "showgrid": false,
         "tickfont": {
          "color": "#4D5663"
         },
         "title": {
          "font": {
           "color": "#4D5663"
          },
          "text": ""
         },
         "zerolinecolor": "#E1E5ED"
        },
        "xaxis6": {
         "anchor": "y6",
         "domain": [
          0.2625,
          0.475
         ],
         "gridcolor": "#E1E5ED",
         "showgrid": false,
         "tickfont": {
          "color": "#4D5663"
         },
         "title": {
          "font": {
           "color": "#4D5663"
          },
          "text": ""
         },
         "zerolinecolor": "#E1E5ED"
        },
        "xaxis7": {
         "anchor": "y7",
         "domain": [
          0.525,
          0.7375
         ],
         "gridcolor": "#E1E5ED",
         "showgrid": false,
         "tickfont": {
          "color": "#4D5663"
         },
         "title": {
          "font": {
           "color": "#4D5663"
          },
          "text": ""
         },
         "zerolinecolor": "#E1E5ED"
        },
        "xaxis8": {
         "anchor": "y8",
         "domain": [
          0.7875,
          1
         ],
         "gridcolor": "#E1E5ED",
         "showgrid": false,
         "tickfont": {
          "color": "#4D5663"
         },
         "title": {
          "font": {
           "color": "#4D5663"
          },
          "text": ""
         },
         "zerolinecolor": "#E1E5ED"
        },
        "xaxis9": {
         "anchor": "y9",
         "domain": [
          0,
          0.2125
         ],
         "gridcolor": "#E1E5ED",
         "showgrid": false,
         "tickfont": {
          "color": "#4D5663"
         },
         "title": {
          "font": {
           "color": "#4D5663"
          },
          "text": ""
         },
         "zerolinecolor": "#E1E5ED"
        },
        "yaxis": {
         "anchor": "x",
         "domain": [
          0.8025,
          1
         ],
         "gridcolor": "#E1E5ED",
         "showgrid": false,
         "tickfont": {
          "color": "#4D5663"
         },
         "title": {
          "font": {
           "color": "#4D5663"
          },
          "text": ""
         },
         "zerolinecolor": "#E1E5ED"
        },
        "yaxis10": {
         "anchor": "x10",
         "domain": [
          0.2675,
          0.465
         ],
         "gridcolor": "#E1E5ED",
         "showgrid": false,
         "tickfont": {
          "color": "#4D5663"
         },
         "title": {
          "font": {
           "color": "#4D5663"
          },
          "text": ""
         },
         "zerolinecolor": "#E1E5ED"
        },
        "yaxis11": {
         "anchor": "x11",
         "domain": [
          0.2675,
          0.465
         ],
         "gridcolor": "#E1E5ED",
         "showgrid": false,
         "tickfont": {
          "color": "#4D5663"
         },
         "title": {
          "font": {
           "color": "#4D5663"
          },
          "text": ""
         },
         "zerolinecolor": "#E1E5ED"
        },
        "yaxis12": {
         "anchor": "x12",
         "domain": [
          0.2675,
          0.465
         ],
         "gridcolor": "#E1E5ED",
         "showgrid": false,
         "tickfont": {
          "color": "#4D5663"
         },
         "title": {
          "font": {
           "color": "#4D5663"
          },
          "text": ""
         },
         "zerolinecolor": "#E1E5ED"
        },
        "yaxis13": {
         "anchor": "x13",
         "domain": [
          0,
          0.1975
         ],
         "gridcolor": "#E1E5ED",
         "showgrid": false,
         "tickfont": {
          "color": "#4D5663"
         },
         "title": {
          "font": {
           "color": "#4D5663"
          },
          "text": ""
         },
         "zerolinecolor": "#E1E5ED"
        },
        "yaxis14": {
         "anchor": "x14",
         "domain": [
          0,
          0.1975
         ],
         "gridcolor": "#E1E5ED",
         "showgrid": false,
         "tickfont": {
          "color": "#4D5663"
         },
         "title": {
          "font": {
           "color": "#4D5663"
          },
          "text": ""
         },
         "zerolinecolor": "#E1E5ED"
        },
        "yaxis15": {
         "anchor": "x15",
         "domain": [
          0,
          0.1975
         ],
         "gridcolor": "#E1E5ED",
         "showgrid": false,
         "tickfont": {
          "color": "#4D5663"
         },
         "title": {
          "font": {
           "color": "#4D5663"
          },
          "text": ""
         },
         "zerolinecolor": "#E1E5ED"
        },
        "yaxis16": {
         "anchor": "x16",
         "domain": [
          0,
          0.1975
         ],
         "gridcolor": "#E1E5ED",
         "showgrid": false,
         "tickfont": {
          "color": "#4D5663"
         },
         "title": {
          "font": {
           "color": "#4D5663"
          },
          "text": ""
         },
         "zerolinecolor": "#E1E5ED"
        },
        "yaxis2": {
         "anchor": "x2",
         "domain": [
          0.8025,
          1
         ],
         "gridcolor": "#E1E5ED",
         "showgrid": false,
         "tickfont": {
          "color": "#4D5663"
         },
         "title": {
          "font": {
           "color": "#4D5663"
          },
          "text": ""
         },
         "zerolinecolor": "#E1E5ED"
        },
        "yaxis3": {
         "anchor": "x3",
         "domain": [
          0.8025,
          1
         ],
         "gridcolor": "#E1E5ED",
         "showgrid": false,
         "tickfont": {
          "color": "#4D5663"
         },
         "title": {
          "font": {
           "color": "#4D5663"
          },
          "text": ""
         },
         "zerolinecolor": "#E1E5ED"
        },
        "yaxis4": {
         "anchor": "x4",
         "domain": [
          0.8025,
          1
         ],
         "gridcolor": "#E1E5ED",
         "showgrid": false,
         "tickfont": {
          "color": "#4D5663"
         },
         "title": {
          "font": {
           "color": "#4D5663"
          },
          "text": ""
         },
         "zerolinecolor": "#E1E5ED"
        },
        "yaxis5": {
         "anchor": "x5",
         "domain": [
          0.535,
          0.7325
         ],
         "gridcolor": "#E1E5ED",
         "showgrid": false,
         "tickfont": {
          "color": "#4D5663"
         },
         "title": {
          "font": {
           "color": "#4D5663"
          },
          "text": ""
         },
         "zerolinecolor": "#E1E5ED"
        },
        "yaxis6": {
         "anchor": "x6",
         "domain": [
          0.535,
          0.7325
         ],
         "gridcolor": "#E1E5ED",
         "showgrid": false,
         "tickfont": {
          "color": "#4D5663"
         },
         "title": {
          "font": {
           "color": "#4D5663"
          },
          "text": ""
         },
         "zerolinecolor": "#E1E5ED"
        },
        "yaxis7": {
         "anchor": "x7",
         "domain": [
          0.535,
          0.7325
         ],
         "gridcolor": "#E1E5ED",
         "showgrid": false,
         "tickfont": {
          "color": "#4D5663"
         },
         "title": {
          "font": {
           "color": "#4D5663"
          },
          "text": ""
         },
         "zerolinecolor": "#E1E5ED"
        },
        "yaxis8": {
         "anchor": "x8",
         "domain": [
          0.535,
          0.7325
         ],
         "gridcolor": "#E1E5ED",
         "showgrid": false,
         "tickfont": {
          "color": "#4D5663"
         },
         "title": {
          "font": {
           "color": "#4D5663"
          },
          "text": ""
         },
         "zerolinecolor": "#E1E5ED"
        },
        "yaxis9": {
         "anchor": "x9",
         "domain": [
          0.2675,
          0.465
         ],
         "gridcolor": "#E1E5ED",
         "showgrid": false,
         "tickfont": {
          "color": "#4D5663"
         },
         "title": {
          "font": {
           "color": "#4D5663"
          },
          "text": ""
         },
         "zerolinecolor": "#E1E5ED"
        }
       }
      },
      "text/html": [
       "<div>\n",
       "        \n",
       "        \n",
       "            <div id=\"7f235a13-d170-4c62-a7ab-69508e080689\" class=\"plotly-graph-div\" style=\"height:525px; width:100%;\"></div>\n",
       "            <script type=\"text/javascript\">\n",
       "                require([\"plotly\"], function(Plotly) {\n",
       "                    window.PLOTLYENV=window.PLOTLYENV || {};\n",
       "                    window.PLOTLYENV.BASE_URL='https://plot.ly';\n",
       "                    \n",
       "                if (document.getElementById(\"7f235a13-d170-4c62-a7ab-69508e080689\")) {\n",
       "                    Plotly.newPlot(\n",
       "                        '7f235a13-d170-4c62-a7ab-69508e080689',\n",
       "                        [{\"histfunc\": \"count\", \"histnorm\": \"\", \"marker\": {\"color\": \"rgba(255, 153, 51, 1.0)\", \"line\": {\"color\": \"#4D5663\", \"width\": 1.3}}, \"name\": \"A\", \"nbinsx\": 10, \"opacity\": 0.8, \"orientation\": \"v\", \"type\": \"histogram\", \"x\": [-0.8460237271253019, 0.6850443896998784, 0.013609065845515527, -0.4988132770316513, -0.5026795682975888, -2.1648319958850464, -1.154552707782905, 0.4645360254620899, 1.3740964676790737, -2.242787929269608, 0.912469992443577, 0.9719058990913453, -1.4485752232730136, -1.4856817403879254, -1.7707609389688101, -1.544708909569676, -0.845047053954906, 1.5718728962014008, 1.7407180132610471, 2.146932204884541, 1.185958873022132, 0.2630462182169065, -0.751468859481539, 0.12184899133054408, 0.21414513681628883, 0.9417985234694084, 1.2425311236379861, -0.7377121463314611, -2.1358685937035027, -0.01613866776884078, -1.224414063134968, -0.43117966330931345, 0.4474472858747312, 0.36962982018769797, 0.847196324617692, 1.880012748500143, 1.1045060967752076, 0.4633019355132985, -1.464979842190436, 1.4075418941380369, -0.015380220180128674, 1.5729576249594048, 0.035613201302045094, -2.1191326657010925, 0.4674612766990198, 1.5672725306048771, 0.32374701394053695, -0.07586660607563349, -0.28766130688384633, 0.8484426019712326, 0.12285878967475791, 0.10747331366298463, -0.014364068259369946, 0.04745854722618259, 0.08562776472368197, -1.2389066249610874, -0.6995068508645815, -0.7972095540515397, 1.2007857778924123, -0.09290640667433647, -0.2934859290199042, -0.07763488078361577, 0.6157033452195625, 0.10784793323471127, -0.5688943346294603, 0.3980559147795507, 0.5661577662311075, -2.195580683945319, 0.8997439452375172, 0.6116820569345487, 0.898185107218264, -3.16636935240398, 0.5157190077667173, 1.7027542662620736, -1.8334998040533916, 1.5191373232065937, -0.17460849019525584, 1.131963144127607, 0.3568780584530282, 0.9102545259831278, 0.13445560873806117, 0.40655314317655816, 1.0152337299856296, 1.4398556923049288, -0.18648795002338767, 0.4306655374413637, 0.09626036855680789, 1.5076321511661732, -0.8426903877075556, -0.4677942497505051, 1.2558162159647377, -0.3149934105775024, 0.3672194688408298, -2.3065307475577677, -0.6732954546156035, 1.3521271382546514, -0.18481351745424293, -0.8944438856872224, 0.30256144019502035, -1.774058004598215], \"xaxis\": \"x\", \"yaxis\": \"y\"}, {\"line\": {\"color\": \"rgba(128, 128, 128, 1.0)\", \"dash\": \"solid\", \"shape\": \"linear\", \"width\": 1.3}, \"marker\": {\"size\": 2, \"symbol\": \"circle\"}, \"mode\": \"markers\", \"name\": \"A\", \"text\": \"\", \"type\": \"scatter\", \"x\": [-1.6690665071741209, -0.9484589845302493, -0.8161375694116357, 0.6840786863502893, -2.2018317733312114, 0.017536684463240967, 1.2891016612183293, -1.804728629786003, 0.3259795023528879, 0.049809753323116025, -0.5586374064724668, 0.29429666978152597, 0.39061076983085435, 0.8943681379041947, -0.552752183630096, -3.254423561116218, 0.6019509133633993, -0.8259461083978703, 1.710869136590222, -0.6615216430491391, -1.1578938475951246, -1.053495434073233, 0.050146122300815554, 0.5165620720663516, -0.48796706452958144, -0.4419290713862438, -0.7685738951120951, 0.006761444700873407, -1.3503432760800622, 0.86268829936173, -0.3601098281120075, 1.5471265668795813, -0.7877036076046857, -0.11570378586982293, -0.38626518512976876, -1.6261076438084243, 0.1552139671521332, -0.5535272578079041, -0.4630992019337326, -0.6139324026188785, 1.39842534595313, 0.025329165810796576, -1.80275260504035, 0.2897836172364911, 0.10549183348243746, -1.154884935652627, 0.0900151454704177, -1.9925874148798286, 0.1854025982354397, -1.6396389383040153, 1.1334741520064942, -2.0443178533842548, -0.6515321439298384, 0.21430215795085017, -2.2171803435270627, -0.10679315372693604, 1.3358567958691514, -1.1979954208547445, 0.748006345653784, -1.2771340270653806, 0.24106633940119884, -0.17317250017492125, 1.4708772807273518, -0.2382694937834363, -0.7276772174913667, 0.3308764931989634, -1.0020418664013873, 1.8115458705425924, 0.524693389700117, 1.0641059387955556, -0.5677562318557139, 3.684053699497508, 0.07477586077751451, 1.16602333777211, -0.3644225537743912, -0.2561592131802757, 0.8456431281725347, -0.41187096117433014, -0.8736896574049339, 0.6679638026301171, 1.1001823918068032, 1.0535495494708962, -2.104565944240315, 0.3720753582969174, -0.5010108088639956, -0.5245036613989332, -0.24392870922439877, -0.19658226865093806, 0.6584933540744552, 0.2871266386215244, 1.0654171438176951, 1.7258373286970015, 2.107649563188196, 1.6470948082198242, 0.02453824662895236, -1.194105419184158, -1.214498105522763, 1.8090870987912386, -0.3243706643776886, -1.0410093775593163], \"xaxis\": \"x2\", \"y\": [-0.8460237271253019, 0.6850443896998784, 0.013609065845515527, -0.4988132770316513, -0.5026795682975888, -2.1648319958850464, -1.154552707782905, 0.4645360254620899, 1.3740964676790737, -2.242787929269608, 0.912469992443577, 0.9719058990913453, -1.4485752232730136, -1.4856817403879254, -1.7707609389688101, -1.544708909569676, -0.845047053954906, 1.5718728962014008, 1.7407180132610471, 2.146932204884541, 1.185958873022132, 0.2630462182169065, -0.751468859481539, 0.12184899133054408, 0.21414513681628883, 0.9417985234694084, 1.2425311236379861, -0.7377121463314611, -2.1358685937035027, -0.01613866776884078, -1.224414063134968, -0.43117966330931345, 0.4474472858747312, 0.36962982018769797, 0.847196324617692, 1.880012748500143, 1.1045060967752076, 0.4633019355132985, -1.464979842190436, 1.4075418941380369, -0.015380220180128674, 1.5729576249594048, 0.035613201302045094, -2.1191326657010925, 0.4674612766990198, 1.5672725306048771, 0.32374701394053695, -0.07586660607563349, -0.28766130688384633, 0.8484426019712326, 0.12285878967475791, 0.10747331366298463, -0.014364068259369946, 0.04745854722618259, 0.08562776472368197, -1.2389066249610874, -0.6995068508645815, -0.7972095540515397, 1.2007857778924123, -0.09290640667433647, -0.2934859290199042, -0.07763488078361577, 0.6157033452195625, 0.10784793323471127, -0.5688943346294603, 0.3980559147795507, 0.5661577662311075, -2.195580683945319, 0.8997439452375172, 0.6116820569345487, 0.898185107218264, -3.16636935240398, 0.5157190077667173, 1.7027542662620736, -1.8334998040533916, 1.5191373232065937, -0.17460849019525584, 1.131963144127607, 0.3568780584530282, 0.9102545259831278, 0.13445560873806117, 0.40655314317655816, 1.0152337299856296, 1.4398556923049288, -0.18648795002338767, 0.4306655374413637, 0.09626036855680789, 1.5076321511661732, -0.8426903877075556, -0.4677942497505051, 1.2558162159647377, -0.3149934105775024, 0.3672194688408298, -2.3065307475577677, -0.6732954546156035, 1.3521271382546514, -0.18481351745424293, -0.8944438856872224, 0.30256144019502035, -1.774058004598215], \"yaxis\": \"y2\"}, {\"line\": {\"color\": \"rgba(128, 128, 128, 1.0)\", \"dash\": \"solid\", \"shape\": \"linear\", \"width\": 1.3}, \"marker\": {\"size\": 2, \"symbol\": \"circle\"}, \"mode\": \"markers\", \"name\": \"A\", \"text\": \"\", \"type\": \"scatter\", \"x\": [1.2497020135564443, -0.9316000796524302, -0.007557078183790653, 0.4594372049529466, -0.6714989061973291, 0.28377275797757057, 0.34825899371820007, 0.25429155553242627, 0.5179819167995959, 1.024247936646388, 1.2752821551534776, -1.4349110925235573, 0.42960979907731234, -0.0065907366554523086, 2.0217422884557066, -0.093114659091693, -0.9518137597332781, -0.9636790193634064, -0.06122108403321417, 0.658900584897198, 0.03311330995050802, 0.11283798818109615, 0.2557261881204865, -1.9343893589294923, -1.4315757230520012, 1.809055941249507, 0.4038496434120006, 0.12390997039431657, -0.6385960151728208, -0.5792557171833106, 0.6604932205517213, -1.3021210807647674, -1.4678616658092518, 0.3879357314950945, -0.13207453362427443, 0.33180310031462557, -0.6038645039181272, 1.5238624040446942, -0.2368111706774786, -0.36892612529652086, -0.42227062872289656, 0.4275280571921868, 0.19561703339876219, 1.7557491814862947, -0.33418215698565384, -0.36898653868489917, -0.053909536663410196, 0.3312054704487845, -0.0701819178820426, 0.8815697464070676, 0.44185838710279196, 0.43611469097132877, -0.07031715164084198, -0.6002141992917431, 0.7545525522727039, 0.23617121490845747, -0.6517921025318381, 1.1346408626972306, -0.2589585308852226, -1.8185043433377492, -1.0012962870856807, -0.8385822319296605, -0.9973550356500325, 0.562107983148546, -2.2988266052358037, 0.8771526431814153, -0.7413820928312768, 0.44776314854753335, 1.3350092408510306, 0.1805096550206448, 1.7522359953206381, 0.12385054878704348, -2.015246573955783, 0.6904494874421021, -0.6627547992477942, -0.6687596742023091, 0.1479720149501183, 1.0093777762142584, -0.37547704167061763, 0.08831595650199713, 0.7245285334977353, 1.238110023684578, -0.22383069432704047, 0.13115197951032936, -0.49201430904382065, -0.5613515858429395, -0.058603034270792005, -0.6516719515097118, 0.8746302424267516, 0.7531286992581482, -0.5154560262208938, -0.11003537235693457, 1.6646485956567596, 0.27425408939490015, -0.22243578618604876, -1.5527567417115955, 0.8513567075629405, 0.9122651218519495, 0.5218503137083844, -0.7914445882844924], \"xaxis\": \"x3\", \"y\": [-0.8460237271253019, 0.6850443896998784, 0.013609065845515527, -0.4988132770316513, -0.5026795682975888, -2.1648319958850464, -1.154552707782905, 0.4645360254620899, 1.3740964676790737, -2.242787929269608, 0.912469992443577, 0.9719058990913453, -1.4485752232730136, -1.4856817403879254, -1.7707609389688101, -1.544708909569676, -0.845047053954906, 1.5718728962014008, 1.7407180132610471, 2.146932204884541, 1.185958873022132, 0.2630462182169065, -0.751468859481539, 0.12184899133054408, 0.21414513681628883, 0.9417985234694084, 1.2425311236379861, -0.7377121463314611, -2.1358685937035027, -0.01613866776884078, -1.224414063134968, -0.43117966330931345, 0.4474472858747312, 0.36962982018769797, 0.847196324617692, 1.880012748500143, 1.1045060967752076, 0.4633019355132985, -1.464979842190436, 1.4075418941380369, -0.015380220180128674, 1.5729576249594048, 0.035613201302045094, -2.1191326657010925, 0.4674612766990198, 1.5672725306048771, 0.32374701394053695, -0.07586660607563349, -0.28766130688384633, 0.8484426019712326, 0.12285878967475791, 0.10747331366298463, -0.014364068259369946, 0.04745854722618259, 0.08562776472368197, -1.2389066249610874, -0.6995068508645815, -0.7972095540515397, 1.2007857778924123, -0.09290640667433647, -0.2934859290199042, -0.07763488078361577, 0.6157033452195625, 0.10784793323471127, -0.5688943346294603, 0.3980559147795507, 0.5661577662311075, -2.195580683945319, 0.8997439452375172, 0.6116820569345487, 0.898185107218264, -3.16636935240398, 0.5157190077667173, 1.7027542662620736, -1.8334998040533916, 1.5191373232065937, -0.17460849019525584, 1.131963144127607, 0.3568780584530282, 0.9102545259831278, 0.13445560873806117, 0.40655314317655816, 1.0152337299856296, 1.4398556923049288, -0.18648795002338767, 0.4306655374413637, 0.09626036855680789, 1.5076321511661732, -0.8426903877075556, -0.4677942497505051, 1.2558162159647377, -0.3149934105775024, 0.3672194688408298, -2.3065307475577677, -0.6732954546156035, 1.3521271382546514, -0.18481351745424293, -0.8944438856872224, 0.30256144019502035, -1.774058004598215], \"yaxis\": \"y3\"}, {\"line\": {\"color\": \"rgba(128, 128, 128, 1.0)\", \"dash\": \"solid\", \"shape\": \"linear\", \"width\": 1.3}, \"marker\": {\"size\": 2, \"symbol\": \"circle\"}, \"mode\": \"markers\", \"name\": \"A\", \"text\": \"\", \"type\": \"scatter\", \"x\": [-0.32041892387271975, -2.535781600276222, -0.04408546179644281, -2.3405844134684664, 0.9279911450501884, 0.4814943220898587, 0.35579534383086114, -0.062251080946320966, 0.3868777530800276, -0.49476679614220437, -0.8387863285243597, -1.4927513724298949, 1.2485004032751141, -0.16209791744877255, -0.8870476807803657, -0.7158294517826341, 2.02848488832112, 1.0607859919277178, -0.21750756626159404, 1.4990989009356968, 0.051751008469180654, -1.0052906520292644, -1.426379303101054, 1.2046813063680146, -0.3629493168282169, -1.2206654939832016, 0.7211886077144074, 0.551180030907174, 0.7999843072857239, -0.4633938854086553, -1.1644528401192586, 0.24090921103096416, 0.8290872266015253, 0.45311341554065987, -1.1361473409312766, 0.19670201841562326, -0.7608891225045208, 1.6184820886651028, 0.23866783727270027, 0.3194834434206449, -0.13264957566792493, -1.3622899960664197, -0.5059548359033674, -1.5207193243701072, 0.0383896346451543, 0.22471006863672247, -2.3395958213400996, 0.9718642352457134, 0.08752113595260505, 0.056488911917380966, -1.7031511265948294, -0.6495058769759012, 0.4751392576008469, 0.22582576544344388, -0.8354357215301077, 0.40884315986866976, -0.13166199452853417, 0.38565091409043867, 0.9177919580778401, -0.1265514366785135, 0.7731541135723086, -0.6055012355430393, -0.17310095616672008, 0.0028625553929229187, -1.6173154377703736, 0.031842967913956875, 0.6445113835435722, 1.345475927676821, 0.8513210651772364, -0.5699597579069349, -0.5081477435741466, 2.385322514412292, 0.6838956460562465, -1.7810248489204372, -0.6742963308502551, -0.22565106772893542, 0.9012343551381534, 0.3214222698746299, -1.0393295551338915, -1.1493685840378596, -0.8523772077209022, 0.9627935646968878, 0.7503042411149256, -1.093233562900274, 0.6120289959054054, 1.0288597010418579, -0.8840007860265477, -1.519595799053845, 0.42338721210765096, 1.3554741239003676, -1.2549553286941448, -0.5482133703134511, 0.41457759610921063, 0.4244946373209914, -0.9564993222470815, 1.3348521387425258, -0.5195542890412702, -0.8003405815647018, 1.5954509655452298, -0.20080081745316186], \"xaxis\": \"x4\", \"y\": [-0.8460237271253019, 0.6850443896998784, 0.013609065845515527, -0.4988132770316513, -0.5026795682975888, -2.1648319958850464, -1.154552707782905, 0.4645360254620899, 1.3740964676790737, -2.242787929269608, 0.912469992443577, 0.9719058990913453, -1.4485752232730136, -1.4856817403879254, -1.7707609389688101, -1.544708909569676, -0.845047053954906, 1.5718728962014008, 1.7407180132610471, 2.146932204884541, 1.185958873022132, 0.2630462182169065, -0.751468859481539, 0.12184899133054408, 0.21414513681628883, 0.9417985234694084, 1.2425311236379861, -0.7377121463314611, -2.1358685937035027, -0.01613866776884078, -1.224414063134968, -0.43117966330931345, 0.4474472858747312, 0.36962982018769797, 0.847196324617692, 1.880012748500143, 1.1045060967752076, 0.4633019355132985, -1.464979842190436, 1.4075418941380369, -0.015380220180128674, 1.5729576249594048, 0.035613201302045094, -2.1191326657010925, 0.4674612766990198, 1.5672725306048771, 0.32374701394053695, -0.07586660607563349, -0.28766130688384633, 0.8484426019712326, 0.12285878967475791, 0.10747331366298463, -0.014364068259369946, 0.04745854722618259, 0.08562776472368197, -1.2389066249610874, -0.6995068508645815, -0.7972095540515397, 1.2007857778924123, -0.09290640667433647, -0.2934859290199042, -0.07763488078361577, 0.6157033452195625, 0.10784793323471127, -0.5688943346294603, 0.3980559147795507, 0.5661577662311075, -2.195580683945319, 0.8997439452375172, 0.6116820569345487, 0.898185107218264, -3.16636935240398, 0.5157190077667173, 1.7027542662620736, -1.8334998040533916, 1.5191373232065937, -0.17460849019525584, 1.131963144127607, 0.3568780584530282, 0.9102545259831278, 0.13445560873806117, 0.40655314317655816, 1.0152337299856296, 1.4398556923049288, -0.18648795002338767, 0.4306655374413637, 0.09626036855680789, 1.5076321511661732, -0.8426903877075556, -0.4677942497505051, 1.2558162159647377, -0.3149934105775024, 0.3672194688408298, -2.3065307475577677, -0.6732954546156035, 1.3521271382546514, -0.18481351745424293, -0.8944438856872224, 0.30256144019502035, -1.774058004598215], \"yaxis\": \"y4\"}, {\"line\": {\"color\": \"rgba(128, 128, 128, 1.0)\", \"dash\": \"solid\", \"shape\": \"linear\", \"width\": 1.3}, \"marker\": {\"size\": 2, \"symbol\": \"circle\"}, \"mode\": \"markers\", \"name\": \"B\", \"text\": \"\", \"type\": \"scatter\", \"x\": [-0.8460237271253019, 0.6850443896998784, 0.013609065845515527, -0.4988132770316513, -0.5026795682975888, -2.1648319958850464, -1.154552707782905, 0.4645360254620899, 1.3740964676790737, -2.242787929269608, 0.912469992443577, 0.9719058990913453, -1.4485752232730136, -1.4856817403879254, -1.7707609389688101, -1.544708909569676, -0.845047053954906, 1.5718728962014008, 1.7407180132610471, 2.146932204884541, 1.185958873022132, 0.2630462182169065, -0.751468859481539, 0.12184899133054408, 0.21414513681628883, 0.9417985234694084, 1.2425311236379861, -0.7377121463314611, -2.1358685937035027, -0.01613866776884078, -1.224414063134968, -0.43117966330931345, 0.4474472858747312, 0.36962982018769797, 0.847196324617692, 1.880012748500143, 1.1045060967752076, 0.4633019355132985, -1.464979842190436, 1.4075418941380369, -0.015380220180128674, 1.5729576249594048, 0.035613201302045094, -2.1191326657010925, 0.4674612766990198, 1.5672725306048771, 0.32374701394053695, -0.07586660607563349, -0.28766130688384633, 0.8484426019712326, 0.12285878967475791, 0.10747331366298463, -0.014364068259369946, 0.04745854722618259, 0.08562776472368197, -1.2389066249610874, -0.6995068508645815, -0.7972095540515397, 1.2007857778924123, -0.09290640667433647, -0.2934859290199042, -0.07763488078361577, 0.6157033452195625, 0.10784793323471127, -0.5688943346294603, 0.3980559147795507, 0.5661577662311075, -2.195580683945319, 0.8997439452375172, 0.6116820569345487, 0.898185107218264, -3.16636935240398, 0.5157190077667173, 1.7027542662620736, -1.8334998040533916, 1.5191373232065937, -0.17460849019525584, 1.131963144127607, 0.3568780584530282, 0.9102545259831278, 0.13445560873806117, 0.40655314317655816, 1.0152337299856296, 1.4398556923049288, -0.18648795002338767, 0.4306655374413637, 0.09626036855680789, 1.5076321511661732, -0.8426903877075556, -0.4677942497505051, 1.2558162159647377, -0.3149934105775024, 0.3672194688408298, -2.3065307475577677, -0.6732954546156035, 1.3521271382546514, -0.18481351745424293, -0.8944438856872224, 0.30256144019502035, -1.774058004598215], \"xaxis\": \"x5\", \"y\": [-1.6690665071741209, -0.9484589845302493, -0.8161375694116357, 0.6840786863502893, -2.2018317733312114, 0.017536684463240967, 1.2891016612183293, -1.804728629786003, 0.3259795023528879, 0.049809753323116025, -0.5586374064724668, 0.29429666978152597, 0.39061076983085435, 0.8943681379041947, -0.552752183630096, -3.254423561116218, 0.6019509133633993, -0.8259461083978703, 1.710869136590222, -0.6615216430491391, -1.1578938475951246, -1.053495434073233, 0.050146122300815554, 0.5165620720663516, -0.48796706452958144, -0.4419290713862438, -0.7685738951120951, 0.006761444700873407, -1.3503432760800622, 0.86268829936173, -0.3601098281120075, 1.5471265668795813, -0.7877036076046857, -0.11570378586982293, -0.38626518512976876, -1.6261076438084243, 0.1552139671521332, -0.5535272578079041, -0.4630992019337326, -0.6139324026188785, 1.39842534595313, 0.025329165810796576, -1.80275260504035, 0.2897836172364911, 0.10549183348243746, -1.154884935652627, 0.0900151454704177, -1.9925874148798286, 0.1854025982354397, -1.6396389383040153, 1.1334741520064942, -2.0443178533842548, -0.6515321439298384, 0.21430215795085017, -2.2171803435270627, -0.10679315372693604, 1.3358567958691514, -1.1979954208547445, 0.748006345653784, -1.2771340270653806, 0.24106633940119884, -0.17317250017492125, 1.4708772807273518, -0.2382694937834363, -0.7276772174913667, 0.3308764931989634, -1.0020418664013873, 1.8115458705425924, 0.524693389700117, 1.0641059387955556, -0.5677562318557139, 3.684053699497508, 0.07477586077751451, 1.16602333777211, -0.3644225537743912, -0.2561592131802757, 0.8456431281725347, -0.41187096117433014, -0.8736896574049339, 0.6679638026301171, 1.1001823918068032, 1.0535495494708962, -2.104565944240315, 0.3720753582969174, -0.5010108088639956, -0.5245036613989332, -0.24392870922439877, -0.19658226865093806, 0.6584933540744552, 0.2871266386215244, 1.0654171438176951, 1.7258373286970015, 2.107649563188196, 1.6470948082198242, 0.02453824662895236, -1.194105419184158, -1.214498105522763, 1.8090870987912386, -0.3243706643776886, -1.0410093775593163], \"yaxis\": \"y5\"}, {\"histfunc\": \"count\", \"histnorm\": \"\", \"marker\": {\"color\": \"rgba(55, 128, 191, 1.0)\", \"line\": {\"color\": \"#4D5663\", \"width\": 1.3}}, \"name\": \"B\", \"nbinsx\": 10, \"opacity\": 0.8, \"orientation\": \"v\", \"type\": \"histogram\", \"x\": [-1.6690665071741209, -0.9484589845302493, -0.8161375694116357, 0.6840786863502893, -2.2018317733312114, 0.017536684463240967, 1.2891016612183293, -1.804728629786003, 0.3259795023528879, 0.049809753323116025, -0.5586374064724668, 0.29429666978152597, 0.39061076983085435, 0.8943681379041947, -0.552752183630096, -3.254423561116218, 0.6019509133633993, -0.8259461083978703, 1.710869136590222, -0.6615216430491391, -1.1578938475951246, -1.053495434073233, 0.050146122300815554, 0.5165620720663516, -0.48796706452958144, -0.4419290713862438, -0.7685738951120951, 0.006761444700873407, -1.3503432760800622, 0.86268829936173, -0.3601098281120075, 1.5471265668795813, -0.7877036076046857, -0.11570378586982293, -0.38626518512976876, -1.6261076438084243, 0.1552139671521332, -0.5535272578079041, -0.4630992019337326, -0.6139324026188785, 1.39842534595313, 0.025329165810796576, -1.80275260504035, 0.2897836172364911, 0.10549183348243746, -1.154884935652627, 0.0900151454704177, -1.9925874148798286, 0.1854025982354397, -1.6396389383040153, 1.1334741520064942, -2.0443178533842548, -0.6515321439298384, 0.21430215795085017, -2.2171803435270627, -0.10679315372693604, 1.3358567958691514, -1.1979954208547445, 0.748006345653784, -1.2771340270653806, 0.24106633940119884, -0.17317250017492125, 1.4708772807273518, -0.2382694937834363, -0.7276772174913667, 0.3308764931989634, -1.0020418664013873, 1.8115458705425924, 0.524693389700117, 1.0641059387955556, -0.5677562318557139, 3.684053699497508, 0.07477586077751451, 1.16602333777211, -0.3644225537743912, -0.2561592131802757, 0.8456431281725347, -0.41187096117433014, -0.8736896574049339, 0.6679638026301171, 1.1001823918068032, 1.0535495494708962, -2.104565944240315, 0.3720753582969174, -0.5010108088639956, -0.5245036613989332, -0.24392870922439877, -0.19658226865093806, 0.6584933540744552, 0.2871266386215244, 1.0654171438176951, 1.7258373286970015, 2.107649563188196, 1.6470948082198242, 0.02453824662895236, -1.194105419184158, -1.214498105522763, 1.8090870987912386, -0.3243706643776886, -1.0410093775593163], \"xaxis\": \"x6\", \"yaxis\": \"y6\"}, {\"line\": {\"color\": \"rgba(128, 128, 128, 1.0)\", \"dash\": \"solid\", \"shape\": \"linear\", \"width\": 1.3}, \"marker\": {\"size\": 2, \"symbol\": \"circle\"}, \"mode\": \"markers\", \"name\": \"B\", \"text\": \"\", \"type\": \"scatter\", \"x\": [1.2497020135564443, -0.9316000796524302, -0.007557078183790653, 0.4594372049529466, -0.6714989061973291, 0.28377275797757057, 0.34825899371820007, 0.25429155553242627, 0.5179819167995959, 1.024247936646388, 1.2752821551534776, -1.4349110925235573, 0.42960979907731234, -0.0065907366554523086, 2.0217422884557066, -0.093114659091693, -0.9518137597332781, -0.9636790193634064, -0.06122108403321417, 0.658900584897198, 0.03311330995050802, 0.11283798818109615, 0.2557261881204865, -1.9343893589294923, -1.4315757230520012, 1.809055941249507, 0.4038496434120006, 0.12390997039431657, -0.6385960151728208, -0.5792557171833106, 0.6604932205517213, -1.3021210807647674, -1.4678616658092518, 0.3879357314950945, -0.13207453362427443, 0.33180310031462557, -0.6038645039181272, 1.5238624040446942, -0.2368111706774786, -0.36892612529652086, -0.42227062872289656, 0.4275280571921868, 0.19561703339876219, 1.7557491814862947, -0.33418215698565384, -0.36898653868489917, -0.053909536663410196, 0.3312054704487845, -0.0701819178820426, 0.8815697464070676, 0.44185838710279196, 0.43611469097132877, -0.07031715164084198, -0.6002141992917431, 0.7545525522727039, 0.23617121490845747, -0.6517921025318381, 1.1346408626972306, -0.2589585308852226, -1.8185043433377492, -1.0012962870856807, -0.8385822319296605, -0.9973550356500325, 0.562107983148546, -2.2988266052358037, 0.8771526431814153, -0.7413820928312768, 0.44776314854753335, 1.3350092408510306, 0.1805096550206448, 1.7522359953206381, 0.12385054878704348, -2.015246573955783, 0.6904494874421021, -0.6627547992477942, -0.6687596742023091, 0.1479720149501183, 1.0093777762142584, -0.37547704167061763, 0.08831595650199713, 0.7245285334977353, 1.238110023684578, -0.22383069432704047, 0.13115197951032936, -0.49201430904382065, -0.5613515858429395, -0.058603034270792005, -0.6516719515097118, 0.8746302424267516, 0.7531286992581482, -0.5154560262208938, -0.11003537235693457, 1.6646485956567596, 0.27425408939490015, -0.22243578618604876, -1.5527567417115955, 0.8513567075629405, 0.9122651218519495, 0.5218503137083844, -0.7914445882844924], \"xaxis\": \"x7\", \"y\": [-1.6690665071741209, -0.9484589845302493, -0.8161375694116357, 0.6840786863502893, -2.2018317733312114, 0.017536684463240967, 1.2891016612183293, -1.804728629786003, 0.3259795023528879, 0.049809753323116025, -0.5586374064724668, 0.29429666978152597, 0.39061076983085435, 0.8943681379041947, -0.552752183630096, -3.254423561116218, 0.6019509133633993, -0.8259461083978703, 1.710869136590222, -0.6615216430491391, -1.1578938475951246, -1.053495434073233, 0.050146122300815554, 0.5165620720663516, -0.48796706452958144, -0.4419290713862438, -0.7685738951120951, 0.006761444700873407, -1.3503432760800622, 0.86268829936173, -0.3601098281120075, 1.5471265668795813, -0.7877036076046857, -0.11570378586982293, -0.38626518512976876, -1.6261076438084243, 0.1552139671521332, -0.5535272578079041, -0.4630992019337326, -0.6139324026188785, 1.39842534595313, 0.025329165810796576, -1.80275260504035, 0.2897836172364911, 0.10549183348243746, -1.154884935652627, 0.0900151454704177, -1.9925874148798286, 0.1854025982354397, -1.6396389383040153, 1.1334741520064942, -2.0443178533842548, -0.6515321439298384, 0.21430215795085017, -2.2171803435270627, -0.10679315372693604, 1.3358567958691514, -1.1979954208547445, 0.748006345653784, -1.2771340270653806, 0.24106633940119884, -0.17317250017492125, 1.4708772807273518, -0.2382694937834363, -0.7276772174913667, 0.3308764931989634, -1.0020418664013873, 1.8115458705425924, 0.524693389700117, 1.0641059387955556, -0.5677562318557139, 3.684053699497508, 0.07477586077751451, 1.16602333777211, -0.3644225537743912, -0.2561592131802757, 0.8456431281725347, -0.41187096117433014, -0.8736896574049339, 0.6679638026301171, 1.1001823918068032, 1.0535495494708962, -2.104565944240315, 0.3720753582969174, -0.5010108088639956, -0.5245036613989332, -0.24392870922439877, -0.19658226865093806, 0.6584933540744552, 0.2871266386215244, 1.0654171438176951, 1.7258373286970015, 2.107649563188196, 1.6470948082198242, 0.02453824662895236, -1.194105419184158, -1.214498105522763, 1.8090870987912386, -0.3243706643776886, -1.0410093775593163], \"yaxis\": \"y7\"}, {\"line\": {\"color\": \"rgba(128, 128, 128, 1.0)\", \"dash\": \"solid\", \"shape\": \"linear\", \"width\": 1.3}, \"marker\": {\"size\": 2, \"symbol\": \"circle\"}, \"mode\": \"markers\", \"name\": \"B\", \"text\": \"\", \"type\": \"scatter\", \"x\": [-0.32041892387271975, -2.535781600276222, -0.04408546179644281, -2.3405844134684664, 0.9279911450501884, 0.4814943220898587, 0.35579534383086114, -0.062251080946320966, 0.3868777530800276, -0.49476679614220437, -0.8387863285243597, -1.4927513724298949, 1.2485004032751141, -0.16209791744877255, -0.8870476807803657, -0.7158294517826341, 2.02848488832112, 1.0607859919277178, -0.21750756626159404, 1.4990989009356968, 0.051751008469180654, -1.0052906520292644, -1.426379303101054, 1.2046813063680146, -0.3629493168282169, -1.2206654939832016, 0.7211886077144074, 0.551180030907174, 0.7999843072857239, -0.4633938854086553, -1.1644528401192586, 0.24090921103096416, 0.8290872266015253, 0.45311341554065987, -1.1361473409312766, 0.19670201841562326, -0.7608891225045208, 1.6184820886651028, 0.23866783727270027, 0.3194834434206449, -0.13264957566792493, -1.3622899960664197, -0.5059548359033674, -1.5207193243701072, 0.0383896346451543, 0.22471006863672247, -2.3395958213400996, 0.9718642352457134, 0.08752113595260505, 0.056488911917380966, -1.7031511265948294, -0.6495058769759012, 0.4751392576008469, 0.22582576544344388, -0.8354357215301077, 0.40884315986866976, -0.13166199452853417, 0.38565091409043867, 0.9177919580778401, -0.1265514366785135, 0.7731541135723086, -0.6055012355430393, -0.17310095616672008, 0.0028625553929229187, -1.6173154377703736, 0.031842967913956875, 0.6445113835435722, 1.345475927676821, 0.8513210651772364, -0.5699597579069349, -0.5081477435741466, 2.385322514412292, 0.6838956460562465, -1.7810248489204372, -0.6742963308502551, -0.22565106772893542, 0.9012343551381534, 0.3214222698746299, -1.0393295551338915, -1.1493685840378596, -0.8523772077209022, 0.9627935646968878, 0.7503042411149256, -1.093233562900274, 0.6120289959054054, 1.0288597010418579, -0.8840007860265477, -1.519595799053845, 0.42338721210765096, 1.3554741239003676, -1.2549553286941448, -0.5482133703134511, 0.41457759610921063, 0.4244946373209914, -0.9564993222470815, 1.3348521387425258, -0.5195542890412702, -0.8003405815647018, 1.5954509655452298, -0.20080081745316186], \"xaxis\": \"x8\", \"y\": [-1.6690665071741209, -0.9484589845302493, -0.8161375694116357, 0.6840786863502893, -2.2018317733312114, 0.017536684463240967, 1.2891016612183293, -1.804728629786003, 0.3259795023528879, 0.049809753323116025, -0.5586374064724668, 0.29429666978152597, 0.39061076983085435, 0.8943681379041947, -0.552752183630096, -3.254423561116218, 0.6019509133633993, -0.8259461083978703, 1.710869136590222, -0.6615216430491391, -1.1578938475951246, -1.053495434073233, 0.050146122300815554, 0.5165620720663516, -0.48796706452958144, -0.4419290713862438, -0.7685738951120951, 0.006761444700873407, -1.3503432760800622, 0.86268829936173, -0.3601098281120075, 1.5471265668795813, -0.7877036076046857, -0.11570378586982293, -0.38626518512976876, -1.6261076438084243, 0.1552139671521332, -0.5535272578079041, -0.4630992019337326, -0.6139324026188785, 1.39842534595313, 0.025329165810796576, -1.80275260504035, 0.2897836172364911, 0.10549183348243746, -1.154884935652627, 0.0900151454704177, -1.9925874148798286, 0.1854025982354397, -1.6396389383040153, 1.1334741520064942, -2.0443178533842548, -0.6515321439298384, 0.21430215795085017, -2.2171803435270627, -0.10679315372693604, 1.3358567958691514, -1.1979954208547445, 0.748006345653784, -1.2771340270653806, 0.24106633940119884, -0.17317250017492125, 1.4708772807273518, -0.2382694937834363, -0.7276772174913667, 0.3308764931989634, -1.0020418664013873, 1.8115458705425924, 0.524693389700117, 1.0641059387955556, -0.5677562318557139, 3.684053699497508, 0.07477586077751451, 1.16602333777211, -0.3644225537743912, -0.2561592131802757, 0.8456431281725347, -0.41187096117433014, -0.8736896574049339, 0.6679638026301171, 1.1001823918068032, 1.0535495494708962, -2.104565944240315, 0.3720753582969174, -0.5010108088639956, -0.5245036613989332, -0.24392870922439877, -0.19658226865093806, 0.6584933540744552, 0.2871266386215244, 1.0654171438176951, 1.7258373286970015, 2.107649563188196, 1.6470948082198242, 0.02453824662895236, -1.194105419184158, -1.214498105522763, 1.8090870987912386, -0.3243706643776886, -1.0410093775593163], \"yaxis\": \"y8\"}, {\"line\": {\"color\": \"rgba(128, 128, 128, 1.0)\", \"dash\": \"solid\", \"shape\": \"linear\", \"width\": 1.3}, \"marker\": {\"size\": 2, \"symbol\": \"circle\"}, \"mode\": \"markers\", \"name\": \"C\", \"text\": \"\", \"type\": \"scatter\", \"x\": [-0.8460237271253019, 0.6850443896998784, 0.013609065845515527, -0.4988132770316513, -0.5026795682975888, -2.1648319958850464, -1.154552707782905, 0.4645360254620899, 1.3740964676790737, -2.242787929269608, 0.912469992443577, 0.9719058990913453, -1.4485752232730136, -1.4856817403879254, -1.7707609389688101, -1.544708909569676, -0.845047053954906, 1.5718728962014008, 1.7407180132610471, 2.146932204884541, 1.185958873022132, 0.2630462182169065, -0.751468859481539, 0.12184899133054408, 0.21414513681628883, 0.9417985234694084, 1.2425311236379861, -0.7377121463314611, -2.1358685937035027, -0.01613866776884078, -1.224414063134968, -0.43117966330931345, 0.4474472858747312, 0.36962982018769797, 0.847196324617692, 1.880012748500143, 1.1045060967752076, 0.4633019355132985, -1.464979842190436, 1.4075418941380369, -0.015380220180128674, 1.5729576249594048, 0.035613201302045094, -2.1191326657010925, 0.4674612766990198, 1.5672725306048771, 0.32374701394053695, -0.07586660607563349, -0.28766130688384633, 0.8484426019712326, 0.12285878967475791, 0.10747331366298463, -0.014364068259369946, 0.04745854722618259, 0.08562776472368197, -1.2389066249610874, -0.6995068508645815, -0.7972095540515397, 1.2007857778924123, -0.09290640667433647, -0.2934859290199042, -0.07763488078361577, 0.6157033452195625, 0.10784793323471127, -0.5688943346294603, 0.3980559147795507, 0.5661577662311075, -2.195580683945319, 0.8997439452375172, 0.6116820569345487, 0.898185107218264, -3.16636935240398, 0.5157190077667173, 1.7027542662620736, -1.8334998040533916, 1.5191373232065937, -0.17460849019525584, 1.131963144127607, 0.3568780584530282, 0.9102545259831278, 0.13445560873806117, 0.40655314317655816, 1.0152337299856296, 1.4398556923049288, -0.18648795002338767, 0.4306655374413637, 0.09626036855680789, 1.5076321511661732, -0.8426903877075556, -0.4677942497505051, 1.2558162159647377, -0.3149934105775024, 0.3672194688408298, -2.3065307475577677, -0.6732954546156035, 1.3521271382546514, -0.18481351745424293, -0.8944438856872224, 0.30256144019502035, -1.774058004598215], \"xaxis\": \"x9\", \"y\": [1.2497020135564443, -0.9316000796524302, -0.007557078183790653, 0.4594372049529466, -0.6714989061973291, 0.28377275797757057, 0.34825899371820007, 0.25429155553242627, 0.5179819167995959, 1.024247936646388, 1.2752821551534776, -1.4349110925235573, 0.42960979907731234, -0.0065907366554523086, 2.0217422884557066, -0.093114659091693, -0.9518137597332781, -0.9636790193634064, -0.06122108403321417, 0.658900584897198, 0.03311330995050802, 0.11283798818109615, 0.2557261881204865, -1.9343893589294923, -1.4315757230520012, 1.809055941249507, 0.4038496434120006, 0.12390997039431657, -0.6385960151728208, -0.5792557171833106, 0.6604932205517213, -1.3021210807647674, -1.4678616658092518, 0.3879357314950945, -0.13207453362427443, 0.33180310031462557, -0.6038645039181272, 1.5238624040446942, -0.2368111706774786, -0.36892612529652086, -0.42227062872289656, 0.4275280571921868, 0.19561703339876219, 1.7557491814862947, -0.33418215698565384, -0.36898653868489917, -0.053909536663410196, 0.3312054704487845, -0.0701819178820426, 0.8815697464070676, 0.44185838710279196, 0.43611469097132877, -0.07031715164084198, -0.6002141992917431, 0.7545525522727039, 0.23617121490845747, -0.6517921025318381, 1.1346408626972306, -0.2589585308852226, -1.8185043433377492, -1.0012962870856807, -0.8385822319296605, -0.9973550356500325, 0.562107983148546, -2.2988266052358037, 0.8771526431814153, -0.7413820928312768, 0.44776314854753335, 1.3350092408510306, 0.1805096550206448, 1.7522359953206381, 0.12385054878704348, -2.015246573955783, 0.6904494874421021, -0.6627547992477942, -0.6687596742023091, 0.1479720149501183, 1.0093777762142584, -0.37547704167061763, 0.08831595650199713, 0.7245285334977353, 1.238110023684578, -0.22383069432704047, 0.13115197951032936, -0.49201430904382065, -0.5613515858429395, -0.058603034270792005, -0.6516719515097118, 0.8746302424267516, 0.7531286992581482, -0.5154560262208938, -0.11003537235693457, 1.6646485956567596, 0.27425408939490015, -0.22243578618604876, -1.5527567417115955, 0.8513567075629405, 0.9122651218519495, 0.5218503137083844, -0.7914445882844924], \"yaxis\": \"y9\"}, {\"line\": {\"color\": \"rgba(128, 128, 128, 1.0)\", \"dash\": \"solid\", \"shape\": \"linear\", \"width\": 1.3}, \"marker\": {\"size\": 2, \"symbol\": \"circle\"}, \"mode\": \"markers\", \"name\": \"C\", \"text\": \"\", \"type\": \"scatter\", \"x\": [-1.6690665071741209, -0.9484589845302493, -0.8161375694116357, 0.6840786863502893, -2.2018317733312114, 0.017536684463240967, 1.2891016612183293, -1.804728629786003, 0.3259795023528879, 0.049809753323116025, -0.5586374064724668, 0.29429666978152597, 0.39061076983085435, 0.8943681379041947, -0.552752183630096, -3.254423561116218, 0.6019509133633993, -0.8259461083978703, 1.710869136590222, -0.6615216430491391, -1.1578938475951246, -1.053495434073233, 0.050146122300815554, 0.5165620720663516, -0.48796706452958144, -0.4419290713862438, -0.7685738951120951, 0.006761444700873407, -1.3503432760800622, 0.86268829936173, -0.3601098281120075, 1.5471265668795813, -0.7877036076046857, -0.11570378586982293, -0.38626518512976876, -1.6261076438084243, 0.1552139671521332, -0.5535272578079041, -0.4630992019337326, -0.6139324026188785, 1.39842534595313, 0.025329165810796576, -1.80275260504035, 0.2897836172364911, 0.10549183348243746, -1.154884935652627, 0.0900151454704177, -1.9925874148798286, 0.1854025982354397, -1.6396389383040153, 1.1334741520064942, -2.0443178533842548, -0.6515321439298384, 0.21430215795085017, -2.2171803435270627, -0.10679315372693604, 1.3358567958691514, -1.1979954208547445, 0.748006345653784, -1.2771340270653806, 0.24106633940119884, -0.17317250017492125, 1.4708772807273518, -0.2382694937834363, -0.7276772174913667, 0.3308764931989634, -1.0020418664013873, 1.8115458705425924, 0.524693389700117, 1.0641059387955556, -0.5677562318557139, 3.684053699497508, 0.07477586077751451, 1.16602333777211, -0.3644225537743912, -0.2561592131802757, 0.8456431281725347, -0.41187096117433014, -0.8736896574049339, 0.6679638026301171, 1.1001823918068032, 1.0535495494708962, -2.104565944240315, 0.3720753582969174, -0.5010108088639956, -0.5245036613989332, -0.24392870922439877, -0.19658226865093806, 0.6584933540744552, 0.2871266386215244, 1.0654171438176951, 1.7258373286970015, 2.107649563188196, 1.6470948082198242, 0.02453824662895236, -1.194105419184158, -1.214498105522763, 1.8090870987912386, -0.3243706643776886, -1.0410093775593163], \"xaxis\": \"x10\", \"y\": [1.2497020135564443, -0.9316000796524302, -0.007557078183790653, 0.4594372049529466, -0.6714989061973291, 0.28377275797757057, 0.34825899371820007, 0.25429155553242627, 0.5179819167995959, 1.024247936646388, 1.2752821551534776, -1.4349110925235573, 0.42960979907731234, -0.0065907366554523086, 2.0217422884557066, -0.093114659091693, -0.9518137597332781, -0.9636790193634064, -0.06122108403321417, 0.658900584897198, 0.03311330995050802, 0.11283798818109615, 0.2557261881204865, -1.9343893589294923, -1.4315757230520012, 1.809055941249507, 0.4038496434120006, 0.12390997039431657, -0.6385960151728208, -0.5792557171833106, 0.6604932205517213, -1.3021210807647674, -1.4678616658092518, 0.3879357314950945, -0.13207453362427443, 0.33180310031462557, -0.6038645039181272, 1.5238624040446942, -0.2368111706774786, -0.36892612529652086, -0.42227062872289656, 0.4275280571921868, 0.19561703339876219, 1.7557491814862947, -0.33418215698565384, -0.36898653868489917, -0.053909536663410196, 0.3312054704487845, -0.0701819178820426, 0.8815697464070676, 0.44185838710279196, 0.43611469097132877, -0.07031715164084198, -0.6002141992917431, 0.7545525522727039, 0.23617121490845747, -0.6517921025318381, 1.1346408626972306, -0.2589585308852226, -1.8185043433377492, -1.0012962870856807, -0.8385822319296605, -0.9973550356500325, 0.562107983148546, -2.2988266052358037, 0.8771526431814153, -0.7413820928312768, 0.44776314854753335, 1.3350092408510306, 0.1805096550206448, 1.7522359953206381, 0.12385054878704348, -2.015246573955783, 0.6904494874421021, -0.6627547992477942, -0.6687596742023091, 0.1479720149501183, 1.0093777762142584, -0.37547704167061763, 0.08831595650199713, 0.7245285334977353, 1.238110023684578, -0.22383069432704047, 0.13115197951032936, -0.49201430904382065, -0.5613515858429395, -0.058603034270792005, -0.6516719515097118, 0.8746302424267516, 0.7531286992581482, -0.5154560262208938, -0.11003537235693457, 1.6646485956567596, 0.27425408939490015, -0.22243578618604876, -1.5527567417115955, 0.8513567075629405, 0.9122651218519495, 0.5218503137083844, -0.7914445882844924], \"yaxis\": \"y10\"}, {\"histfunc\": \"count\", \"histnorm\": \"\", \"marker\": {\"color\": \"rgba(50, 171, 96, 1.0)\", \"line\": {\"color\": \"#4D5663\", \"width\": 1.3}}, \"name\": \"C\", \"nbinsx\": 10, \"opacity\": 0.8, \"orientation\": \"v\", \"type\": \"histogram\", \"x\": [1.2497020135564443, -0.9316000796524302, -0.007557078183790653, 0.4594372049529466, -0.6714989061973291, 0.28377275797757057, 0.34825899371820007, 0.25429155553242627, 0.5179819167995959, 1.024247936646388, 1.2752821551534776, -1.4349110925235573, 0.42960979907731234, -0.0065907366554523086, 2.0217422884557066, -0.093114659091693, -0.9518137597332781, -0.9636790193634064, -0.06122108403321417, 0.658900584897198, 0.03311330995050802, 0.11283798818109615, 0.2557261881204865, -1.9343893589294923, -1.4315757230520012, 1.809055941249507, 0.4038496434120006, 0.12390997039431657, -0.6385960151728208, -0.5792557171833106, 0.6604932205517213, -1.3021210807647674, -1.4678616658092518, 0.3879357314950945, -0.13207453362427443, 0.33180310031462557, -0.6038645039181272, 1.5238624040446942, -0.2368111706774786, -0.36892612529652086, -0.42227062872289656, 0.4275280571921868, 0.19561703339876219, 1.7557491814862947, -0.33418215698565384, -0.36898653868489917, -0.053909536663410196, 0.3312054704487845, -0.0701819178820426, 0.8815697464070676, 0.44185838710279196, 0.43611469097132877, -0.07031715164084198, -0.6002141992917431, 0.7545525522727039, 0.23617121490845747, -0.6517921025318381, 1.1346408626972306, -0.2589585308852226, -1.8185043433377492, -1.0012962870856807, -0.8385822319296605, -0.9973550356500325, 0.562107983148546, -2.2988266052358037, 0.8771526431814153, -0.7413820928312768, 0.44776314854753335, 1.3350092408510306, 0.1805096550206448, 1.7522359953206381, 0.12385054878704348, -2.015246573955783, 0.6904494874421021, -0.6627547992477942, -0.6687596742023091, 0.1479720149501183, 1.0093777762142584, -0.37547704167061763, 0.08831595650199713, 0.7245285334977353, 1.238110023684578, -0.22383069432704047, 0.13115197951032936, -0.49201430904382065, -0.5613515858429395, -0.058603034270792005, -0.6516719515097118, 0.8746302424267516, 0.7531286992581482, -0.5154560262208938, -0.11003537235693457, 1.6646485956567596, 0.27425408939490015, -0.22243578618604876, -1.5527567417115955, 0.8513567075629405, 0.9122651218519495, 0.5218503137083844, -0.7914445882844924], \"xaxis\": \"x11\", \"yaxis\": \"y11\"}, {\"line\": {\"color\": \"rgba(128, 128, 128, 1.0)\", \"dash\": \"solid\", \"shape\": \"linear\", \"width\": 1.3}, \"marker\": {\"size\": 2, \"symbol\": \"circle\"}, \"mode\": \"markers\", \"name\": \"C\", \"text\": \"\", \"type\": \"scatter\", \"x\": [-0.32041892387271975, -2.535781600276222, -0.04408546179644281, -2.3405844134684664, 0.9279911450501884, 0.4814943220898587, 0.35579534383086114, -0.062251080946320966, 0.3868777530800276, -0.49476679614220437, -0.8387863285243597, -1.4927513724298949, 1.2485004032751141, -0.16209791744877255, -0.8870476807803657, -0.7158294517826341, 2.02848488832112, 1.0607859919277178, -0.21750756626159404, 1.4990989009356968, 0.051751008469180654, -1.0052906520292644, -1.426379303101054, 1.2046813063680146, -0.3629493168282169, -1.2206654939832016, 0.7211886077144074, 0.551180030907174, 0.7999843072857239, -0.4633938854086553, -1.1644528401192586, 0.24090921103096416, 0.8290872266015253, 0.45311341554065987, -1.1361473409312766, 0.19670201841562326, -0.7608891225045208, 1.6184820886651028, 0.23866783727270027, 0.3194834434206449, -0.13264957566792493, -1.3622899960664197, -0.5059548359033674, -1.5207193243701072, 0.0383896346451543, 0.22471006863672247, -2.3395958213400996, 0.9718642352457134, 0.08752113595260505, 0.056488911917380966, -1.7031511265948294, -0.6495058769759012, 0.4751392576008469, 0.22582576544344388, -0.8354357215301077, 0.40884315986866976, -0.13166199452853417, 0.38565091409043867, 0.9177919580778401, -0.1265514366785135, 0.7731541135723086, -0.6055012355430393, -0.17310095616672008, 0.0028625553929229187, -1.6173154377703736, 0.031842967913956875, 0.6445113835435722, 1.345475927676821, 0.8513210651772364, -0.5699597579069349, -0.5081477435741466, 2.385322514412292, 0.6838956460562465, -1.7810248489204372, -0.6742963308502551, -0.22565106772893542, 0.9012343551381534, 0.3214222698746299, -1.0393295551338915, -1.1493685840378596, -0.8523772077209022, 0.9627935646968878, 0.7503042411149256, -1.093233562900274, 0.6120289959054054, 1.0288597010418579, -0.8840007860265477, -1.519595799053845, 0.42338721210765096, 1.3554741239003676, -1.2549553286941448, -0.5482133703134511, 0.41457759610921063, 0.4244946373209914, -0.9564993222470815, 1.3348521387425258, -0.5195542890412702, -0.8003405815647018, 1.5954509655452298, -0.20080081745316186], \"xaxis\": \"x12\", \"y\": [1.2497020135564443, -0.9316000796524302, -0.007557078183790653, 0.4594372049529466, -0.6714989061973291, 0.28377275797757057, 0.34825899371820007, 0.25429155553242627, 0.5179819167995959, 1.024247936646388, 1.2752821551534776, -1.4349110925235573, 0.42960979907731234, -0.0065907366554523086, 2.0217422884557066, -0.093114659091693, -0.9518137597332781, -0.9636790193634064, -0.06122108403321417, 0.658900584897198, 0.03311330995050802, 0.11283798818109615, 0.2557261881204865, -1.9343893589294923, -1.4315757230520012, 1.809055941249507, 0.4038496434120006, 0.12390997039431657, -0.6385960151728208, -0.5792557171833106, 0.6604932205517213, -1.3021210807647674, -1.4678616658092518, 0.3879357314950945, -0.13207453362427443, 0.33180310031462557, -0.6038645039181272, 1.5238624040446942, -0.2368111706774786, -0.36892612529652086, -0.42227062872289656, 0.4275280571921868, 0.19561703339876219, 1.7557491814862947, -0.33418215698565384, -0.36898653868489917, -0.053909536663410196, 0.3312054704487845, -0.0701819178820426, 0.8815697464070676, 0.44185838710279196, 0.43611469097132877, -0.07031715164084198, -0.6002141992917431, 0.7545525522727039, 0.23617121490845747, -0.6517921025318381, 1.1346408626972306, -0.2589585308852226, -1.8185043433377492, -1.0012962870856807, -0.8385822319296605, -0.9973550356500325, 0.562107983148546, -2.2988266052358037, 0.8771526431814153, -0.7413820928312768, 0.44776314854753335, 1.3350092408510306, 0.1805096550206448, 1.7522359953206381, 0.12385054878704348, -2.015246573955783, 0.6904494874421021, -0.6627547992477942, -0.6687596742023091, 0.1479720149501183, 1.0093777762142584, -0.37547704167061763, 0.08831595650199713, 0.7245285334977353, 1.238110023684578, -0.22383069432704047, 0.13115197951032936, -0.49201430904382065, -0.5613515858429395, -0.058603034270792005, -0.6516719515097118, 0.8746302424267516, 0.7531286992581482, -0.5154560262208938, -0.11003537235693457, 1.6646485956567596, 0.27425408939490015, -0.22243578618604876, -1.5527567417115955, 0.8513567075629405, 0.9122651218519495, 0.5218503137083844, -0.7914445882844924], \"yaxis\": \"y12\"}, {\"line\": {\"color\": \"rgba(128, 128, 128, 1.0)\", \"dash\": \"solid\", \"shape\": \"linear\", \"width\": 1.3}, \"marker\": {\"size\": 2, \"symbol\": \"circle\"}, \"mode\": \"markers\", \"name\": \"D\", \"text\": \"\", \"type\": \"scatter\", \"x\": [-0.8460237271253019, 0.6850443896998784, 0.013609065845515527, -0.4988132770316513, -0.5026795682975888, -2.1648319958850464, -1.154552707782905, 0.4645360254620899, 1.3740964676790737, -2.242787929269608, 0.912469992443577, 0.9719058990913453, -1.4485752232730136, -1.4856817403879254, -1.7707609389688101, -1.544708909569676, -0.845047053954906, 1.5718728962014008, 1.7407180132610471, 2.146932204884541, 1.185958873022132, 0.2630462182169065, -0.751468859481539, 0.12184899133054408, 0.21414513681628883, 0.9417985234694084, 1.2425311236379861, -0.7377121463314611, -2.1358685937035027, -0.01613866776884078, -1.224414063134968, -0.43117966330931345, 0.4474472858747312, 0.36962982018769797, 0.847196324617692, 1.880012748500143, 1.1045060967752076, 0.4633019355132985, -1.464979842190436, 1.4075418941380369, -0.015380220180128674, 1.5729576249594048, 0.035613201302045094, -2.1191326657010925, 0.4674612766990198, 1.5672725306048771, 0.32374701394053695, -0.07586660607563349, -0.28766130688384633, 0.8484426019712326, 0.12285878967475791, 0.10747331366298463, -0.014364068259369946, 0.04745854722618259, 0.08562776472368197, -1.2389066249610874, -0.6995068508645815, -0.7972095540515397, 1.2007857778924123, -0.09290640667433647, -0.2934859290199042, -0.07763488078361577, 0.6157033452195625, 0.10784793323471127, -0.5688943346294603, 0.3980559147795507, 0.5661577662311075, -2.195580683945319, 0.8997439452375172, 0.6116820569345487, 0.898185107218264, -3.16636935240398, 0.5157190077667173, 1.7027542662620736, -1.8334998040533916, 1.5191373232065937, -0.17460849019525584, 1.131963144127607, 0.3568780584530282, 0.9102545259831278, 0.13445560873806117, 0.40655314317655816, 1.0152337299856296, 1.4398556923049288, -0.18648795002338767, 0.4306655374413637, 0.09626036855680789, 1.5076321511661732, -0.8426903877075556, -0.4677942497505051, 1.2558162159647377, -0.3149934105775024, 0.3672194688408298, -2.3065307475577677, -0.6732954546156035, 1.3521271382546514, -0.18481351745424293, -0.8944438856872224, 0.30256144019502035, -1.774058004598215], \"xaxis\": \"x13\", \"y\": [-0.32041892387271975, -2.535781600276222, -0.04408546179644281, -2.3405844134684664, 0.9279911450501884, 0.4814943220898587, 0.35579534383086114, -0.062251080946320966, 0.3868777530800276, -0.49476679614220437, -0.8387863285243597, -1.4927513724298949, 1.2485004032751141, -0.16209791744877255, -0.8870476807803657, -0.7158294517826341, 2.02848488832112, 1.0607859919277178, -0.21750756626159404, 1.4990989009356968, 0.051751008469180654, -1.0052906520292644, -1.426379303101054, 1.2046813063680146, -0.3629493168282169, -1.2206654939832016, 0.7211886077144074, 0.551180030907174, 0.7999843072857239, -0.4633938854086553, -1.1644528401192586, 0.24090921103096416, 0.8290872266015253, 0.45311341554065987, -1.1361473409312766, 0.19670201841562326, -0.7608891225045208, 1.6184820886651028, 0.23866783727270027, 0.3194834434206449, -0.13264957566792493, -1.3622899960664197, -0.5059548359033674, -1.5207193243701072, 0.0383896346451543, 0.22471006863672247, -2.3395958213400996, 0.9718642352457134, 0.08752113595260505, 0.056488911917380966, -1.7031511265948294, -0.6495058769759012, 0.4751392576008469, 0.22582576544344388, -0.8354357215301077, 0.40884315986866976, -0.13166199452853417, 0.38565091409043867, 0.9177919580778401, -0.1265514366785135, 0.7731541135723086, -0.6055012355430393, -0.17310095616672008, 0.0028625553929229187, -1.6173154377703736, 0.031842967913956875, 0.6445113835435722, 1.345475927676821, 0.8513210651772364, -0.5699597579069349, -0.5081477435741466, 2.385322514412292, 0.6838956460562465, -1.7810248489204372, -0.6742963308502551, -0.22565106772893542, 0.9012343551381534, 0.3214222698746299, -1.0393295551338915, -1.1493685840378596, -0.8523772077209022, 0.9627935646968878, 0.7503042411149256, -1.093233562900274, 0.6120289959054054, 1.0288597010418579, -0.8840007860265477, -1.519595799053845, 0.42338721210765096, 1.3554741239003676, -1.2549553286941448, -0.5482133703134511, 0.41457759610921063, 0.4244946373209914, -0.9564993222470815, 1.3348521387425258, -0.5195542890412702, -0.8003405815647018, 1.5954509655452298, -0.20080081745316186], \"yaxis\": \"y13\"}, {\"line\": {\"color\": \"rgba(128, 128, 128, 1.0)\", \"dash\": \"solid\", \"shape\": \"linear\", \"width\": 1.3}, \"marker\": {\"size\": 2, \"symbol\": \"circle\"}, \"mode\": \"markers\", \"name\": \"D\", \"text\": \"\", \"type\": \"scatter\", \"x\": [-1.6690665071741209, -0.9484589845302493, -0.8161375694116357, 0.6840786863502893, -2.2018317733312114, 0.017536684463240967, 1.2891016612183293, -1.804728629786003, 0.3259795023528879, 0.049809753323116025, -0.5586374064724668, 0.29429666978152597, 0.39061076983085435, 0.8943681379041947, -0.552752183630096, -3.254423561116218, 0.6019509133633993, -0.8259461083978703, 1.710869136590222, -0.6615216430491391, -1.1578938475951246, -1.053495434073233, 0.050146122300815554, 0.5165620720663516, -0.48796706452958144, -0.4419290713862438, -0.7685738951120951, 0.006761444700873407, -1.3503432760800622, 0.86268829936173, -0.3601098281120075, 1.5471265668795813, -0.7877036076046857, -0.11570378586982293, -0.38626518512976876, -1.6261076438084243, 0.1552139671521332, -0.5535272578079041, -0.4630992019337326, -0.6139324026188785, 1.39842534595313, 0.025329165810796576, -1.80275260504035, 0.2897836172364911, 0.10549183348243746, -1.154884935652627, 0.0900151454704177, -1.9925874148798286, 0.1854025982354397, -1.6396389383040153, 1.1334741520064942, -2.0443178533842548, -0.6515321439298384, 0.21430215795085017, -2.2171803435270627, -0.10679315372693604, 1.3358567958691514, -1.1979954208547445, 0.748006345653784, -1.2771340270653806, 0.24106633940119884, -0.17317250017492125, 1.4708772807273518, -0.2382694937834363, -0.7276772174913667, 0.3308764931989634, -1.0020418664013873, 1.8115458705425924, 0.524693389700117, 1.0641059387955556, -0.5677562318557139, 3.684053699497508, 0.07477586077751451, 1.16602333777211, -0.3644225537743912, -0.2561592131802757, 0.8456431281725347, -0.41187096117433014, -0.8736896574049339, 0.6679638026301171, 1.1001823918068032, 1.0535495494708962, -2.104565944240315, 0.3720753582969174, -0.5010108088639956, -0.5245036613989332, -0.24392870922439877, -0.19658226865093806, 0.6584933540744552, 0.2871266386215244, 1.0654171438176951, 1.7258373286970015, 2.107649563188196, 1.6470948082198242, 0.02453824662895236, -1.194105419184158, -1.214498105522763, 1.8090870987912386, -0.3243706643776886, -1.0410093775593163], \"xaxis\": \"x14\", \"y\": [-0.32041892387271975, -2.535781600276222, -0.04408546179644281, -2.3405844134684664, 0.9279911450501884, 0.4814943220898587, 0.35579534383086114, -0.062251080946320966, 0.3868777530800276, -0.49476679614220437, -0.8387863285243597, -1.4927513724298949, 1.2485004032751141, -0.16209791744877255, -0.8870476807803657, -0.7158294517826341, 2.02848488832112, 1.0607859919277178, -0.21750756626159404, 1.4990989009356968, 0.051751008469180654, -1.0052906520292644, -1.426379303101054, 1.2046813063680146, -0.3629493168282169, -1.2206654939832016, 0.7211886077144074, 0.551180030907174, 0.7999843072857239, -0.4633938854086553, -1.1644528401192586, 0.24090921103096416, 0.8290872266015253, 0.45311341554065987, -1.1361473409312766, 0.19670201841562326, -0.7608891225045208, 1.6184820886651028, 0.23866783727270027, 0.3194834434206449, -0.13264957566792493, -1.3622899960664197, -0.5059548359033674, -1.5207193243701072, 0.0383896346451543, 0.22471006863672247, -2.3395958213400996, 0.9718642352457134, 0.08752113595260505, 0.056488911917380966, -1.7031511265948294, -0.6495058769759012, 0.4751392576008469, 0.22582576544344388, -0.8354357215301077, 0.40884315986866976, -0.13166199452853417, 0.38565091409043867, 0.9177919580778401, -0.1265514366785135, 0.7731541135723086, -0.6055012355430393, -0.17310095616672008, 0.0028625553929229187, -1.6173154377703736, 0.031842967913956875, 0.6445113835435722, 1.345475927676821, 0.8513210651772364, -0.5699597579069349, -0.5081477435741466, 2.385322514412292, 0.6838956460562465, -1.7810248489204372, -0.6742963308502551, -0.22565106772893542, 0.9012343551381534, 0.3214222698746299, -1.0393295551338915, -1.1493685840378596, -0.8523772077209022, 0.9627935646968878, 0.7503042411149256, -1.093233562900274, 0.6120289959054054, 1.0288597010418579, -0.8840007860265477, -1.519595799053845, 0.42338721210765096, 1.3554741239003676, -1.2549553286941448, -0.5482133703134511, 0.41457759610921063, 0.4244946373209914, -0.9564993222470815, 1.3348521387425258, -0.5195542890412702, -0.8003405815647018, 1.5954509655452298, -0.20080081745316186], \"yaxis\": \"y14\"}, {\"line\": {\"color\": \"rgba(128, 128, 128, 1.0)\", \"dash\": \"solid\", \"shape\": \"linear\", \"width\": 1.3}, \"marker\": {\"size\": 2, \"symbol\": \"circle\"}, \"mode\": \"markers\", \"name\": \"D\", \"text\": \"\", \"type\": \"scatter\", \"x\": [1.2497020135564443, -0.9316000796524302, -0.007557078183790653, 0.4594372049529466, -0.6714989061973291, 0.28377275797757057, 0.34825899371820007, 0.25429155553242627, 0.5179819167995959, 1.024247936646388, 1.2752821551534776, -1.4349110925235573, 0.42960979907731234, -0.0065907366554523086, 2.0217422884557066, -0.093114659091693, -0.9518137597332781, -0.9636790193634064, -0.06122108403321417, 0.658900584897198, 0.03311330995050802, 0.11283798818109615, 0.2557261881204865, -1.9343893589294923, -1.4315757230520012, 1.809055941249507, 0.4038496434120006, 0.12390997039431657, -0.6385960151728208, -0.5792557171833106, 0.6604932205517213, -1.3021210807647674, -1.4678616658092518, 0.3879357314950945, -0.13207453362427443, 0.33180310031462557, -0.6038645039181272, 1.5238624040446942, -0.2368111706774786, -0.36892612529652086, -0.42227062872289656, 0.4275280571921868, 0.19561703339876219, 1.7557491814862947, -0.33418215698565384, -0.36898653868489917, -0.053909536663410196, 0.3312054704487845, -0.0701819178820426, 0.8815697464070676, 0.44185838710279196, 0.43611469097132877, -0.07031715164084198, -0.6002141992917431, 0.7545525522727039, 0.23617121490845747, -0.6517921025318381, 1.1346408626972306, -0.2589585308852226, -1.8185043433377492, -1.0012962870856807, -0.8385822319296605, -0.9973550356500325, 0.562107983148546, -2.2988266052358037, 0.8771526431814153, -0.7413820928312768, 0.44776314854753335, 1.3350092408510306, 0.1805096550206448, 1.7522359953206381, 0.12385054878704348, -2.015246573955783, 0.6904494874421021, -0.6627547992477942, -0.6687596742023091, 0.1479720149501183, 1.0093777762142584, -0.37547704167061763, 0.08831595650199713, 0.7245285334977353, 1.238110023684578, -0.22383069432704047, 0.13115197951032936, -0.49201430904382065, -0.5613515858429395, -0.058603034270792005, -0.6516719515097118, 0.8746302424267516, 0.7531286992581482, -0.5154560262208938, -0.11003537235693457, 1.6646485956567596, 0.27425408939490015, -0.22243578618604876, -1.5527567417115955, 0.8513567075629405, 0.9122651218519495, 0.5218503137083844, -0.7914445882844924], \"xaxis\": \"x15\", \"y\": [-0.32041892387271975, -2.535781600276222, -0.04408546179644281, -2.3405844134684664, 0.9279911450501884, 0.4814943220898587, 0.35579534383086114, -0.062251080946320966, 0.3868777530800276, -0.49476679614220437, -0.8387863285243597, -1.4927513724298949, 1.2485004032751141, -0.16209791744877255, -0.8870476807803657, -0.7158294517826341, 2.02848488832112, 1.0607859919277178, -0.21750756626159404, 1.4990989009356968, 0.051751008469180654, -1.0052906520292644, -1.426379303101054, 1.2046813063680146, -0.3629493168282169, -1.2206654939832016, 0.7211886077144074, 0.551180030907174, 0.7999843072857239, -0.4633938854086553, -1.1644528401192586, 0.24090921103096416, 0.8290872266015253, 0.45311341554065987, -1.1361473409312766, 0.19670201841562326, -0.7608891225045208, 1.6184820886651028, 0.23866783727270027, 0.3194834434206449, -0.13264957566792493, -1.3622899960664197, -0.5059548359033674, -1.5207193243701072, 0.0383896346451543, 0.22471006863672247, -2.3395958213400996, 0.9718642352457134, 0.08752113595260505, 0.056488911917380966, -1.7031511265948294, -0.6495058769759012, 0.4751392576008469, 0.22582576544344388, -0.8354357215301077, 0.40884315986866976, -0.13166199452853417, 0.38565091409043867, 0.9177919580778401, -0.1265514366785135, 0.7731541135723086, -0.6055012355430393, -0.17310095616672008, 0.0028625553929229187, -1.6173154377703736, 0.031842967913956875, 0.6445113835435722, 1.345475927676821, 0.8513210651772364, -0.5699597579069349, -0.5081477435741466, 2.385322514412292, 0.6838956460562465, -1.7810248489204372, -0.6742963308502551, -0.22565106772893542, 0.9012343551381534, 0.3214222698746299, -1.0393295551338915, -1.1493685840378596, -0.8523772077209022, 0.9627935646968878, 0.7503042411149256, -1.093233562900274, 0.6120289959054054, 1.0288597010418579, -0.8840007860265477, -1.519595799053845, 0.42338721210765096, 1.3554741239003676, -1.2549553286941448, -0.5482133703134511, 0.41457759610921063, 0.4244946373209914, -0.9564993222470815, 1.3348521387425258, -0.5195542890412702, -0.8003405815647018, 1.5954509655452298, -0.20080081745316186], \"yaxis\": \"y15\"}, {\"histfunc\": \"count\", \"histnorm\": \"\", \"marker\": {\"color\": \"rgba(128, 0, 128, 1.0)\", \"line\": {\"color\": \"#4D5663\", \"width\": 1.3}}, \"name\": \"D\", \"nbinsx\": 10, \"opacity\": 0.8, \"orientation\": \"v\", \"type\": \"histogram\", \"x\": [-0.32041892387271975, -2.535781600276222, -0.04408546179644281, -2.3405844134684664, 0.9279911450501884, 0.4814943220898587, 0.35579534383086114, -0.062251080946320966, 0.3868777530800276, -0.49476679614220437, -0.8387863285243597, -1.4927513724298949, 1.2485004032751141, -0.16209791744877255, -0.8870476807803657, -0.7158294517826341, 2.02848488832112, 1.0607859919277178, -0.21750756626159404, 1.4990989009356968, 0.051751008469180654, -1.0052906520292644, -1.426379303101054, 1.2046813063680146, -0.3629493168282169, -1.2206654939832016, 0.7211886077144074, 0.551180030907174, 0.7999843072857239, -0.4633938854086553, -1.1644528401192586, 0.24090921103096416, 0.8290872266015253, 0.45311341554065987, -1.1361473409312766, 0.19670201841562326, -0.7608891225045208, 1.6184820886651028, 0.23866783727270027, 0.3194834434206449, -0.13264957566792493, -1.3622899960664197, -0.5059548359033674, -1.5207193243701072, 0.0383896346451543, 0.22471006863672247, -2.3395958213400996, 0.9718642352457134, 0.08752113595260505, 0.056488911917380966, -1.7031511265948294, -0.6495058769759012, 0.4751392576008469, 0.22582576544344388, -0.8354357215301077, 0.40884315986866976, -0.13166199452853417, 0.38565091409043867, 0.9177919580778401, -0.1265514366785135, 0.7731541135723086, -0.6055012355430393, -0.17310095616672008, 0.0028625553929229187, -1.6173154377703736, 0.031842967913956875, 0.6445113835435722, 1.345475927676821, 0.8513210651772364, -0.5699597579069349, -0.5081477435741466, 2.385322514412292, 0.6838956460562465, -1.7810248489204372, -0.6742963308502551, -0.22565106772893542, 0.9012343551381534, 0.3214222698746299, -1.0393295551338915, -1.1493685840378596, -0.8523772077209022, 0.9627935646968878, 0.7503042411149256, -1.093233562900274, 0.6120289959054054, 1.0288597010418579, -0.8840007860265477, -1.519595799053845, 0.42338721210765096, 1.3554741239003676, -1.2549553286941448, -0.5482133703134511, 0.41457759610921063, 0.4244946373209914, -0.9564993222470815, 1.3348521387425258, -0.5195542890412702, -0.8003405815647018, 1.5954509655452298, -0.20080081745316186], \"xaxis\": \"x16\", \"yaxis\": \"y16\"}],\n",
       "                        {\"bargap\": 0.02, \"legend\": {\"bgcolor\": \"#F5F6F9\", \"font\": {\"color\": \"#4D5663\"}}, \"paper_bgcolor\": \"#F5F6F9\", \"plot_bgcolor\": \"#F5F6F9\", \"showlegend\": false, \"template\": {\"data\": {\"bar\": [{\"error_x\": {\"color\": \"#2a3f5f\"}, \"error_y\": {\"color\": \"#2a3f5f\"}, \"marker\": {\"line\": {\"color\": \"#E5ECF6\", \"width\": 0.5}}, \"type\": \"bar\"}], \"barpolar\": [{\"marker\": {\"line\": {\"color\": \"#E5ECF6\", \"width\": 0.5}}, \"type\": \"barpolar\"}], \"carpet\": [{\"aaxis\": {\"endlinecolor\": \"#2a3f5f\", \"gridcolor\": \"white\", \"linecolor\": \"white\", \"minorgridcolor\": \"white\", \"startlinecolor\": \"#2a3f5f\"}, \"baxis\": {\"endlinecolor\": \"#2a3f5f\", \"gridcolor\": \"white\", \"linecolor\": \"white\", \"minorgridcolor\": \"white\", \"startlinecolor\": \"#2a3f5f\"}, \"type\": \"carpet\"}], \"choropleth\": [{\"colorbar\": {\"outlinewidth\": 0, \"ticks\": \"\"}, \"type\": \"choropleth\"}], \"contour\": [{\"colorbar\": {\"outlinewidth\": 0, \"ticks\": \"\"}, \"colorscale\": [[0.0, \"#0d0887\"], [0.1111111111111111, \"#46039f\"], [0.2222222222222222, \"#7201a8\"], [0.3333333333333333, \"#9c179e\"], [0.4444444444444444, \"#bd3786\"], [0.5555555555555556, \"#d8576b\"], [0.6666666666666666, \"#ed7953\"], [0.7777777777777778, \"#fb9f3a\"], [0.8888888888888888, \"#fdca26\"], [1.0, \"#f0f921\"]], \"type\": \"contour\"}], \"contourcarpet\": [{\"colorbar\": {\"outlinewidth\": 0, \"ticks\": \"\"}, \"type\": \"contourcarpet\"}], \"heatmap\": [{\"colorbar\": {\"outlinewidth\": 0, \"ticks\": \"\"}, \"colorscale\": [[0.0, \"#0d0887\"], [0.1111111111111111, \"#46039f\"], [0.2222222222222222, \"#7201a8\"], [0.3333333333333333, \"#9c179e\"], [0.4444444444444444, \"#bd3786\"], [0.5555555555555556, \"#d8576b\"], [0.6666666666666666, \"#ed7953\"], [0.7777777777777778, \"#fb9f3a\"], [0.8888888888888888, \"#fdca26\"], [1.0, \"#f0f921\"]], \"type\": \"heatmap\"}], \"heatmapgl\": [{\"colorbar\": {\"outlinewidth\": 0, \"ticks\": \"\"}, \"colorscale\": [[0.0, \"#0d0887\"], [0.1111111111111111, \"#46039f\"], [0.2222222222222222, \"#7201a8\"], [0.3333333333333333, \"#9c179e\"], [0.4444444444444444, \"#bd3786\"], [0.5555555555555556, \"#d8576b\"], [0.6666666666666666, \"#ed7953\"], [0.7777777777777778, \"#fb9f3a\"], [0.8888888888888888, \"#fdca26\"], [1.0, \"#f0f921\"]], \"type\": \"heatmapgl\"}], \"histogram\": [{\"marker\": {\"colorbar\": {\"outlinewidth\": 0, \"ticks\": \"\"}}, \"type\": \"histogram\"}], \"histogram2d\": [{\"colorbar\": {\"outlinewidth\": 0, \"ticks\": \"\"}, \"colorscale\": [[0.0, \"#0d0887\"], [0.1111111111111111, \"#46039f\"], [0.2222222222222222, \"#7201a8\"], [0.3333333333333333, \"#9c179e\"], [0.4444444444444444, \"#bd3786\"], [0.5555555555555556, \"#d8576b\"], [0.6666666666666666, \"#ed7953\"], [0.7777777777777778, \"#fb9f3a\"], [0.8888888888888888, \"#fdca26\"], [1.0, \"#f0f921\"]], \"type\": \"histogram2d\"}], \"histogram2dcontour\": [{\"colorbar\": {\"outlinewidth\": 0, \"ticks\": \"\"}, \"colorscale\": [[0.0, \"#0d0887\"], [0.1111111111111111, \"#46039f\"], [0.2222222222222222, \"#7201a8\"], [0.3333333333333333, \"#9c179e\"], [0.4444444444444444, \"#bd3786\"], [0.5555555555555556, \"#d8576b\"], [0.6666666666666666, \"#ed7953\"], [0.7777777777777778, \"#fb9f3a\"], [0.8888888888888888, \"#fdca26\"], [1.0, \"#f0f921\"]], \"type\": \"histogram2dcontour\"}], \"mesh3d\": [{\"colorbar\": {\"outlinewidth\": 0, \"ticks\": \"\"}, \"type\": \"mesh3d\"}], \"parcoords\": [{\"line\": {\"colorbar\": {\"outlinewidth\": 0, \"ticks\": \"\"}}, \"type\": \"parcoords\"}], \"pie\": [{\"automargin\": true, \"type\": \"pie\"}], \"scatter\": [{\"marker\": {\"colorbar\": {\"outlinewidth\": 0, \"ticks\": \"\"}}, \"type\": \"scatter\"}], \"scatter3d\": [{\"line\": {\"colorbar\": {\"outlinewidth\": 0, \"ticks\": \"\"}}, \"marker\": {\"colorbar\": {\"outlinewidth\": 0, \"ticks\": \"\"}}, \"type\": \"scatter3d\"}], \"scattercarpet\": [{\"marker\": {\"colorbar\": {\"outlinewidth\": 0, \"ticks\": \"\"}}, \"type\": \"scattercarpet\"}], \"scattergeo\": [{\"marker\": {\"colorbar\": {\"outlinewidth\": 0, \"ticks\": \"\"}}, \"type\": \"scattergeo\"}], \"scattergl\": [{\"marker\": {\"colorbar\": {\"outlinewidth\": 0, \"ticks\": \"\"}}, \"type\": \"scattergl\"}], \"scattermapbox\": [{\"marker\": {\"colorbar\": {\"outlinewidth\": 0, \"ticks\": \"\"}}, \"type\": \"scattermapbox\"}], \"scatterpolar\": [{\"marker\": {\"colorbar\": {\"outlinewidth\": 0, \"ticks\": \"\"}}, \"type\": \"scatterpolar\"}], \"scatterpolargl\": [{\"marker\": {\"colorbar\": {\"outlinewidth\": 0, \"ticks\": \"\"}}, \"type\": \"scatterpolargl\"}], \"scatterternary\": [{\"marker\": {\"colorbar\": {\"outlinewidth\": 0, \"ticks\": \"\"}}, \"type\": \"scatterternary\"}], \"surface\": [{\"colorbar\": {\"outlinewidth\": 0, \"ticks\": \"\"}, \"colorscale\": [[0.0, \"#0d0887\"], [0.1111111111111111, \"#46039f\"], [0.2222222222222222, \"#7201a8\"], [0.3333333333333333, \"#9c179e\"], [0.4444444444444444, \"#bd3786\"], [0.5555555555555556, \"#d8576b\"], [0.6666666666666666, \"#ed7953\"], [0.7777777777777778, \"#fb9f3a\"], [0.8888888888888888, \"#fdca26\"], [1.0, \"#f0f921\"]], \"type\": \"surface\"}], \"table\": [{\"cells\": {\"fill\": {\"color\": \"#EBF0F8\"}, \"line\": {\"color\": \"white\"}}, \"header\": {\"fill\": {\"color\": \"#C8D4E3\"}, \"line\": {\"color\": \"white\"}}, \"type\": \"table\"}]}, \"layout\": {\"annotationdefaults\": {\"arrowcolor\": \"#2a3f5f\", \"arrowhead\": 0, \"arrowwidth\": 1}, \"coloraxis\": {\"colorbar\": {\"outlinewidth\": 0, \"ticks\": \"\"}}, \"colorscale\": {\"diverging\": [[0, \"#8e0152\"], [0.1, \"#c51b7d\"], [0.2, \"#de77ae\"], [0.3, \"#f1b6da\"], [0.4, \"#fde0ef\"], [0.5, \"#f7f7f7\"], [0.6, \"#e6f5d0\"], [0.7, \"#b8e186\"], [0.8, \"#7fbc41\"], [0.9, \"#4d9221\"], [1, \"#276419\"]], \"sequential\": [[0.0, \"#0d0887\"], [0.1111111111111111, \"#46039f\"], [0.2222222222222222, \"#7201a8\"], [0.3333333333333333, \"#9c179e\"], [0.4444444444444444, \"#bd3786\"], [0.5555555555555556, \"#d8576b\"], [0.6666666666666666, \"#ed7953\"], [0.7777777777777778, \"#fb9f3a\"], [0.8888888888888888, \"#fdca26\"], [1.0, \"#f0f921\"]], \"sequentialminus\": [[0.0, \"#0d0887\"], [0.1111111111111111, \"#46039f\"], [0.2222222222222222, \"#7201a8\"], [0.3333333333333333, \"#9c179e\"], [0.4444444444444444, \"#bd3786\"], [0.5555555555555556, \"#d8576b\"], [0.6666666666666666, \"#ed7953\"], [0.7777777777777778, \"#fb9f3a\"], [0.8888888888888888, \"#fdca26\"], [1.0, \"#f0f921\"]]}, \"colorway\": [\"#636efa\", \"#EF553B\", \"#00cc96\", \"#ab63fa\", \"#FFA15A\", \"#19d3f3\", \"#FF6692\", \"#B6E880\", \"#FF97FF\", \"#FECB52\"], \"font\": {\"color\": \"#2a3f5f\"}, \"geo\": {\"bgcolor\": \"white\", \"lakecolor\": \"white\", \"landcolor\": \"#E5ECF6\", \"showlakes\": true, \"showland\": true, \"subunitcolor\": \"white\"}, \"hoverlabel\": {\"align\": \"left\"}, \"hovermode\": \"closest\", \"mapbox\": {\"style\": \"light\"}, \"paper_bgcolor\": \"white\", \"plot_bgcolor\": \"#E5ECF6\", \"polar\": {\"angularaxis\": {\"gridcolor\": \"white\", \"linecolor\": \"white\", \"ticks\": \"\"}, \"bgcolor\": \"#E5ECF6\", \"radialaxis\": {\"gridcolor\": \"white\", \"linecolor\": \"white\", \"ticks\": \"\"}}, \"scene\": {\"xaxis\": {\"backgroundcolor\": \"#E5ECF6\", \"gridcolor\": \"white\", \"gridwidth\": 2, \"linecolor\": \"white\", \"showbackground\": true, \"ticks\": \"\", \"zerolinecolor\": \"white\"}, \"yaxis\": {\"backgroundcolor\": \"#E5ECF6\", \"gridcolor\": \"white\", \"gridwidth\": 2, \"linecolor\": \"white\", \"showbackground\": true, \"ticks\": \"\", \"zerolinecolor\": \"white\"}, \"zaxis\": {\"backgroundcolor\": \"#E5ECF6\", \"gridcolor\": \"white\", \"gridwidth\": 2, \"linecolor\": \"white\", \"showbackground\": true, \"ticks\": \"\", \"zerolinecolor\": \"white\"}}, \"shapedefaults\": {\"line\": {\"color\": \"#2a3f5f\"}}, \"ternary\": {\"aaxis\": {\"gridcolor\": \"white\", \"linecolor\": \"white\", \"ticks\": \"\"}, \"baxis\": {\"gridcolor\": \"white\", \"linecolor\": \"white\", \"ticks\": \"\"}, \"bgcolor\": \"#E5ECF6\", \"caxis\": {\"gridcolor\": \"white\", \"linecolor\": \"white\", \"ticks\": \"\"}}, \"title\": {\"x\": 0.05}, \"xaxis\": {\"automargin\": true, \"gridcolor\": \"white\", \"linecolor\": \"white\", \"ticks\": \"\", \"title\": {\"standoff\": 15}, \"zerolinecolor\": \"white\", \"zerolinewidth\": 2}, \"yaxis\": {\"automargin\": true, \"gridcolor\": \"white\", \"linecolor\": \"white\", \"ticks\": \"\", \"title\": {\"standoff\": 15}, \"zerolinecolor\": \"white\", \"zerolinewidth\": 2}}}, \"title\": {\"font\": {\"color\": \"#4D5663\"}}, \"xaxis\": {\"anchor\": \"y\", \"domain\": [0.0, 0.2125], \"gridcolor\": \"#E1E5ED\", \"showgrid\": false, \"tickfont\": {\"color\": \"#4D5663\"}, \"title\": {\"font\": {\"color\": \"#4D5663\"}, \"text\": \"\"}, \"zerolinecolor\": \"#E1E5ED\"}, \"xaxis10\": {\"anchor\": \"y10\", \"domain\": [0.2625, 0.475], \"gridcolor\": \"#E1E5ED\", \"showgrid\": false, \"tickfont\": {\"color\": \"#4D5663\"}, \"title\": {\"font\": {\"color\": \"#4D5663\"}, \"text\": \"\"}, \"zerolinecolor\": \"#E1E5ED\"}, \"xaxis11\": {\"anchor\": \"y11\", \"domain\": [0.525, 0.7375], \"gridcolor\": \"#E1E5ED\", \"showgrid\": false, \"tickfont\": {\"color\": \"#4D5663\"}, \"title\": {\"font\": {\"color\": \"#4D5663\"}, \"text\": \"\"}, \"zerolinecolor\": \"#E1E5ED\"}, \"xaxis12\": {\"anchor\": \"y12\", \"domain\": [0.7875, 1.0], \"gridcolor\": \"#E1E5ED\", \"showgrid\": false, \"tickfont\": {\"color\": \"#4D5663\"}, \"title\": {\"font\": {\"color\": \"#4D5663\"}, \"text\": \"\"}, \"zerolinecolor\": \"#E1E5ED\"}, \"xaxis13\": {\"anchor\": \"y13\", \"domain\": [0.0, 0.2125], \"gridcolor\": \"#E1E5ED\", \"showgrid\": false, \"tickfont\": {\"color\": \"#4D5663\"}, \"title\": {\"font\": {\"color\": \"#4D5663\"}, \"text\": \"\"}, \"zerolinecolor\": \"#E1E5ED\"}, \"xaxis14\": {\"anchor\": \"y14\", \"domain\": [0.2625, 0.475], \"gridcolor\": \"#E1E5ED\", \"showgrid\": false, \"tickfont\": {\"color\": \"#4D5663\"}, \"title\": {\"font\": {\"color\": \"#4D5663\"}, \"text\": \"\"}, \"zerolinecolor\": \"#E1E5ED\"}, \"xaxis15\": {\"anchor\": \"y15\", \"domain\": [0.525, 0.7375], \"gridcolor\": \"#E1E5ED\", \"showgrid\": false, \"tickfont\": {\"color\": \"#4D5663\"}, \"title\": {\"font\": {\"color\": \"#4D5663\"}, \"text\": \"\"}, \"zerolinecolor\": \"#E1E5ED\"}, \"xaxis16\": {\"anchor\": \"y16\", \"domain\": [0.7875, 1.0], \"gridcolor\": \"#E1E5ED\", \"showgrid\": false, \"tickfont\": {\"color\": \"#4D5663\"}, \"title\": {\"font\": {\"color\": \"#4D5663\"}, \"text\": \"\"}, \"zerolinecolor\": \"#E1E5ED\"}, \"xaxis2\": {\"anchor\": \"y2\", \"domain\": [0.2625, 0.475], \"gridcolor\": \"#E1E5ED\", \"showgrid\": false, \"tickfont\": {\"color\": \"#4D5663\"}, \"title\": {\"font\": {\"color\": \"#4D5663\"}, \"text\": \"\"}, \"zerolinecolor\": \"#E1E5ED\"}, \"xaxis3\": {\"anchor\": \"y3\", \"domain\": [0.525, 0.7375], \"gridcolor\": \"#E1E5ED\", \"showgrid\": false, \"tickfont\": {\"color\": \"#4D5663\"}, \"title\": {\"font\": {\"color\": \"#4D5663\"}, \"text\": \"\"}, \"zerolinecolor\": \"#E1E5ED\"}, \"xaxis4\": {\"anchor\": \"y4\", \"domain\": [0.7875, 1.0], \"gridcolor\": \"#E1E5ED\", \"showgrid\": false, \"tickfont\": {\"color\": \"#4D5663\"}, \"title\": {\"font\": {\"color\": \"#4D5663\"}, \"text\": \"\"}, \"zerolinecolor\": \"#E1E5ED\"}, \"xaxis5\": {\"anchor\": \"y5\", \"domain\": [0.0, 0.2125], \"gridcolor\": \"#E1E5ED\", \"showgrid\": false, \"tickfont\": {\"color\": \"#4D5663\"}, \"title\": {\"font\": {\"color\": \"#4D5663\"}, \"text\": \"\"}, \"zerolinecolor\": \"#E1E5ED\"}, \"xaxis6\": {\"anchor\": \"y6\", \"domain\": [0.2625, 0.475], \"gridcolor\": \"#E1E5ED\", \"showgrid\": false, \"tickfont\": {\"color\": \"#4D5663\"}, \"title\": {\"font\": {\"color\": \"#4D5663\"}, \"text\": \"\"}, \"zerolinecolor\": \"#E1E5ED\"}, \"xaxis7\": {\"anchor\": \"y7\", \"domain\": [0.525, 0.7375], \"gridcolor\": \"#E1E5ED\", \"showgrid\": false, \"tickfont\": {\"color\": \"#4D5663\"}, \"title\": {\"font\": {\"color\": \"#4D5663\"}, \"text\": \"\"}, \"zerolinecolor\": \"#E1E5ED\"}, \"xaxis8\": {\"anchor\": \"y8\", \"domain\": [0.7875, 1.0], \"gridcolor\": \"#E1E5ED\", \"showgrid\": false, \"tickfont\": {\"color\": \"#4D5663\"}, \"title\": {\"font\": {\"color\": \"#4D5663\"}, \"text\": \"\"}, \"zerolinecolor\": \"#E1E5ED\"}, \"xaxis9\": {\"anchor\": \"y9\", \"domain\": [0.0, 0.2125], \"gridcolor\": \"#E1E5ED\", \"showgrid\": false, \"tickfont\": {\"color\": \"#4D5663\"}, \"title\": {\"font\": {\"color\": \"#4D5663\"}, \"text\": \"\"}, \"zerolinecolor\": \"#E1E5ED\"}, \"yaxis\": {\"anchor\": \"x\", \"domain\": [0.8025, 1.0], \"gridcolor\": \"#E1E5ED\", \"showgrid\": false, \"tickfont\": {\"color\": \"#4D5663\"}, \"title\": {\"font\": {\"color\": \"#4D5663\"}, \"text\": \"\"}, \"zerolinecolor\": \"#E1E5ED\"}, \"yaxis10\": {\"anchor\": \"x10\", \"domain\": [0.2675, 0.465], \"gridcolor\": \"#E1E5ED\", \"showgrid\": false, \"tickfont\": {\"color\": \"#4D5663\"}, \"title\": {\"font\": {\"color\": \"#4D5663\"}, \"text\": \"\"}, \"zerolinecolor\": \"#E1E5ED\"}, \"yaxis11\": {\"anchor\": \"x11\", \"domain\": [0.2675, 0.465], \"gridcolor\": \"#E1E5ED\", \"showgrid\": false, \"tickfont\": {\"color\": \"#4D5663\"}, \"title\": {\"font\": {\"color\": \"#4D5663\"}, \"text\": \"\"}, \"zerolinecolor\": \"#E1E5ED\"}, \"yaxis12\": {\"anchor\": \"x12\", \"domain\": [0.2675, 0.465], \"gridcolor\": \"#E1E5ED\", \"showgrid\": false, \"tickfont\": {\"color\": \"#4D5663\"}, \"title\": {\"font\": {\"color\": \"#4D5663\"}, \"text\": \"\"}, \"zerolinecolor\": \"#E1E5ED\"}, \"yaxis13\": {\"anchor\": \"x13\", \"domain\": [0.0, 0.1975], \"gridcolor\": \"#E1E5ED\", \"showgrid\": false, \"tickfont\": {\"color\": \"#4D5663\"}, \"title\": {\"font\": {\"color\": \"#4D5663\"}, \"text\": \"\"}, \"zerolinecolor\": \"#E1E5ED\"}, \"yaxis14\": {\"anchor\": \"x14\", \"domain\": [0.0, 0.1975], \"gridcolor\": \"#E1E5ED\", \"showgrid\": false, \"tickfont\": {\"color\": \"#4D5663\"}, \"title\": {\"font\": {\"color\": \"#4D5663\"}, \"text\": \"\"}, \"zerolinecolor\": \"#E1E5ED\"}, \"yaxis15\": {\"anchor\": \"x15\", \"domain\": [0.0, 0.1975], \"gridcolor\": \"#E1E5ED\", \"showgrid\": false, \"tickfont\": {\"color\": \"#4D5663\"}, \"title\": {\"font\": {\"color\": \"#4D5663\"}, \"text\": \"\"}, \"zerolinecolor\": \"#E1E5ED\"}, \"yaxis16\": {\"anchor\": \"x16\", \"domain\": [0.0, 0.1975], \"gridcolor\": \"#E1E5ED\", \"showgrid\": false, \"tickfont\": {\"color\": \"#4D5663\"}, \"title\": {\"font\": {\"color\": \"#4D5663\"}, \"text\": \"\"}, \"zerolinecolor\": \"#E1E5ED\"}, \"yaxis2\": {\"anchor\": \"x2\", \"domain\": [0.8025, 1.0], \"gridcolor\": \"#E1E5ED\", \"showgrid\": false, \"tickfont\": {\"color\": \"#4D5663\"}, \"title\": {\"font\": {\"color\": \"#4D5663\"}, \"text\": \"\"}, \"zerolinecolor\": \"#E1E5ED\"}, \"yaxis3\": {\"anchor\": \"x3\", \"domain\": [0.8025, 1.0], \"gridcolor\": \"#E1E5ED\", \"showgrid\": false, \"tickfont\": {\"color\": \"#4D5663\"}, \"title\": {\"font\": {\"color\": \"#4D5663\"}, \"text\": \"\"}, \"zerolinecolor\": \"#E1E5ED\"}, \"yaxis4\": {\"anchor\": \"x4\", \"domain\": [0.8025, 1.0], \"gridcolor\": \"#E1E5ED\", \"showgrid\": false, \"tickfont\": {\"color\": \"#4D5663\"}, \"title\": {\"font\": {\"color\": \"#4D5663\"}, \"text\": \"\"}, \"zerolinecolor\": \"#E1E5ED\"}, \"yaxis5\": {\"anchor\": \"x5\", \"domain\": [0.535, 0.7325], \"gridcolor\": \"#E1E5ED\", \"showgrid\": false, \"tickfont\": {\"color\": \"#4D5663\"}, \"title\": {\"font\": {\"color\": \"#4D5663\"}, \"text\": \"\"}, \"zerolinecolor\": \"#E1E5ED\"}, \"yaxis6\": {\"anchor\": \"x6\", \"domain\": [0.535, 0.7325], \"gridcolor\": \"#E1E5ED\", \"showgrid\": false, \"tickfont\": {\"color\": \"#4D5663\"}, \"title\": {\"font\": {\"color\": \"#4D5663\"}, \"text\": \"\"}, \"zerolinecolor\": \"#E1E5ED\"}, \"yaxis7\": {\"anchor\": \"x7\", \"domain\": [0.535, 0.7325], \"gridcolor\": \"#E1E5ED\", \"showgrid\": false, \"tickfont\": {\"color\": \"#4D5663\"}, \"title\": {\"font\": {\"color\": \"#4D5663\"}, \"text\": \"\"}, \"zerolinecolor\": \"#E1E5ED\"}, \"yaxis8\": {\"anchor\": \"x8\", \"domain\": [0.535, 0.7325], \"gridcolor\": \"#E1E5ED\", \"showgrid\": false, \"tickfont\": {\"color\": \"#4D5663\"}, \"title\": {\"font\": {\"color\": \"#4D5663\"}, \"text\": \"\"}, \"zerolinecolor\": \"#E1E5ED\"}, \"yaxis9\": {\"anchor\": \"x9\", \"domain\": [0.2675, 0.465], \"gridcolor\": \"#E1E5ED\", \"showgrid\": false, \"tickfont\": {\"color\": \"#4D5663\"}, \"title\": {\"font\": {\"color\": \"#4D5663\"}, \"text\": \"\"}, \"zerolinecolor\": \"#E1E5ED\"}},\n",
       "                        {\"showLink\": true, \"linkText\": \"Export to plot.ly\", \"plotlyServerURL\": \"https://plot.ly\", \"responsive\": true}\n",
       "                    ).then(function(){\n",
       "                            \n",
       "var gd = document.getElementById('7f235a13-d170-4c62-a7ab-69508e080689');\n",
       "var x = new MutationObserver(function (mutations, observer) {{\n",
       "        var display = window.getComputedStyle(gd).display;\n",
       "        if (!display || display === 'none') {{\n",
       "            console.log([gd, 'removed!']);\n",
       "            Plotly.purge(gd);\n",
       "            observer.disconnect();\n",
       "        }}\n",
       "}});\n",
       "\n",
       "// Listen for the removal of the full notebook cells\n",
       "var notebookContainer = gd.closest('#notebook-container');\n",
       "if (notebookContainer) {{\n",
       "    x.observe(notebookContainer, {childList: true});\n",
       "}}\n",
       "\n",
       "// Listen for the clearing of the current output cell\n",
       "var outputEl = gd.closest('.output');\n",
       "if (outputEl) {{\n",
       "    x.observe(outputEl, {childList: true});\n",
       "}}\n",
       "\n",
       "                        })\n",
       "                };\n",
       "                });\n",
       "            </script>\n",
       "        </div>"
      ]
     },
     "metadata": {},
     "output_type": "display_data"
    }
   ],
   "source": [
    "df1.scatter_matrix()"
   ]
  }
 ],
 "metadata": {
  "kernelspec": {
   "display_name": "Python 3",
   "language": "python",
   "name": "python3"
  },
  "language_info": {
   "codemirror_mode": {
    "name": "ipython",
    "version": 3
   },
   "file_extension": ".py",
   "mimetype": "text/x-python",
   "name": "python",
   "nbconvert_exporter": "python",
   "pygments_lexer": "ipython3",
   "version": "3.7.6"
  }
 },
 "nbformat": 4,
 "nbformat_minor": 4
}
