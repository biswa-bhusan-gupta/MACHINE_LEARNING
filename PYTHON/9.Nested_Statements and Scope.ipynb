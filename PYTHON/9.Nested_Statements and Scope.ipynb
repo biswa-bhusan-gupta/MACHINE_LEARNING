{
 "cells": [
  {
   "cell_type": "code",
   "execution_count": 1,
   "metadata": {},
   "outputs": [],
   "source": [
    "# LEGB RULE:"
   ]
  },
  {
   "cell_type": "code",
   "execution_count": 2,
   "metadata": {},
   "outputs": [
    {
     "name": "stdout",
     "output_type": "stream",
     "text": [
      "Local Level\n"
     ]
    }
   ],
   "source": [
    "# LOCAL\n",
    "x=\"Global Level\"\n",
    "def Enclosing():\n",
    "    x=\"Enclosing Level\"\n",
    "    def Local():\n",
    "        x=\"Local Level\"\n",
    "        print(x)\n",
    "    Local()\n",
    "Enclosing()"
   ]
  },
  {
   "cell_type": "code",
   "execution_count": 3,
   "metadata": {},
   "outputs": [
    {
     "name": "stdout",
     "output_type": "stream",
     "text": [
      "Enclosing Level\n"
     ]
    }
   ],
   "source": [
    "# ENCLOSING\n",
    "x=\"Global Level\"\n",
    "def Enclosing():\n",
    "    x=\"Enclosing Level\"\n",
    "    def Local():\n",
    "        print(x)\n",
    "    Local()\n",
    "Enclosing()"
   ]
  },
  {
   "cell_type": "code",
   "execution_count": 4,
   "metadata": {},
   "outputs": [
    {
     "name": "stdout",
     "output_type": "stream",
     "text": [
      "Global Level\n"
     ]
    }
   ],
   "source": [
    "# GLOBAL\n",
    "x=\"Global Level\"\n",
    "def Enclosing():\n",
    "    def Local():\n",
    "        print(x)\n",
    "    Local()\n",
    "Enclosing()"
   ]
  },
  {
   "cell_type": "code",
   "execution_count": 5,
   "metadata": {},
   "outputs": [
    {
     "name": "stdout",
     "output_type": "stream",
     "text": [
      "Inside\n",
      "Inside\n"
     ]
    }
   ],
   "source": [
    "x=\"Outside\"\n",
    "def Report():\n",
    "    global x;\n",
    "    x=\"Inside\"\n",
    "    return x;\n",
    "print(Report())\n",
    "print(x)"
   ]
  },
  {
   "cell_type": "code",
   "execution_count": 6,
   "metadata": {},
   "outputs": [
    {
     "name": "stdout",
     "output_type": "stream",
     "text": [
      "Inside\n",
      "Outside\n"
     ]
    }
   ],
   "source": [
    "x=\"Outside\"\n",
    "def Report():\n",
    "    x=\"Inside\"\n",
    "    return x;\n",
    "print(Report())\n",
    "print(x)"
   ]
  },
  {
   "cell_type": "code",
   "execution_count": null,
   "metadata": {},
   "outputs": [],
   "source": []
  }
 ],
 "metadata": {
  "kernelspec": {
   "display_name": "Python 3",
   "language": "python",
   "name": "python3"
  },
  "language_info": {
   "codemirror_mode": {
    "name": "ipython",
    "version": 3
   },
   "file_extension": ".py",
   "mimetype": "text/x-python",
   "name": "python",
   "nbconvert_exporter": "python",
   "pygments_lexer": "ipython3",
   "version": "3.7.6"
  }
 },
 "nbformat": 4,
 "nbformat_minor": 4
}
