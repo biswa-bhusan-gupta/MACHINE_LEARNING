{
 "cells": [
  {
   "cell_type": "code",
   "execution_count": 1,
   "metadata": {},
   "outputs": [
    {
     "name": "stdout",
     "output_type": "stream",
     "text": [
      "5\n"
     ]
    }
   ],
   "source": [
    "print(len(\"Hello\"))"
   ]
  },
  {
   "cell_type": "code",
   "execution_count": 2,
   "metadata": {},
   "outputs": [
    {
     "name": "stdout",
     "output_type": "stream",
     "text": [
      "e\n",
      "l\n"
     ]
    }
   ],
   "source": [
    "x=\"Hello World\"\n",
    "print(x[1]);\n",
    "print(x[-2]);"
   ]
  },
  {
   "cell_type": "code",
   "execution_count": 3,
   "metadata": {},
   "outputs": [
    {
     "name": "stdout",
     "output_type": "stream",
     "text": [
      "ABCDEFGHIJ\n",
      "ABCDE\n",
      "ADGJ\n",
      "ADGJM\n",
      "ONMLKJIHGFEDCBA\n"
     ]
    }
   ],
   "source": [
    "# SLICING\n",
    "x=\"ABCDEFGHIJKLMNO\"\n",
    "print(x[0:10]);\n",
    "print(x[0:-10]);\n",
    "print(x[0:10:3]);\n",
    "print(x[::3]);\n",
    "print(x[::-1]);\n"
   ]
  },
  {
   "cell_type": "code",
   "execution_count": 4,
   "metadata": {},
   "outputs": [
    {
     "name": "stdout",
     "output_type": "stream",
     "text": [
      "ABCDEFGHIJKLMNO ABCDEFGHIJKLMNO\n"
     ]
    }
   ],
   "source": [
    "# CONCATENATION\n",
    "print(x +\" \"+x);"
   ]
  },
  {
   "cell_type": "code",
   "execution_count": 5,
   "metadata": {},
   "outputs": [
    {
     "name": "stdout",
     "output_type": "stream",
     "text": [
      "hello world\n",
      "HELLO WORLD\n"
     ]
    }
   ],
   "source": [
    "# UPPERCASE LOWERCASE\n",
    "y=\"Hello World\"\n",
    "print(y.lower());\n",
    "print(y.upper());"
   ]
  },
  {
   "cell_type": "code",
   "execution_count": 6,
   "metadata": {},
   "outputs": [
    {
     "name": "stdout",
     "output_type": "stream",
     "text": [
      "['Hello', 'World']\n",
      "['Hello ', 'orld']\n"
     ]
    }
   ],
   "source": [
    "# SPLIT\n",
    "print(y.split());\n",
    "print(y.split(\"W\"));"
   ]
  },
  {
   "cell_type": "code",
   "execution_count": 7,
   "metadata": {},
   "outputs": [
    {
     "name": "stdout",
     "output_type": "stream",
     "text": [
      "Biswa roll number is 1805030\n",
      "Biswa roll number is 1805030\n"
     ]
    }
   ],
   "source": [
    "# INPUT\n",
    "name=\"Biswa\"\n",
    "roll=\"1805030\"\n",
    "\n",
    "print(\"{} roll number is {}\".format(name,roll));\n",
    "print(f\"{name} roll number is {roll}\");"
   ]
  },
  {
   "cell_type": "code",
   "execution_count": null,
   "metadata": {},
   "outputs": [],
   "source": []
  }
 ],
 "metadata": {
  "kernelspec": {
   "display_name": "Python 3",
   "language": "python",
   "name": "python3"
  },
  "language_info": {
   "codemirror_mode": {
    "name": "ipython",
    "version": 3
   },
   "file_extension": ".py",
   "mimetype": "text/x-python",
   "name": "python",
   "nbconvert_exporter": "python",
   "pygments_lexer": "ipython3",
   "version": "3.7.6"
  }
 },
 "nbformat": 4,
 "nbformat_minor": 4
}
