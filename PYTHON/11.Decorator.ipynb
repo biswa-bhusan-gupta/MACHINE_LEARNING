{
 "cells": [
  {
   "cell_type": "code",
   "execution_count": 1,
   "metadata": {},
   "outputs": [
    {
     "name": "stdout",
     "output_type": "stream",
     "text": [
      "Hello Function Called\n",
      "    Greet() Function Called\n"
     ]
    }
   ],
   "source": [
    "#  IF A FUNCTION INSIDE ANOTHER FUNCTION,IF THE INNER FUNCTION RETURNS,USE () \n",
    "\n",
    "def Hello(Name=\"Biswa\"):\n",
    "    print(f\"Hello Function Called\");\n",
    "    \n",
    "    def Greet():\n",
    "        return \"    Greet() Function Called\"\n",
    "    \n",
    "    def Welcome():\n",
    "        return \"    Welcome() Function Called\"\n",
    "    \n",
    "    if Name==\"Biswa\":\n",
    "        return Welcome\n",
    "    else :\n",
    "        return Greet\n",
    "    \n",
    "x=Hello(Name=\"Sammy\")\n",
    "print(x())"
   ]
  },
  {
   "cell_type": "code",
   "execution_count": 2,
   "metadata": {},
   "outputs": [
    {
     "name": "stdout",
     "output_type": "stream",
     "text": [
      "Function\n"
     ]
    },
    {
     "data": {
      "text/plain": [
       "'Hii Biswa'"
      ]
     },
     "execution_count": 2,
     "metadata": {},
     "output_type": "execute_result"
    }
   ],
   "source": [
    "def Second():\n",
    "    return \"Hii Biswa\"\n",
    "\n",
    "def First(Function):\n",
    "    print(\"Function\");\n",
    "    return Function()\n",
    "\n",
    "First(Second)"
   ]
  },
  {
   "cell_type": "code",
   "execution_count": 3,
   "metadata": {},
   "outputs": [
    {
     "name": "stdout",
     "output_type": "stream",
     "text": [
      "Before Function\n",
      "I am in z\n",
      "After Function\n"
     ]
    }
   ],
   "source": [
    "def Decorator(Func):\n",
    "    def x():\n",
    "        print(\"Before Function\");\n",
    "        Func()\n",
    "        print(\"After Function\")\n",
    "    return x\n",
    "    \n",
    "def z():\n",
    "    print(\"I am in z\");\n",
    "\n",
    "Func_Decorator=Decorator(z)\n",
    "Func_Decorator()"
   ]
  },
  {
   "cell_type": "code",
   "execution_count": 4,
   "metadata": {},
   "outputs": [
    {
     "name": "stdout",
     "output_type": "stream",
     "text": [
      "I am in z\n"
     ]
    }
   ],
   "source": [
    "def Decorator(Func):\n",
    "    def x():\n",
    "        print(\"Before Function\");\n",
    "        Func()\n",
    "        print(\"After Function\")\n",
    "    return x\n",
    "    \n",
    "# @Decorator    \n",
    "def z():\n",
    "    print(\"I am in z\");\n",
    "\n",
    "z()"
   ]
  },
  {
   "cell_type": "code",
   "execution_count": null,
   "metadata": {},
   "outputs": [],
   "source": []
  }
 ],
 "metadata": {
  "kernelspec": {
   "display_name": "Python 3",
   "language": "python",
   "name": "python3"
  },
  "language_info": {
   "codemirror_mode": {
    "name": "ipython",
    "version": 3
   },
   "file_extension": ".py",
   "mimetype": "text/x-python",
   "name": "python",
   "nbconvert_exporter": "python",
   "pygments_lexer": "ipython3",
   "version": "3.7.6"
  }
 },
 "nbformat": 4,
 "nbformat_minor": 4
}
