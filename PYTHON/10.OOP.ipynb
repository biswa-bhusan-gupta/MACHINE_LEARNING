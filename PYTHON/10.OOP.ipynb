{
 "cells": [
  {
   "cell_type": "code",
   "execution_count": 1,
   "metadata": {},
   "outputs": [
    {
     "name": "stdout",
     "output_type": "stream",
     "text": [
      "[1, 2, 3, 4, 5]\n"
     ]
    }
   ],
   "source": [
    "List=[1,2,3,4]\n",
    "List.append(5)\n",
    "print(List)"
   ]
  },
  {
   "cell_type": "code",
   "execution_count": 2,
   "metadata": {},
   "outputs": [
    {
     "name": "stdout",
     "output_type": "stream",
     "text": [
      "<class 'list'>\n"
     ]
    }
   ],
   "source": [
    "print(type(List))"
   ]
  },
  {
   "cell_type": "code",
   "execution_count": 3,
   "metadata": {},
   "outputs": [
    {
     "name": "stdout",
     "output_type": "stream",
     "text": [
      "<class '__main__.Sample'>\n"
     ]
    }
   ],
   "source": [
    "class Sample():\n",
    "    pass\n",
    "x=Sample()\n",
    "print(type(x))"
   ]
  },
  {
   "cell_type": "code",
   "execution_count": 4,
   "metadata": {},
   "outputs": [
    {
     "name": "stdout",
     "output_type": "stream",
     "text": [
      "Labrador\n",
      "Lio\n",
      "Mammal\n",
      "Doberman\n",
      "Diana\n",
      "Mammal\n"
     ]
    }
   ],
   "source": [
    "# SELF:INSTANCE OF OBJECT\n",
    "class Dog():\n",
    "#   CLASS OBJECT ATTRIBUTE\n",
    "    Species=\"Mammal\"\n",
    "    \n",
    "    def __init__(self,Input,Name):\n",
    "        self.Breed=Input\n",
    "        self.Name=Name\n",
    "        \n",
    "x=Dog(\"Labrador\",\"Lio\")\n",
    "y=Dog(\"Doberman\",\"Diana\")\n",
    "\n",
    "print(x.Breed);\n",
    "print(x.Name);\n",
    "print(x.Species);\n",
    "\n",
    "print(y.Breed);\n",
    "print(y.Name);\n",
    "print(y.Species);"
   ]
  },
  {
   "cell_type": "code",
   "execution_count": 5,
   "metadata": {},
   "outputs": [
    {
     "name": "stdout",
     "output_type": "stream",
     "text": [
      "25\n",
      "1962.5\n",
      "157.0\n"
     ]
    }
   ],
   "source": [
    "class Circle():\n",
    "    \n",
    "    pi=3.14\n",
    "    def __init__(self,Radius=1):\n",
    "        self.radius=Radius # ATTRIBUTE\n",
    "    \n",
    "    def Area(self):\n",
    "         return self.radius * self.radius * self.pi\n",
    "    \n",
    "    def Circumference(self):\n",
    "         return 2 * self.radius * self.pi\n",
    "    \n",
    "x=Circle(25)\n",
    "\n",
    "\n",
    "print(x.radius);\n",
    "print(x.Area());\n",
    "print(x.Circumference());"
   ]
  },
  {
   "cell_type": "code",
   "execution_count": 6,
   "metadata": {},
   "outputs": [
    {
     "name": "stdout",
     "output_type": "stream",
     "text": [
      "Animal Created\n",
      "Animal is Eating\n",
      "Animal\n"
     ]
    }
   ],
   "source": [
    "class Animal():\n",
    "    def __init__(self):\n",
    "        print(\"Animal Created\");\n",
    "    \n",
    "    def Report(self):\n",
    "        print(\"Animal\");\n",
    "    \n",
    "    def Eat(self):\n",
    "        print(\"Animal is Eating\");\n",
    "\n",
    "a=Animal()\n",
    "a.Eat()\n",
    "a.Report()"
   ]
  },
  {
   "cell_type": "code",
   "execution_count": 7,
   "metadata": {},
   "outputs": [
    {
     "name": "stdout",
     "output_type": "stream",
     "text": [
      "Dog Created\n",
      "Animal Created\n",
      "Animal is Eating\n",
      "Animal\n"
     ]
    }
   ],
   "source": [
    "class Animal():\n",
    "    def __init__(self):\n",
    "        print(\"Animal Created\");\n",
    "    \n",
    "    def Report(self):\n",
    "        print(\"Animal\");\n",
    "    \n",
    "    def Eat(self):\n",
    "        print(\"Animal is Eating\");\n",
    "\n",
    "class Dog(Animal):\n",
    "    def __init__(self):\n",
    "        print(\"Dog Created\");\n",
    "        Animal.__init__(self)\n",
    "d=Dog()\n",
    "d.Eat()\n",
    "d.Report()"
   ]
  },
  {
   "cell_type": "code",
   "execution_count": 8,
   "metadata": {},
   "outputs": [
    {
     "name": "stdout",
     "output_type": "stream",
     "text": [
      "Dog Created\n",
      "Fuzzy\n",
      "Dog Named\n",
      "Animal is Eating\n"
     ]
    }
   ],
   "source": [
    "# INHERITANCE\n",
    "class Animal():\n",
    "    \n",
    "    def __init__(self):\n",
    "        print(\"Animal Created\");\n",
    "    \n",
    "    def __init__(self,Fuz):\n",
    "        self.Fuzz=Fuz\n",
    "    \n",
    "    def Name(self):\n",
    "        print(\"Animal Named\");\n",
    "    \n",
    "    def Eat(self):\n",
    "        print(\"Animal is Eating\");\n",
    "\n",
    "class Dog(Animal):\n",
    "    def __init__(self,Fuz):\n",
    "        print(\"Dog Created\")\n",
    "        Animal.__init__(self,Fuz)\n",
    "    \n",
    "    def Name(self):\n",
    "        print(\"Dog Named\")\n",
    "\n",
    "x=Dog(\"Fuzzy\")\n",
    "print(x.Fuzz)\n",
    "x.Name()\n",
    "x.Eat()"
   ]
  },
  {
   "cell_type": "code",
   "execution_count": 9,
   "metadata": {},
   "outputs": [
    {
     "name": "stdout",
     "output_type": "stream",
     "text": [
      "Book Created\n",
      "Title:The Risen Author:Biswa\n",
      "25\n"
     ]
    }
   ],
   "source": [
    "class Book():\n",
    "    \n",
    "    def __init__(self,Name,Author,Pages):\n",
    "        self.title=Name\n",
    "        self.author=Author\n",
    "        self.pages=Pages\n",
    "        print(\"Book Created\")\n",
    "        \n",
    "    def __repr__(self):\n",
    "        return f\"Title:{self.title} Author:{self.author}\"\n",
    "\n",
    "    def __len__(self):\n",
    "        return self.pages\n",
    "MyBook=Book(\"The Risen\",\"Biswa\",25)\n",
    "print(MyBook)\n",
    "print(len(MyBook))"
   ]
  },
  {
   "cell_type": "code",
   "execution_count": 10,
   "metadata": {},
   "outputs": [
    {
     "name": "stdout",
     "output_type": "stream",
     "text": [
      "Amount Deposited\n",
      "Withdrew Unsuccessful\n",
      "Name:Smith Balance:60\n"
     ]
    }
   ],
   "source": [
    "# EXAMPLE: CREATE A ACCOUNT,DEPOSIT,WITHDREW\n",
    "\n",
    "class Account():\n",
    "    \n",
    "    def __init__(self,Name,Balance=0):\n",
    "        self.name=Name\n",
    "        self.balance=Balance\n",
    "        \n",
    "    def __repr__(self):\n",
    "        return f\"Name:{self.name} Balance:{self.balance}\"\n",
    "    \n",
    "    def Deposit(self,Deposit):\n",
    "        self.balance=self.balance+Deposit\n",
    "        print(\"Amount Deposited\")\n",
    "    \n",
    "    def Withdrew(self,Withdrew):\n",
    "        \n",
    "        if self.balance >= Withdrew:\n",
    "            self.balance=self.balance-Withdrew\n",
    "            print(\"Withdrew Successful\");\n",
    "            \n",
    "        else:\n",
    "            print(\"Withdrew Unsuccessful\");\n",
    "            \n",
    "x=Account(\"Smith\",10)\n",
    "x.Deposit(50)\n",
    "x.Withdrew(100)\n",
    "print(x)"
   ]
  }
 ],
 "metadata": {
  "kernelspec": {
   "display_name": "Python 3",
   "language": "python",
   "name": "python3"
  },
  "language_info": {
   "codemirror_mode": {
    "name": "ipython",
    "version": 3
   },
   "file_extension": ".py",
   "mimetype": "text/x-python",
   "name": "python",
   "nbconvert_exporter": "python",
   "pygments_lexer": "ipython3",
   "version": "3.7.6"
  }
 },
 "nbformat": 4,
 "nbformat_minor": 4
}
