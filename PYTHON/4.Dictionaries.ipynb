{
 "cells": [
  {
   "cell_type": "code",
   "execution_count": 1,
   "metadata": {},
   "outputs": [
    {
     "name": "stdout",
     "output_type": "stream",
     "text": [
      "{'Key1': 'Value1', 'Key2': 'Value2'}\n",
      "dict_keys(['Key1', 'Key2'])\n",
      "dict_values(['Value1', 'Value2'])\n",
      "dict_items([('Key1', 'Value1'), ('Key2', 'Value2')])\n"
     ]
    }
   ],
   "source": [
    "d={\"Key1\":\"Value1\",\"Key2\":\"Value2\"}\n",
    "print(d);\n",
    "print(d.keys());\n",
    "print(d.values());\n",
    "print(d.items());"
   ]
  },
  {
   "cell_type": "code",
   "execution_count": 2,
   "metadata": {},
   "outputs": [
    {
     "name": "stdout",
     "output_type": "stream",
     "text": [
      "Value1\n"
     ]
    }
   ],
   "source": [
    "print(d[\"Key1\"]);"
   ]
  },
  {
   "cell_type": "code",
   "execution_count": 3,
   "metadata": {},
   "outputs": [
    {
     "name": "stdout",
     "output_type": "stream",
     "text": [
      "25\n"
     ]
    }
   ],
   "source": [
    "Salary={\"A\":25,\"B\":30,\"C\":55}\n",
    "print(Salary[\"A\"]);"
   ]
  },
  {
   "cell_type": "code",
   "execution_count": 4,
   "metadata": {},
   "outputs": [],
   "source": [
    "Salary[\"A\"]=50\n",
    "Salary[\"B\"]=Salary[\"A\"]+25"
   ]
  },
  {
   "cell_type": "code",
   "execution_count": 5,
   "metadata": {},
   "outputs": [
    {
     "name": "stdout",
     "output_type": "stream",
     "text": [
      "50\n",
      "75\n"
     ]
    }
   ],
   "source": [
    "print(Salary[\"A\"]);\n",
    "print(Salary[\"B\"]);"
   ]
  },
  {
   "cell_type": "code",
   "execution_count": 6,
   "metadata": {},
   "outputs": [
    {
     "name": "stdout",
     "output_type": "stream",
     "text": [
      "1\n"
     ]
    }
   ],
   "source": [
    "# LISTS IN DICTONARIES\n",
    "People={\"A\":[1,2,3],\"B\":[4,5,6],\"C\":[7,8,9]}\n",
    "print(People[\"A\"][0]);"
   ]
  },
  {
   "cell_type": "code",
   "execution_count": 7,
   "metadata": {},
   "outputs": [
    {
     "name": "stdout",
     "output_type": "stream",
     "text": [
      "25\n"
     ]
    }
   ],
   "source": [
    "x={\"A\":{\"B\":15,\"C\":25}}\n",
    "print(x[\"A\"][\"C\"]);"
   ]
  },
  {
   "cell_type": "code",
   "execution_count": null,
   "metadata": {},
   "outputs": [],
   "source": []
  }
 ],
 "metadata": {
  "kernelspec": {
   "display_name": "Python 3",
   "language": "python",
   "name": "python3"
  },
  "language_info": {
   "codemirror_mode": {
    "name": "ipython",
    "version": 3
   },
   "file_extension": ".py",
   "mimetype": "text/x-python",
   "name": "python",
   "nbconvert_exporter": "python",
   "pygments_lexer": "ipython3",
   "version": "3.7.6"
  }
 },
 "nbformat": 4,
 "nbformat_minor": 4
}
